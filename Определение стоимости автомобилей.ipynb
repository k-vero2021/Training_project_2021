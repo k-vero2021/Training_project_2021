{
 "cells": [
  {
   "cell_type": "markdown",
   "metadata": {},
   "source": [
    "# Определение стоимости автомобилей"
   ]
  },
  {
   "cell_type": "markdown",
   "metadata": {},
   "source": [
    "Сервис по продаже автомобилей с пробегом разрабатывает ***приложение для привлечения новых клиентов***. В нём можно быстро узнать рыночную стоимость своего автомобиля. В вашем распоряжении исторические данные: технические характеристики, комплектации и цены автомобилей. Вам нужно ***построить модель для определения стоимости***. \n",
    "\n",
    "Заказчику важны:\n",
    "- качество предсказания;\n",
    "- скорость предсказания;\n",
    "- время обучения.\n",
    "\n",
    "Описание данных.\n",
    "<br>Признаки:\n",
    "<br>DateCrawled — дата скачивания анкеты из базы\n",
    "<br>VehicleType — тип автомобильного кузова\n",
    "<br>RegistrationYear — год регистрации автомобиля\n",
    "<br>Gearbox — тип коробки передач\n",
    "<br>Power — мощность (л. с.)\n",
    "<br>Model — модель автомобиля\n",
    "<br>Kilometer — пробег (км)\n",
    "<br>RegistrationMonth — месяц регистрации автомобиля\n",
    "<br>FuelType — тип топлива\n",
    "<br>Brand — марка автомобиля\n",
    "<br>NotRepaired — была машина в ремонте или нет\n",
    "<br>DateCreated — дата создания анкеты\n",
    "<br>NumberOfPictures — количество фотографий автомобиля\n",
    "<br>PostalCode — почтовый индекс владельца анкеты (пользователя)\n",
    "<br>LastSeen — дата последней активности пользователя\n",
    "<br>***Целевой признак:\n",
    "<br>Price — цена (евро)***"
   ]
  },
  {
   "cell_type": "markdown",
   "metadata": {},
   "source": [
    "## Подготовка данных"
   ]
  },
  {
   "cell_type": "code",
   "execution_count": 1,
   "metadata": {},
   "outputs": [],
   "source": [
    "# Загрузка библиотек\n",
    "import numpy as np\n",
    "import pandas as pd \n",
    "import seaborn as sns\n",
    "import matplotlib.pyplot as plt\n",
    "import time\n",
    "from sklearn.linear_model import LinearRegression\n",
    "from sklearn.ensemble import GradientBoostingRegressor\n",
    "from lightgbm import LGBMRegressor\n",
    "from sklearn.model_selection import train_test_split, GridSearchCV\n",
    "from sklearn.model_selection import cross_val_score\n",
    "from sklearn.preprocessing import StandardScaler\n",
    "from sklearn.preprocessing import OrdinalEncoder\n",
    "from sklearn.metrics import mean_squared_error\n",
    "\n",
    "import warnings\n",
    "warnings.filterwarnings(\"ignore\")"
   ]
  },
  {
   "cell_type": "code",
   "execution_count": 2,
   "metadata": {},
   "outputs": [
    {
     "data": {
      "text/html": [
       "<div>\n",
       "<style scoped>\n",
       "    .dataframe tbody tr th:only-of-type {\n",
       "        vertical-align: middle;\n",
       "    }\n",
       "\n",
       "    .dataframe tbody tr th {\n",
       "        vertical-align: top;\n",
       "    }\n",
       "\n",
       "    .dataframe thead th {\n",
       "        text-align: right;\n",
       "    }\n",
       "</style>\n",
       "<table border=\"1\" class=\"dataframe\">\n",
       "  <thead>\n",
       "    <tr style=\"text-align: right;\">\n",
       "      <th></th>\n",
       "      <th>DateCrawled</th>\n",
       "      <th>Price</th>\n",
       "      <th>VehicleType</th>\n",
       "      <th>RegistrationYear</th>\n",
       "      <th>Gearbox</th>\n",
       "      <th>Power</th>\n",
       "      <th>Model</th>\n",
       "      <th>Kilometer</th>\n",
       "      <th>RegistrationMonth</th>\n",
       "      <th>FuelType</th>\n",
       "      <th>Brand</th>\n",
       "      <th>NotRepaired</th>\n",
       "      <th>DateCreated</th>\n",
       "      <th>NumberOfPictures</th>\n",
       "      <th>PostalCode</th>\n",
       "      <th>LastSeen</th>\n",
       "    </tr>\n",
       "  </thead>\n",
       "  <tbody>\n",
       "    <tr>\n",
       "      <td>0</td>\n",
       "      <td>2016-03-24 11:52:17</td>\n",
       "      <td>480</td>\n",
       "      <td>NaN</td>\n",
       "      <td>1993</td>\n",
       "      <td>manual</td>\n",
       "      <td>0</td>\n",
       "      <td>golf</td>\n",
       "      <td>150000</td>\n",
       "      <td>0</td>\n",
       "      <td>petrol</td>\n",
       "      <td>volkswagen</td>\n",
       "      <td>NaN</td>\n",
       "      <td>2016-03-24 00:00:00</td>\n",
       "      <td>0</td>\n",
       "      <td>70435</td>\n",
       "      <td>2016-04-07 03:16:57</td>\n",
       "    </tr>\n",
       "    <tr>\n",
       "      <td>1</td>\n",
       "      <td>2016-03-24 10:58:45</td>\n",
       "      <td>18300</td>\n",
       "      <td>coupe</td>\n",
       "      <td>2011</td>\n",
       "      <td>manual</td>\n",
       "      <td>190</td>\n",
       "      <td>NaN</td>\n",
       "      <td>125000</td>\n",
       "      <td>5</td>\n",
       "      <td>gasoline</td>\n",
       "      <td>audi</td>\n",
       "      <td>yes</td>\n",
       "      <td>2016-03-24 00:00:00</td>\n",
       "      <td>0</td>\n",
       "      <td>66954</td>\n",
       "      <td>2016-04-07 01:46:50</td>\n",
       "    </tr>\n",
       "    <tr>\n",
       "      <td>2</td>\n",
       "      <td>2016-03-14 12:52:21</td>\n",
       "      <td>9800</td>\n",
       "      <td>suv</td>\n",
       "      <td>2004</td>\n",
       "      <td>auto</td>\n",
       "      <td>163</td>\n",
       "      <td>grand</td>\n",
       "      <td>125000</td>\n",
       "      <td>8</td>\n",
       "      <td>gasoline</td>\n",
       "      <td>jeep</td>\n",
       "      <td>NaN</td>\n",
       "      <td>2016-03-14 00:00:00</td>\n",
       "      <td>0</td>\n",
       "      <td>90480</td>\n",
       "      <td>2016-04-05 12:47:46</td>\n",
       "    </tr>\n",
       "    <tr>\n",
       "      <td>3</td>\n",
       "      <td>2016-03-17 16:54:04</td>\n",
       "      <td>1500</td>\n",
       "      <td>small</td>\n",
       "      <td>2001</td>\n",
       "      <td>manual</td>\n",
       "      <td>75</td>\n",
       "      <td>golf</td>\n",
       "      <td>150000</td>\n",
       "      <td>6</td>\n",
       "      <td>petrol</td>\n",
       "      <td>volkswagen</td>\n",
       "      <td>no</td>\n",
       "      <td>2016-03-17 00:00:00</td>\n",
       "      <td>0</td>\n",
       "      <td>91074</td>\n",
       "      <td>2016-03-17 17:40:17</td>\n",
       "    </tr>\n",
       "    <tr>\n",
       "      <td>4</td>\n",
       "      <td>2016-03-31 17:25:20</td>\n",
       "      <td>3600</td>\n",
       "      <td>small</td>\n",
       "      <td>2008</td>\n",
       "      <td>manual</td>\n",
       "      <td>69</td>\n",
       "      <td>fabia</td>\n",
       "      <td>90000</td>\n",
       "      <td>7</td>\n",
       "      <td>gasoline</td>\n",
       "      <td>skoda</td>\n",
       "      <td>no</td>\n",
       "      <td>2016-03-31 00:00:00</td>\n",
       "      <td>0</td>\n",
       "      <td>60437</td>\n",
       "      <td>2016-04-06 10:17:21</td>\n",
       "    </tr>\n",
       "  </tbody>\n",
       "</table>\n",
       "</div>"
      ],
      "text/plain": [
       "           DateCrawled  Price VehicleType  RegistrationYear Gearbox  Power  \\\n",
       "0  2016-03-24 11:52:17    480         NaN              1993  manual      0   \n",
       "1  2016-03-24 10:58:45  18300       coupe              2011  manual    190   \n",
       "2  2016-03-14 12:52:21   9800         suv              2004    auto    163   \n",
       "3  2016-03-17 16:54:04   1500       small              2001  manual     75   \n",
       "4  2016-03-31 17:25:20   3600       small              2008  manual     69   \n",
       "\n",
       "   Model  Kilometer  RegistrationMonth  FuelType       Brand NotRepaired  \\\n",
       "0   golf     150000                  0    petrol  volkswagen         NaN   \n",
       "1    NaN     125000                  5  gasoline        audi         yes   \n",
       "2  grand     125000                  8  gasoline        jeep         NaN   \n",
       "3   golf     150000                  6    petrol  volkswagen          no   \n",
       "4  fabia      90000                  7  gasoline       skoda          no   \n",
       "\n",
       "           DateCreated  NumberOfPictures  PostalCode             LastSeen  \n",
       "0  2016-03-24 00:00:00                 0       70435  2016-04-07 03:16:57  \n",
       "1  2016-03-24 00:00:00                 0       66954  2016-04-07 01:46:50  \n",
       "2  2016-03-14 00:00:00                 0       90480  2016-04-05 12:47:46  \n",
       "3  2016-03-17 00:00:00                 0       91074  2016-03-17 17:40:17  \n",
       "4  2016-03-31 00:00:00                 0       60437  2016-04-06 10:17:21  "
      ]
     },
     "execution_count": 2,
     "metadata": {},
     "output_type": "execute_result"
    }
   ],
   "source": [
    "# Путь к файлам\n",
    "cost_model=pd.read_csv('/datasets/autos.csv') \n",
    "cost_model.head()"
   ]
  },
  {
   "cell_type": "code",
   "execution_count": 3,
   "metadata": {},
   "outputs": [
    {
     "data": {
      "text/plain": [
       "4"
      ]
     },
     "execution_count": 3,
     "metadata": {},
     "output_type": "execute_result"
    }
   ],
   "source": [
    "# Проверка выборки на наличие дубликатов\n",
    "cost_model.duplicated().sum()"
   ]
  },
  {
   "cell_type": "markdown",
   "metadata": {},
   "source": [
    "На начальном этапе оставим только столбцы с признаками в т.ч. целевой признак влияющие непосредственно на ее цену и необходимые для правильного предсказания модели.\n",
    "<br>Далее проверим типы данных полученных столбцов, аномалии, наличие в них пропусков, а также статистические данные по количественным признакам."
   ]
  },
  {
   "cell_type": "code",
   "execution_count": 4,
   "metadata": {},
   "outputs": [
    {
     "data": {
      "text/html": [
       "<div>\n",
       "<style scoped>\n",
       "    .dataframe tbody tr th:only-of-type {\n",
       "        vertical-align: middle;\n",
       "    }\n",
       "\n",
       "    .dataframe tbody tr th {\n",
       "        vertical-align: top;\n",
       "    }\n",
       "\n",
       "    .dataframe thead th {\n",
       "        text-align: right;\n",
       "    }\n",
       "</style>\n",
       "<table border=\"1\" class=\"dataframe\">\n",
       "  <thead>\n",
       "    <tr style=\"text-align: right;\">\n",
       "      <th></th>\n",
       "      <th>Price</th>\n",
       "      <th>VehicleType</th>\n",
       "      <th>RegistrationYear</th>\n",
       "      <th>Gearbox</th>\n",
       "      <th>Power</th>\n",
       "      <th>Model</th>\n",
       "      <th>Kilometer</th>\n",
       "      <th>FuelType</th>\n",
       "      <th>Brand</th>\n",
       "      <th>NotRepaired</th>\n",
       "    </tr>\n",
       "  </thead>\n",
       "  <tbody>\n",
       "    <tr>\n",
       "      <td>0</td>\n",
       "      <td>480</td>\n",
       "      <td>NaN</td>\n",
       "      <td>1993</td>\n",
       "      <td>manual</td>\n",
       "      <td>0</td>\n",
       "      <td>golf</td>\n",
       "      <td>150000</td>\n",
       "      <td>petrol</td>\n",
       "      <td>volkswagen</td>\n",
       "      <td>NaN</td>\n",
       "    </tr>\n",
       "    <tr>\n",
       "      <td>1</td>\n",
       "      <td>18300</td>\n",
       "      <td>coupe</td>\n",
       "      <td>2011</td>\n",
       "      <td>manual</td>\n",
       "      <td>190</td>\n",
       "      <td>NaN</td>\n",
       "      <td>125000</td>\n",
       "      <td>gasoline</td>\n",
       "      <td>audi</td>\n",
       "      <td>yes</td>\n",
       "    </tr>\n",
       "    <tr>\n",
       "      <td>2</td>\n",
       "      <td>9800</td>\n",
       "      <td>suv</td>\n",
       "      <td>2004</td>\n",
       "      <td>auto</td>\n",
       "      <td>163</td>\n",
       "      <td>grand</td>\n",
       "      <td>125000</td>\n",
       "      <td>gasoline</td>\n",
       "      <td>jeep</td>\n",
       "      <td>NaN</td>\n",
       "    </tr>\n",
       "    <tr>\n",
       "      <td>3</td>\n",
       "      <td>1500</td>\n",
       "      <td>small</td>\n",
       "      <td>2001</td>\n",
       "      <td>manual</td>\n",
       "      <td>75</td>\n",
       "      <td>golf</td>\n",
       "      <td>150000</td>\n",
       "      <td>petrol</td>\n",
       "      <td>volkswagen</td>\n",
       "      <td>no</td>\n",
       "    </tr>\n",
       "    <tr>\n",
       "      <td>4</td>\n",
       "      <td>3600</td>\n",
       "      <td>small</td>\n",
       "      <td>2008</td>\n",
       "      <td>manual</td>\n",
       "      <td>69</td>\n",
       "      <td>fabia</td>\n",
       "      <td>90000</td>\n",
       "      <td>gasoline</td>\n",
       "      <td>skoda</td>\n",
       "      <td>no</td>\n",
       "    </tr>\n",
       "  </tbody>\n",
       "</table>\n",
       "</div>"
      ],
      "text/plain": [
       "   Price VehicleType  RegistrationYear Gearbox  Power  Model  Kilometer  \\\n",
       "0    480         NaN              1993  manual      0   golf     150000   \n",
       "1  18300       coupe              2011  manual    190    NaN     125000   \n",
       "2   9800         suv              2004    auto    163  grand     125000   \n",
       "3   1500       small              2001  manual     75   golf     150000   \n",
       "4   3600       small              2008  manual     69  fabia      90000   \n",
       "\n",
       "   FuelType       Brand NotRepaired  \n",
       "0    petrol  volkswagen         NaN  \n",
       "1  gasoline        audi         yes  \n",
       "2  gasoline        jeep         NaN  \n",
       "3    petrol  volkswagen          no  \n",
       "4  gasoline       skoda          no  "
      ]
     },
     "execution_count": 4,
     "metadata": {},
     "output_type": "execute_result"
    }
   ],
   "source": [
    "# Отбор столбцов для обучения-предсказания модели\n",
    "cost_model_main = cost_model[['Price', \n",
    "                         'VehicleType', \n",
    "                         'RegistrationYear',\n",
    "                         'Gearbox',\n",
    "                         'Power',\n",
    "                         'Model',\n",
    "                         'Kilometer',\n",
    "                         'FuelType',\n",
    "                         'Brand',\n",
    "                         'NotRepaired']]\n",
    "cost_model_main.head()"
   ]
  },
  {
   "cell_type": "code",
   "execution_count": 5,
   "metadata": {},
   "outputs": [
    {
     "name": "stdout",
     "output_type": "stream",
     "text": [
      "<class 'pandas.core.frame.DataFrame'>\n",
      "RangeIndex: 354369 entries, 0 to 354368\n",
      "Data columns (total 10 columns):\n",
      "Price               354369 non-null int64\n",
      "VehicleType         316879 non-null object\n",
      "RegistrationYear    354369 non-null int64\n",
      "Gearbox             334536 non-null object\n",
      "Power               354369 non-null int64\n",
      "Model               334664 non-null object\n",
      "Kilometer           354369 non-null int64\n",
      "FuelType            321474 non-null object\n",
      "Brand               354369 non-null object\n",
      "NotRepaired         283215 non-null object\n",
      "dtypes: int64(4), object(6)\n",
      "memory usage: 27.0+ MB\n"
     ]
    }
   ],
   "source": [
    "# Проверка типов данных\n",
    "cost_model_main.info()"
   ]
  },
  {
   "cell_type": "code",
   "execution_count": 6,
   "metadata": {},
   "outputs": [
    {
     "data": {
      "text/plain": [
       "Price                   0\n",
       "VehicleType         37490\n",
       "RegistrationYear        0\n",
       "Gearbox             19833\n",
       "Power                   0\n",
       "Model               19705\n",
       "Kilometer               0\n",
       "FuelType            32895\n",
       "Brand                   0\n",
       "NotRepaired         71154\n",
       "dtype: int64"
      ]
     },
     "execution_count": 6,
     "metadata": {},
     "output_type": "execute_result"
    }
   ],
   "source": [
    "# Проверка выборки на предмет пропусков\n",
    "cost_model_main.isna().sum()"
   ]
  },
  {
   "cell_type": "code",
   "execution_count": 7,
   "metadata": {
    "scrolled": true
   },
   "outputs": [
    {
     "data": {
      "text/html": [
       "<div>\n",
       "<style scoped>\n",
       "    .dataframe tbody tr th:only-of-type {\n",
       "        vertical-align: middle;\n",
       "    }\n",
       "\n",
       "    .dataframe tbody tr th {\n",
       "        vertical-align: top;\n",
       "    }\n",
       "\n",
       "    .dataframe thead th {\n",
       "        text-align: right;\n",
       "    }\n",
       "</style>\n",
       "<table border=\"1\" class=\"dataframe\">\n",
       "  <thead>\n",
       "    <tr style=\"text-align: right;\">\n",
       "      <th></th>\n",
       "      <th>Price</th>\n",
       "      <th>RegistrationYear</th>\n",
       "      <th>Power</th>\n",
       "      <th>Kilometer</th>\n",
       "    </tr>\n",
       "  </thead>\n",
       "  <tbody>\n",
       "    <tr>\n",
       "      <td>count</td>\n",
       "      <td>354369.000000</td>\n",
       "      <td>354369.000000</td>\n",
       "      <td>354369.000000</td>\n",
       "      <td>354369.000000</td>\n",
       "    </tr>\n",
       "    <tr>\n",
       "      <td>mean</td>\n",
       "      <td>4416.656776</td>\n",
       "      <td>2004.234448</td>\n",
       "      <td>110.094337</td>\n",
       "      <td>128211.172535</td>\n",
       "    </tr>\n",
       "    <tr>\n",
       "      <td>std</td>\n",
       "      <td>4514.158514</td>\n",
       "      <td>90.227958</td>\n",
       "      <td>189.850405</td>\n",
       "      <td>37905.341530</td>\n",
       "    </tr>\n",
       "    <tr>\n",
       "      <td>min</td>\n",
       "      <td>0.000000</td>\n",
       "      <td>1000.000000</td>\n",
       "      <td>0.000000</td>\n",
       "      <td>5000.000000</td>\n",
       "    </tr>\n",
       "    <tr>\n",
       "      <td>25%</td>\n",
       "      <td>1050.000000</td>\n",
       "      <td>1999.000000</td>\n",
       "      <td>69.000000</td>\n",
       "      <td>125000.000000</td>\n",
       "    </tr>\n",
       "    <tr>\n",
       "      <td>50%</td>\n",
       "      <td>2700.000000</td>\n",
       "      <td>2003.000000</td>\n",
       "      <td>105.000000</td>\n",
       "      <td>150000.000000</td>\n",
       "    </tr>\n",
       "    <tr>\n",
       "      <td>75%</td>\n",
       "      <td>6400.000000</td>\n",
       "      <td>2008.000000</td>\n",
       "      <td>143.000000</td>\n",
       "      <td>150000.000000</td>\n",
       "    </tr>\n",
       "    <tr>\n",
       "      <td>max</td>\n",
       "      <td>20000.000000</td>\n",
       "      <td>9999.000000</td>\n",
       "      <td>20000.000000</td>\n",
       "      <td>150000.000000</td>\n",
       "    </tr>\n",
       "  </tbody>\n",
       "</table>\n",
       "</div>"
      ],
      "text/plain": [
       "               Price  RegistrationYear          Power      Kilometer\n",
       "count  354369.000000     354369.000000  354369.000000  354369.000000\n",
       "mean     4416.656776       2004.234448     110.094337  128211.172535\n",
       "std      4514.158514         90.227958     189.850405   37905.341530\n",
       "min         0.000000       1000.000000       0.000000    5000.000000\n",
       "25%      1050.000000       1999.000000      69.000000  125000.000000\n",
       "50%      2700.000000       2003.000000     105.000000  150000.000000\n",
       "75%      6400.000000       2008.000000     143.000000  150000.000000\n",
       "max     20000.000000       9999.000000   20000.000000  150000.000000"
      ]
     },
     "execution_count": 7,
     "metadata": {},
     "output_type": "execute_result"
    }
   ],
   "source": [
    "# Просмотр основных статистических данных\n",
    "cost_model_main.describe()"
   ]
  },
  {
   "cell_type": "markdown",
   "metadata": {},
   "source": [
    "Просмотрим каждый признак с аномалиями и NaN более детально."
   ]
  },
  {
   "cell_type": "code",
   "execution_count": 8,
   "metadata": {},
   "outputs": [
    {
     "data": {
      "text/plain": [
       "<matplotlib.axes._subplots.AxesSubplot at 0x7fdba5c536d0>"
      ]
     },
     "execution_count": 8,
     "metadata": {},
     "output_type": "execute_result"
    },
    {
     "data": {
      "image/png": "[encoded data removed]",
      "text/plain": [
       "<Figure size 1296x216 with 1 Axes>"
      ]
     },
     "metadata": {
      "needs_background": "light"
     },
     "output_type": "display_data"
    }
   ],
   "source": [
    "# Признак 'Price'_гистограмма\n",
    "cost_model_main['Price'].hist(bins=30, figsize=(18,3))"
   ]
  },
  {
   "cell_type": "code",
   "execution_count": 9,
   "metadata": {},
   "outputs": [
    {
     "data": {
      "text/plain": [
       "0.05      200.0\n",
       "0.95    14600.0\n",
       "Name: Price, dtype: float64"
      ]
     },
     "execution_count": 9,
     "metadata": {},
     "output_type": "execute_result"
    }
   ],
   "source": [
    "cost_model_main['Price'].quantile([.05, 0.95])"
   ]
  },
  {
   "cell_type": "code",
   "execution_count": 10,
   "metadata": {},
   "outputs": [],
   "source": [
    "cost_model_main = cost_model_main.query('200 <= Price <= 14600')"
   ]
  },
  {
   "cell_type": "markdown",
   "metadata": {},
   "source": [
    "По признаку 'Price' исходя из распределения и квантилей оставили диапазон 200-14600."
   ]
  },
  {
   "cell_type": "code",
   "execution_count": 11,
   "metadata": {},
   "outputs": [
    {
     "data": {
      "text/plain": [
       "{'bus', 'convertible', 'coupe', nan, 'other', 'sedan', 'small', 'suv', 'wagon'}"
      ]
     },
     "execution_count": 11,
     "metadata": {},
     "output_type": "execute_result"
    }
   ],
   "source": [
    "# Признак 'VehicleType'\n",
    "set(cost_model_main['VehicleType'])"
   ]
  },
  {
   "cell_type": "markdown",
   "metadata": {},
   "source": [
    "В признаке 'VehicleType' все NaN заменим на None."
   ]
  },
  {
   "cell_type": "code",
   "execution_count": 12,
   "metadata": {
    "scrolled": true
   },
   "outputs": [
    {
     "data": {
      "text/plain": [
       "<matplotlib.axes._subplots.AxesSubplot at 0x7fdba56dbcd0>"
      ]
     },
     "execution_count": 12,
     "metadata": {},
     "output_type": "execute_result"
    },
    {
     "data": {
      "image/png": "[encoded data removed]",
      "text/plain": [
       "<Figure size 1296x216 with 1 Axes>"
      ]
     },
     "metadata": {
      "needs_background": "light"
     },
     "output_type": "display_data"
    }
   ],
   "source": [
    "# Признак 'RegistrationYear'_гистограмма\n",
    "cost_model_main = cost_model_main.query('1909 < RegistrationYear < 2020')\n",
    "cost_model_main['RegistrationYear'].hist(bins=30, figsize=(18,3))"
   ]
  },
  {
   "cell_type": "code",
   "execution_count": 13,
   "metadata": {},
   "outputs": [
    {
     "data": {
      "text/plain": [
       "count    319157.000000\n",
       "mean       2002.973941\n",
       "std           7.123650\n",
       "min        1910.000000\n",
       "25%        1999.000000\n",
       "50%        2003.000000\n",
       "75%        2007.000000\n",
       "max        2019.000000\n",
       "Name: RegistrationYear, dtype: float64"
      ]
     },
     "execution_count": 13,
     "metadata": {},
     "output_type": "execute_result"
    }
   ],
   "source": [
    "cost_model_main['RegistrationYear'].describe()"
   ]
  },
  {
   "cell_type": "markdown",
   "metadata": {},
   "source": [
    "По признаку 'RegistrationYear' исходя из логики существования автомобилей оставили диапазон годов 1910-2019гг."
   ]
  },
  {
   "cell_type": "code",
   "execution_count": 14,
   "metadata": {},
   "outputs": [
    {
     "data": {
      "text/plain": [
       "{'auto', 'manual', nan}"
      ]
     },
     "execution_count": 14,
     "metadata": {},
     "output_type": "execute_result"
    }
   ],
   "source": [
    "# Признак 'Gearbox'\n",
    "set(cost_model_main['Gearbox'])"
   ]
  },
  {
   "cell_type": "markdown",
   "metadata": {},
   "source": [
    "В признаке 'Gearbox' все NaN заменим на None."
   ]
  },
  {
   "cell_type": "code",
   "execution_count": 15,
   "metadata": {},
   "outputs": [
    {
     "data": {
      "text/plain": [
       "<matplotlib.axes._subplots.AxesSubplot at 0x7fdba5626890>"
      ]
     },
     "execution_count": 15,
     "metadata": {},
     "output_type": "execute_result"
    },
    {
     "data": {
      "image/png": "[encoded data removed]",
      "text/plain": [
       "<Figure size 1296x216 with 1 Axes>"
      ]
     },
     "metadata": {
      "needs_background": "light"
     },
     "output_type": "display_data"
    }
   ],
   "source": [
    "# Признак 'Power'_гистограмма\n",
    "cost_model_main = cost_model_main.query('49 < Power < 251')\n",
    "cost_model_main['Power'].hist(bins=30, figsize=(18,3))"
   ]
  },
  {
   "cell_type": "markdown",
   "metadata": {},
   "source": [
    "По признаку 'Power' исходя из распределения представленных автомобилей оставили диапазон в 50-250 л.с., несмотря на наличие в природе самой быстрой машины в мире с 1600 л.с.)"
   ]
  },
  {
   "cell_type": "code",
   "execution_count": 16,
   "metadata": {},
   "outputs": [
    {
     "data": {
      "text/plain": [
       "array(['grand', 'golf', 'fabia', '3er', '2_reihe', 'c_max', '3_reihe',\n",
       "       'passat', 'polo', 'twingo', 'a_klasse', 'scirocco', '5er',\n",
       "       'meriva', 'arosa', 'other', 'c4', 'civic', 'transporter', 'punto',\n",
       "       'e_klasse', 'clio', 'kadett', 'one', 'fortwo', '1er', 'b_klasse',\n",
       "       'a8', 'jetta', 'astra', 'fiesta', 'c_klasse', 'micra', 'vito',\n",
       "       'sprinter', '156', nan, 'escort', 'forester', 'xc_reihe', 'scenic',\n",
       "       'ka', 'a1', 'focus', 'a4', 'tt', 'a6', 'jazz', 'omega', 'slk',\n",
       "       'combo', 'corsa', '80', '147', 'z_reihe', 'sportage', 'sorento',\n",
       "       'ibiza', 'eos', 'touran', 'getz', 'insignia', 'almera', 'megane',\n",
       "       'a3', 'r19', 'caddy', 'mondeo', 'cordoba', 'colt', 'impreza',\n",
       "       'vectra', 'lupo', 'berlingo', '7er', 'tiguan', 'i_reihe',\n",
       "       '6_reihe', 'panda', 'up', 'ceed', 'kangoo', 'yeti', 'octavia',\n",
       "       'zafira', 'mii', 'rx_reihe', 'modus', 'fox', 'matiz', 'beetle',\n",
       "       'rio', 'logan', 'spider', 'cuore', 's_max', 'a2', 'c3', '1_reihe',\n",
       "       'sharan', 'avensis', 'viano', 'roomster', 'sl', 'santa', 'cooper',\n",
       "       '4_reihe', 'laguna', 'ptcruiser', 'clk', 'primera', 'espace',\n",
       "       's_klasse', 'galaxy', '159', 'transit', 'juke', 'x_reihe', 'v40',\n",
       "       'carisma', 'accord', 'corolla', 'lanos', 'phaeton', 'verso',\n",
       "       'swift', 'rav', 'picanto', 'boxster', 'stilo', 'alhambra',\n",
       "       'touareg', 'roadster', 'ypsilon', 'galant', 'justy', 'leon', '90',\n",
       "       'sirion', 'signum', 'crossfire', 'agila', 'duster', 'v50',\n",
       "       'mx_reihe', 'c_reihe', 'v_klasse', 'm_klasse', 'yaris', 'c5',\n",
       "       'aygo', 'carnival', 'fusion', 'bora', 'forfour', 'a5', 'cl',\n",
       "       'tigra', '300c', '500', '100', 'cr_reihe', 'spark', '5_reihe',\n",
       "       'ducato', 's_type', 'x_trail', 'toledo', 'altea', 'qashqai',\n",
       "       'voyager', 'v70', 'bravo', 'tucson', 'x_type', 'c1', 'citigo',\n",
       "       'jimny', 'wrangler', 'lybra', 'lancer', 'captiva', 'c2',\n",
       "       'discovery', 'freelander', 'sandero', 'note', 'kuga', 'seicento',\n",
       "       'navara', 'antara', '900', 'cherokee', 'defender', 'legacy',\n",
       "       'pajero', 'auris', 'cc', 'niva', 'exeo', 's60', 'clubman',\n",
       "       'nubira', 'vivaro', 'g_klasse', 'lodgy', 'superb', '850',\n",
       "       'serie_2', 'calibra', 'charade', 'croma', 'q7', 'outlander',\n",
       "       'doblo', 'musa', 'kaefer', '6er', '9000', 'kalos', 'v60', 'aveo',\n",
       "       '200', '145', 'b_max', 'cayenne', 'mustang', 'range_rover_sport',\n",
       "       'range_rover', 'm_reihe', 'rangerover', 'q5', 'move', 'cx_reihe',\n",
       "       'materia', 'delta', 'terios', 'glk', 'kalina', 'elefantino', 'i3',\n",
       "       '911', 'samara', '601', 'kappa', 'amarok', 'serie_3', 'gl', 'q3'],\n",
       "      dtype=object)"
      ]
     },
     "execution_count": 16,
     "metadata": {},
     "output_type": "execute_result"
    }
   ],
   "source": [
    "# Признак 'Model'\n",
    "cost_model_main['Model'].unique()"
   ]
  },
  {
   "cell_type": "markdown",
   "metadata": {},
   "source": [
    "В признаке 'Model' все NaN заменим на None, аналогично по 'FuelType', 'NotRepaired'."
   ]
  },
  {
   "cell_type": "code",
   "execution_count": 17,
   "metadata": {},
   "outputs": [
    {
     "data": {
      "text/plain": [
       "{'cng', 'electric', 'gasoline', 'hybrid', 'lpg', nan, 'other', 'petrol'}"
      ]
     },
     "execution_count": 17,
     "metadata": {},
     "output_type": "execute_result"
    }
   ],
   "source": [
    "set(cost_model_main['FuelType'])"
   ]
  },
  {
   "cell_type": "code",
   "execution_count": 18,
   "metadata": {},
   "outputs": [
    {
     "data": {
      "text/plain": [
       "{nan, 'no', 'yes'}"
      ]
     },
     "execution_count": 18,
     "metadata": {},
     "output_type": "execute_result"
    }
   ],
   "source": [
    "set(cost_model_main['NotRepaired'])"
   ]
  },
  {
   "cell_type": "code",
   "execution_count": 19,
   "metadata": {
    "scrolled": true
   },
   "outputs": [
    {
     "data": {
      "text/html": [
       "<div>\n",
       "<style scoped>\n",
       "    .dataframe tbody tr th:only-of-type {\n",
       "        vertical-align: middle;\n",
       "    }\n",
       "\n",
       "    .dataframe tbody tr th {\n",
       "        vertical-align: top;\n",
       "    }\n",
       "\n",
       "    .dataframe thead th {\n",
       "        text-align: right;\n",
       "    }\n",
       "</style>\n",
       "<table border=\"1\" class=\"dataframe\">\n",
       "  <thead>\n",
       "    <tr style=\"text-align: right;\">\n",
       "      <th></th>\n",
       "      <th>Price</th>\n",
       "      <th>VehicleType</th>\n",
       "      <th>RegistrationYear</th>\n",
       "      <th>Gearbox</th>\n",
       "      <th>Power</th>\n",
       "      <th>Model</th>\n",
       "      <th>Kilometer</th>\n",
       "      <th>FuelType</th>\n",
       "      <th>Brand</th>\n",
       "      <th>NotRepaired</th>\n",
       "    </tr>\n",
       "  </thead>\n",
       "  <tbody>\n",
       "    <tr>\n",
       "      <td>2</td>\n",
       "      <td>9800</td>\n",
       "      <td>suv</td>\n",
       "      <td>2004</td>\n",
       "      <td>auto</td>\n",
       "      <td>163</td>\n",
       "      <td>grand</td>\n",
       "      <td>125000</td>\n",
       "      <td>gasoline</td>\n",
       "      <td>jeep</td>\n",
       "      <td>None</td>\n",
       "    </tr>\n",
       "    <tr>\n",
       "      <td>3</td>\n",
       "      <td>1500</td>\n",
       "      <td>small</td>\n",
       "      <td>2001</td>\n",
       "      <td>manual</td>\n",
       "      <td>75</td>\n",
       "      <td>golf</td>\n",
       "      <td>150000</td>\n",
       "      <td>petrol</td>\n",
       "      <td>volkswagen</td>\n",
       "      <td>no</td>\n",
       "    </tr>\n",
       "    <tr>\n",
       "      <td>4</td>\n",
       "      <td>3600</td>\n",
       "      <td>small</td>\n",
       "      <td>2008</td>\n",
       "      <td>manual</td>\n",
       "      <td>69</td>\n",
       "      <td>fabia</td>\n",
       "      <td>90000</td>\n",
       "      <td>gasoline</td>\n",
       "      <td>skoda</td>\n",
       "      <td>no</td>\n",
       "    </tr>\n",
       "    <tr>\n",
       "      <td>5</td>\n",
       "      <td>650</td>\n",
       "      <td>sedan</td>\n",
       "      <td>1995</td>\n",
       "      <td>manual</td>\n",
       "      <td>102</td>\n",
       "      <td>3er</td>\n",
       "      <td>150000</td>\n",
       "      <td>petrol</td>\n",
       "      <td>bmw</td>\n",
       "      <td>yes</td>\n",
       "    </tr>\n",
       "    <tr>\n",
       "      <td>6</td>\n",
       "      <td>2200</td>\n",
       "      <td>convertible</td>\n",
       "      <td>2004</td>\n",
       "      <td>manual</td>\n",
       "      <td>109</td>\n",
       "      <td>2_reihe</td>\n",
       "      <td>150000</td>\n",
       "      <td>petrol</td>\n",
       "      <td>peugeot</td>\n",
       "      <td>no</td>\n",
       "    </tr>\n",
       "  </tbody>\n",
       "</table>\n",
       "</div>"
      ],
      "text/plain": [
       "   Price  VehicleType  RegistrationYear Gearbox  Power    Model  Kilometer  \\\n",
       "2   9800          suv              2004    auto    163    grand     125000   \n",
       "3   1500        small              2001  manual     75     golf     150000   \n",
       "4   3600        small              2008  manual     69    fabia      90000   \n",
       "5    650        sedan              1995  manual    102      3er     150000   \n",
       "6   2200  convertible              2004  manual    109  2_reihe     150000   \n",
       "\n",
       "   FuelType       Brand NotRepaired  \n",
       "2  gasoline        jeep        None  \n",
       "3    petrol  volkswagen          no  \n",
       "4  gasoline       skoda          no  \n",
       "5    petrol         bmw         yes  \n",
       "6    petrol     peugeot          no  "
      ]
     },
     "execution_count": 19,
     "metadata": {},
     "output_type": "execute_result"
    }
   ],
   "source": [
    "# Замена на None\n",
    "cost_model_main[['VehicleType', 'Gearbox', 'Model', 'FuelType', 'NotRepaired']] = cost_model_main[['VehicleType', 'Gearbox', 'Model', 'FuelType', 'NotRepaired']].fillna('None')\n",
    "cost_model_main.head()"
   ]
  },
  {
   "cell_type": "code",
   "execution_count": 20,
   "metadata": {},
   "outputs": [
    {
     "data": {
      "text/plain": [
       "Text(0.5, 1.0, 'Топ-10 марок автомобилей на продажу по данным сервиса')"
      ]
     },
     "execution_count": 20,
     "metadata": {},
     "output_type": "execute_result"
    },
    {
     "data": {
      "image/png": "[encoded data removed]",
      "text/plain": [
       "<Figure size 1080x360 with 1 Axes>"
      ]
     },
     "metadata": {
      "needs_background": "light"
     },
     "output_type": "display_data"
    }
   ],
   "source": [
    "# Гистограмма марок автомобилей\n",
    "brand = (cost_model_main['Brand']).value_counts().head(10)\n",
    "\n",
    "plt.figure(figsize=(15,5))\n",
    "sns.barplot(y=brand.index,x=brand)\n",
    "plt.xlabel('Количество автомобилей')\n",
    "plt.ylabel('Название марки автомобиля', fontsize=11)\n",
    "plt.title('Топ-10 марок автомобилей на продажу по данным сервиса', fontsize=16)"
   ]
  },
  {
   "cell_type": "markdown",
   "metadata": {},
   "source": [
    "Наиболее часто представлены на продажу на сервисе следующие марки: Volkswagen, Opel, BMW."
   ]
  },
  {
   "cell_type": "markdown",
   "metadata": {},
   "source": [
    "### Вывод:\n",
    "Выборка проверена по типам данных, на предмет аномалий, пропусков, дубликатов; сформирован новый сокращенный датафрейм с метриками необходимыми для построения модели.\n",
    "<br>Наиболее важные характеристики для анализа продаж сервиса являются 'Brand', 'Power' и 'Kilometer'.\n",
    "<br>Метрики'Brand' и 'Power' имеют прямопропоцинальное влияние на цену автомобиля, из-за аномалий в признаке 'Power' введен корректный диапазон значений 50-250 л.с.\n",
    "<br>Аналогичные правки аномалий проведены по метрикам 'Price' и 'RegistrationYear'.\n",
    "<br>Метрика 'Kilometer' имеет обратнопропорциональное влияние на цену, выборка представлена диапазоном пробега 5000-150000км.\n",
    "<br>По перечню признаков 'VehicleType', 'Gearbox', 'Model', 'FuelType', 'NotRepaired' проведена замена значений на 'None'."
   ]
  },
  {
   "cell_type": "markdown",
   "metadata": {},
   "source": [
    "## Обучение моделей"
   ]
  },
  {
   "cell_type": "markdown",
   "metadata": {},
   "source": [
    "Разделим выборку train_test_split, применим стандартизацию и масштабирование.\n",
    "<br>Обучим и проверим точность моделей на тесте с помощью RMSE, сравним их скорость работы."
   ]
  },
  {
   "cell_type": "code",
   "execution_count": 21,
   "metadata": {},
   "outputs": [],
   "source": [
    "# Признаки\n",
    "features = cost_model_main.drop('Price', axis=1)\n",
    "# Целевой признак\n",
    "target = cost_model_main['Price']"
   ]
  },
  {
   "cell_type": "code",
   "execution_count": 22,
   "metadata": {},
   "outputs": [],
   "source": [
    "# Применение кодирования OrdinalEncoder\n",
    "encoder = OrdinalEncoder()\n",
    "categorical_features = ['VehicleType', 'Gearbox', 'Model', 'FuelType', 'Brand', 'NotRepaired']\n",
    "main_features = features[categorical_features]\n",
    "main_features = pd.DataFrame(encoder.fit_transform(main_features),\n",
    "                                columns=main_features.columns, \n",
    "                                index=main_features.index)\n",
    "ordinal_features = features.copy()\n",
    "for column in categorical_features:\n",
    "    ordinal_features[column] = main_features[column]"
   ]
  },
  {
   "cell_type": "code",
   "execution_count": 23,
   "metadata": {},
   "outputs": [
    {
     "name": "stdout",
     "output_type": "stream",
     "text": [
      "(220708, 9) (55177, 9) (220708,) (55177,)\n"
     ]
    }
   ],
   "source": [
    "# Отделение 20% данных для тестовой выборки, на обучающую- 80%\n",
    "features_train, features_test, target_train, target_test = train_test_split(\n",
    "    features, target, test_size=0.2, random_state=12345)\n",
    "print(features_train.shape, features_test.shape, target_train.shape, target_test.shape)"
   ]
  },
  {
   "cell_type": "code",
   "execution_count": 24,
   "metadata": {},
   "outputs": [],
   "source": [
    "#OHE-кодирование\n",
    "ohe_features = pd.get_dummies(features, drop_first=True)\n",
    "\n",
    "ordinal_features_train = ordinal_features.loc[features_train.index, :]\n",
    "ordinal_features_test = ordinal_features.loc[features_test.index, :]\n",
    "\n",
    "ohe_features_train = ohe_features.loc[features_train.index, :]\n",
    "ohe_features_test = ohe_features.loc[features_test.index, :]"
   ]
  },
  {
   "cell_type": "markdown",
   "metadata": {},
   "source": [
    "Далее следует обучение и проверка 3 моделей LinearRegression, GradientBoostingRegressor, LGBMRegressor."
   ]
  },
  {
   "cell_type": "code",
   "execution_count": 25,
   "metadata": {},
   "outputs": [
    {
     "name": "stdout",
     "output_type": "stream",
     "text": [
      "RMSE of LinearRegression = 2040.72\n",
      "CPU times: user 1min 16s, sys: 25.7 s, total: 1min 42s\n",
      "Wall time: 1min 42s\n"
     ]
    }
   ],
   "source": [
    "%%time\n",
    "\n",
    "#LinearRegression_кросвалидация\n",
    "regressor = LinearRegression()\n",
    "RMSE_lr = (cross_val_score(regressor, \n",
    "                             ohe_features_train, \n",
    "                             target_train, \n",
    "                             cv=5, \n",
    "                             scoring='neg_mean_squared_error').mean() * -1) ** 0.5\n",
    "print('RMSE of LinearRegression = {0:.2f}'.format(RMSE_lr))"
   ]
  },
  {
   "cell_type": "code",
   "execution_count": 26,
   "metadata": {},
   "outputs": [
    {
     "name": "stdout",
     "output_type": "stream",
     "text": [
      "CPU times: user 18.7 s, sys: 5.38 s, total: 24.1 s\n",
      "Wall time: 24.1 s\n"
     ]
    },
    {
     "data": {
      "text/plain": [
       "LinearRegression(copy_X=True, fit_intercept=True, n_jobs=None, normalize=False)"
      ]
     },
     "execution_count": 26,
     "metadata": {},
     "output_type": "execute_result"
    }
   ],
   "source": [
    "%%time\n",
    "#Обучение модели\n",
    "model = LinearRegression()\n",
    "model.fit(ohe_features_train, target_train)"
   ]
  },
  {
   "cell_type": "code",
   "execution_count": 27,
   "metadata": {},
   "outputs": [
    {
     "name": "stdout",
     "output_type": "stream",
     "text": [
      "CPU times: user 109 ms, sys: 116 ms, total: 225 ms\n",
      "Wall time: 211 ms\n"
     ]
    }
   ],
   "source": [
    "%%time\n",
    "#Предсказание на тестовой выборке\n",
    "target_predict = model.predict(ohe_features_test)"
   ]
  },
  {
   "cell_type": "code",
   "execution_count": 28,
   "metadata": {},
   "outputs": [
    {
     "name": "stdout",
     "output_type": "stream",
     "text": [
      "test_RMSE of LinearRegression = 2054.06\n"
     ]
    }
   ],
   "source": [
    "#RMSE на тестовой выборке\n",
    "test_RMSE_lr = mean_squared_error(target_test, target_predict) ** 0.5\n",
    "print('test_RMSE of LinearRegression = {0:.2f}'.format(test_RMSE_lr))"
   ]
  },
  {
   "cell_type": "markdown",
   "metadata": {},
   "source": [
    "Аналогичный порядок действий проведен на следующих моделях."
   ]
  },
  {
   "cell_type": "code",
   "execution_count": 29,
   "metadata": {},
   "outputs": [
    {
     "name": "stdout",
     "output_type": "stream",
     "text": [
      "{'max_depth': 4, 'n_estimators': 9, 'random_state': 12345}\n",
      "3406.47 for {'max_depth': 1, 'n_estimators': 1, 'random_state': 12345}\n",
      "3227.32 for {'max_depth': 1, 'n_estimators': 3, 'random_state': 12345}\n",
      "3097.57 for {'max_depth': 1, 'n_estimators': 5, 'random_state': 12345}\n",
      "2995.82 for {'max_depth': 1, 'n_estimators': 7, 'random_state': 12345}\n",
      "2911.72 for {'max_depth': 1, 'n_estimators': 9, 'random_state': 12345}\n",
      "3363.78 for {'max_depth': 2, 'n_estimators': 1, 'random_state': 12345}\n",
      "3100.34 for {'max_depth': 2, 'n_estimators': 3, 'random_state': 12345}\n",
      "2898.55 for {'max_depth': 2, 'n_estimators': 5, 'random_state': 12345}\n",
      "2732.50 for {'max_depth': 2, 'n_estimators': 7, 'random_state': 12345}\n",
      "2601.84 for {'max_depth': 2, 'n_estimators': 9, 'random_state': 12345}\n",
      "3334.04 for {'max_depth': 3, 'n_estimators': 1, 'random_state': 12345}\n",
      "3019.54 for {'max_depth': 3, 'n_estimators': 3, 'random_state': 12345}\n",
      "2773.88 for {'max_depth': 3, 'n_estimators': 5, 'random_state': 12345}\n",
      "2588.69 for {'max_depth': 3, 'n_estimators': 7, 'random_state': 12345}\n",
      "2429.94 for {'max_depth': 3, 'n_estimators': 9, 'random_state': 12345}\n",
      "3306.44 for {'max_depth': 4, 'n_estimators': 1, 'random_state': 12345}\n",
      "2943.54 for {'max_depth': 4, 'n_estimators': 3, 'random_state': 12345}\n",
      "2665.11 for {'max_depth': 4, 'n_estimators': 5, 'random_state': 12345}\n",
      "2451.78 for {'max_depth': 4, 'n_estimators': 7, 'random_state': 12345}\n",
      "2287.71 for {'max_depth': 4, 'n_estimators': 9, 'random_state': 12345}\n",
      "CPU times: user 34.4 s, sys: 0 ns, total: 34.4 s\n",
      "Wall time: 34.6 s\n"
     ]
    }
   ],
   "source": [
    "%%time\n",
    "\n",
    "#GradientBoostingRegressor()\n",
    "regressor = GradientBoostingRegressor() \n",
    "hyperparams = [{'n_estimators': range (1, 11, 2), \n",
    "                'max_depth': range (1,5),\n",
    "                'random_state':[12345]}]\n",
    "\n",
    "clf = GridSearchCV(regressor, hyperparams, scoring='neg_mean_squared_error')\n",
    "clf.fit(ordinal_features_train, target_train)\n",
    "print(clf.best_params_)\n",
    "means = clf.cv_results_['mean_test_score']\n",
    "stds = clf.cv_results_['std_test_score']\n",
    "for mean, std, params in zip(means, stds, clf.cv_results_['params']):\n",
    "    print(\"%0.2f for %r\"% ((mean*-1)** 0.5, params))\n",
    "\n",
    "RMSE_gb = (max(means)*-1) ** 0.5"
   ]
  },
  {
   "cell_type": "code",
   "execution_count": 30,
   "metadata": {},
   "outputs": [
    {
     "name": "stdout",
     "output_type": "stream",
     "text": [
      "CPU times: user 2.38 s, sys: 0 ns, total: 2.38 s\n",
      "Wall time: 2.5 s\n"
     ]
    },
    {
     "data": {
      "text/plain": [
       "GradientBoostingRegressor(alpha=0.9, criterion='friedman_mse', init=None,\n",
       "                          learning_rate=0.1, loss='ls', max_depth=4,\n",
       "                          max_features=None, max_leaf_nodes=None,\n",
       "                          min_impurity_decrease=0.0, min_impurity_split=None,\n",
       "                          min_samples_leaf=1, min_samples_split=2,\n",
       "                          min_weight_fraction_leaf=0.0, n_estimators=9,\n",
       "                          n_iter_no_change=None, presort='auto',\n",
       "                          random_state=12345, subsample=1.0, tol=0.0001,\n",
       "                          validation_fraction=0.1, verbose=0, warm_start=False)"
      ]
     },
     "execution_count": 30,
     "metadata": {},
     "output_type": "execute_result"
    }
   ],
   "source": [
    "%%time\n",
    "\n",
    "model = GradientBoostingRegressor(n_estimators=9, \n",
    "                      max_depth=4, \n",
    "                      random_state=12345)\n",
    "model.fit(ordinal_features_train, target_train)"
   ]
  },
  {
   "cell_type": "code",
   "execution_count": 31,
   "metadata": {},
   "outputs": [
    {
     "name": "stdout",
     "output_type": "stream",
     "text": [
      "CPU times: user 24.6 ms, sys: 0 ns, total: 24.6 ms\n",
      "Wall time: 22.8 ms\n"
     ]
    }
   ],
   "source": [
    "%%time\n",
    "\n",
    "target_predict = model.predict(ordinal_features_test)"
   ]
  },
  {
   "cell_type": "code",
   "execution_count": 32,
   "metadata": {},
   "outputs": [
    {
     "name": "stdout",
     "output_type": "stream",
     "text": [
      "test_RMSE of GradientBoostingRegressor = 2290.22\n"
     ]
    }
   ],
   "source": [
    "test_RMSE_gb = mean_squared_error(target_test, target_predict) ** 0.5\n",
    "print('test_RMSE of GradientBoostingRegressor = {0:.2f}'.format(test_RMSE_gb))"
   ]
  },
  {
   "cell_type": "code",
   "execution_count": 33,
   "metadata": {},
   "outputs": [
    {
     "name": "stdout",
     "output_type": "stream",
     "text": [
      "{'num_leaves': 100, 'random_state': 12345}\n",
      "1478.86 for {'num_leaves': 11, 'random_state': 12345}\n",
      "1362.25 for {'num_leaves': 50, 'random_state': 12345}\n",
      "1326.46 for {'num_leaves': 100, 'random_state': 12345}\n",
      "CPU times: user 1min 28s, sys: 0 ns, total: 1min 28s\n",
      "Wall time: 1min 29s\n"
     ]
    }
   ],
   "source": [
    "%%time\n",
    "\n",
    "#LGBMRegressor()\n",
    "regressor = LGBMRegressor() \n",
    "hyperparams = [{'num_leaves':[11, 50, 100], \n",
    "                'random_state':[12345]}]\n",
    "\n",
    "clf = GridSearchCV(regressor, hyperparams, scoring='neg_mean_squared_error')\n",
    "clf.fit(ordinal_features_train, target_train)\n",
    "\n",
    "print(clf.best_params_)\n",
    "\n",
    "means = clf.cv_results_['mean_test_score']\n",
    "stds = clf.cv_results_['std_test_score']\n",
    "for mean, std, params in zip(means, stds, clf.cv_results_['params']):\n",
    "    print(\"%0.2f for %r\"% ((mean*-1)** 0.5, params))\n",
    "\n",
    "RMSE_lgbm = (max(means)*-1) ** 0.5"
   ]
  },
  {
   "cell_type": "code",
   "execution_count": 34,
   "metadata": {},
   "outputs": [
    {
     "name": "stdout",
     "output_type": "stream",
     "text": [
      "CPU times: user 13.2 s, sys: 0 ns, total: 13.2 s\n",
      "Wall time: 13.4 s\n"
     ]
    },
    {
     "data": {
      "text/plain": [
       "LGBMRegressor(boosting_type='gbdt', class_weight=None, colsample_bytree=1.0,\n",
       "              importance_type='split', learning_rate=0.1, max_depth=-1,\n",
       "              min_child_samples=20, min_child_weight=0.001, min_split_gain=0.0,\n",
       "              n_estimators=100, n_jobs=-1, num_leaves=100, objective=None,\n",
       "              random_state=12345, reg_alpha=0.0, reg_lambda=0.0, silent=True,\n",
       "              subsample=1.0, subsample_for_bin=200000, subsample_freq=0)"
      ]
     },
     "execution_count": 34,
     "metadata": {},
     "output_type": "execute_result"
    }
   ],
   "source": [
    "%%time\n",
    "\n",
    "model = LGBMRegressor(num_leaves=100, \n",
    "                      random_state=12345)\n",
    "model.fit(ordinal_features_train, target_train)"
   ]
  },
  {
   "cell_type": "code",
   "execution_count": 35,
   "metadata": {},
   "outputs": [
    {
     "name": "stdout",
     "output_type": "stream",
     "text": [
      "CPU times: user 989 ms, sys: 0 ns, total: 989 ms\n",
      "Wall time: 997 ms\n"
     ]
    }
   ],
   "source": [
    "%%time\n",
    "\n",
    "target_predict = model.predict(ordinal_features_test)"
   ]
  },
  {
   "cell_type": "code",
   "execution_count": 36,
   "metadata": {},
   "outputs": [
    {
     "name": "stdout",
     "output_type": "stream",
     "text": [
      "test_RMSE of LGBMRegressor = 1325.06\n"
     ]
    }
   ],
   "source": [
    "test_RMSE_lgbmr = mean_squared_error(target_test, target_predict) ** 0.5\n",
    "print('test_RMSE of LGBMRegressor = {0:.2f}'.format(test_RMSE_lgbmr))"
   ]
  },
  {
   "cell_type": "markdown",
   "metadata": {},
   "source": [
    "### Вывод:\n",
    "Выбраны 3 модели: обучены и выведены итоги тестовой выборки метрикой RMSE, также зафиксировано время обучения/ предсказания. "
   ]
  },
  {
   "cell_type": "markdown",
   "metadata": {},
   "source": [
    "## Анализ моделей"
   ]
  },
  {
   "cell_type": "markdown",
   "metadata": {},
   "source": [
    "В сводной таблице проставлены основные метрики по каждой из моделей."
   ]
  },
  {
   "cell_type": "code",
   "execution_count": 40,
   "metadata": {},
   "outputs": [
    {
     "data": {
      "text/html": [
       "<div>\n",
       "<style scoped>\n",
       "    .dataframe tbody tr th:only-of-type {\n",
       "        vertical-align: middle;\n",
       "    }\n",
       "\n",
       "    .dataframe tbody tr th {\n",
       "        vertical-align: top;\n",
       "    }\n",
       "\n",
       "    .dataframe thead th {\n",
       "        text-align: right;\n",
       "    }\n",
       "</style>\n",
       "<table border=\"1\" class=\"dataframe\">\n",
       "  <thead>\n",
       "    <tr style=\"text-align: right;\">\n",
       "      <th></th>\n",
       "      <th>RMSE на обучающей выборке</th>\n",
       "      <th>Время обучения модели</th>\n",
       "      <th>RMSE на тестовой выборке</th>\n",
       "      <th>Время предсказания модели</th>\n",
       "    </tr>\n",
       "  </thead>\n",
       "  <tbody>\n",
       "    <tr>\n",
       "      <td>LinearRegression</td>\n",
       "      <td>2040.72</td>\n",
       "      <td>24.1s</td>\n",
       "      <td>2054.06</td>\n",
       "      <td>222ms</td>\n",
       "    </tr>\n",
       "    <tr>\n",
       "      <td>GradientBoostingRegressor</td>\n",
       "      <td>2287.71</td>\n",
       "      <td>2.5s</td>\n",
       "      <td>2290.22</td>\n",
       "      <td>22.8s</td>\n",
       "    </tr>\n",
       "    <tr>\n",
       "      <td>LGBMRegressor</td>\n",
       "      <td>1326.46</td>\n",
       "      <td>13.4s</td>\n",
       "      <td>1325.06</td>\n",
       "      <td>997s</td>\n",
       "    </tr>\n",
       "  </tbody>\n",
       "</table>\n",
       "</div>"
      ],
      "text/plain": [
       "                           RMSE на обучающей выборке Время обучения модели  \\\n",
       "LinearRegression                             2040.72                 24.1s   \n",
       "GradientBoostingRegressor                    2287.71                  2.5s   \n",
       "LGBMRegressor                                1326.46                 13.4s   \n",
       "\n",
       "                           RMSE на тестовой выборке Время предсказания модели  \n",
       "LinearRegression                            2054.06                     222ms  \n",
       "GradientBoostingRegressor                   2290.22                     22.8s  \n",
       "LGBMRegressor                               1325.06                      997s  "
      ]
     },
     "execution_count": 40,
     "metadata": {},
     "output_type": "execute_result"
    }
   ],
   "source": [
    "index = ['LinearRegression',\n",
    "         'GradientBoostingRegressor',\n",
    "         'LGBMRegressor']\n",
    "result = {'RMSE на обучающей выборке':[2040.72,2287.71,1326.46],\n",
    "        'Время обучения модели':['24.1s','2.5s','13.4s'],\n",
    "        'RMSE на тестовой выборке':[2054.06,2290.22,1325.06],\n",
    "        'Время предсказания модели':['222ms','22.8s','997s']}\n",
    "\n",
    "scores_result = pd.DataFrame(data=result, index=index)\n",
    "\n",
    "scores_result"
   ]
  },
  {
   "cell_type": "markdown",
   "metadata": {},
   "source": [
    "## Вывод:\n",
    "Проведена большая работа по правкам представленного датасета, что привело к его сокращению.\n",
    "<br>Модели (LinearRegression, GradientBoostingRegressor, LGBMRegressor) обучены c подбором гиперпараметров и проверены на тесте метрикой RMSE.\n",
    "<br>***LGBMRegressor показала лучшие результаты по RMSE*** (1326.46 на трейне и 1325.06 на тесте; меньше метрика- меньше ошибка модели) при этом скорость обучения/ предсказания уступает двум другим моделям.\t\n",
    "<br>Данную ***модель стоит рекомендовать при разработке приложения*** для определения рыночной стоимости автомобилей.\n",
    "<br>В лидерах по скорости обработки данных в процессе обучения- GradientBoostingRegressor (2.5s)/ предсказания- LinearRegression (222ms) с большей ошибкой по RMSE."
   ]
  }
 ],
 "metadata": {
  "kernelspec": {
   "display_name": "Python 3",
   "language": "python",
   "name": "python3"
  },
  "language_info": {
   "codemirror_mode": {
    "name": "ipython",
    "version": 3
   },
   "file_extension": ".py",
   "mimetype": "text/x-python",
   "name": "python",
   "nbconvert_exporter": "python",
   "pygments_lexer": "ipython3",
   "version": "3.7.8"
  },
  "toc": {
   "base_numbering": 1,
   "nav_menu": {
    "height": "158px",
    "width": "306px"
   },
   "number_sections": true,
   "sideBar": true,
   "skip_h1_title": true,
   "title_cell": "Table of Contents",
   "title_sidebar": "Contents",
   "toc_cell": false,
   "toc_position": {},
   "toc_section_display": true,
   "toc_window_display": false
  }
 },
 "nbformat": 4,
 "nbformat_minor": 2
}
