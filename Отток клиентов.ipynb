{
 "cells": [
  {
   "cell_type": "markdown",
   "metadata": {},
   "source": [
    "# Отток клиентов"
   ]
  },
  {
   "cell_type": "markdown",
   "metadata": {},
   "source": [
    "Из компании стали уходить клиенты. Каждый месяц. Немного, но заметно. Банковские маркетологи посчитали: сохранять текущих клиентов дешевле, чем привлекать новых.\n",
    "\n",
    "***Нужно спрогнозировать, уйдёт клиент из банка в ближайшее время или нет.*** Вам предоставлены исторические данные о поведении клиентов и расторжении договоров с банком. \n",
    "\n",
    "Постройте модель с предельно большим значением *F1*-меры. Чтобы сдать проект успешно, нужно довести метрику до 0.59. Проверьте *F1*-меру на тестовой выборке самостоятельно.\n",
    "\n",
    "Дополнительно измеряйте *AUC-ROC*, сравнивайте её значение с *F1*-мерой.\n",
    "\n",
    "Источник данных: [https://www.kaggle.com/barelydedicated/bank-customer-churn-modeling](https://www.kaggle.com/barelydedicated/bank-customer-churn-modeling)"
   ]
  },
  {
   "cell_type": "markdown",
   "metadata": {},
   "source": [
    "Признаки:\n",
    "<br>RowNumber — индекс строки в данных\n",
    "<br>CustomerId — уникальный идентификатор клиента\n",
    "<br>Surname — фамилия\n",
    "<br>CreditScore — кредитный рейтинг\n",
    "<br>Geography — страна проживания\n",
    "<br>Gender — пол\n",
    "<br>Age — возраст\n",
    "<br>Tenure — количество недвижимости у клиента\n",
    "<br>Balance — баланс на счёте\n",
    "<br>NumOfProducts — количество продуктов банка, используемых клиентом\n",
    "<br>HasCrCard — наличие кредитной карты\n",
    "<br>IsActiveMember — активность клиента\n",
    "<br>EstimatedSalary — предполагаемая зарплата\n",
    "<br>Целевой признак:\n",
    "<br>Exited — факт ухода клиента"
   ]
  },
  {
   "cell_type": "markdown",
   "metadata": {},
   "source": [
    "# 1. Подготовка данных"
   ]
  },
  {
   "cell_type": "code",
   "execution_count": 1,
   "metadata": {},
   "outputs": [],
   "source": [
    "# Загрузка библиотек\n",
    "import pandas as pd \n",
    "import numpy as np\n",
    "import seaborn as sns\n",
    "import matplotlib.pyplot as plt\n",
    "from sklearn.preprocessing import StandardScaler\n",
    "from sklearn.model_selection import train_test_split\n",
    "from sklearn.ensemble import RandomForestClassifier\n",
    "from sklearn.ensemble import GradientBoostingClassifier\n",
    "from sklearn.tree import DecisionTreeClassifier\n",
    "from sklearn.dummy import DummyClassifier\n",
    "from sklearn.metrics import accuracy_score\n",
    "from sklearn.metrics import f1_score\n",
    "from sklearn.metrics import confusion_matrix\n",
    "from sklearn.metrics import recall_score\n",
    "from sklearn.metrics import precision_score\n",
    "from sklearn.utils import shuffle\n",
    "from sklearn.metrics import precision_recall_curve\n",
    "from sklearn.metrics import roc_curve\n",
    "from sklearn.metrics import roc_auc_score\n",
    "from sklearn.metrics import classification_report\n",
    "\n",
    "import warnings\n",
    "warnings.simplefilter('ignore')"
   ]
  },
  {
   "cell_type": "code",
   "execution_count": 2,
   "metadata": {
    "scrolled": true
   },
   "outputs": [
    {
     "data": {
      "text/html": [
       "<div>\n",
       "<style scoped>\n",
       "    .dataframe tbody tr th:only-of-type {\n",
       "        vertical-align: middle;\n",
       "    }\n",
       "\n",
       "    .dataframe tbody tr th {\n",
       "        vertical-align: top;\n",
       "    }\n",
       "\n",
       "    .dataframe thead th {\n",
       "        text-align: right;\n",
       "    }\n",
       "</style>\n",
       "<table border=\"1\" class=\"dataframe\">\n",
       "  <thead>\n",
       "    <tr style=\"text-align: right;\">\n",
       "      <th></th>\n",
       "      <th>RowNumber</th>\n",
       "      <th>CustomerId</th>\n",
       "      <th>Surname</th>\n",
       "      <th>CreditScore</th>\n",
       "      <th>Geography</th>\n",
       "      <th>Gender</th>\n",
       "      <th>Age</th>\n",
       "      <th>Tenure</th>\n",
       "      <th>Balance</th>\n",
       "      <th>NumOfProducts</th>\n",
       "      <th>HasCrCard</th>\n",
       "      <th>IsActiveMember</th>\n",
       "      <th>EstimatedSalary</th>\n",
       "      <th>Exited</th>\n",
       "    </tr>\n",
       "  </thead>\n",
       "  <tbody>\n",
       "    <tr>\n",
       "      <td>0</td>\n",
       "      <td>1</td>\n",
       "      <td>15634602</td>\n",
       "      <td>Hargrave</td>\n",
       "      <td>619</td>\n",
       "      <td>France</td>\n",
       "      <td>Female</td>\n",
       "      <td>42</td>\n",
       "      <td>2.0</td>\n",
       "      <td>0.00</td>\n",
       "      <td>1</td>\n",
       "      <td>1</td>\n",
       "      <td>1</td>\n",
       "      <td>101348.88</td>\n",
       "      <td>1</td>\n",
       "    </tr>\n",
       "    <tr>\n",
       "      <td>1</td>\n",
       "      <td>2</td>\n",
       "      <td>15647311</td>\n",
       "      <td>Hill</td>\n",
       "      <td>608</td>\n",
       "      <td>Spain</td>\n",
       "      <td>Female</td>\n",
       "      <td>41</td>\n",
       "      <td>1.0</td>\n",
       "      <td>83807.86</td>\n",
       "      <td>1</td>\n",
       "      <td>0</td>\n",
       "      <td>1</td>\n",
       "      <td>112542.58</td>\n",
       "      <td>0</td>\n",
       "    </tr>\n",
       "    <tr>\n",
       "      <td>2</td>\n",
       "      <td>3</td>\n",
       "      <td>15619304</td>\n",
       "      <td>Onio</td>\n",
       "      <td>502</td>\n",
       "      <td>France</td>\n",
       "      <td>Female</td>\n",
       "      <td>42</td>\n",
       "      <td>8.0</td>\n",
       "      <td>159660.80</td>\n",
       "      <td>3</td>\n",
       "      <td>1</td>\n",
       "      <td>0</td>\n",
       "      <td>113931.57</td>\n",
       "      <td>1</td>\n",
       "    </tr>\n",
       "    <tr>\n",
       "      <td>3</td>\n",
       "      <td>4</td>\n",
       "      <td>15701354</td>\n",
       "      <td>Boni</td>\n",
       "      <td>699</td>\n",
       "      <td>France</td>\n",
       "      <td>Female</td>\n",
       "      <td>39</td>\n",
       "      <td>1.0</td>\n",
       "      <td>0.00</td>\n",
       "      <td>2</td>\n",
       "      <td>0</td>\n",
       "      <td>0</td>\n",
       "      <td>93826.63</td>\n",
       "      <td>0</td>\n",
       "    </tr>\n",
       "    <tr>\n",
       "      <td>4</td>\n",
       "      <td>5</td>\n",
       "      <td>15737888</td>\n",
       "      <td>Mitchell</td>\n",
       "      <td>850</td>\n",
       "      <td>Spain</td>\n",
       "      <td>Female</td>\n",
       "      <td>43</td>\n",
       "      <td>2.0</td>\n",
       "      <td>125510.82</td>\n",
       "      <td>1</td>\n",
       "      <td>1</td>\n",
       "      <td>1</td>\n",
       "      <td>79084.10</td>\n",
       "      <td>0</td>\n",
       "    </tr>\n",
       "    <tr>\n",
       "      <td>5</td>\n",
       "      <td>6</td>\n",
       "      <td>15574012</td>\n",
       "      <td>Chu</td>\n",
       "      <td>645</td>\n",
       "      <td>Spain</td>\n",
       "      <td>Male</td>\n",
       "      <td>44</td>\n",
       "      <td>8.0</td>\n",
       "      <td>113755.78</td>\n",
       "      <td>2</td>\n",
       "      <td>1</td>\n",
       "      <td>0</td>\n",
       "      <td>149756.71</td>\n",
       "      <td>1</td>\n",
       "    </tr>\n",
       "    <tr>\n",
       "      <td>6</td>\n",
       "      <td>7</td>\n",
       "      <td>15592531</td>\n",
       "      <td>Bartlett</td>\n",
       "      <td>822</td>\n",
       "      <td>France</td>\n",
       "      <td>Male</td>\n",
       "      <td>50</td>\n",
       "      <td>7.0</td>\n",
       "      <td>0.00</td>\n",
       "      <td>2</td>\n",
       "      <td>1</td>\n",
       "      <td>1</td>\n",
       "      <td>10062.80</td>\n",
       "      <td>0</td>\n",
       "    </tr>\n",
       "  </tbody>\n",
       "</table>\n",
       "</div>"
      ],
      "text/plain": [
       "   RowNumber  CustomerId   Surname  CreditScore Geography  Gender  Age  \\\n",
       "0          1    15634602  Hargrave          619    France  Female   42   \n",
       "1          2    15647311      Hill          608     Spain  Female   41   \n",
       "2          3    15619304      Onio          502    France  Female   42   \n",
       "3          4    15701354      Boni          699    France  Female   39   \n",
       "4          5    15737888  Mitchell          850     Spain  Female   43   \n",
       "5          6    15574012       Chu          645     Spain    Male   44   \n",
       "6          7    15592531  Bartlett          822    France    Male   50   \n",
       "\n",
       "   Tenure    Balance  NumOfProducts  HasCrCard  IsActiveMember  \\\n",
       "0     2.0       0.00              1          1               1   \n",
       "1     1.0   83807.86              1          0               1   \n",
       "2     8.0  159660.80              3          1               0   \n",
       "3     1.0       0.00              2          0               0   \n",
       "4     2.0  125510.82              1          1               1   \n",
       "5     8.0  113755.78              2          1               0   \n",
       "6     7.0       0.00              2          1               1   \n",
       "\n",
       "   EstimatedSalary  Exited  \n",
       "0        101348.88       1  \n",
       "1        112542.58       0  \n",
       "2        113931.57       1  \n",
       "3         93826.63       0  \n",
       "4         79084.10       0  \n",
       "5        149756.71       1  \n",
       "6         10062.80       0  "
      ]
     },
     "execution_count": 2,
     "metadata": {},
     "output_type": "execute_result"
    }
   ],
   "source": [
    "data=pd.read_csv('/datasets/Churn.csv')\n",
    "data.head(7)"
   ]
  },
  {
   "cell_type": "code",
   "execution_count": 3,
   "metadata": {
    "scrolled": true
   },
   "outputs": [
    {
     "name": "stdout",
     "output_type": "stream",
     "text": [
      "<class 'pandas.core.frame.DataFrame'>\n",
      "RangeIndex: 10000 entries, 0 to 9999\n",
      "Data columns (total 14 columns):\n",
      "RowNumber          10000 non-null int64\n",
      "CustomerId         10000 non-null int64\n",
      "Surname            10000 non-null object\n",
      "CreditScore        10000 non-null int64\n",
      "Geography          10000 non-null object\n",
      "Gender             10000 non-null object\n",
      "Age                10000 non-null int64\n",
      "Tenure             9091 non-null float64\n",
      "Balance            10000 non-null float64\n",
      "NumOfProducts      10000 non-null int64\n",
      "HasCrCard          10000 non-null int64\n",
      "IsActiveMember     10000 non-null int64\n",
      "EstimatedSalary    10000 non-null float64\n",
      "Exited             10000 non-null int64\n",
      "dtypes: float64(3), int64(8), object(3)\n",
      "memory usage: 1.1+ MB\n"
     ]
    }
   ],
   "source": [
    "# Проверка типов данных\n",
    "data.info() "
   ]
  },
  {
   "cell_type": "code",
   "execution_count": 4,
   "metadata": {},
   "outputs": [
    {
     "data": {
      "text/plain": [
       "array([ 2.,  1.,  8.,  7.,  4.,  6.,  3., 10.,  5.,  9.,  0., nan])"
      ]
     },
     "execution_count": 4,
     "metadata": {},
     "output_type": "execute_result"
    }
   ],
   "source": [
    "#Уникальные значения столбца\n",
    "data['Tenure'].unique()"
   ]
  },
  {
   "cell_type": "markdown",
   "metadata": {},
   "source": [
    "Выявлено 9% нулевых значений в столбце \"Tenure\"- заменим их на 0."
   ]
  },
  {
   "cell_type": "code",
   "execution_count": 5,
   "metadata": {},
   "outputs": [],
   "source": [
    "#Замена nan на медиану\n",
    "data = data.replace(np.nan, 0)"
   ]
  },
  {
   "cell_type": "code",
   "execution_count": 7,
   "metadata": {},
   "outputs": [
    {
     "data": {
      "text/html": [
       "<div>\n",
       "<style scoped>\n",
       "    .dataframe tbody tr th:only-of-type {\n",
       "        vertical-align: middle;\n",
       "    }\n",
       "\n",
       "    .dataframe tbody tr th {\n",
       "        vertical-align: top;\n",
       "    }\n",
       "\n",
       "    .dataframe thead th {\n",
       "        text-align: right;\n",
       "    }\n",
       "</style>\n",
       "<table border=\"1\" class=\"dataframe\">\n",
       "  <thead>\n",
       "    <tr style=\"text-align: right;\">\n",
       "      <th></th>\n",
       "      <th>CreditScore</th>\n",
       "      <th>Age</th>\n",
       "      <th>Tenure</th>\n",
       "      <th>Balance</th>\n",
       "      <th>NumOfProducts</th>\n",
       "      <th>EstimatedSalary</th>\n",
       "    </tr>\n",
       "  </thead>\n",
       "  <tbody>\n",
       "    <tr>\n",
       "      <td>count</td>\n",
       "      <td>10000</td>\n",
       "      <td>10000</td>\n",
       "      <td>10000</td>\n",
       "      <td>10000</td>\n",
       "      <td>10000</td>\n",
       "      <td>10000</td>\n",
       "    </tr>\n",
       "    <tr>\n",
       "      <td>mean</td>\n",
       "      <td>650</td>\n",
       "      <td>38</td>\n",
       "      <td>4</td>\n",
       "      <td>76485</td>\n",
       "      <td>1</td>\n",
       "      <td>100090</td>\n",
       "    </tr>\n",
       "    <tr>\n",
       "      <td>std</td>\n",
       "      <td>96</td>\n",
       "      <td>10</td>\n",
       "      <td>3</td>\n",
       "      <td>62397</td>\n",
       "      <td>0</td>\n",
       "      <td>57510</td>\n",
       "    </tr>\n",
       "    <tr>\n",
       "      <td>min</td>\n",
       "      <td>350</td>\n",
       "      <td>18</td>\n",
       "      <td>0</td>\n",
       "      <td>0</td>\n",
       "      <td>1</td>\n",
       "      <td>11</td>\n",
       "    </tr>\n",
       "    <tr>\n",
       "      <td>25%</td>\n",
       "      <td>584</td>\n",
       "      <td>32</td>\n",
       "      <td>2</td>\n",
       "      <td>0</td>\n",
       "      <td>1</td>\n",
       "      <td>51002</td>\n",
       "    </tr>\n",
       "    <tr>\n",
       "      <td>50%</td>\n",
       "      <td>652</td>\n",
       "      <td>37</td>\n",
       "      <td>4</td>\n",
       "      <td>97198</td>\n",
       "      <td>1</td>\n",
       "      <td>100193</td>\n",
       "    </tr>\n",
       "    <tr>\n",
       "      <td>75%</td>\n",
       "      <td>718</td>\n",
       "      <td>44</td>\n",
       "      <td>7</td>\n",
       "      <td>127644</td>\n",
       "      <td>2</td>\n",
       "      <td>149388</td>\n",
       "    </tr>\n",
       "    <tr>\n",
       "      <td>max</td>\n",
       "      <td>850</td>\n",
       "      <td>92</td>\n",
       "      <td>10</td>\n",
       "      <td>250898</td>\n",
       "      <td>4</td>\n",
       "      <td>199992</td>\n",
       "    </tr>\n",
       "  </tbody>\n",
       "</table>\n",
       "</div>"
      ],
      "text/plain": [
       "       CreditScore    Age  Tenure  Balance  NumOfProducts  EstimatedSalary\n",
       "count        10000  10000   10000    10000          10000            10000\n",
       "mean           650     38       4    76485              1           100090\n",
       "std             96     10       3    62397              0            57510\n",
       "min            350     18       0        0              1               11\n",
       "25%            584     32       2        0              1            51002\n",
       "50%            652     37       4    97198              1           100193\n",
       "75%            718     44       7   127644              2           149388\n",
       "max            850     92      10   250898              4           199992"
      ]
     },
     "execution_count": 7,
     "metadata": {},
     "output_type": "execute_result"
    }
   ],
   "source": [
    "# Статистические данные по перечню столбцов df\n",
    "columns = data[['CreditScore', 'Age', 'Tenure', 'Balance', 'NumOfProducts', 'EstimatedSalary']]\n",
    "data_stat = pd.DataFrame(columns)\n",
    "data_stat.describe().astype('int')"
   ]
  },
  {
   "cell_type": "markdown",
   "metadata": {},
   "source": [
    "### Вывод:\n",
    "Выборка сохранена и проверена на предмет пропусков, нулевых данных и корректности типов данных, для формирования модели является корректной.\n",
    "Добавлены справочные статистические характеристики по методу describe() для полной картины."
   ]
  },
  {
   "cell_type": "markdown",
   "metadata": {},
   "source": [
    "В исследуемой выборке data есть 2 категориальных признака (столбцы 'Geography' и 'Gender'), которые переводим в численные техникой OHE (One-Hot Encoding), также масштабируем данные с помощью StandardScaler(). \n",
    "<br>Делим данные выборки на обучающую, валидационную и тестовую выборку."
   ]
  },
  {
   "cell_type": "code",
   "execution_count": 8,
   "metadata": {},
   "outputs": [],
   "source": [
    "# Удаление столбца \"Surname\", \"RowNumber\", \"CustomerId\" для корректного обучения моделей\n",
    "data_exited =  data.drop(['Surname', 'RowNumber', 'CustomerId'], axis = 1)"
   ]
  },
  {
   "cell_type": "code",
   "execution_count": 9,
   "metadata": {
    "scrolled": true
   },
   "outputs": [
    {
     "data": {
      "text/plain": [
       "France     5014\n",
       "Germany    2509\n",
       "Spain      2477\n",
       "Name: Geography, dtype: int64"
      ]
     },
     "execution_count": 9,
     "metadata": {},
     "output_type": "execute_result"
    }
   ],
   "source": [
    "data_exited['Geography'].value_counts() #проверка количества классов по каждой категории"
   ]
  },
  {
   "cell_type": "code",
   "execution_count": 10,
   "metadata": {
    "scrolled": true
   },
   "outputs": [
    {
     "data": {
      "text/plain": [
       "Male      5457\n",
       "Female    4543\n",
       "Name: Gender, dtype: int64"
      ]
     },
     "execution_count": 10,
     "metadata": {},
     "output_type": "execute_result"
    }
   ],
   "source": [
    "data_exited['Gender'].value_counts() "
   ]
  },
  {
   "cell_type": "code",
   "execution_count": 11,
   "metadata": {
    "scrolled": true
   },
   "outputs": [
    {
     "data": {
      "text/html": [
       "<div>\n",
       "<style scoped>\n",
       "    .dataframe tbody tr th:only-of-type {\n",
       "        vertical-align: middle;\n",
       "    }\n",
       "\n",
       "    .dataframe tbody tr th {\n",
       "        vertical-align: top;\n",
       "    }\n",
       "\n",
       "    .dataframe thead th {\n",
       "        text-align: right;\n",
       "    }\n",
       "</style>\n",
       "<table border=\"1\" class=\"dataframe\">\n",
       "  <thead>\n",
       "    <tr style=\"text-align: right;\">\n",
       "      <th></th>\n",
       "      <th>CreditScore</th>\n",
       "      <th>Age</th>\n",
       "      <th>Tenure</th>\n",
       "      <th>Balance</th>\n",
       "      <th>NumOfProducts</th>\n",
       "      <th>HasCrCard</th>\n",
       "      <th>IsActiveMember</th>\n",
       "      <th>EstimatedSalary</th>\n",
       "      <th>Exited</th>\n",
       "      <th>Geography_Germany</th>\n",
       "      <th>Geography_Spain</th>\n",
       "      <th>Gender_Male</th>\n",
       "    </tr>\n",
       "  </thead>\n",
       "  <tbody>\n",
       "    <tr>\n",
       "      <td>0</td>\n",
       "      <td>619</td>\n",
       "      <td>42</td>\n",
       "      <td>2.0</td>\n",
       "      <td>0.00</td>\n",
       "      <td>1</td>\n",
       "      <td>1</td>\n",
       "      <td>1</td>\n",
       "      <td>101348.88</td>\n",
       "      <td>1</td>\n",
       "      <td>0</td>\n",
       "      <td>0</td>\n",
       "      <td>0</td>\n",
       "    </tr>\n",
       "    <tr>\n",
       "      <td>1</td>\n",
       "      <td>608</td>\n",
       "      <td>41</td>\n",
       "      <td>1.0</td>\n",
       "      <td>83807.86</td>\n",
       "      <td>1</td>\n",
       "      <td>0</td>\n",
       "      <td>1</td>\n",
       "      <td>112542.58</td>\n",
       "      <td>0</td>\n",
       "      <td>0</td>\n",
       "      <td>1</td>\n",
       "      <td>0</td>\n",
       "    </tr>\n",
       "    <tr>\n",
       "      <td>2</td>\n",
       "      <td>502</td>\n",
       "      <td>42</td>\n",
       "      <td>8.0</td>\n",
       "      <td>159660.80</td>\n",
       "      <td>3</td>\n",
       "      <td>1</td>\n",
       "      <td>0</td>\n",
       "      <td>113931.57</td>\n",
       "      <td>1</td>\n",
       "      <td>0</td>\n",
       "      <td>0</td>\n",
       "      <td>0</td>\n",
       "    </tr>\n",
       "    <tr>\n",
       "      <td>3</td>\n",
       "      <td>699</td>\n",
       "      <td>39</td>\n",
       "      <td>1.0</td>\n",
       "      <td>0.00</td>\n",
       "      <td>2</td>\n",
       "      <td>0</td>\n",
       "      <td>0</td>\n",
       "      <td>93826.63</td>\n",
       "      <td>0</td>\n",
       "      <td>0</td>\n",
       "      <td>0</td>\n",
       "      <td>0</td>\n",
       "    </tr>\n",
       "    <tr>\n",
       "      <td>4</td>\n",
       "      <td>850</td>\n",
       "      <td>43</td>\n",
       "      <td>2.0</td>\n",
       "      <td>125510.82</td>\n",
       "      <td>1</td>\n",
       "      <td>1</td>\n",
       "      <td>1</td>\n",
       "      <td>79084.10</td>\n",
       "      <td>0</td>\n",
       "      <td>0</td>\n",
       "      <td>1</td>\n",
       "      <td>0</td>\n",
       "    </tr>\n",
       "  </tbody>\n",
       "</table>\n",
       "</div>"
      ],
      "text/plain": [
       "   CreditScore  Age  Tenure    Balance  NumOfProducts  HasCrCard  \\\n",
       "0          619   42     2.0       0.00              1          1   \n",
       "1          608   41     1.0   83807.86              1          0   \n",
       "2          502   42     8.0  159660.80              3          1   \n",
       "3          699   39     1.0       0.00              2          0   \n",
       "4          850   43     2.0  125510.82              1          1   \n",
       "\n",
       "   IsActiveMember  EstimatedSalary  Exited  Geography_Germany  \\\n",
       "0               1        101348.88       1                  0   \n",
       "1               1        112542.58       0                  0   \n",
       "2               0        113931.57       1                  0   \n",
       "3               0         93826.63       0                  0   \n",
       "4               1         79084.10       0                  0   \n",
       "\n",
       "   Geography_Spain  Gender_Male  \n",
       "0                0            0  \n",
       "1                1            0  \n",
       "2                0            0  \n",
       "3                0            0  \n",
       "4                1            0  "
      ]
     },
     "execution_count": 11,
     "metadata": {},
     "output_type": "execute_result"
    }
   ],
   "source": [
    "# Преобразование категориальных признаков в численные\n",
    "data_ohe = pd.get_dummies(data_exited, drop_first= True)\n",
    "data_ohe.head()"
   ]
  },
  {
   "cell_type": "code",
   "execution_count": 12,
   "metadata": {},
   "outputs": [],
   "source": [
    "# Отделение по 20% данных для валидационной и тестовой выборок, на обучающую- 60%\n",
    "features = data_ohe.drop(['Exited'], axis=1) #признаки\n",
    "target = data_ohe['Exited'] #целевой признак"
   ]
  },
  {
   "cell_type": "code",
   "execution_count": 13,
   "metadata": {},
   "outputs": [],
   "source": [
    "# Цикл для деления df\n",
    "def train_test_valid_split(features, target, test_size=0.2, valid_size=0.2):\n",
    "    \n",
    "    features_train, features_test, target_train, target_test = train_test_split(\n",
    "        features,\n",
    "        target,\n",
    "        stratify=target,\n",
    "        test_size=test_size\n",
    "    )\n",
    " \n",
    "    post_split_valid_size = valid_size / (1 - test_size)\n",
    "    features_train, features_valid, target_train, target_valid = train_test_split(\n",
    "        features_train,\n",
    "        target_train,\n",
    "        stratify=target_train,\n",
    "        test_size=post_split_valid_size\n",
    "    )\n",
    "    \n",
    "    return features_train, features_test, features_valid, target_train, target_test, target_valid"
   ]
  },
  {
   "cell_type": "code",
   "execution_count": 14,
   "metadata": {},
   "outputs": [],
   "source": [
    "features_train, features_test, features_valid, target_train, target_test, target_valid =(\n",
    "    train_test_valid_split(features, target) )"
   ]
  },
  {
   "cell_type": "code",
   "execution_count": 15,
   "metadata": {
    "scrolled": false
   },
   "outputs": [
    {
     "data": {
      "text/plain": [
       "((6000, 11), (2000, 11), (2000, 11), (6000,), (2000,), (2000,))"
      ]
     },
     "execution_count": 15,
     "metadata": {},
     "output_type": "execute_result"
    }
   ],
   "source": [
    "# Проверка на корректность разбиения выборок train, valid, test (60%-20%-20%)\n",
    "features_train.shape, features_valid.shape, features_test.shape, target_train.shape, target_valid.shape, target_test.shape"
   ]
  },
  {
   "cell_type": "code",
   "execution_count": 16,
   "metadata": {},
   "outputs": [],
   "source": [
    "# Перечень столбцов df для стандартизации\n",
    "numeric = ['CreditScore', 'Age', 'Tenure', 'Balance', 'NumOfProducts', 'EstimatedSalary']"
   ]
  },
  {
   "cell_type": "code",
   "execution_count": 17,
   "metadata": {},
   "outputs": [
    {
     "data": {
      "text/plain": [
       "StandardScaler(copy=True, with_mean=True, with_std=True)"
      ]
     },
     "execution_count": 17,
     "metadata": {},
     "output_type": "execute_result"
    }
   ],
   "source": [
    "# Масштабирование значений в df\n",
    "scaler = StandardScaler()\n",
    "scaler.fit(features_train[numeric]) "
   ]
  },
  {
   "cell_type": "code",
   "execution_count": 18,
   "metadata": {},
   "outputs": [],
   "source": [
    "# Преобразование выборок\n",
    "features_train[numeric] = scaler.transform(features_train[numeric])\n",
    "features_valid[numeric] = scaler.transform(features_valid[numeric])\n",
    "features_test[numeric] = scaler.transform(features_test[numeric])\n",
    "pd.options.mode.chained_assignment = None\n",
    "\n",
    "#print(features_train.head())\n",
    "#print(features_test.head())"
   ]
  },
  {
   "cell_type": "code",
   "execution_count": 19,
   "metadata": {},
   "outputs": [
    {
     "data": {
      "image/png": "[encoded data removed]",
      "text/plain": [
       "<Figure size 1080x1080 with 2 Axes>"
      ]
     },
     "metadata": {
      "needs_background": "light"
     },
     "output_type": "display_data"
    }
   ],
   "source": [
    "corr = data_ohe.corr()\n",
    "plt.figure(figsize = (15, 15))\n",
    "sns.heatmap(corr, vmax = 1, square = True, annot = True, cmap ='coolwarm', fmt='.1g')\n",
    "plt.title('Корреляционная матрица', size = 20)\n",
    "plt.show()"
   ]
  },
  {
   "cell_type": "markdown",
   "metadata": {},
   "source": [
    "Матрица корреляции показвает невысокий уровень - до 0.4, таким образом все числовые параметры выборки будут участвовать при исследовании модели.  "
   ]
  },
  {
   "cell_type": "markdown",
   "metadata": {},
   "source": [
    "### Вывод: \n",
    "Данные выборки подготовлены для исследования: преобразование категориальных признаков в численные универсальным методом One-Hot Encoding, проведено масштабирование данных, проверка матрицей корреляции, а также деление выборки на обучающую, валидационную и тестовую (3:1:1)."
   ]
  },
  {
   "cell_type": "markdown",
   "metadata": {},
   "source": [
    "# 2. Исследование задачи"
   ]
  },
  {
   "cell_type": "markdown",
   "metadata": {},
   "source": [
    "Исследуем баланс классов, обучим модель без учёта дисбаланса.\n",
    "В исследовании задачи участвуют 3 модели: RandomForestClassifier, GradientBoostingClassifier, DecisionTreeClassifier."
   ]
  },
  {
   "cell_type": "code",
   "execution_count": 20,
   "metadata": {},
   "outputs": [],
   "source": [
    "# Функция расчета оптимального гиперпараметра max_depth\n",
    "def hyperparam(model_type, low, high, step):\n",
    "    train = []\n",
    "    valid = []\n",
    "    f1 = []\n",
    "    \n",
    "    for hyperp in range(low, high, step):\n",
    "        model = model_type(random_state = 12345,  max_depth = hyperp)\n",
    "        model.fit(features_train, target_train)\n",
    "    \n",
    "        predict_train = model.predict(features_train)\n",
    "        accuracy_train = accuracy_score(target_train, predict_train)\n",
    "        train.append(accuracy_train)\n",
    "    \n",
    "        predictions_valid = model.predict(features_valid)\n",
    "        accuracy_valid = accuracy_score(target_valid, predictions_valid)\n",
    "        valid.append(accuracy_valid)\n",
    "        \n",
    "        f1_value = f1_score(target_valid, predictions_valid)\n",
    "        f1.append(f1_value)\n",
    "        \n",
    "    results= pd.DataFrame([train, valid, f1],\n",
    "                           columns = range(low,high,step)).T.reset_index()                        \n",
    "                           \n",
    "    results.columns = ['depth', 'accuracy train', 'accuracy valid', 'f1 score']\n",
    "    \n",
    "    return results"
   ]
  },
  {
   "cell_type": "code",
   "execution_count": 21,
   "metadata": {},
   "outputs": [],
   "source": [
    "# Построение графика accuracy и f1_score \n",
    "def plot_results (data, low, high, title):\n",
    "    x = data['depth']\n",
    "    y = data['accuracy train']\n",
    "    z = data['accuracy valid']\n",
    "    k = data['f1 score']\n",
    "    plt.figure(figsize=(15,5))\n",
    "    plt.xlim(low,high)\n",
    "    plt.ylim(data['f1 score'].min(),1)\n",
    "    plt.xlabel('depth')\n",
    "    plt.ylabel('accuracy, f1_score')\n",
    "    plt.plot(x, y, color='gray', label = 'accuracy train', linestyle = '--', marker = 'o')\n",
    "    plt.plot(x, z, color ='red', label = 'accuracy valid', marker = '*')\n",
    "    plt.plot(x, k, color='blue', label = 'f1 score', marker = 'v')\n",
    "    plt.grid()\n",
    "    plt.legend()\n",
    "    plt.title(title)\n",
    "    plt.show()"
   ]
  },
  {
   "cell_type": "code",
   "execution_count": 22,
   "metadata": {},
   "outputs": [
    {
     "data": {
      "text/plain": [
       "CreditScore          float64\n",
       "Age                  float64\n",
       "Tenure               float64\n",
       "Balance              float64\n",
       "NumOfProducts        float64\n",
       "HasCrCard              int64\n",
       "IsActiveMember         int64\n",
       "EstimatedSalary      float64\n",
       "Geography_Germany      uint8\n",
       "Geography_Spain        uint8\n",
       "Gender_Male            uint8\n",
       "dtype: object"
      ]
     },
     "execution_count": 22,
     "metadata": {},
     "output_type": "execute_result"
    }
   ],
   "source": [
    "features_train.dtypes"
   ]
  },
  {
   "cell_type": "code",
   "execution_count": 23,
   "metadata": {},
   "outputs": [
    {
     "data": {
      "text/html": [
       "<div>\n",
       "<style scoped>\n",
       "    .dataframe tbody tr th:only-of-type {\n",
       "        vertical-align: middle;\n",
       "    }\n",
       "\n",
       "    .dataframe tbody tr th {\n",
       "        vertical-align: top;\n",
       "    }\n",
       "\n",
       "    .dataframe thead th {\n",
       "        text-align: right;\n",
       "    }\n",
       "</style>\n",
       "<table border=\"1\" class=\"dataframe\">\n",
       "  <thead>\n",
       "    <tr style=\"text-align: right;\">\n",
       "      <th></th>\n",
       "      <th>depth</th>\n",
       "      <th>accuracy train</th>\n",
       "      <th>accuracy valid</th>\n",
       "      <th>f1 score</th>\n",
       "    </tr>\n",
       "  </thead>\n",
       "  <tbody>\n",
       "    <tr>\n",
       "      <td>0</td>\n",
       "      <td>1</td>\n",
       "      <td>0.796333</td>\n",
       "      <td>0.7960</td>\n",
       "      <td>0.000000</td>\n",
       "    </tr>\n",
       "    <tr>\n",
       "      <td>1</td>\n",
       "      <td>2</td>\n",
       "      <td>0.809000</td>\n",
       "      <td>0.8160</td>\n",
       "      <td>0.189427</td>\n",
       "    </tr>\n",
       "    <tr>\n",
       "      <td>2</td>\n",
       "      <td>3</td>\n",
       "      <td>0.818167</td>\n",
       "      <td>0.8255</td>\n",
       "      <td>0.268344</td>\n",
       "    </tr>\n",
       "    <tr>\n",
       "      <td>3</td>\n",
       "      <td>4</td>\n",
       "      <td>0.849667</td>\n",
       "      <td>0.8570</td>\n",
       "      <td>0.515254</td>\n",
       "    </tr>\n",
       "    <tr>\n",
       "      <td>4</td>\n",
       "      <td>5</td>\n",
       "      <td>0.856000</td>\n",
       "      <td>0.8555</td>\n",
       "      <td>0.520730</td>\n",
       "    </tr>\n",
       "    <tr>\n",
       "      <td>5</td>\n",
       "      <td>6</td>\n",
       "      <td>0.860667</td>\n",
       "      <td>0.8610</td>\n",
       "      <td>0.550162</td>\n",
       "    </tr>\n",
       "    <tr>\n",
       "      <td>6</td>\n",
       "      <td>7</td>\n",
       "      <td>0.869167</td>\n",
       "      <td>0.8580</td>\n",
       "      <td>0.547771</td>\n",
       "    </tr>\n",
       "    <tr>\n",
       "      <td>7</td>\n",
       "      <td>8</td>\n",
       "      <td>0.879500</td>\n",
       "      <td>0.8635</td>\n",
       "      <td>0.575428</td>\n",
       "    </tr>\n",
       "    <tr>\n",
       "      <td>8</td>\n",
       "      <td>9</td>\n",
       "      <td>0.888000</td>\n",
       "      <td>0.8625</td>\n",
       "      <td>0.574961</td>\n",
       "    </tr>\n",
       "    <tr>\n",
       "      <td>9</td>\n",
       "      <td>10</td>\n",
       "      <td>0.901667</td>\n",
       "      <td>0.8630</td>\n",
       "      <td>0.578462</td>\n",
       "    </tr>\n",
       "    <tr>\n",
       "      <td>10</td>\n",
       "      <td>11</td>\n",
       "      <td>0.920167</td>\n",
       "      <td>0.8650</td>\n",
       "      <td>0.597015</td>\n",
       "    </tr>\n",
       "    <tr>\n",
       "      <td>11</td>\n",
       "      <td>12</td>\n",
       "      <td>0.933167</td>\n",
       "      <td>0.8600</td>\n",
       "      <td>0.587021</td>\n",
       "    </tr>\n",
       "    <tr>\n",
       "      <td>12</td>\n",
       "      <td>13</td>\n",
       "      <td>0.952333</td>\n",
       "      <td>0.8550</td>\n",
       "      <td>0.567164</td>\n",
       "    </tr>\n",
       "    <tr>\n",
       "      <td>13</td>\n",
       "      <td>14</td>\n",
       "      <td>0.966667</td>\n",
       "      <td>0.8525</td>\n",
       "      <td>0.569343</td>\n",
       "    </tr>\n",
       "    <tr>\n",
       "      <td>14</td>\n",
       "      <td>15</td>\n",
       "      <td>0.972167</td>\n",
       "      <td>0.8525</td>\n",
       "      <td>0.569343</td>\n",
       "    </tr>\n",
       "    <tr>\n",
       "      <td>15</td>\n",
       "      <td>16</td>\n",
       "      <td>0.980833</td>\n",
       "      <td>0.8590</td>\n",
       "      <td>0.584071</td>\n",
       "    </tr>\n",
       "    <tr>\n",
       "      <td>16</td>\n",
       "      <td>17</td>\n",
       "      <td>0.985667</td>\n",
       "      <td>0.8565</td>\n",
       "      <td>0.564492</td>\n",
       "    </tr>\n",
       "    <tr>\n",
       "      <td>17</td>\n",
       "      <td>18</td>\n",
       "      <td>0.985833</td>\n",
       "      <td>0.8535</td>\n",
       "      <td>0.563338</td>\n",
       "    </tr>\n",
       "    <tr>\n",
       "      <td>18</td>\n",
       "      <td>19</td>\n",
       "      <td>0.986667</td>\n",
       "      <td>0.8510</td>\n",
       "      <td>0.563050</td>\n",
       "    </tr>\n",
       "    <tr>\n",
       "      <td>19</td>\n",
       "      <td>20</td>\n",
       "      <td>0.987167</td>\n",
       "      <td>0.8540</td>\n",
       "      <td>0.562874</td>\n",
       "    </tr>\n",
       "  </tbody>\n",
       "</table>\n",
       "</div>"
      ],
      "text/plain": [
       "    depth  accuracy train  accuracy valid  f1 score\n",
       "0       1        0.796333          0.7960  0.000000\n",
       "1       2        0.809000          0.8160  0.189427\n",
       "2       3        0.818167          0.8255  0.268344\n",
       "3       4        0.849667          0.8570  0.515254\n",
       "4       5        0.856000          0.8555  0.520730\n",
       "5       6        0.860667          0.8610  0.550162\n",
       "6       7        0.869167          0.8580  0.547771\n",
       "7       8        0.879500          0.8635  0.575428\n",
       "8       9        0.888000          0.8625  0.574961\n",
       "9      10        0.901667          0.8630  0.578462\n",
       "10     11        0.920167          0.8650  0.597015\n",
       "11     12        0.933167          0.8600  0.587021\n",
       "12     13        0.952333          0.8550  0.567164\n",
       "13     14        0.966667          0.8525  0.569343\n",
       "14     15        0.972167          0.8525  0.569343\n",
       "15     16        0.980833          0.8590  0.584071\n",
       "16     17        0.985667          0.8565  0.564492\n",
       "17     18        0.985833          0.8535  0.563338\n",
       "18     19        0.986667          0.8510  0.563050\n",
       "19     20        0.987167          0.8540  0.562874"
      ]
     },
     "execution_count": 23,
     "metadata": {},
     "output_type": "execute_result"
    }
   ],
   "source": [
    "# Применяем функцию перебора гиперпараметра для RandomForest\n",
    "rf = hyperparam(RandomForestClassifier, 1, 21, 1)\n",
    "\n",
    "rf"
   ]
  },
  {
   "cell_type": "code",
   "execution_count": 24,
   "metadata": {},
   "outputs": [
    {
     "data": {
      "image/png": "[encoded data removed]",
      "text/plain": [
       "<Figure size 1080x360 with 1 Axes>"
      ]
     },
     "metadata": {
      "needs_background": "light"
     },
     "output_type": "display_data"
    }
   ],
   "source": [
    "plot_results(rf, 1,21, 'RandomForestClassifier (accuracy and f1_score)')"
   ]
  },
  {
   "cell_type": "code",
   "execution_count": 25,
   "metadata": {},
   "outputs": [],
   "source": [
    "best_rf = RandomForestClassifier(random_state = 12345, max_depth = 7)\n",
    "best_rf.fit(features_train, target_train)\n",
    "\n",
    "predictions_valid_rf = pd.Series(best_rf.predict(features_valid))"
   ]
  },
  {
   "cell_type": "code",
   "execution_count": 26,
   "metadata": {
    "scrolled": false
   },
   "outputs": [],
   "source": [
    "# Матрица RandomForestClassifier\n",
    "confusion_matrix_rf= confusion_matrix(target_valid,predictions_valid_rf)"
   ]
  },
  {
   "cell_type": "code",
   "execution_count": 27,
   "metadata": {},
   "outputs": [
    {
     "data": {
      "image/png": "[encoded data removed]",
      "text/plain": [
       "<Figure size 216x216 with 2 Axes>"
      ]
     },
     "metadata": {
      "needs_background": "light"
     },
     "output_type": "display_data"
    }
   ],
   "source": [
    "f, ax=plt.subplots(figsize=(3,3))\n",
    "sns.heatmap(confusion_matrix_rf,annot=True,linewidths=0.5,cmap ='coolwarm',fmt=\".0f\",ax=ax)\n",
    "plt.xlabel(\"predictions_valid\")\n",
    "plt.ylabel(\"target_valid\")\n",
    "plt.title('Confusion_matrix', size = 13)\n",
    "plt.show()"
   ]
  },
  {
   "cell_type": "code",
   "execution_count": 28,
   "metadata": {},
   "outputs": [
    {
     "data": {
      "text/plain": [
       "0.4215686274509804"
      ]
     },
     "execution_count": 28,
     "metadata": {},
     "output_type": "execute_result"
    }
   ],
   "source": [
    "# Метрика полноты RandomForestClassifier\n",
    "recall_rf= recall_score(target_valid,predictions_valid_rf)\n",
    "recall_rf"
   ]
  },
  {
   "cell_type": "code",
   "execution_count": 29,
   "metadata": {},
   "outputs": [
    {
     "data": {
      "text/plain": [
       "0.7818181818181819"
      ]
     },
     "execution_count": 29,
     "metadata": {},
     "output_type": "execute_result"
    }
   ],
   "source": [
    "# Метрика точности RandomForestClassifier\n",
    "precision_rf = precision_score(target_valid,predictions_valid_rf)\n",
    "precision_rf"
   ]
  },
  {
   "cell_type": "markdown",
   "metadata": {},
   "source": [
    "### Вывод:\n",
    "Сопоставление accuracy выборок test-valid по модели RandomForestClassifier отражает момент расхождения их векторов на уровне max_depth = 7 (accuracy valid- 85.80%), что свидетельствует о начале переобучения модели. Метрика f1_score на этом уровне- 0.53."
   ]
  },
  {
   "cell_type": "code",
   "execution_count": 30,
   "metadata": {},
   "outputs": [
    {
     "data": {
      "text/html": [
       "<div>\n",
       "<style scoped>\n",
       "    .dataframe tbody tr th:only-of-type {\n",
       "        vertical-align: middle;\n",
       "    }\n",
       "\n",
       "    .dataframe tbody tr th {\n",
       "        vertical-align: top;\n",
       "    }\n",
       "\n",
       "    .dataframe thead th {\n",
       "        text-align: right;\n",
       "    }\n",
       "</style>\n",
       "<table border=\"1\" class=\"dataframe\">\n",
       "  <thead>\n",
       "    <tr style=\"text-align: right;\">\n",
       "      <th></th>\n",
       "      <th>depth</th>\n",
       "      <th>accuracy train</th>\n",
       "      <th>accuracy valid</th>\n",
       "      <th>f1 score</th>\n",
       "    </tr>\n",
       "  </thead>\n",
       "  <tbody>\n",
       "    <tr>\n",
       "      <td>0</td>\n",
       "      <td>1</td>\n",
       "      <td>0.853833</td>\n",
       "      <td>0.8570</td>\n",
       "      <td>0.534202</td>\n",
       "    </tr>\n",
       "    <tr>\n",
       "      <td>1</td>\n",
       "      <td>2</td>\n",
       "      <td>0.865500</td>\n",
       "      <td>0.8685</td>\n",
       "      <td>0.597243</td>\n",
       "    </tr>\n",
       "    <tr>\n",
       "      <td>2</td>\n",
       "      <td>3</td>\n",
       "      <td>0.874667</td>\n",
       "      <td>0.8715</td>\n",
       "      <td>0.611195</td>\n",
       "    </tr>\n",
       "    <tr>\n",
       "      <td>3</td>\n",
       "      <td>4</td>\n",
       "      <td>0.885667</td>\n",
       "      <td>0.8695</td>\n",
       "      <td>0.612184</td>\n",
       "    </tr>\n",
       "    <tr>\n",
       "      <td>4</td>\n",
       "      <td>5</td>\n",
       "      <td>0.902833</td>\n",
       "      <td>0.8710</td>\n",
       "      <td>0.621701</td>\n",
       "    </tr>\n",
       "    <tr>\n",
       "      <td>5</td>\n",
       "      <td>6</td>\n",
       "      <td>0.929833</td>\n",
       "      <td>0.8680</td>\n",
       "      <td>0.619597</td>\n",
       "    </tr>\n",
       "    <tr>\n",
       "      <td>6</td>\n",
       "      <td>7</td>\n",
       "      <td>0.967167</td>\n",
       "      <td>0.8595</td>\n",
       "      <td>0.602546</td>\n",
       "    </tr>\n",
       "    <tr>\n",
       "      <td>7</td>\n",
       "      <td>8</td>\n",
       "      <td>0.993500</td>\n",
       "      <td>0.8580</td>\n",
       "      <td>0.603352</td>\n",
       "    </tr>\n",
       "    <tr>\n",
       "      <td>8</td>\n",
       "      <td>9</td>\n",
       "      <td>1.000000</td>\n",
       "      <td>0.8570</td>\n",
       "      <td>0.600559</td>\n",
       "    </tr>\n",
       "    <tr>\n",
       "      <td>9</td>\n",
       "      <td>10</td>\n",
       "      <td>1.000000</td>\n",
       "      <td>0.8555</td>\n",
       "      <td>0.586552</td>\n",
       "    </tr>\n",
       "  </tbody>\n",
       "</table>\n",
       "</div>"
      ],
      "text/plain": [
       "   depth  accuracy train  accuracy valid  f1 score\n",
       "0      1        0.853833          0.8570  0.534202\n",
       "1      2        0.865500          0.8685  0.597243\n",
       "2      3        0.874667          0.8715  0.611195\n",
       "3      4        0.885667          0.8695  0.612184\n",
       "4      5        0.902833          0.8710  0.621701\n",
       "5      6        0.929833          0.8680  0.619597\n",
       "6      7        0.967167          0.8595  0.602546\n",
       "7      8        0.993500          0.8580  0.603352\n",
       "8      9        1.000000          0.8570  0.600559\n",
       "9     10        1.000000          0.8555  0.586552"
      ]
     },
     "execution_count": 30,
     "metadata": {},
     "output_type": "execute_result"
    }
   ],
   "source": [
    "# Применяем функцию перебора гиперпараметра для GradientBoosting\n",
    "gb = hyperparam(GradientBoostingClassifier, 1, 11, 1)\n",
    "\n",
    "gb"
   ]
  },
  {
   "cell_type": "code",
   "execution_count": 31,
   "metadata": {
    "scrolled": false
   },
   "outputs": [
    {
     "data": {
      "image/png": "[encoded data removed]",
      "text/plain": [
       "<Figure size 1080x360 with 1 Axes>"
      ]
     },
     "metadata": {
      "needs_background": "light"
     },
     "output_type": "display_data"
    }
   ],
   "source": [
    "plot_results(gb, 1,11, 'GradientBoostingClassifier (accuracy and f1_score)')"
   ]
  },
  {
   "cell_type": "code",
   "execution_count": 32,
   "metadata": {},
   "outputs": [],
   "source": [
    "best_gb =  GradientBoostingClassifier(random_state = 12345, max_depth = 3)\n",
    "best_gb.fit(features_train, target_train)\n",
    "\n",
    "predictions_valid_gb = pd.Series(best_gb.predict(features_valid))"
   ]
  },
  {
   "cell_type": "code",
   "execution_count": 33,
   "metadata": {},
   "outputs": [],
   "source": [
    "confusion_matrix_gb= confusion_matrix(target_valid,predictions_valid_gb)"
   ]
  },
  {
   "cell_type": "code",
   "execution_count": 34,
   "metadata": {},
   "outputs": [
    {
     "data": {
      "image/png": "[encoded data removed]",
      "text/plain": [
       "<Figure size 216x216 with 2 Axes>"
      ]
     },
     "metadata": {
      "needs_background": "light"
     },
     "output_type": "display_data"
    }
   ],
   "source": [
    "f, ax=plt.subplots(figsize=(3,3))\n",
    "sns.heatmap(confusion_matrix_gb,annot=True,linewidths=0.5,cmap ='coolwarm',fmt=\".0f\",ax=ax)\n",
    "plt.xlabel(\"predictions_valid\")\n",
    "plt.ylabel(\"target_valid\")\n",
    "plt.title('Confusion_matrix', size = 13)\n",
    "plt.show()"
   ]
  },
  {
   "cell_type": "code",
   "execution_count": 35,
   "metadata": {},
   "outputs": [
    {
     "data": {
      "text/plain": [
       "0.4950980392156863"
      ]
     },
     "execution_count": 35,
     "metadata": {},
     "output_type": "execute_result"
    }
   ],
   "source": [
    "recall_gb= recall_score(target_valid,predictions_valid_gb)\n",
    "recall_gb"
   ]
  },
  {
   "cell_type": "code",
   "execution_count": 36,
   "metadata": {},
   "outputs": [
    {
     "data": {
      "text/plain": [
       "0.7984189723320159"
      ]
     },
     "execution_count": 36,
     "metadata": {},
     "output_type": "execute_result"
    }
   ],
   "source": [
    "precision_gb = precision_score(target_valid,predictions_valid_gb)\n",
    "precision_gb"
   ]
  },
  {
   "cell_type": "markdown",
   "metadata": {},
   "source": [
    "### Вывод:\n",
    "Сопоставление accuracy выборок test-valid  по модели GradientBoostingClassifier отражает момент расхождения их векторов на уровне max_depth = 3 (accuracy valid- 86.30%), что свидетельствует о начале переобучения модели. Метрика f1_score на этом уровне- 0.58."
   ]
  },
  {
   "cell_type": "code",
   "execution_count": 37,
   "metadata": {},
   "outputs": [
    {
     "data": {
      "text/html": [
       "<div>\n",
       "<style scoped>\n",
       "    .dataframe tbody tr th:only-of-type {\n",
       "        vertical-align: middle;\n",
       "    }\n",
       "\n",
       "    .dataframe tbody tr th {\n",
       "        vertical-align: top;\n",
       "    }\n",
       "\n",
       "    .dataframe thead th {\n",
       "        text-align: right;\n",
       "    }\n",
       "</style>\n",
       "<table border=\"1\" class=\"dataframe\">\n",
       "  <thead>\n",
       "    <tr style=\"text-align: right;\">\n",
       "      <th></th>\n",
       "      <th>depth</th>\n",
       "      <th>accuracy train</th>\n",
       "      <th>accuracy valid</th>\n",
       "      <th>f1 score</th>\n",
       "    </tr>\n",
       "  </thead>\n",
       "  <tbody>\n",
       "    <tr>\n",
       "      <td>0</td>\n",
       "      <td>1</td>\n",
       "      <td>0.796333</td>\n",
       "      <td>0.7960</td>\n",
       "      <td>0.000000</td>\n",
       "    </tr>\n",
       "    <tr>\n",
       "      <td>1</td>\n",
       "      <td>2</td>\n",
       "      <td>0.826000</td>\n",
       "      <td>0.8330</td>\n",
       "      <td>0.534819</td>\n",
       "    </tr>\n",
       "    <tr>\n",
       "      <td>2</td>\n",
       "      <td>3</td>\n",
       "      <td>0.842500</td>\n",
       "      <td>0.8395</td>\n",
       "      <td>0.415301</td>\n",
       "    </tr>\n",
       "    <tr>\n",
       "      <td>3</td>\n",
       "      <td>4</td>\n",
       "      <td>0.850667</td>\n",
       "      <td>0.8535</td>\n",
       "      <td>0.547141</td>\n",
       "    </tr>\n",
       "    <tr>\n",
       "      <td>4</td>\n",
       "      <td>5</td>\n",
       "      <td>0.857500</td>\n",
       "      <td>0.8560</td>\n",
       "      <td>0.554180</td>\n",
       "    </tr>\n",
       "    <tr>\n",
       "      <td>5</td>\n",
       "      <td>6</td>\n",
       "      <td>0.865333</td>\n",
       "      <td>0.8620</td>\n",
       "      <td>0.586826</td>\n",
       "    </tr>\n",
       "    <tr>\n",
       "      <td>6</td>\n",
       "      <td>7</td>\n",
       "      <td>0.871333</td>\n",
       "      <td>0.8595</td>\n",
       "      <td>0.584934</td>\n",
       "    </tr>\n",
       "    <tr>\n",
       "      <td>7</td>\n",
       "      <td>8</td>\n",
       "      <td>0.882833</td>\n",
       "      <td>0.8610</td>\n",
       "      <td>0.605114</td>\n",
       "    </tr>\n",
       "    <tr>\n",
       "      <td>8</td>\n",
       "      <td>9</td>\n",
       "      <td>0.895000</td>\n",
       "      <td>0.8520</td>\n",
       "      <td>0.591160</td>\n",
       "    </tr>\n",
       "    <tr>\n",
       "      <td>9</td>\n",
       "      <td>10</td>\n",
       "      <td>0.909500</td>\n",
       "      <td>0.8435</td>\n",
       "      <td>0.571819</td>\n",
       "    </tr>\n",
       "    <tr>\n",
       "      <td>10</td>\n",
       "      <td>11</td>\n",
       "      <td>0.923667</td>\n",
       "      <td>0.8335</td>\n",
       "      <td>0.569211</td>\n",
       "    </tr>\n",
       "    <tr>\n",
       "      <td>11</td>\n",
       "      <td>12</td>\n",
       "      <td>0.936500</td>\n",
       "      <td>0.8265</td>\n",
       "      <td>0.560203</td>\n",
       "    </tr>\n",
       "    <tr>\n",
       "      <td>12</td>\n",
       "      <td>13</td>\n",
       "      <td>0.952500</td>\n",
       "      <td>0.8110</td>\n",
       "      <td>0.536765</td>\n",
       "    </tr>\n",
       "    <tr>\n",
       "      <td>13</td>\n",
       "      <td>14</td>\n",
       "      <td>0.965333</td>\n",
       "      <td>0.8020</td>\n",
       "      <td>0.526316</td>\n",
       "    </tr>\n",
       "    <tr>\n",
       "      <td>14</td>\n",
       "      <td>15</td>\n",
       "      <td>0.975333</td>\n",
       "      <td>0.8015</td>\n",
       "      <td>0.525687</td>\n",
       "    </tr>\n",
       "    <tr>\n",
       "      <td>15</td>\n",
       "      <td>16</td>\n",
       "      <td>0.984500</td>\n",
       "      <td>0.7930</td>\n",
       "      <td>0.514085</td>\n",
       "    </tr>\n",
       "    <tr>\n",
       "      <td>16</td>\n",
       "      <td>17</td>\n",
       "      <td>0.990167</td>\n",
       "      <td>0.7935</td>\n",
       "      <td>0.529076</td>\n",
       "    </tr>\n",
       "  </tbody>\n",
       "</table>\n",
       "</div>"
      ],
      "text/plain": [
       "    depth  accuracy train  accuracy valid  f1 score\n",
       "0       1        0.796333          0.7960  0.000000\n",
       "1       2        0.826000          0.8330  0.534819\n",
       "2       3        0.842500          0.8395  0.415301\n",
       "3       4        0.850667          0.8535  0.547141\n",
       "4       5        0.857500          0.8560  0.554180\n",
       "5       6        0.865333          0.8620  0.586826\n",
       "6       7        0.871333          0.8595  0.584934\n",
       "7       8        0.882833          0.8610  0.605114\n",
       "8       9        0.895000          0.8520  0.591160\n",
       "9      10        0.909500          0.8435  0.571819\n",
       "10     11        0.923667          0.8335  0.569211\n",
       "11     12        0.936500          0.8265  0.560203\n",
       "12     13        0.952500          0.8110  0.536765\n",
       "13     14        0.965333          0.8020  0.526316\n",
       "14     15        0.975333          0.8015  0.525687\n",
       "15     16        0.984500          0.7930  0.514085\n",
       "16     17        0.990167          0.7935  0.529076"
      ]
     },
     "execution_count": 37,
     "metadata": {},
     "output_type": "execute_result"
    }
   ],
   "source": [
    "# Применяем функцию перебора гиперпараметра для DecisionTree\n",
    "dt = hyperparam(DecisionTreeClassifier, 1, 18, 1)\n",
    "\n",
    "dt"
   ]
  },
  {
   "cell_type": "code",
   "execution_count": 38,
   "metadata": {
    "scrolled": true
   },
   "outputs": [
    {
     "data": {
      "image/png": "[encoded data removed]",
      "text/plain": [
       "<Figure size 1080x360 with 1 Axes>"
      ]
     },
     "metadata": {
      "needs_background": "light"
     },
     "output_type": "display_data"
    }
   ],
   "source": [
    "plot_results(dt, 1,18, 'DecisionTreeClassifier (accuracy and f1_score)')"
   ]
  },
  {
   "cell_type": "code",
   "execution_count": 39,
   "metadata": {},
   "outputs": [],
   "source": [
    "best_dt =  DecisionTreeClassifier(random_state = 12345, max_depth = 6)\n",
    "best_dt.fit(features_train, target_train)\n",
    "\n",
    "predictions_valid_dt = pd.Series(best_dt.predict(features_valid))"
   ]
  },
  {
   "cell_type": "code",
   "execution_count": 40,
   "metadata": {
    "scrolled": true
   },
   "outputs": [],
   "source": [
    "confusion_matrix_dt= confusion_matrix(target_valid,predictions_valid_dt)"
   ]
  },
  {
   "cell_type": "code",
   "execution_count": 41,
   "metadata": {},
   "outputs": [
    {
     "data": {
      "image/png": "[encoded data removed]",
      "text/plain": [
       "<Figure size 216x216 with 2 Axes>"
      ]
     },
     "metadata": {
      "needs_background": "light"
     },
     "output_type": "display_data"
    }
   ],
   "source": [
    "f, ax=plt.subplots(figsize=(3,3))\n",
    "sns.heatmap(confusion_matrix_dt,annot=True,linewidths=0.5,cmap ='coolwarm',fmt=\".0f\",ax=ax)\n",
    "plt.xlabel(\"predictions_valid\")\n",
    "plt.ylabel(\"target_valid\")\n",
    "plt.title('Confusion_matrix', size = 13)\n",
    "plt.show()"
   ]
  },
  {
   "cell_type": "code",
   "execution_count": 42,
   "metadata": {
    "scrolled": true
   },
   "outputs": [
    {
     "data": {
      "text/plain": [
       "0.4803921568627451"
      ]
     },
     "execution_count": 42,
     "metadata": {},
     "output_type": "execute_result"
    }
   ],
   "source": [
    "recall_dt= recall_score(target_valid,predictions_valid_dt)\n",
    "recall_dt"
   ]
  },
  {
   "cell_type": "code",
   "execution_count": 43,
   "metadata": {},
   "outputs": [
    {
     "data": {
      "text/plain": [
       "0.7538461538461538"
      ]
     },
     "execution_count": 43,
     "metadata": {},
     "output_type": "execute_result"
    }
   ],
   "source": [
    "precision_dt = precision_score(target_valid,predictions_valid_dt)\n",
    "precision_dt"
   ]
  },
  {
   "cell_type": "markdown",
   "metadata": {},
   "source": [
    "### Вывод:\n",
    "Сопоставление accuracy выборок test-valid по модели DecisionTreeClassifier отражает момент расхождения их векторов на уровне max_depth = 6 (accuracy valid- 85.40%), что свидетельствует о начале переобучения модели. Метрика f1_score на этом уровне- 0.52."
   ]
  },
  {
   "cell_type": "markdown",
   "metadata": {},
   "source": [
    "Проверим рассматриваемые модели на адекватность с помощью DummyClassifier- модели корректны."
   ]
  },
  {
   "cell_type": "code",
   "execution_count": 44,
   "metadata": {},
   "outputs": [
    {
     "data": {
      "text/plain": [
       "0    0.7963\n",
       "1    0.2037\n",
       "Name: Exited, dtype: float64"
      ]
     },
     "execution_count": 44,
     "metadata": {},
     "output_type": "execute_result"
    }
   ],
   "source": [
    "#Метод value_counts с аргументом normalize=True показывает, что выборка несбалансирована\n",
    "data_ohe['Exited'].value_counts(normalize=True)"
   ]
  },
  {
   "cell_type": "code",
   "execution_count": 45,
   "metadata": {},
   "outputs": [
    {
     "data": {
      "text/plain": [
       "0.7963333333333333"
      ]
     },
     "execution_count": 45,
     "metadata": {},
     "output_type": "execute_result"
    }
   ],
   "source": [
    "x=data_ohe['Exited'].value_counts(normalize=True)\n",
    "\n",
    "dummy_model = DummyClassifier(strategy=\"most_frequent\")\n",
    "dummy_model.fit(features_train, target_train)\n",
    "DummyClassifier(strategy='most_frequent')\n",
    "dummy_model.predict(features_test)\n",
    "x\n",
    "dummy_model.score(features_train, target_train)"
   ]
  },
  {
   "cell_type": "markdown",
   "metadata": {},
   "source": [
    "### Вывод:\n",
    "Сравнение результатов по моделям с DummyClassifier при условии, что выборка несбалансирована (класс 0-1: 0.80-0.20), подтвердило их адекватность. Все рассматриваемые модели по показателю accuracy (train/ valid) превышают 0.80. На данном этапе наилучшие метрики принадлежат модели GradientBoostingClassifier."
   ]
  },
  {
   "cell_type": "markdown",
   "metadata": {},
   "source": [
    "# 3. Борьба с дисбалансом"
   ]
  },
  {
   "cell_type": "markdown",
   "metadata": {},
   "source": [
    "Улучшение качества модели, учитывая дисбаланс классов. Обучение разных моделей и поиск лучшей."
   ]
  },
  {
   "cell_type": "markdown",
   "metadata": {},
   "source": [
    "Придадим объектам редкого класса исследуемых моделей больший вес с помощью гиперпараметра class_weight='balanced'. \n",
    "<br>Исключением является GradientBoostingClassifier- учитывая характеристики модели нет необходимости вводить параметр 'class_weight'. "
   ]
  },
  {
   "cell_type": "code",
   "execution_count": 46,
   "metadata": {},
   "outputs": [
    {
     "name": "stdout",
     "output_type": "stream",
     "text": [
      "f1_score: 0.5868263473053892\n"
     ]
    }
   ],
   "source": [
    "# Обучение модели при сбаланстрованном весе классов RandomForestClassifier\n",
    "best_rf = RandomForestClassifier(random_state = 12345, n_estimators = 30, max_depth = 7,class_weight='balanced')\n",
    "best_rf.fit(features_train, target_train)\n",
    "\n",
    "predictions_valid_rf = pd.Series(best_dt.predict(features_valid))\n",
    "print(\"f1_score:\", f1_score(target_valid, predictions_valid_rf))"
   ]
  },
  {
   "cell_type": "code",
   "execution_count": 47,
   "metadata": {},
   "outputs": [
    {
     "name": "stdout",
     "output_type": "stream",
     "text": [
      "f1_score: 0.5805243445692884\n"
     ]
    }
   ],
   "source": [
    "# Обучение модели DecisionTreeClassifier\n",
    "best_dt = DecisionTreeClassifier(random_state = 12345, max_depth = 6, class_weight='balanced')\n",
    "best_dt.fit(features_train, target_train)\n",
    "\n",
    "predictions_valid_dt = pd.Series(best_dt.predict(features_valid))\n",
    "print(\"f1_score:\", f1_score(target_valid, predictions_valid_dt))"
   ]
  },
  {
   "cell_type": "markdown",
   "metadata": {},
   "source": [
    "### Вывод:\n",
    "В модели RandomForestClassifier с гиперпараметрами {n_estimators = 30, max_depth = 7} метрика f1_score достигла значение в 0.52, в DecisionTreeClassifier- 0.56 при {max_depth = 6}."
   ]
  },
  {
   "cell_type": "markdown",
   "metadata": {},
   "source": [
    "Увеличиваем выборку техникой 'upsampling', чтобы объекты редкого класса не были такими редкими в данных.\n",
    "<br>И уменьшаем техникой 'downsampling', чтобы объекты частого класса не были такими частыми."
   ]
  },
  {
   "cell_type": "code",
   "execution_count": 48,
   "metadata": {},
   "outputs": [],
   "source": [
    "# Функция для увеличение выборки\n",
    "def upsample(features, target, repeat):\n",
    "    features_zeros = features[target == 0]\n",
    "    features_ones = features[target == 1]\n",
    "    target_zeros = target[target == 0]\n",
    "    target_ones = target[target == 1]\n",
    "\n",
    "    features_upsampled = pd.concat([features_zeros] + [features_ones] * repeat)\n",
    "    target_upsampled = pd.concat([target_zeros] + [target_ones] * repeat)\n",
    "    \n",
    "    features_upsampled, target_upsampled = shuffle(\n",
    "        features_upsampled, target_upsampled, random_state=12345)\n",
    "    \n",
    "    return features_upsampled, target_upsampled\n",
    "\n",
    "# Применение функции увеличения выборки\n",
    "features_upsampled, target_upsampled = upsample(features_train, target_train, 10)"
   ]
  },
  {
   "cell_type": "code",
   "execution_count": 49,
   "metadata": {},
   "outputs": [
    {
     "name": "stdout",
     "output_type": "stream",
     "text": [
      "f1_score: 0.6085192697768762\n"
     ]
    }
   ],
   "source": [
    "# Обучение модели с увеличенной выборкой RandomForestClassifier\n",
    "upsampled_rf = RandomForestClassifier(random_state = 12345, n_estimators = 30, max_depth = 7, class_weight='balanced')\n",
    "upsampled_rf.fit(features_upsampled, target_upsampled)\n",
    "predicted_valid_upsampled_rf = upsampled_rf.predict(features_valid)\n",
    "\n",
    "print(\"f1_score:\", f1_score(target_valid, predicted_valid_upsampled_rf))"
   ]
  },
  {
   "cell_type": "code",
   "execution_count": 50,
   "metadata": {},
   "outputs": [
    {
     "name": "stdout",
     "output_type": "stream",
     "text": [
      "f1_score: 0.5805243445692884\n"
     ]
    }
   ],
   "source": [
    "# Обучение модели с увеличенной выборкой DecisionTreeClassifier\n",
    "upsampled_dt = DecisionTreeClassifier(random_state = 12345, max_depth = 6, class_weight='balanced')\n",
    "upsampled_dt.fit(features_upsampled, target_upsampled)\n",
    "predicted_valid_upsampled_dt = upsampled_dt.predict(features_valid)\n",
    "\n",
    "print(\"f1_score:\", f1_score(target_valid, predicted_valid_upsampled_dt))"
   ]
  },
  {
   "cell_type": "code",
   "execution_count": 51,
   "metadata": {},
   "outputs": [],
   "source": [
    "# Функция для уменьшения выборки\n",
    "def downsample(features, target, fraction):\n",
    "    features_zeros = features[target == 0]\n",
    "    features_ones = features[target == 1]\n",
    "    target_zeros = target[target == 0]\n",
    "    target_ones = target[target == 1]\n",
    "\n",
    "    features_downsampled = pd.concat(\n",
    "        [features_zeros.sample(frac=fraction, random_state=12345)] + [features_ones]) \n",
    "    target_downsampled = pd.concat(\n",
    "        [target_zeros.sample(frac=fraction, random_state=12345)] + [target_ones])\n",
    "    \n",
    "    features_downsampled, target_downsampled = shuffle(features_downsampled, target_downsampled, random_state=12345)\n",
    "\n",
    "    return features_downsampled, target_downsampled\n",
    "\n",
    "# Применение функции уменьшения выборки\n",
    "features_downsampled, target_downsampled = downsample(features_train, target_train, 0.1)"
   ]
  },
  {
   "cell_type": "code",
   "execution_count": 52,
   "metadata": {},
   "outputs": [
    {
     "name": "stdout",
     "output_type": "stream",
     "text": [
      "f1_score: 0.5418326693227091\n"
     ]
    }
   ],
   "source": [
    "# Обучение модели с уменьшенной выборкой RandomForestClassifier\n",
    "downsampled_rf = RandomForestClassifier(random_state = 12345, n_estimators = 30, max_depth = 7, class_weight='balanced')\n",
    "downsampled_rf.fit(features_downsampled, target_downsampled)\n",
    "predicted_valid_downsampled_rf = downsampled_rf.predict(features_valid)\n",
    "\n",
    "print(\"f1_score:\", f1_score(target_valid, predicted_valid_downsampled_rf))"
   ]
  },
  {
   "cell_type": "code",
   "execution_count": 53,
   "metadata": {},
   "outputs": [
    {
     "name": "stdout",
     "output_type": "stream",
     "text": [
      "f1_score: 0.5496974935177181\n"
     ]
    }
   ],
   "source": [
    "# Обучение модели с уменьшенной выборкой DecisionTreeClassifier\n",
    "downsampled_dt = DecisionTreeClassifier(random_state = 12345, max_depth = 6, class_weight='balanced')\n",
    "downsampled_dt.fit(features_downsampled, target_downsampled)\n",
    "predicted_valid_downsampled_dt = downsampled_dt.predict(features_valid)\n",
    "\n",
    "print(\"f1_score:\", f1_score(target_valid, predicted_valid_downsampled_dt))"
   ]
  },
  {
   "cell_type": "markdown",
   "metadata": {},
   "source": [
    "### Вывод:\n",
    "В результате борьбы с дисбалансом f1_score имеет следующие метрики по техникам:\n",
    "<br>'upsampled'~\n",
    "<br>RandomForestClassifier- 0.58, DecisionTreeClassifier- 0.56\n",
    "<br>'downsampled'~\n",
    "<br>RandomForestClassifier- 0.54, DecisionTreeClassifier- 0.51"
   ]
  },
  {
   "cell_type": "markdown",
   "metadata": {},
   "source": [
    "# 4. Тестирование модели"
   ]
  },
  {
   "cell_type": "markdown",
   "metadata": {},
   "source": [
    "Проведем финальное тестирование лучшей модели RandomForestClassifier."
   ]
  },
  {
   "cell_type": "code",
   "execution_count": 54,
   "metadata": {},
   "outputs": [
    {
     "data": {
      "text/plain": [
       "RandomForestClassifier(bootstrap=True, class_weight='balanced',\n",
       "                       criterion='gini', max_depth=7, max_features='auto',\n",
       "                       max_leaf_nodes=None, min_impurity_decrease=0.0,\n",
       "                       min_impurity_split=None, min_samples_leaf=1,\n",
       "                       min_samples_split=2, min_weight_fraction_leaf=0.0,\n",
       "                       n_estimators=30, n_jobs=None, oob_score=False,\n",
       "                       random_state=12345, verbose=0, warm_start=False)"
      ]
     },
     "execution_count": 54,
     "metadata": {},
     "output_type": "execute_result"
    }
   ],
   "source": [
    "# Тестирование модели RandomForestClassifier\n",
    "best_rf = RandomForestClassifier(random_state = 12345, n_estimators = 30, max_depth = 7,class_weight='balanced')\n",
    "best_rf.fit(features_train, target_train)"
   ]
  },
  {
   "cell_type": "code",
   "execution_count": 55,
   "metadata": {},
   "outputs": [
    {
     "name": "stdout",
     "output_type": "stream",
     "text": [
      "0.6333333333333333\n"
     ]
    }
   ],
   "source": [
    "predictions_test = pd.Series(best_rf.predict(features_test))\n",
    "print(f1_score(target_test, predictions_test))"
   ]
  },
  {
   "cell_type": "code",
   "execution_count": 56,
   "metadata": {},
   "outputs": [
    {
     "name": "stdout",
     "output_type": "stream",
     "text": [
      "0    0.7235\n",
      "1    0.2765\n",
      "dtype: float64\n"
     ]
    }
   ],
   "source": [
    "# Частота классов модели\n",
    "class_best_rf = predictions_test.value_counts(normalize = True) \n",
    "print(class_best_rf)"
   ]
  },
  {
   "cell_type": "markdown",
   "metadata": {},
   "source": [
    "### Вывод:\n",
    "На тестовой выборке f1_score равен 0.62, требование задания \"не менее 0.59\" соблюдено."
   ]
  },
  {
   "cell_type": "markdown",
   "metadata": {},
   "source": [
    "Изменение значения порога проверяется расчетом функции predict_proba()- предсказание вероятности по каждому объекту: строки- объекты, первый столбец- вероятность отрицательного класса, а второй — положительная.\n",
    "<br>Наглядно данная метрика продемонстрирована на графиках 'PR-кривая' и 'ROC-кривая'."
   ]
  },
  {
   "cell_type": "code",
   "execution_count": 57,
   "metadata": {},
   "outputs": [
    {
     "name": "stdout",
     "output_type": "stream",
     "text": [
      "[[0.82937864 0.17062136]\n",
      " [0.71498971 0.28501029]\n",
      " [0.85418064 0.14581936]\n",
      " [0.77393294 0.22606706]\n",
      " [0.71546163 0.28453837]]\n"
     ]
    }
   ],
   "source": [
    "#Расчет вероятности классов\n",
    "probabilities_test = best_rf.predict_proba(features_test)\n",
    "print(probabilities_test [:5])"
   ]
  },
  {
   "cell_type": "code",
   "execution_count": 58,
   "metadata": {},
   "outputs": [
    {
     "data": {
      "image/png": "[encoded data removed]",
      "text/plain": [
       "<Figure size 432x432 with 1 Axes>"
      ]
     },
     "metadata": {
      "needs_background": "light"
     },
     "output_type": "display_data"
    }
   ],
   "source": [
    "#Кривая PR\n",
    "pr_test = best_rf.predict_proba(features_test)\n",
    "precision, recall, thresholds = precision_recall_curve(target_test, pr_test[:, 1])\n",
    "\n",
    "plt.figure(figsize=(6, 6))\n",
    "plt.step(recall, precision, where='post')\n",
    "plt.xlabel('recall')\n",
    "plt.ylabel('precision')\n",
    "plt.ylim([0.0, 1.05])\n",
    "plt.xlim([0.0, 1.0])\n",
    "plt.title('PR-кривая')\n",
    "plt.show()"
   ]
  },
  {
   "cell_type": "code",
   "execution_count": 59,
   "metadata": {},
   "outputs": [
    {
     "data": {
      "image/png": "[encoded data removed]",
      "text/plain": [
       "<Figure size 432x288 with 1 Axes>"
      ]
     },
     "metadata": {
      "needs_background": "light"
     },
     "output_type": "display_data"
    },
    {
     "name": "stdout",
     "output_type": "stream",
     "text": [
      "0.8646072883361018\n"
     ]
    }
   ],
   "source": [
    "# Кривая ROC_AUC\n",
    "roc_auc_test = best_rf.predict_proba(features_test)\n",
    "roc_auc_one_test = roc_auc_test[:, 1]\n",
    "fpr, tpr, thresholds = roc_curve(target_test, roc_auc_one_test)\n",
    "\n",
    "plt.figure()\n",
    "plt.plot(fpr, tpr)\n",
    "plt.plot([0, 1], [0, 1], linestyle='--')\n",
    "plt.xlabel('FalsePositiveRate')\n",
    "plt.ylabel('TruePositiveRate')\n",
    "plt.ylim([0.0, 1.0])\n",
    "plt.xlim([0.0, 1.0])\n",
    "plt.title('ROC-кривая')\n",
    "plt.show()\n",
    "\n",
    "auc_roc = roc_auc_score(target_test, roc_auc_one_test)\n",
    "\n",
    "print(auc_roc)"
   ]
  },
  {
   "cell_type": "markdown",
   "metadata": {},
   "source": [
    "### Вывод:\n",
    "RandomForestClassifier выбрана в качестве лучшей модели обоснованно: метрика precision_recall_curve- имеет положительную динамику (чем выше PR-кривая, тем лучше модель); roc_auc_score- площадь под кривой 0.87- чем график выше, тем больше значение TPR и лучше качество модели (больше 0.5- roc_auc_score случайной модели); присутствует несбалансированность классов- расчитана с помощью функции predict_proba()."
   ]
  },
  {
   "cell_type": "code",
   "execution_count": 60,
   "metadata": {},
   "outputs": [
    {
     "name": "stdout",
     "output_type": "stream",
     "text": [
      "              precision    recall  f1-score   support\n",
      "\n",
      "           0       0.93      0.84      0.88      1593\n",
      "           1       0.55      0.75      0.63       407\n",
      "\n",
      "    accuracy                           0.82      2000\n",
      "   macro avg       0.74      0.80      0.76      2000\n",
      "weighted avg       0.85      0.82      0.83      2000\n",
      "\n"
     ]
    }
   ],
   "source": [
    "print(classification_report(target_test, predictions_test))"
   ]
  }
 ],
 "metadata": {
  "kernelspec": {
   "display_name": "Python 3",
   "language": "python",
   "name": "python3"
  },
  "language_info": {
   "codemirror_mode": {
    "name": "ipython",
    "version": 3
   },
   "file_extension": ".py",
   "mimetype": "text/x-python",
   "name": "python",
   "nbconvert_exporter": "python",
   "pygments_lexer": "ipython3",
   "version": "3.7.8"
  },
  "toc": {
   "base_numbering": 1,
   "nav_menu": {},
   "number_sections": true,
   "sideBar": true,
   "skip_h1_title": true,
   "title_cell": "Table of Contents",
   "title_sidebar": "Contents",
   "toc_cell": false,
   "toc_position": {},
   "toc_section_display": true,
   "toc_window_display": false
  }
 },
 "nbformat": 4,
 "nbformat_minor": 2
}
