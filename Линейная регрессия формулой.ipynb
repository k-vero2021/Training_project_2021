{
 "cells": [
  {
   "cell_type": "markdown",
   "metadata": {
    "toc": true
   },
   "source": [
    "<h1>Содержание<span class=\"tocSkip\"></span></h1>\n",
    "<div class=\"toc\"><ul class=\"toc-item\"><li><span><a href=\"#Загрузка-данных\" data-toc-modified-id=\"Загрузка-данных-1\"><span class=\"toc-item-num\">1&nbsp;&nbsp;</span>Загрузка данных</a></span></li><li><span><a href=\"#Умножение-матриц\" data-toc-modified-id=\"Умножение-матриц-2\"><span class=\"toc-item-num\">2&nbsp;&nbsp;</span>Умножение матриц</a></span></li><li><span><a href=\"#Алгоритм-преобразования\" data-toc-modified-id=\"Алгоритм-преобразования-3\"><span class=\"toc-item-num\">3&nbsp;&nbsp;</span>Алгоритм преобразования</a></span></li><li><span><a href=\"#Проверка-алгоритма\" data-toc-modified-id=\"Проверка-алгоритма-4\"><span class=\"toc-item-num\">4&nbsp;&nbsp;</span>Проверка алгоритма</a></span></li><li><span><a href=\"#Вывод:\" data-toc-modified-id=\"Вывод:-5\"><span class=\"toc-item-num\">5&nbsp;&nbsp;</span>Вывод:</a></span></li><li><span><a href=\"#Чек-лист-проверки\" data-toc-modified-id=\"Чек-лист-проверки-6\"><span class=\"toc-item-num\">6&nbsp;&nbsp;</span>Чек-лист проверки</a></span></li></ul></div>"
   ]
  },
  {
   "cell_type": "markdown",
   "metadata": {},
   "source": [
    "# Защита персональных данных клиентов"
   ]
  },
  {
   "cell_type": "markdown",
   "metadata": {},
   "source": [
    "Нужно защитить данные клиентов страховой компании. Разработать ***метод преобразования данных, чтобы по ним было сложно восстановить персональную информацию.*** Обосновать корректность его работы.\n",
    "\n",
    "Нужно защитить данные, чтобы при преобразовании качество моделей машинного обучения не ухудшилось. Подбор наилучшей модели не производится.\n",
    "\n",
    "Описание данных\n",
    "<br>Признаки: пол, возраст и зарплата застрахованного, количество членов его семьи.\n",
    "<br>***Целевой признак: количество страховых выплат клиенту за последние 5 лет.***"
   ]
  },
  {
   "cell_type": "markdown",
   "metadata": {},
   "source": [
    "## Загрузка данных"
   ]
  },
  {
   "cell_type": "code",
   "execution_count": 1,
   "metadata": {},
   "outputs": [],
   "source": [
    "# Загрузка библиотек\n",
    "import numpy as np\n",
    "import pandas as pd \n",
    "from sklearn.linear_model import LinearRegression\n",
    "from sklearn.metrics import r2_score\n",
    "\n",
    "import warnings\n",
    "warnings.filterwarnings(\"ignore\")"
   ]
  },
  {
   "cell_type": "code",
   "execution_count": 2,
   "metadata": {},
   "outputs": [
    {
     "data": {
      "text/html": [
       "<div>\n",
       "<style scoped>\n",
       "    .dataframe tbody tr th:only-of-type {\n",
       "        vertical-align: middle;\n",
       "    }\n",
       "\n",
       "    .dataframe tbody tr th {\n",
       "        vertical-align: top;\n",
       "    }\n",
       "\n",
       "    .dataframe thead th {\n",
       "        text-align: right;\n",
       "    }\n",
       "</style>\n",
       "<table border=\"1\" class=\"dataframe\">\n",
       "  <thead>\n",
       "    <tr style=\"text-align: right;\">\n",
       "      <th></th>\n",
       "      <th>Пол</th>\n",
       "      <th>Возраст</th>\n",
       "      <th>Зарплата</th>\n",
       "      <th>Члены семьи</th>\n",
       "      <th>Страховые выплаты</th>\n",
       "    </tr>\n",
       "  </thead>\n",
       "  <tbody>\n",
       "    <tr>\n",
       "      <td>0</td>\n",
       "      <td>1</td>\n",
       "      <td>41.0</td>\n",
       "      <td>49600.0</td>\n",
       "      <td>1</td>\n",
       "      <td>0</td>\n",
       "    </tr>\n",
       "    <tr>\n",
       "      <td>1</td>\n",
       "      <td>0</td>\n",
       "      <td>46.0</td>\n",
       "      <td>38000.0</td>\n",
       "      <td>1</td>\n",
       "      <td>1</td>\n",
       "    </tr>\n",
       "    <tr>\n",
       "      <td>2</td>\n",
       "      <td>0</td>\n",
       "      <td>29.0</td>\n",
       "      <td>21000.0</td>\n",
       "      <td>0</td>\n",
       "      <td>0</td>\n",
       "    </tr>\n",
       "    <tr>\n",
       "      <td>3</td>\n",
       "      <td>0</td>\n",
       "      <td>21.0</td>\n",
       "      <td>41700.0</td>\n",
       "      <td>2</td>\n",
       "      <td>0</td>\n",
       "    </tr>\n",
       "    <tr>\n",
       "      <td>4</td>\n",
       "      <td>1</td>\n",
       "      <td>28.0</td>\n",
       "      <td>26100.0</td>\n",
       "      <td>0</td>\n",
       "      <td>0</td>\n",
       "    </tr>\n",
       "  </tbody>\n",
       "</table>\n",
       "</div>"
      ],
      "text/plain": [
       "   Пол  Возраст  Зарплата  Члены семьи  Страховые выплаты\n",
       "0    1     41.0   49600.0            1                  0\n",
       "1    0     46.0   38000.0            1                  1\n",
       "2    0     29.0   21000.0            0                  0\n",
       "3    0     21.0   41700.0            2                  0\n",
       "4    1     28.0   26100.0            0                  0"
      ]
     },
     "execution_count": 2,
     "metadata": {},
     "output_type": "execute_result"
    }
   ],
   "source": [
    "# Путь к файлам\n",
    "data=pd.read_csv('/datasets/insurance.csv') \n",
    "data.head()"
   ]
  },
  {
   "cell_type": "code",
   "execution_count": 3,
   "metadata": {},
   "outputs": [
    {
     "name": "stdout",
     "output_type": "stream",
     "text": [
      "<class 'pandas.core.frame.DataFrame'>\n",
      "RangeIndex: 5000 entries, 0 to 4999\n",
      "Data columns (total 5 columns):\n",
      "Пол                  5000 non-null int64\n",
      "Возраст              5000 non-null float64\n",
      "Зарплата             5000 non-null float64\n",
      "Члены семьи          5000 non-null int64\n",
      "Страховые выплаты    5000 non-null int64\n",
      "dtypes: float64(2), int64(3)\n",
      "memory usage: 195.4 KB\n"
     ]
    }
   ],
   "source": [
    "# Проверка типов данных\n",
    "data.info()"
   ]
  },
  {
   "cell_type": "code",
   "execution_count": 4,
   "metadata": {},
   "outputs": [],
   "source": [
    "#замена типа данных с float64 на int64 \n",
    "columns = ['Возраст', 'Зарплата']\n",
    "for i in columns:\n",
    "    data[i] = data[i].astype('int64') "
   ]
  },
  {
   "cell_type": "code",
   "execution_count": 5,
   "metadata": {},
   "outputs": [
    {
     "data": {
      "text/plain": [
       "Пол                  0\n",
       "Возраст              0\n",
       "Зарплата             0\n",
       "Члены семьи          0\n",
       "Страховые выплаты    0\n",
       "dtype: int64"
      ]
     },
     "execution_count": 5,
     "metadata": {},
     "output_type": "execute_result"
    }
   ],
   "source": [
    "#Проверка наличия пропусков\n",
    "data.isna().sum()"
   ]
  },
  {
   "cell_type": "code",
   "execution_count": 6,
   "metadata": {},
   "outputs": [
    {
     "data": {
      "text/plain": [
       "153"
      ]
     },
     "execution_count": 6,
     "metadata": {},
     "output_type": "execute_result"
    }
   ],
   "source": [
    "#Проверка наличия дубликатов\n",
    "data.duplicated().sum()"
   ]
  },
  {
   "cell_type": "markdown",
   "metadata": {},
   "source": [
    "Данные загружены и готовы для построения и обоснования алгоритма защиты данных клиентов; без пропусков; 153 дубликата- незначительное количество, не трогаем; проведена замена типа данных на 'int' по столбцам 'Возраст' и 'Зарплата' для логичного отображения информации."
   ]
  },
  {
   "cell_type": "markdown",
   "metadata": {},
   "source": [
    "## Умножение матриц"
   ]
  },
  {
   "cell_type": "markdown",
   "metadata": {},
   "source": [
    "В данном разделе отвечаем на вопрос:\n",
    "<br>Изменится ли качество линейной регрессии (возможно обучение заново) при умножении признаков на обратимую матрицу.\n",
    "<br>a. Изменится. Примеры матриц.\n",
    "<br>b. Не изменится. Указываем, как связаны параметры линейной регрессии в исходной задаче и в преобразованной."
   ]
  },
  {
   "cell_type": "markdown",
   "metadata": {},
   "source": [
    "Обозначения:\n",
    "\n",
    "- $X$ — матрица признаков (нулевой столбец состоит из единиц)\n",
    "\n",
    "- $y$ — вектор целевого признака\n",
    "\n",
    "- $P$ — матрица, на которую умножаются признаки\n",
    "\n",
    "- $w$ — вектор весов линейной регрессии (нулевой элемент равен сдвигу)"
   ]
  },
  {
   "cell_type": "markdown",
   "metadata": {},
   "source": [
    "Предсказания:\n",
    "\n",
    "$$\n",
    "a = Xw\n",
    "$$\n",
    "\n",
    "Задача обучения:\n",
    "\n",
    "$$\n",
    "w = \\arg\\min_w MSE(Xw, y)\n",
    "$$\n",
    "\n",
    "Формула обучения:\n",
    "\n",
    "$$\n",
    "w = (X^T X)^{-1} X^T y\n",
    "$$"
   ]
  },
  {
   "cell_type": "markdown",
   "metadata": {},
   "source": [
    "**Ответ:** При умножении признаков на обратимую матрицу предсказания не меняются следовательно и не меняется качество линейной регрессии.\n",
    "\n",
    "**Обоснование:** \n",
    "$$\n",
    "a = X_1w\n",
    "$$\n",
    "\n",
    "$$\n",
    "a_1 = X_1(X^TX)^{-1}X^Ty = X_1X^{-1}(X^T)^{-1}X^Ty=X_1X^{-1}y\n",
    "$$\n",
    "\n",
    "$$\n",
    "a_2 = (X_1A)((XA)^TXA)^{-1}(XA)^Ty = (X_1A)(XA)^{-1}((XA)^T)^{-1}(XA)^Ty = (X_1A)A^{-1}X^{-1}(X^T)^{-1}(A^T)^{-1}A^TX^Ty = X_1AA^{-1}X^{-1}(X^T)^{-1}(A^T)^{-1}A^TX^Ty = X_1X^{-1}y\n",
    "$$\n",
    "\n",
    "$$\n",
    "a_1=a_2\n",
    "$$"
   ]
  },
  {
   "cell_type": "markdown",
   "metadata": {},
   "source": [
    "В предсказание $a = Xw$ подставили значение формулы обучения- отражено в $a_1$, $a_2$- это аналогичная подстановка, но домноженная на обратимую матрицу A. \n",
    "<br>Через матрицу предсказания и векторы весов, применение свойств транспонированной матрицы выведена идентичность предсказаний $a_1$ и $a_2$."
   ]
  },
  {
   "cell_type": "markdown",
   "metadata": {},
   "source": [
    "## Алгоритм преобразования"
   ]
  },
  {
   "cell_type": "markdown",
   "metadata": {},
   "source": [
    "Предлагаем алгоритм преобразования данных для решения задачи защиты данных клиентов страховой компании."
   ]
  },
  {
   "cell_type": "markdown",
   "metadata": {},
   "source": [
    "**Алгоритм**\n",
    "\n",
    "1. Определение целевого признака и подготовка всех признаков к обучению;\n",
    "2. Обучение модели, выход по метрике R2;\n",
    "3. Создание обратимой матрицы и домножение на матрицу признаков;\n",
    "4. Обучение модели с преобразованными признаками, выход по метрике R2(inv);\n",
    "5. Сравнение двух метрик (пункты 2 и 4)."
   ]
  },
  {
   "cell_type": "markdown",
   "metadata": {},
   "source": [
    "**Обоснование**\n",
    "\n",
    "Обратная матрица A существует только для квадратных невырожденных матриц определитель которых не равен нулю.\n",
    "<br>Приведенный расчет $a_1$ и $a_2$ показывает идентичность размерности матриц признаков и обратимой."
   ]
  },
  {
   "cell_type": "markdown",
   "metadata": {},
   "source": [
    "## Проверка алгоритма"
   ]
  },
  {
   "cell_type": "markdown",
   "metadata": {},
   "source": [
    "Обосновываем, почему качество линейной регрессии не поменяется.\n",
    "<br>Программируем алгоритм, применив матричные операции. \n",
    "<br>Проверяем, что качество линейной регрессии из sklearn не отличается до и после преобразования метрикой R2."
   ]
  },
  {
   "cell_type": "code",
   "execution_count": 7,
   "metadata": {
    "scrolled": true
   },
   "outputs": [
    {
     "data": {
      "text/plain": [
       "((5000, 4), (5000,))"
      ]
     },
     "execution_count": 7,
     "metadata": {},
     "output_type": "execute_result"
    }
   ],
   "source": [
    "# Выделение целевого признака\n",
    "X = data.drop('Страховые выплаты', axis=1)\n",
    "y = data['Страховые выплаты']\n",
    "X.shape, y.shape"
   ]
  },
  {
   "cell_type": "code",
   "execution_count": 8,
   "metadata": {},
   "outputs": [],
   "source": [
    "# Обучение модели\n",
    "def r2_score(X, y):\n",
    "    model_lr = LinearRegression()\n",
    "    model_lr.fit(X, y)\n",
    "    R2 = model_lr.score(X, y)\n",
    "    return R2"
   ]
  },
  {
   "cell_type": "code",
   "execution_count": 9,
   "metadata": {},
   "outputs": [
    {
     "name": "stdout",
     "output_type": "stream",
     "text": [
      "R2 = 0.425\n"
     ]
    }
   ],
   "source": [
    "# Расчет метрики R2 для матрицы признаков\n",
    "R2 = r2_score(X, y)\n",
    "print((\"R2 = {0:.3f}\".format(R2)))"
   ]
  },
  {
   "cell_type": "code",
   "execution_count": 10,
   "metadata": {},
   "outputs": [
    {
     "data": {
      "text/plain": [
       "array([[4.76305772e-01, 4.69357908e-01, 7.35062580e-01, 3.30699475e-01],\n",
       "       [2.35233470e-01, 8.27667316e-01, 1.97005895e-03, 5.74456642e-02],\n",
       "       [6.66667447e-01, 4.71977600e-01, 7.88165965e-02, 3.60260326e-01],\n",
       "       [2.89998872e-01, 6.73308112e-04, 5.45564262e-01, 6.16874113e-01]])"
      ]
     },
     "execution_count": 10,
     "metadata": {},
     "output_type": "execute_result"
    }
   ],
   "source": [
    "# Создание случайной обратимой матрицы\n",
    "inv = np.random.rand(4,4)\n",
    "inv"
   ]
  },
  {
   "cell_type": "code",
   "execution_count": 11,
   "metadata": {},
   "outputs": [
    {
     "data": {
      "text/html": [
       "<div>\n",
       "<style scoped>\n",
       "    .dataframe tbody tr th:only-of-type {\n",
       "        vertical-align: middle;\n",
       "    }\n",
       "\n",
       "    .dataframe tbody tr th {\n",
       "        vertical-align: top;\n",
       "    }\n",
       "\n",
       "    .dataframe thead th {\n",
       "        text-align: right;\n",
       "    }\n",
       "</style>\n",
       "<table border=\"1\" class=\"dataframe\">\n",
       "  <thead>\n",
       "    <tr style=\"text-align: right;\">\n",
       "      <th></th>\n",
       "      <th>0</th>\n",
       "      <th>1</th>\n",
       "      <th>2</th>\n",
       "      <th>3</th>\n",
       "    </tr>\n",
       "  </thead>\n",
       "  <tbody>\n",
       "    <tr>\n",
       "      <td>0</td>\n",
       "      <td>33077.116253</td>\n",
       "      <td>23444.493326</td>\n",
       "      <td>3910.664588</td>\n",
       "      <td>17872.214999</td>\n",
       "    </tr>\n",
       "    <tr>\n",
       "      <td>1</td>\n",
       "      <td>25344.473728</td>\n",
       "      <td>17973.222151</td>\n",
       "      <td>2995.666856</td>\n",
       "      <td>13693.151750</td>\n",
       "    </tr>\n",
       "    <tr>\n",
       "      <td>2</td>\n",
       "      <td>14006.838160</td>\n",
       "      <td>9935.531942</td>\n",
       "      <td>1655.205659</td>\n",
       "      <td>7567.132763</td>\n",
       "    </tr>\n",
       "    <tr>\n",
       "      <td>3</td>\n",
       "      <td>27805.552445</td>\n",
       "      <td>19698.848259</td>\n",
       "      <td>3287.784576</td>\n",
       "      <td>15025.295687</td>\n",
       "    </tr>\n",
       "    <tr>\n",
       "      <td>4</td>\n",
       "      <td>17407.083212</td>\n",
       "      <td>12342.259390</td>\n",
       "      <td>2057.903394</td>\n",
       "      <td>9404.733678</td>\n",
       "    </tr>\n",
       "  </tbody>\n",
       "</table>\n",
       "</div>"
      ],
      "text/plain": [
       "              0             1            2             3\n",
       "0  33077.116253  23444.493326  3910.664588  17872.214999\n",
       "1  25344.473728  17973.222151  2995.666856  13693.151750\n",
       "2  14006.838160   9935.531942  1655.205659   7567.132763\n",
       "3  27805.552445  19698.848259  3287.784576  15025.295687\n",
       "4  17407.083212  12342.259390  2057.903394   9404.733678"
      ]
     },
     "execution_count": 11,
     "metadata": {},
     "output_type": "execute_result"
    }
   ],
   "source": [
    "# Домножение матрицы признаков на обратимую\n",
    "X_inv = X @ inv\n",
    "X_inv.head()"
   ]
  },
  {
   "cell_type": "code",
   "execution_count": 12,
   "metadata": {},
   "outputs": [
    {
     "name": "stdout",
     "output_type": "stream",
     "text": [
      "R2_inv = 0.425\n"
     ]
    }
   ],
   "source": [
    "# Расчет метрики R2 для преобразованной матрицы\n",
    "R2_inv = r2_score(X_inv, y)\n",
    "print((\"R2_inv = {0:.3f}\".format(R2_inv)))"
   ]
  },
  {
   "cell_type": "markdown",
   "metadata": {},
   "source": [
    "## Вывод:\n",
    "Использование матрицы признаков и аналогичной умноженной на обратимую не изменило ее предсказания и качество линейной регрессии; идентичные значение R2= 0.425. \n",
    "<br>Сформирован и проверен алгоритм преобразования данных.\n",
    "<br>Итогом работы является понимание возможности защиты персональной информации используя правильные матрицы."
   ]
  }
 ],
 "metadata": {
  "kernelspec": {
   "display_name": "Python 3",
   "language": "python",
   "name": "python3"
  },
  "language_info": {
   "codemirror_mode": {
    "name": "ipython",
    "version": 3
   },
   "file_extension": ".py",
   "mimetype": "text/x-python",
   "name": "python",
   "nbconvert_exporter": "python",
   "pygments_lexer": "ipython3",
   "version": "3.7.8"
  },
  "toc": {
   "base_numbering": 1,
   "nav_menu": {},
   "number_sections": true,
   "sideBar": false,
   "skip_h1_title": true,
   "title_cell": "Содержание",
   "title_sidebar": "Contents",
   "toc_cell": true,
   "toc_position": {
    "height": "47px",
    "left": "1119px",
    "top": "610px",
    "width": "159px"
   },
   "toc_section_display": false,
   "toc_window_display": false
  }
 },
 "nbformat": 4,
 "nbformat_minor": 2
}
