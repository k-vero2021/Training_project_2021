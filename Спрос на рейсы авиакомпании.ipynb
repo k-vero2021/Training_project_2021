{
 "cells": [
  {
   "cell_type": "markdown",
   "metadata": {
    "toc": true
   },
   "source": [
    "<h1>Содержание<span class=\"tocSkip\"></span></h1>\n",
    "<div class=\"toc\"><ul class=\"toc-item\"><li><span><a href=\"#Аналитика\" data-toc-modified-id=\"Аналитика-1\"><span class=\"toc-item-num\">1&nbsp;&nbsp;</span>Аналитика</a></span><ul class=\"toc-item\"><li><ul class=\"toc-item\"><li><span><a href=\"#Вывод:\" data-toc-modified-id=\"Вывод:-1.0.1\"><span class=\"toc-item-num\">1.0.1&nbsp;&nbsp;</span>Вывод:</a></span></li></ul></li><li><span><a href=\"#График-«Модели-самолётов-и-количество-рейсов»\" data-toc-modified-id=\"График-«Модели-самолётов-и-количество-рейсов»-1.1\"><span class=\"toc-item-num\">1.1&nbsp;&nbsp;</span>График «Модели самолётов и количество рейсов»</a></span><ul class=\"toc-item\"><li><span><a href=\"#Вывод:\" data-toc-modified-id=\"Вывод:-1.1.1\"><span class=\"toc-item-num\">1.1.1&nbsp;&nbsp;</span>Вывод:</a></span></li></ul></li><li><span><a href=\"#График-«Города-и-количество-рейсов»\" data-toc-modified-id=\"График-«Города-и-количество-рейсов»-1.2\"><span class=\"toc-item-num\">1.2&nbsp;&nbsp;</span>График «Города и количество рейсов»</a></span><ul class=\"toc-item\"><li><span><a href=\"#Вывод:\" data-toc-modified-id=\"Вывод:-1.2.1\"><span class=\"toc-item-num\">1.2.1&nbsp;&nbsp;</span>Вывод:</a></span></li></ul></li><li><span><a href=\"#Топ-10-городов-по-количеству-рейсов\" data-toc-modified-id=\"Топ-10-городов-по-количеству-рейсов-1.3\"><span class=\"toc-item-num\">1.3&nbsp;&nbsp;</span>Топ-10 городов по количеству рейсов</a></span></li><li><span><a href=\"#График-«ТОП-10-городов-и-количество-рейсов»\" data-toc-modified-id=\"График-«ТОП-10-городов-и-количество-рейсов»-1.4\"><span class=\"toc-item-num\">1.4&nbsp;&nbsp;</span>График «ТОП-10 городов и количество рейсов»</a></span><ul class=\"toc-item\"><li><span><a href=\"#Вывод:\" data-toc-modified-id=\"Вывод:-1.4.1\"><span class=\"toc-item-num\">1.4.1&nbsp;&nbsp;</span>Вывод:</a></span></li></ul></li><li><span><a href=\"#Вывод:\" data-toc-modified-id=\"Вывод:-1.5\"><span class=\"toc-item-num\">1.5&nbsp;&nbsp;</span>Вывод:</a></span></li></ul></li></ul></div>"
   ]
  },
  {
   "cell_type": "markdown",
   "metadata": {},
   "source": [
    "# Спрос на рейсы авиакомпании"
   ]
  },
  {
   "cell_type": "markdown",
   "metadata": {},
   "source": [
    "Вы аналитик российской авиакомпании, выполняющей внутренние пассажирские перевозки. Важно понять ***предпочтения пользователей***, покупающих билеты на разные направления.\n",
    "\n",
    "Вам предстоит изучить базу данных и проанализировать спрос пассажиров на рейсы в города, где проходят крупнейшие культурные фестивали."
   ]
  },
  {
   "cell_type": "markdown",
   "metadata": {},
   "source": [
    "У вас есть файлы с результатами запросов из предыдущих заданий.\n",
    "\n",
    "**query_1.csv** — результат первого запроса. В нём содержится такая информация:\n",
    "\n",
    "- *model* — **модель самолета;\n",
    "- *flights_amount* — количество рейсов для каждой модели самолетов *model* в сентябре 2018 года.\n",
    "\n",
    "**query_3.csv** — результат третьего запроса. В нём содержится такая информация:\n",
    "\n",
    "- *city* — город;\n",
    "- *average_flights* — среднее количество рейсов, прибывающих в город (*city*) за день в сентябре 2018 года.\n",
    "\n",
    " Для этих двух наборов данных нужно:\n",
    "\n",
    "- импортировать файлы;\n",
    "- изучить данные в них;\n",
    "- проверить типы данных на корректность;\n",
    "- выбрать топ-10 городов по количеству рейсов;\n",
    "- построить графики: модели самолётов и количество рейсов, города и количество рейсов, топ-10 городов и количество рейсов;\n",
    "- сделать выводы по каждому из графиков, пояснить результат.\n"
   ]
  },
  {
   "cell_type": "markdown",
   "metadata": {},
   "source": [
    "## Аналитика"
   ]
  },
  {
   "cell_type": "code",
   "execution_count": 1,
   "metadata": {},
   "outputs": [],
   "source": [
    "import numpy as np\n",
    "import pandas as pd\n",
    "import matplotlib.pyplot as plt\n",
    "import seaborn as sns\n",
    "\n",
    "import warnings\n",
    "warnings.simplefilter('ignore')"
   ]
  },
  {
   "cell_type": "markdown",
   "metadata": {},
   "source": [
    "Датафреймы для данного проекта подготовлены посредством извлечения запросов SQL из базы данных.\n",
    "<br>Ниже представлен код двух запросов."
   ]
  },
  {
   "cell_type": "raw",
   "metadata": {},
   "source": [
    "Запрос 1.\n",
    "Найдено количество рейсов по каждой модели самолёта с вылетом в сентябре 2018 года: \n",
    "\n",
    "SELECT\n",
    "    aircrafts.model AS model,\n",
    "    COUNT(flights.flight_id) AS flight_amount    \n",
    "FROM\n",
    "    aircrafts\n",
    "    INNER JOIN flights ON flights.aircraft_code = aircrafts.aircraft_code\n",
    "WHERE\n",
    "    CAST(flights.departure_time AS date) BETWEEN '2018-09-01' AND '2018-09-30'\n",
    "GROUP BY\n",
    "    aircrafts.model;"
   ]
  },
  {
   "cell_type": "raw",
   "metadata": {},
   "source": [
    "Запрос 3.\n",
    "Посчитано среднее количество прибывающих рейсов в день для каждого города за август 2018 года:\n",
    "\n",
    "SELECT\n",
    "    SUBQ.city,\n",
    "    AVG(SUBQ.count_flights) as average_flights \n",
    "FROM\n",
    "    (SELECT\n",
    "        airports.city,\n",
    "        EXTRACT(day from flights.arrival_time) as day_number,\n",
    "        COUNT(flights.flight_id) as count_flights    \n",
    "        \n",
    "FROM\n",
    "    airports\n",
    "    INNER JOIN flights ON flights.arrival_airport = airports.airport_code\n",
    "WHERE\n",
    "    CAST(flights.arrival_time AS date) BETWEEN '2018-08-01' AND '2018-08-31'\n",
    "    GROUP BY\n",
    "    airports.city, day_number) AS SUBQ\n",
    "GROUP BY\n",
    "    SUBQ.city;"
   ]
  },
  {
   "cell_type": "code",
   "execution_count": 2,
   "metadata": {},
   "outputs": [
    {
     "data": {
      "text/plain": [
       "<bound method NDFrame.head of                  model  flights_amount\n",
       "0      Airbus A319-100             607\n",
       "1      Airbus A321-200             960\n",
       "2       Boeing 737-300             630\n",
       "3       Boeing 767-300             600\n",
       "4       Boeing 777-300             300\n",
       "5   Bombardier CRJ-200            4446\n",
       "6   Cessna 208 Caravan            4557\n",
       "7  Sukhoi SuperJet-100            4185>"
      ]
     },
     "execution_count": 2,
     "metadata": {},
     "output_type": "execute_result"
    }
   ],
   "source": [
    "# Отображение строк df\n",
    "query_1 = pd.read_csv('/datasets/query_1.csv')\n",
    "query_1.head"
   ]
  },
  {
   "cell_type": "code",
   "execution_count": 3,
   "metadata": {},
   "outputs": [
    {
     "name": "stdout",
     "output_type": "stream",
     "text": [
      "<class 'pandas.core.frame.DataFrame'>\n",
      "RangeIndex: 8 entries, 0 to 7\n",
      "Data columns (total 2 columns):\n",
      " #   Column          Non-Null Count  Dtype \n",
      "---  ------          --------------  ----- \n",
      " 0   model           8 non-null      object\n",
      " 1   flights_amount  8 non-null      int64 \n",
      "dtypes: int64(1), object(1)\n",
      "memory usage: 256.0+ bytes\n"
     ]
    }
   ],
   "source": [
    "# Проверка типов данных\n",
    "query_1.info()"
   ]
  },
  {
   "cell_type": "code",
   "execution_count": 4,
   "metadata": {},
   "outputs": [
    {
     "data": {
      "text/plain": [
       "<bound method NDFrame.head of                city  average_flights\n",
       "0            Абакан         3.870968\n",
       "1           Анадырь         1.000000\n",
       "2             Анапа         2.161290\n",
       "3       Архангельск         5.354839\n",
       "4         Астрахань         2.451613\n",
       "..              ...              ...\n",
       "96             Чита         1.580645\n",
       "97           Элиста         4.870968\n",
       "98   Южно-Сахалинск         4.290323\n",
       "99           Якутск         2.741935\n",
       "100       Ярославль         1.322581\n",
       "\n",
       "[101 rows x 2 columns]>"
      ]
     },
     "execution_count": 4,
     "metadata": {},
     "output_type": "execute_result"
    }
   ],
   "source": [
    "query_3 = pd.read_csv('/datasets/query_3.csv')\n",
    "query_3.head"
   ]
  },
  {
   "cell_type": "code",
   "execution_count": 5,
   "metadata": {},
   "outputs": [
    {
     "name": "stdout",
     "output_type": "stream",
     "text": [
      "<class 'pandas.core.frame.DataFrame'>\n",
      "RangeIndex: 101 entries, 0 to 100\n",
      "Data columns (total 2 columns):\n",
      " #   Column           Non-Null Count  Dtype  \n",
      "---  ------           --------------  -----  \n",
      " 0   city             101 non-null    object \n",
      " 1   average_flights  101 non-null    float64\n",
      "dtypes: float64(1), object(1)\n",
      "memory usage: 1.7+ KB\n"
     ]
    }
   ],
   "source": [
    "query_3.info()"
   ]
  },
  {
   "cell_type": "code",
   "execution_count": 6,
   "metadata": {},
   "outputs": [
    {
     "data": {
      "text/plain": [
       "model             0\n",
       "flights_amount    0\n",
       "dtype: int64"
      ]
     },
     "execution_count": 6,
     "metadata": {},
     "output_type": "execute_result"
    }
   ],
   "source": [
    "# Проверка выборки на предмет пропусков\n",
    "query_1.isna().sum()"
   ]
  },
  {
   "cell_type": "code",
   "execution_count": 7,
   "metadata": {},
   "outputs": [
    {
     "data": {
      "text/plain": [
       "city               0\n",
       "average_flights    0\n",
       "dtype: int64"
      ]
     },
     "execution_count": 7,
     "metadata": {},
     "output_type": "execute_result"
    }
   ],
   "source": [
    "query_3.isna().sum() "
   ]
  },
  {
   "cell_type": "code",
   "execution_count": 8,
   "metadata": {},
   "outputs": [
    {
     "data": {
      "text/html": [
       "<div>\n",
       "<style scoped>\n",
       "    .dataframe tbody tr th:only-of-type {\n",
       "        vertical-align: middle;\n",
       "    }\n",
       "\n",
       "    .dataframe tbody tr th {\n",
       "        vertical-align: top;\n",
       "    }\n",
       "\n",
       "    .dataframe thead th {\n",
       "        text-align: right;\n",
       "    }\n",
       "</style>\n",
       "<table border=\"1\" class=\"dataframe\">\n",
       "  <thead>\n",
       "    <tr style=\"text-align: right;\">\n",
       "      <th></th>\n",
       "      <th>flights_amount</th>\n",
       "    </tr>\n",
       "  </thead>\n",
       "  <tbody>\n",
       "    <tr>\n",
       "      <th>count</th>\n",
       "      <td>8.000000</td>\n",
       "    </tr>\n",
       "    <tr>\n",
       "      <th>mean</th>\n",
       "      <td>2035.625000</td>\n",
       "    </tr>\n",
       "    <tr>\n",
       "      <th>std</th>\n",
       "      <td>1965.203947</td>\n",
       "    </tr>\n",
       "    <tr>\n",
       "      <th>min</th>\n",
       "      <td>300.000000</td>\n",
       "    </tr>\n",
       "    <tr>\n",
       "      <th>25%</th>\n",
       "      <td>605.250000</td>\n",
       "    </tr>\n",
       "    <tr>\n",
       "      <th>50%</th>\n",
       "      <td>795.000000</td>\n",
       "    </tr>\n",
       "    <tr>\n",
       "      <th>75%</th>\n",
       "      <td>4250.250000</td>\n",
       "    </tr>\n",
       "    <tr>\n",
       "      <th>max</th>\n",
       "      <td>4557.000000</td>\n",
       "    </tr>\n",
       "  </tbody>\n",
       "</table>\n",
       "</div>"
      ],
      "text/plain": [
       "       flights_amount\n",
       "count        8.000000\n",
       "mean      2035.625000\n",
       "std       1965.203947\n",
       "min        300.000000\n",
       "25%        605.250000\n",
       "50%        795.000000\n",
       "75%       4250.250000\n",
       "max       4557.000000"
      ]
     },
     "execution_count": 8,
     "metadata": {},
     "output_type": "execute_result"
    }
   ],
   "source": [
    "# Просмотр основных статистических данных\n",
    "query_1.describe()"
   ]
  },
  {
   "cell_type": "code",
   "execution_count": 9,
   "metadata": {},
   "outputs": [
    {
     "data": {
      "text/html": [
       "<div>\n",
       "<style scoped>\n",
       "    .dataframe tbody tr th:only-of-type {\n",
       "        vertical-align: middle;\n",
       "    }\n",
       "\n",
       "    .dataframe tbody tr th {\n",
       "        vertical-align: top;\n",
       "    }\n",
       "\n",
       "    .dataframe thead th {\n",
       "        text-align: right;\n",
       "    }\n",
       "</style>\n",
       "<table border=\"1\" class=\"dataframe\">\n",
       "  <thead>\n",
       "    <tr style=\"text-align: right;\">\n",
       "      <th></th>\n",
       "      <th>average_flights</th>\n",
       "    </tr>\n",
       "  </thead>\n",
       "  <tbody>\n",
       "    <tr>\n",
       "      <th>count</th>\n",
       "      <td>101.000000</td>\n",
       "    </tr>\n",
       "    <tr>\n",
       "      <th>mean</th>\n",
       "      <td>5.494189</td>\n",
       "    </tr>\n",
       "    <tr>\n",
       "      <th>std</th>\n",
       "      <td>13.119790</td>\n",
       "    </tr>\n",
       "    <tr>\n",
       "      <th>min</th>\n",
       "      <td>1.000000</td>\n",
       "    </tr>\n",
       "    <tr>\n",
       "      <th>25%</th>\n",
       "      <td>2.000000</td>\n",
       "    </tr>\n",
       "    <tr>\n",
       "      <th>50%</th>\n",
       "      <td>3.000000</td>\n",
       "    </tr>\n",
       "    <tr>\n",
       "      <th>75%</th>\n",
       "      <td>5.870968</td>\n",
       "    </tr>\n",
       "    <tr>\n",
       "      <th>max</th>\n",
       "      <td>129.774194</td>\n",
       "    </tr>\n",
       "  </tbody>\n",
       "</table>\n",
       "</div>"
      ],
      "text/plain": [
       "       average_flights\n",
       "count       101.000000\n",
       "mean          5.494189\n",
       "std          13.119790\n",
       "min           1.000000\n",
       "25%           2.000000\n",
       "50%           3.000000\n",
       "75%           5.870968\n",
       "max         129.774194"
      ]
     },
     "execution_count": 9,
     "metadata": {},
     "output_type": "execute_result"
    }
   ],
   "source": [
    "query_3.describe()"
   ]
  },
  {
   "cell_type": "markdown",
   "metadata": {},
   "source": [
    "#### Вывод: \n",
    "Пояснены представленные данные в датафрейме в виде кода SQL для анализа в проекте.\n",
    "<br>На начальном этапе проверили типы данных полученных столбцов, наличие в них пропусков, а также статистические данные по количественным признакам."
   ]
  },
  {
   "cell_type": "markdown",
   "metadata": {},
   "source": [
    "### График «Модели самолётов и количество рейсов»"
   ]
  },
  {
   "cell_type": "code",
   "execution_count": 10,
   "metadata": {},
   "outputs": [
    {
     "data": {
      "text/html": [
       "<div>\n",
       "<style scoped>\n",
       "    .dataframe tbody tr th:only-of-type {\n",
       "        vertical-align: middle;\n",
       "    }\n",
       "\n",
       "    .dataframe tbody tr th {\n",
       "        vertical-align: top;\n",
       "    }\n",
       "\n",
       "    .dataframe thead th {\n",
       "        text-align: right;\n",
       "    }\n",
       "</style>\n",
       "<table border=\"1\" class=\"dataframe\">\n",
       "  <thead>\n",
       "    <tr style=\"text-align: right;\">\n",
       "      <th></th>\n",
       "      <th>flights_amount</th>\n",
       "    </tr>\n",
       "    <tr>\n",
       "      <th>model</th>\n",
       "      <th></th>\n",
       "    </tr>\n",
       "  </thead>\n",
       "  <tbody>\n",
       "    <tr>\n",
       "      <th>All</th>\n",
       "      <td>16285</td>\n",
       "    </tr>\n",
       "    <tr>\n",
       "      <th>Cessna 208 Caravan</th>\n",
       "      <td>4557</td>\n",
       "    </tr>\n",
       "    <tr>\n",
       "      <th>Bombardier CRJ-200</th>\n",
       "      <td>4446</td>\n",
       "    </tr>\n",
       "    <tr>\n",
       "      <th>Sukhoi SuperJet-100</th>\n",
       "      <td>4185</td>\n",
       "    </tr>\n",
       "    <tr>\n",
       "      <th>Airbus A321-200</th>\n",
       "      <td>960</td>\n",
       "    </tr>\n",
       "    <tr>\n",
       "      <th>Boeing 737-300</th>\n",
       "      <td>630</td>\n",
       "    </tr>\n",
       "    <tr>\n",
       "      <th>Airbus A319-100</th>\n",
       "      <td>607</td>\n",
       "    </tr>\n",
       "    <tr>\n",
       "      <th>Boeing 767-300</th>\n",
       "      <td>600</td>\n",
       "    </tr>\n",
       "    <tr>\n",
       "      <th>Boeing 777-300</th>\n",
       "      <td>300</td>\n",
       "    </tr>\n",
       "  </tbody>\n",
       "</table>\n",
       "</div>"
      ],
      "text/plain": [
       "                     flights_amount\n",
       "model                              \n",
       "All                           16285\n",
       "Cessna 208 Caravan             4557\n",
       "Bombardier CRJ-200             4446\n",
       "Sukhoi SuperJet-100            4185\n",
       "Airbus A321-200                 960\n",
       "Boeing 737-300                  630\n",
       "Airbus A319-100                 607\n",
       "Boeing 767-300                  600\n",
       "Boeing 777-300                  300"
      ]
     },
     "execution_count": 10,
     "metadata": {},
     "output_type": "execute_result"
    }
   ],
   "source": [
    "# Сводная таблица по количеству рейсов, моделей самолетов и гистограмма\n",
    "model_flights = query_1.pivot_table(index='model', values='flights_amount', aggfunc='sum', margins=True).sort_values(by='flights_amount', ascending=False)\n",
    "model_flights"
   ]
  },
  {
   "cell_type": "code",
   "execution_count": 11,
   "metadata": {},
   "outputs": [
    {
     "data": {
      "image/png": "[encoded data removed]",
      "text/plain": [
       "<Figure size 1080x216 with 1 Axes>"
      ]
     },
     "metadata": {
      "needs_background": "light"
     },
     "output_type": "display_data"
    }
   ],
   "source": [
    "query_1.pivot_table(index='model', values='flights_amount', aggfunc='sum').sort_values(by='flights_amount', ascending=False).plot.bar(figsize=(15, 3), colormap='Spectral')\n",
    "plt.title('Зависимость модели самолётов и количества рейсов', fontsize=12)\n",
    "plt.xlabel('Наименование модели')\n",
    "plt.ylabel('Количество рейсов')\n",
    "plt.show()"
   ]
  },
  {
   "cell_type": "markdown",
   "metadata": {},
   "source": [
    "#### Вывод:\n",
    "Наиболее частые полеты (4185-4557 полетов за сентябрь 2018г., 81% полетов за месяц) совершают Cessna 208 Caravan, Bombardier CRJ-200, Sukhoi Superjet-100. \n",
    "<br>Их дальность полета 2000-3000 км в сравнении с Boeing и Airbus с возможной дальностью до 5000 км.\n",
    "<br>Наблюдается обратнопропорциональная зависимость: чем меньше самолет, тем большее количество рейсов он совершает, в частности обслуживая аэропорты небольших городов и отдаленных местностей."
   ]
  },
  {
   "cell_type": "markdown",
   "metadata": {},
   "source": [
    "### График «Города и количество рейсов»"
   ]
  },
  {
   "cell_type": "code",
   "execution_count": 12,
   "metadata": {},
   "outputs": [
    {
     "data": {
      "text/html": [
       "<div>\n",
       "<style scoped>\n",
       "    .dataframe tbody tr th:only-of-type {\n",
       "        vertical-align: middle;\n",
       "    }\n",
       "\n",
       "    .dataframe tbody tr th {\n",
       "        vertical-align: top;\n",
       "    }\n",
       "\n",
       "    .dataframe thead th {\n",
       "        text-align: right;\n",
       "    }\n",
       "</style>\n",
       "<table border=\"1\" class=\"dataframe\">\n",
       "  <thead>\n",
       "    <tr style=\"text-align: right;\">\n",
       "      <th></th>\n",
       "      <th>average_flights</th>\n",
       "    </tr>\n",
       "    <tr>\n",
       "      <th>city</th>\n",
       "      <th></th>\n",
       "    </tr>\n",
       "  </thead>\n",
       "  <tbody>\n",
       "    <tr>\n",
       "      <th>All</th>\n",
       "      <td>554.913101</td>\n",
       "    </tr>\n",
       "    <tr>\n",
       "      <th>Москва</th>\n",
       "      <td>129.774194</td>\n",
       "    </tr>\n",
       "    <tr>\n",
       "      <th>Санкт-Петербург</th>\n",
       "      <td>31.161290</td>\n",
       "    </tr>\n",
       "    <tr>\n",
       "      <th>Новосибирск</th>\n",
       "      <td>17.322581</td>\n",
       "    </tr>\n",
       "    <tr>\n",
       "      <th>Красноярск</th>\n",
       "      <td>11.580645</td>\n",
       "    </tr>\n",
       "    <tr>\n",
       "      <th>...</th>\n",
       "      <td>...</td>\n",
       "    </tr>\n",
       "    <tr>\n",
       "      <th>Нягань</th>\n",
       "      <td>1.000000</td>\n",
       "    </tr>\n",
       "    <tr>\n",
       "      <th>Стрежевой</th>\n",
       "      <td>1.000000</td>\n",
       "    </tr>\n",
       "    <tr>\n",
       "      <th>Ижевск</th>\n",
       "      <td>1.000000</td>\n",
       "    </tr>\n",
       "    <tr>\n",
       "      <th>Петропавловск-Камчатский</th>\n",
       "      <td>1.000000</td>\n",
       "    </tr>\n",
       "    <tr>\n",
       "      <th>Иваново</th>\n",
       "      <td>1.000000</td>\n",
       "    </tr>\n",
       "  </tbody>\n",
       "</table>\n",
       "<p>102 rows × 1 columns</p>\n",
       "</div>"
      ],
      "text/plain": [
       "                          average_flights\n",
       "city                                     \n",
       "All                            554.913101\n",
       "Москва                         129.774194\n",
       "Санкт-Петербург                 31.161290\n",
       "Новосибирск                     17.322581\n",
       "Красноярск                      11.580645\n",
       "...                                   ...\n",
       "Нягань                           1.000000\n",
       "Стрежевой                        1.000000\n",
       "Ижевск                           1.000000\n",
       "Петропавловск-Камчатский         1.000000\n",
       "Иваново                          1.000000\n",
       "\n",
       "[102 rows x 1 columns]"
      ]
     },
     "execution_count": 12,
     "metadata": {},
     "output_type": "execute_result"
    }
   ],
   "source": [
    "# Сводная таблица по количеству рейсов, городов и гистограмма\n",
    "city_flights = query_3.pivot_table(index='city', values='average_flights', aggfunc='sum', margins=True).sort_values(by='average_flights', ascending=False)\n",
    "city_flights"
   ]
  },
  {
   "cell_type": "code",
   "execution_count": 13,
   "metadata": {},
   "outputs": [
    {
     "data": {
      "text/plain": [
       "array(['Абакан', 'Анадырь', 'Анапа', 'Архангельск', 'Астрахань',\n",
       "       'Барнаул', 'Белгород', 'Белоярский', 'Благовещенск', 'Братск',\n",
       "       'Брянск', 'Бугульма', 'Владивосток', 'Владикавказ', 'Волгоград',\n",
       "       'Воркута', 'Воронеж', 'Геленджик', 'Горно-Алтайск', 'Грозный',\n",
       "       'Екатеринбург', 'Иваново', 'Ижевск', 'Иркутск', 'Йошкар-Ола',\n",
       "       'Казань', 'Калининград', 'Калуга', 'Кемерово', 'Киров', 'Когалым',\n",
       "       'Комсомольск-на-Амуре', 'Краснодар', 'Красноярск', 'Курган',\n",
       "       'Курск', 'Кызыл', 'Липецк', 'Магадан', 'Магнитогорск', 'Махачкала',\n",
       "       'Минеральные Воды', 'Мирный', 'Москва', 'Мурманск', 'Надым',\n",
       "       'Нальчик', 'Нарьян-Мар', 'Нерюнгри', 'Нефтеюганск',\n",
       "       'Нижневартовск', 'Нижнекамск', 'Нижний Новгород', 'Новокузнецк',\n",
       "       'Новосибирск', 'Новый Уренгой', 'Норильск', 'Ноябрьск', 'Нягань',\n",
       "       'Омск', 'Оренбург', 'Орск', 'Пенза', 'Пермь', 'Петрозаводск',\n",
       "       'Петропавловск-Камчатский', 'Псков', 'Ростов-на-Дону', 'Салехард',\n",
       "       'Самара', 'Санкт-Петербург', 'Саранск', 'Саратов', 'Советский',\n",
       "       'Сочи', 'Ставрополь', 'Стрежевой', 'Сургут', 'Сыктывкар', 'Тамбов',\n",
       "       'Томск', 'Тюмень', 'Удачный', 'Улан-Удэ', 'Ульяновск', 'Урай',\n",
       "       'Усинск', 'Усть-Илимск', 'Усть-Кут', 'Уфа', 'Ухта', 'Хабаровск',\n",
       "       'Ханты-Мансийск', 'Чебоксары', 'Челябинск', 'Череповец', 'Чита',\n",
       "       'Элиста', 'Южно-Сахалинск', 'Якутск', 'Ярославль'], dtype=object)"
      ]
     },
     "execution_count": 13,
     "metadata": {},
     "output_type": "execute_result"
    }
   ],
   "source": [
    "# Перечень уникальных названий городов\n",
    "query_3['city'].unique()"
   ]
  },
  {
   "cell_type": "code",
   "execution_count": 14,
   "metadata": {},
   "outputs": [
    {
     "data": {
      "image/png": "[encoded data removed]",
      "text/plain": [
       "<Figure size 1440x360 with 1 Axes>"
      ]
     },
     "metadata": {
      "needs_background": "light"
     },
     "output_type": "display_data"
    }
   ],
   "source": [
    "city_flights = query_3.pivot_table(index='city', values='average_flights', aggfunc='sum').sort_values(by='average_flights', ascending=False).head(101) \n",
    "\n",
    "plt.figure(figsize=(20,5))\n",
    "sns.barplot(x=city_flights.index,y=city_flights['average_flights'])\n",
    "plt.title('Зависимость города и количества рейсов', fontsize=16)\n",
    "plt.xlabel(\"Количество рейсов\")\n",
    "plt.ylabel(\"Наименования городов\")\n",
    "plt.xticks(rotation=90)\n",
    "plt.show()"
   ]
  },
  {
   "cell_type": "markdown",
   "metadata": {},
   "source": [
    "#### Вывод:\n",
    "Ожидаемо наиболее популярными аэропортами (городами) оказались Москва (130 рейсов), Санкт-Петербург (31 рейсов), Новосибирск (17 рейсов) - крупные хабы активно используются как для стыковочных рейсов внутри страны, так и для международных. \n",
    "<br>В перечисленные города (ТОП-3) было совершено 32% полетов от общего количества за август 2018 г."
   ]
  },
  {
   "cell_type": "markdown",
   "metadata": {},
   "source": [
    "### Топ-10 городов по количеству рейсов"
   ]
  },
  {
   "cell_type": "code",
   "execution_count": 15,
   "metadata": {},
   "outputs": [
    {
     "data": {
      "text/html": [
       "<div>\n",
       "<style scoped>\n",
       "    .dataframe tbody tr th:only-of-type {\n",
       "        vertical-align: middle;\n",
       "    }\n",
       "\n",
       "    .dataframe tbody tr th {\n",
       "        vertical-align: top;\n",
       "    }\n",
       "\n",
       "    .dataframe thead th {\n",
       "        text-align: right;\n",
       "    }\n",
       "</style>\n",
       "<table border=\"1\" class=\"dataframe\">\n",
       "  <thead>\n",
       "    <tr style=\"text-align: right;\">\n",
       "      <th></th>\n",
       "      <th>average_flights</th>\n",
       "    </tr>\n",
       "    <tr>\n",
       "      <th>city</th>\n",
       "      <th></th>\n",
       "    </tr>\n",
       "  </thead>\n",
       "  <tbody>\n",
       "    <tr>\n",
       "      <th>Москва</th>\n",
       "      <td>129.774194</td>\n",
       "    </tr>\n",
       "    <tr>\n",
       "      <th>Санкт-Петербург</th>\n",
       "      <td>31.161290</td>\n",
       "    </tr>\n",
       "    <tr>\n",
       "      <th>Новосибирск</th>\n",
       "      <td>17.322581</td>\n",
       "    </tr>\n",
       "    <tr>\n",
       "      <th>Красноярск</th>\n",
       "      <td>11.580645</td>\n",
       "    </tr>\n",
       "    <tr>\n",
       "      <th>Екатеринбург</th>\n",
       "      <td>11.322581</td>\n",
       "    </tr>\n",
       "    <tr>\n",
       "      <th>Ростов-на-Дону</th>\n",
       "      <td>10.193548</td>\n",
       "    </tr>\n",
       "    <tr>\n",
       "      <th>Пермь</th>\n",
       "      <td>10.129032</td>\n",
       "    </tr>\n",
       "    <tr>\n",
       "      <th>Брянск</th>\n",
       "      <td>10.000000</td>\n",
       "    </tr>\n",
       "    <tr>\n",
       "      <th>Сочи</th>\n",
       "      <td>9.612903</td>\n",
       "    </tr>\n",
       "    <tr>\n",
       "      <th>Ульяновск</th>\n",
       "      <td>9.580645</td>\n",
       "    </tr>\n",
       "  </tbody>\n",
       "</table>\n",
       "</div>"
      ],
      "text/plain": [
       "                 average_flights\n",
       "city                            \n",
       "Москва                129.774194\n",
       "Санкт-Петербург        31.161290\n",
       "Новосибирск            17.322581\n",
       "Красноярск             11.580645\n",
       "Екатеринбург           11.322581\n",
       "Ростов-на-Дону         10.193548\n",
       "Пермь                  10.129032\n",
       "Брянск                 10.000000\n",
       "Сочи                    9.612903\n",
       "Ульяновск               9.580645"
      ]
     },
     "execution_count": 15,
     "metadata": {},
     "output_type": "execute_result"
    }
   ],
   "source": [
    "# Cводная таблица по количеству рейсов в топ-10 городов и гистограмма\n",
    "city_top_10 = query_3.pivot_table(index='city', values='average_flights', aggfunc='sum').sort_values(by='average_flights', ascending=False).head(10) \n",
    "city_top_10"
   ]
  },
  {
   "cell_type": "markdown",
   "metadata": {},
   "source": [
    "### График «ТОП-10 городов и количество рейсов»"
   ]
  },
  {
   "cell_type": "code",
   "execution_count": 16,
   "metadata": {},
   "outputs": [
    {
     "data": {
      "text/plain": [
       "(0.0, 140.0)"
      ]
     },
     "execution_count": 16,
     "metadata": {},
     "output_type": "execute_result"
    },
    {
     "data": {
      "image/png": "[encoded data removed]",
      "text/plain": [
       "<Figure size 1080x360 with 1 Axes>"
      ]
     },
     "metadata": {
      "needs_background": "light"
     },
     "output_type": "display_data"
    }
   ],
   "source": [
    "plt.figure(figsize=(15,5))\n",
    "sns.barplot(x=city_top_10.index,y=city_top_10['average_flights'])\n",
    "plt.title('ТОП-10 городов по количеству рейсов', fontsize=14)\n",
    "plt.xlabel(\"Наименование города\")\n",
    "plt.ylabel(\"Количество рейсов\")\n",
    "plt.ylim(0, 140)"
   ]
  },
  {
   "cell_type": "markdown",
   "metadata": {},
   "source": [
    "#### Вывод:\n",
    "Расширяя географию для ТОП-10 в выборку попурярных городов добавились Красноярск, Екатеринбург, Ростов-на-Дону, Пермь, Брянск, Сочи и Ульяновск.\n",
    "<br>ТОП-10 городов прилета за месяц- это половина выполненных рейсов компанией (более 45%)."
   ]
  },
  {
   "cell_type": "markdown",
   "metadata": {},
   "source": [
    "### Вывод:\n",
    "В проекте осуществлена проверка и анализ датафреймов сформированных посредством SQL.\n",
    "<br>Самые популярные города прилета- Москва, Санкт-Петербург и Новосибирск.\n",
    "<br>Наиболее востребованы по количеству рейсов небольшие модели самолетов: Cessna 208 Caravan, Bombardier CRJ-200, Sukhoi Superjet-100, а Boeing и Airbus выполнили 19% полетов при значительно большем объеме перевезенных пассажиров."
   ]
  }
 ],
 "metadata": {
  "ExecuteTimeLog": [
   {
    "duration": 992,
    "start_time": "2021-06-16T20:21:51.166Z"
   },
   {
    "duration": 30,
    "start_time": "2021-06-16T20:21:52.160Z"
   },
   {
    "duration": 21,
    "start_time": "2021-06-16T20:22:49.508Z"
   },
   {
    "duration": 20,
    "start_time": "2021-06-16T20:22:50.056Z"
   },
   {
    "duration": 6,
    "start_time": "2021-06-16T20:23:27.403Z"
   },
   {
    "duration": 21,
    "start_time": "2021-06-16T20:23:28.617Z"
   },
   {
    "duration": 7,
    "start_time": "2021-06-16T20:23:29.425Z"
   },
   {
    "duration": 254,
    "start_time": "2021-06-16T20:34:14.475Z"
   },
   {
    "duration": 84,
    "start_time": "2021-06-16T20:34:56.614Z"
   },
   {
    "duration": 21,
    "start_time": "2021-06-16T20:34:56.790Z"
   },
   {
    "duration": 6,
    "start_time": "2021-06-16T20:34:56.973Z"
   },
   {
    "duration": 24,
    "start_time": "2021-06-16T20:34:57.164Z"
   },
   {
    "duration": 5,
    "start_time": "2021-06-16T20:34:57.358Z"
   },
   {
    "duration": 276,
    "start_time": "2021-06-16T20:34:58.194Z"
   },
   {
    "duration": 244,
    "start_time": "2021-06-16T20:36:22.448Z"
   },
   {
    "duration": 248,
    "start_time": "2021-06-16T20:36:35.520Z"
   },
   {
    "duration": 252,
    "start_time": "2021-06-16T20:36:54.137Z"
   },
   {
    "duration": 265,
    "start_time": "2021-06-16T20:37:00.847Z"
   },
   {
    "duration": 252,
    "start_time": "2021-06-16T20:37:24.942Z"
   },
   {
    "duration": 325,
    "start_time": "2021-06-16T20:37:40.327Z"
   },
   {
    "duration": 276,
    "start_time": "2021-06-16T20:38:05.976Z"
   },
   {
    "duration": 13,
    "start_time": "2021-06-16T20:39:56.799Z"
   },
   {
    "duration": 250,
    "start_time": "2021-06-16T20:39:58.144Z"
   },
   {
    "duration": 3,
    "start_time": "2021-06-16T20:52:36.947Z"
   },
   {
    "duration": 19,
    "start_time": "2021-06-16T20:52:37.605Z"
   },
   {
    "duration": 6,
    "start_time": "2021-06-16T20:52:37.804Z"
   },
   {
    "duration": 21,
    "start_time": "2021-06-16T20:52:37.989Z"
   },
   {
    "duration": 5,
    "start_time": "2021-06-16T20:52:39.317Z"
   },
   {
    "duration": 13,
    "start_time": "2021-06-16T20:52:39.662Z"
   },
   {
    "duration": 253,
    "start_time": "2021-06-16T20:52:39.845Z"
   },
   {
    "duration": 248,
    "start_time": "2021-06-16T20:53:05.459Z"
   },
   {
    "duration": 5,
    "start_time": "2021-06-16T20:55:55.248Z"
   },
   {
    "duration": 5,
    "start_time": "2021-06-16T20:55:56.730Z"
   },
   {
    "duration": 13,
    "start_time": "2021-06-16T20:59:25.119Z"
   },
   {
    "duration": 12,
    "start_time": "2021-06-16T20:59:39.575Z"
   },
   {
    "duration": 4258,
    "start_time": "2021-06-16T21:02:38.867Z"
   },
   {
    "duration": 5,
    "start_time": "2021-06-16T21:02:54.954Z"
   },
   {
    "duration": 4,
    "start_time": "2021-06-16T21:03:12.369Z"
   },
   {
    "duration": 4,
    "start_time": "2021-06-16T21:06:59.190Z"
   },
   {
    "duration": 60,
    "start_time": "2021-06-16T21:07:29.731Z"
   },
   {
    "duration": 60,
    "start_time": "2021-06-16T21:07:38.596Z"
   },
   {
    "duration": 55,
    "start_time": "2021-06-16T21:07:43.150Z"
   },
   {
    "duration": 4452,
    "start_time": "2021-06-16T21:07:59.700Z"
   },
   {
    "duration": 4,
    "start_time": "2021-06-16T21:08:23.966Z"
   },
   {
    "duration": 5,
    "start_time": "2021-06-16T21:08:50.580Z"
   },
   {
    "duration": 1441,
    "start_time": "2021-06-16T21:09:31.876Z"
   },
   {
    "duration": 5,
    "start_time": "2021-06-16T21:09:49.836Z"
   },
   {
    "duration": 4,
    "start_time": "2021-06-16T21:10:35.139Z"
   },
   {
    "duration": 20,
    "start_time": "2021-06-16T21:10:35.997Z"
   },
   {
    "duration": 6,
    "start_time": "2021-06-16T21:10:36.172Z"
   },
   {
    "duration": 20,
    "start_time": "2021-06-16T21:10:36.355Z"
   },
   {
    "duration": 6,
    "start_time": "2021-06-16T21:10:36.556Z"
   },
   {
    "duration": 6,
    "start_time": "2021-06-16T21:10:36.772Z"
   },
   {
    "duration": 6,
    "start_time": "2021-06-16T21:10:37.036Z"
   },
   {
    "duration": 12,
    "start_time": "2021-06-16T21:10:37.781Z"
   },
   {
    "duration": 11,
    "start_time": "2021-06-16T21:10:38.180Z"
   },
   {
    "duration": 12,
    "start_time": "2021-06-16T21:10:39.198Z"
   },
   {
    "duration": 255,
    "start_time": "2021-06-16T21:10:40.099Z"
   },
   {
    "duration": 7,
    "start_time": "2021-06-16T21:21:23.540Z"
   },
   {
    "duration": 9,
    "start_time": "2021-06-16T21:21:39.203Z"
   },
   {
    "duration": 9,
    "start_time": "2021-06-16T21:24:17.483Z"
   },
   {
    "duration": 8,
    "start_time": "2021-06-16T21:24:37.275Z"
   },
   {
    "duration": 54,
    "start_time": "2021-06-16T21:26:19.195Z"
   },
   {
    "duration": 196,
    "start_time": "2021-06-16T21:26:44.867Z"
   },
   {
    "duration": 188,
    "start_time": "2021-06-16T21:30:00.005Z"
   },
   {
    "duration": 282,
    "start_time": "2021-06-16T21:30:24.742Z"
   },
   {
    "duration": 265,
    "start_time": "2021-06-16T21:30:40.132Z"
   },
   {
    "duration": 281,
    "start_time": "2021-06-16T21:33:01.489Z"
   },
   {
    "duration": 396,
    "start_time": "2021-06-16T21:35:20.063Z"
   },
   {
    "duration": 257,
    "start_time": "2021-06-16T21:36:25.042Z"
   },
   {
    "duration": 179,
    "start_time": "2021-06-16T21:38:44.601Z"
   },
   {
    "duration": 195,
    "start_time": "2021-06-16T21:39:12.000Z"
   },
   {
    "duration": 340,
    "start_time": "2021-06-16T21:39:57.688Z"
   },
   {
    "duration": 178,
    "start_time": "2021-06-16T21:40:40.760Z"
   },
   {
    "duration": 281,
    "start_time": "2021-06-16T21:40:59.369Z"
   },
   {
    "duration": 263,
    "start_time": "2021-06-16T21:45:53.098Z"
   },
   {
    "duration": 289,
    "start_time": "2021-06-16T21:46:09.626Z"
   },
   {
    "duration": 266,
    "start_time": "2021-06-16T21:47:18.258Z"
   },
   {
    "duration": 243,
    "start_time": "2021-06-16T21:47:20.177Z"
   },
   {
    "duration": 220,
    "start_time": "2021-06-16T21:47:52.995Z"
   },
   {
    "duration": 262,
    "start_time": "2021-06-16T21:48:18.657Z"
   },
   {
    "duration": 274,
    "start_time": "2021-06-16T21:48:36.114Z"
   },
   {
    "duration": 276,
    "start_time": "2021-06-16T21:48:36.652Z"
   },
   {
    "duration": 56,
    "start_time": "2021-06-16T21:54:11.274Z"
   },
   {
    "duration": 212,
    "start_time": "2021-06-16T21:54:20.820Z"
   },
   {
    "duration": 185,
    "start_time": "2021-06-16T21:54:33.334Z"
   },
   {
    "duration": 237,
    "start_time": "2021-06-16T21:56:01.181Z"
   },
   {
    "duration": 226,
    "start_time": "2021-06-16T21:56:19.501Z"
   },
   {
    "duration": 320,
    "start_time": "2021-06-16T21:56:26.589Z"
   },
   {
    "duration": 473,
    "start_time": "2021-06-16T21:57:24.729Z"
   },
   {
    "duration": 483,
    "start_time": "2021-06-16T21:57:31.437Z"
   },
   {
    "duration": 470,
    "start_time": "2021-06-16T21:57:37.332Z"
   },
   {
    "duration": 254,
    "start_time": "2021-06-16T21:58:07.159Z"
   },
   {
    "duration": 252,
    "start_time": "2021-06-16T21:59:45.887Z"
   },
   {
    "duration": 246,
    "start_time": "2021-06-16T22:00:57.926Z"
   },
   {
    "duration": 239,
    "start_time": "2021-06-16T22:03:09.562Z"
   },
   {
    "duration": 12,
    "start_time": "2021-06-16T22:03:56.171Z"
   },
   {
    "duration": 11,
    "start_time": "2021-06-16T22:05:11.078Z"
   },
   {
    "duration": 242,
    "start_time": "2021-06-16T22:05:21.265Z"
   },
   {
    "duration": 4225,
    "start_time": "2021-06-16T22:12:12.673Z"
   },
   {
    "duration": 3571,
    "start_time": "2021-06-16T22:12:49.965Z"
   },
   {
    "duration": 424,
    "start_time": "2021-06-16T22:13:27.060Z"
   },
   {
    "duration": 432,
    "start_time": "2021-06-16T22:13:42.870Z"
   },
   {
    "duration": 458,
    "start_time": "2021-06-16T22:13:53.214Z"
   },
   {
    "duration": 414,
    "start_time": "2021-06-16T22:14:01.955Z"
   },
   {
    "duration": 357,
    "start_time": "2021-06-16T22:14:11.580Z"
   },
   {
    "duration": 366,
    "start_time": "2021-06-16T22:14:20.901Z"
   },
   {
    "duration": 384,
    "start_time": "2021-06-16T22:14:28.860Z"
   },
   {
    "duration": 70,
    "start_time": "2021-06-16T22:15:46.324Z"
   },
   {
    "duration": 177,
    "start_time": "2021-06-16T22:15:58.927Z"
   },
   {
    "duration": 14,
    "start_time": "2021-06-16T22:16:27.085Z"
   },
   {
    "duration": 14,
    "start_time": "2021-06-16T22:17:50.368Z"
   },
   {
    "duration": 5,
    "start_time": "2021-06-16T22:18:06.870Z"
   },
   {
    "duration": 375,
    "start_time": "2021-06-16T22:18:45.694Z"
   },
   {
    "duration": 482,
    "start_time": "2021-06-16T22:19:34.558Z"
   },
   {
    "duration": 400,
    "start_time": "2021-06-16T22:22:23.687Z"
   },
   {
    "duration": 3548,
    "start_time": "2021-06-16T22:25:02.359Z"
   },
   {
    "duration": 3455,
    "start_time": "2021-06-16T22:25:36.305Z"
   },
   {
    "duration": 1530,
    "start_time": "2021-06-17T05:12:26.479Z"
   },
   {
    "duration": 26,
    "start_time": "2021-06-17T05:12:28.012Z"
   },
   {
    "duration": 9,
    "start_time": "2021-06-17T05:12:28.799Z"
   },
   {
    "duration": 23,
    "start_time": "2021-06-17T05:12:28.959Z"
   },
   {
    "duration": 8,
    "start_time": "2021-06-17T05:12:29.347Z"
   },
   {
    "duration": 9,
    "start_time": "2021-06-17T05:12:29.522Z"
   },
   {
    "duration": 7,
    "start_time": "2021-06-17T05:12:29.697Z"
   },
   {
    "duration": 18,
    "start_time": "2021-06-17T05:12:29.883Z"
   },
   {
    "duration": 16,
    "start_time": "2021-06-17T05:12:30.084Z"
   },
   {
    "duration": 19,
    "start_time": "2021-06-17T05:12:30.708Z"
   },
   {
    "duration": 452,
    "start_time": "2021-06-17T05:12:30.893Z"
   },
   {
    "duration": 18,
    "start_time": "2021-06-17T05:12:31.348Z"
   },
   {
    "duration": 371,
    "start_time": "2021-06-17T05:12:32.141Z"
   },
   {
    "duration": 22,
    "start_time": "2021-06-17T05:12:32.563Z"
   },
   {
    "duration": 6,
    "start_time": "2021-06-17T05:12:34.003Z"
   },
   {
    "duration": 2556,
    "start_time": "2021-06-17T05:12:35.291Z"
   },
   {
    "duration": 445,
    "start_time": "2021-06-17T05:12:51.013Z"
   },
   {
    "duration": 1368,
    "start_time": "2021-06-17T05:13:06.957Z"
   },
   {
    "duration": 2674,
    "start_time": "2021-06-17T05:14:20.781Z"
   },
   {
    "duration": 2721,
    "start_time": "2021-06-17T05:15:23.605Z"
   },
   {
    "duration": 2960,
    "start_time": "2021-06-17T05:15:50.924Z"
   },
   {
    "duration": 2896,
    "start_time": "2021-06-17T05:16:17.525Z"
   },
   {
    "duration": 2773,
    "start_time": "2021-06-17T05:16:30.119Z"
   },
   {
    "duration": 2834,
    "start_time": "2021-06-17T05:16:50.549Z"
   },
   {
    "duration": 2775,
    "start_time": "2021-06-17T05:17:22.118Z"
   },
   {
    "duration": 2769,
    "start_time": "2021-06-17T05:18:04.829Z"
   },
   {
    "duration": 2906,
    "start_time": "2021-06-17T05:18:18.061Z"
   },
   {
    "duration": 2772,
    "start_time": "2021-06-17T05:18:30.245Z"
   },
   {
    "duration": 3079,
    "start_time": "2021-06-17T05:18:38.893Z"
   },
   {
    "duration": 2691,
    "start_time": "2021-06-17T05:18:47.630Z"
   },
   {
    "duration": 2673,
    "start_time": "2021-06-17T05:18:57.991Z"
   },
   {
    "duration": 2847,
    "start_time": "2021-06-17T05:19:09.365Z"
   },
   {
    "duration": 2695,
    "start_time": "2021-06-17T05:19:21.687Z"
   },
   {
    "duration": 1483,
    "start_time": "2021-06-17T05:32:14.431Z"
   },
   {
    "duration": 23,
    "start_time": "2021-06-17T05:32:15.916Z"
   },
   {
    "duration": 9,
    "start_time": "2021-06-17T05:32:15.942Z"
   },
   {
    "duration": 23,
    "start_time": "2021-06-17T05:32:15.954Z"
   },
   {
    "duration": 7,
    "start_time": "2021-06-17T05:32:15.979Z"
   },
   {
    "duration": 9,
    "start_time": "2021-06-17T05:32:15.989Z"
   },
   {
    "duration": 30,
    "start_time": "2021-06-17T05:32:16.001Z"
   },
   {
    "duration": 18,
    "start_time": "2021-06-17T05:32:16.035Z"
   },
   {
    "duration": 15,
    "start_time": "2021-06-17T05:32:16.055Z"
   },
   {
    "duration": 61,
    "start_time": "2021-06-17T05:32:16.072Z"
   },
   {
    "duration": 390,
    "start_time": "2021-06-17T05:32:16.135Z"
   },
   {
    "duration": 22,
    "start_time": "2021-06-17T05:32:16.527Z"
   },
   {
    "duration": 7,
    "start_time": "2021-06-17T05:32:16.551Z"
   },
   {
    "duration": 2684,
    "start_time": "2021-06-17T05:32:16.561Z"
   },
   {
    "duration": 18,
    "start_time": "2021-06-17T05:32:19.248Z"
   },
   {
    "duration": 448,
    "start_time": "2021-06-17T05:32:19.269Z"
   },
   {
    "duration": 1686,
    "start_time": "2021-06-17T05:35:59.718Z"
   },
   {
    "duration": 24,
    "start_time": "2021-06-17T05:36:01.410Z"
   },
   {
    "duration": 18,
    "start_time": "2021-06-17T05:36:01.437Z"
   },
   {
    "duration": 27,
    "start_time": "2021-06-17T05:36:01.457Z"
   },
   {
    "duration": 7,
    "start_time": "2021-06-17T05:36:01.487Z"
   },
   {
    "duration": 29,
    "start_time": "2021-06-17T05:36:01.496Z"
   },
   {
    "duration": 9,
    "start_time": "2021-06-17T05:36:01.528Z"
   },
   {
    "duration": 19,
    "start_time": "2021-06-17T05:36:01.541Z"
   },
   {
    "duration": 18,
    "start_time": "2021-06-17T05:36:01.563Z"
   },
   {
    "duration": 53,
    "start_time": "2021-06-17T05:36:01.584Z"
   },
   {
    "duration": 389,
    "start_time": "2021-06-17T05:36:01.639Z"
   },
   {
    "duration": 22,
    "start_time": "2021-06-17T05:36:02.031Z"
   },
   {
    "duration": 17,
    "start_time": "2021-06-17T05:36:02.056Z"
   },
   {
    "duration": 2664,
    "start_time": "2021-06-17T05:36:02.075Z"
   },
   {
    "duration": 20,
    "start_time": "2021-06-17T05:36:04.741Z"
   },
   {
    "duration": 464,
    "start_time": "2021-06-17T05:36:04.764Z"
   },
   {
    "duration": 7,
    "start_time": "2021-06-17T05:39:56.243Z"
   },
   {
    "duration": 7,
    "start_time": "2021-06-17T05:40:01.074Z"
   },
   {
    "duration": 363,
    "start_time": "2021-06-17T05:49:10.961Z"
   },
   {
    "duration": 455,
    "start_time": "2021-06-17T05:49:22.494Z"
   },
   {
    "duration": 360,
    "start_time": "2021-06-17T05:50:07.550Z"
   },
   {
    "duration": 1483,
    "start_time": "2021-06-17T05:53:22.022Z"
   },
   {
    "duration": 24,
    "start_time": "2021-06-17T05:53:23.508Z"
   },
   {
    "duration": 24,
    "start_time": "2021-06-17T05:53:23.535Z"
   },
   {
    "duration": 28,
    "start_time": "2021-06-17T05:53:23.562Z"
   },
   {
    "duration": 8,
    "start_time": "2021-06-17T05:53:23.593Z"
   },
   {
    "duration": 23,
    "start_time": "2021-06-17T05:53:23.604Z"
   },
   {
    "duration": 7,
    "start_time": "2021-06-17T05:53:23.630Z"
   },
   {
    "duration": 19,
    "start_time": "2021-06-17T05:53:23.641Z"
   },
   {
    "duration": 18,
    "start_time": "2021-06-17T05:53:23.663Z"
   },
   {
    "duration": 57,
    "start_time": "2021-06-17T05:53:23.683Z"
   },
   {
    "duration": 402,
    "start_time": "2021-06-17T05:53:23.743Z"
   },
   {
    "duration": 22,
    "start_time": "2021-06-17T05:53:24.148Z"
   },
   {
    "duration": 7,
    "start_time": "2021-06-17T05:53:24.172Z"
   },
   {
    "duration": 2723,
    "start_time": "2021-06-17T05:53:24.181Z"
   },
   {
    "duration": 29,
    "start_time": "2021-06-17T05:53:26.906Z"
   },
   {
    "duration": 458,
    "start_time": "2021-06-17T05:53:26.938Z"
   },
   {
    "duration": 380,
    "start_time": "2021-06-17T07:42:52.260Z"
   },
   {
    "duration": 509,
    "start_time": "2021-06-17T07:43:16.216Z"
   },
   {
    "duration": 378,
    "start_time": "2021-06-17T07:43:23.536Z"
   },
   {
    "duration": 2794,
    "start_time": "2021-06-17T07:44:30.178Z"
   },
   {
    "duration": 442,
    "start_time": "2021-06-17T07:45:16.401Z"
   },
   {
    "duration": 433,
    "start_time": "2021-06-17T07:45:22.721Z"
   },
   {
    "duration": 438,
    "start_time": "2021-06-17T07:45:31.025Z"
   },
   {
    "duration": 30,
    "start_time": "2021-06-17T07:54:33.337Z"
   },
   {
    "duration": 31,
    "start_time": "2021-06-17T07:54:49.764Z"
   },
   {
    "duration": 1532,
    "start_time": "2021-06-17T07:55:13.815Z"
   },
   {
    "duration": 23,
    "start_time": "2021-06-17T07:55:15.350Z"
   },
   {
    "duration": 14,
    "start_time": "2021-06-17T07:55:15.376Z"
   },
   {
    "duration": 29,
    "start_time": "2021-06-17T07:55:15.392Z"
   },
   {
    "duration": 12,
    "start_time": "2021-06-17T07:55:15.425Z"
   },
   {
    "duration": 15,
    "start_time": "2021-06-17T07:55:15.440Z"
   },
   {
    "duration": 10,
    "start_time": "2021-06-17T07:55:15.459Z"
   },
   {
    "duration": 54,
    "start_time": "2021-06-17T07:55:15.474Z"
   },
   {
    "duration": 24,
    "start_time": "2021-06-17T07:55:15.531Z"
   },
   {
    "duration": 31,
    "start_time": "2021-06-17T07:55:15.558Z"
   },
   {
    "duration": 408,
    "start_time": "2021-06-17T07:55:15.591Z"
   },
   {
    "duration": 43,
    "start_time": "2021-06-17T07:55:16.001Z"
   },
   {
    "duration": 13,
    "start_time": "2021-06-17T07:55:16.046Z"
   },
   {
    "duration": 2766,
    "start_time": "2021-06-17T07:55:16.061Z"
   },
   {
    "duration": 19,
    "start_time": "2021-06-17T07:55:18.830Z"
   },
   {
    "duration": 453,
    "start_time": "2021-06-17T07:55:18.852Z"
   },
   {
    "duration": 456,
    "start_time": "2021-06-17T08:20:20.774Z"
   },
   {
    "duration": 1525,
    "start_time": "2021-06-17T08:20:28.695Z"
   },
   {
    "duration": 30,
    "start_time": "2021-06-17T08:20:30.227Z"
   },
   {
    "duration": 15,
    "start_time": "2021-06-17T08:20:30.261Z"
   },
   {
    "duration": 28,
    "start_time": "2021-06-17T08:20:30.280Z"
   },
   {
    "duration": 22,
    "start_time": "2021-06-17T08:20:30.311Z"
   },
   {
    "duration": 11,
    "start_time": "2021-06-17T08:20:30.336Z"
   },
   {
    "duration": 12,
    "start_time": "2021-06-17T08:20:30.350Z"
   },
   {
    "duration": 31,
    "start_time": "2021-06-17T08:20:30.365Z"
   },
   {
    "duration": 18,
    "start_time": "2021-06-17T08:20:30.424Z"
   },
   {
    "duration": 38,
    "start_time": "2021-06-17T08:20:30.444Z"
   },
   {
    "duration": 430,
    "start_time": "2021-06-17T08:20:30.484Z"
   },
   {
    "duration": 38,
    "start_time": "2021-06-17T08:20:30.916Z"
   },
   {
    "duration": 8,
    "start_time": "2021-06-17T08:20:30.957Z"
   },
   {
    "duration": 4453,
    "start_time": "2021-06-17T08:20:30.968Z"
   },
   {
    "duration": 30,
    "start_time": "2021-06-17T08:20:35.426Z"
   },
   {
    "duration": 482,
    "start_time": "2021-06-17T08:20:35.459Z"
   },
   {
    "duration": 1986,
    "start_time": "2021-06-17T09:11:34.590Z"
   },
   {
    "duration": 32,
    "start_time": "2021-06-17T09:11:36.584Z"
   },
   {
    "duration": 23,
    "start_time": "2021-06-17T09:11:36.620Z"
   },
   {
    "duration": 38,
    "start_time": "2021-06-17T09:11:36.647Z"
   },
   {
    "duration": 22,
    "start_time": "2021-06-17T09:11:36.688Z"
   },
   {
    "duration": 14,
    "start_time": "2021-06-17T09:11:36.714Z"
   },
   {
    "duration": 17,
    "start_time": "2021-06-17T09:11:36.731Z"
   },
   {
    "duration": 54,
    "start_time": "2021-06-17T09:11:36.753Z"
   },
   {
    "duration": 29,
    "start_time": "2021-06-17T09:11:36.811Z"
   },
   {
    "duration": 36,
    "start_time": "2021-06-17T09:11:37.471Z"
   },
   {
    "duration": 283,
    "start_time": "2021-06-17T09:11:37.670Z"
   },
   {
    "duration": 32,
    "start_time": "2021-06-17T09:11:38.199Z"
   },
   {
    "duration": 7,
    "start_time": "2021-06-17T09:11:38.348Z"
   },
   {
    "duration": 2302,
    "start_time": "2021-06-17T09:11:38.528Z"
   },
   {
    "duration": 20,
    "start_time": "2021-06-17T09:11:40.833Z"
   },
   {
    "duration": 349,
    "start_time": "2021-06-17T09:11:40.857Z"
   }
  ],
  "kernelspec": {
   "display_name": "Python 3",
   "language": "python",
   "name": "python3"
  },
  "language_info": {
   "codemirror_mode": {
    "name": "ipython",
    "version": 3
   },
   "file_extension": ".py",
   "mimetype": "text/x-python",
   "name": "python",
   "nbconvert_exporter": "python",
   "pygments_lexer": "ipython3",
   "version": "3.7.8"
  },
  "toc": {
   "base_numbering": 1,
   "nav_menu": {},
   "number_sections": true,
   "sideBar": false,
   "skip_h1_title": true,
   "title_cell": "Содержание",
   "title_sidebar": "Contents",
   "toc_cell": true,
   "toc_position": {
    "height": "47px",
    "left": "1119px",
    "top": "657px",
    "width": "159px"
   },
   "toc_section_display": false,
   "toc_window_display": true
  }
 },
 "nbformat": 4,
 "nbformat_minor": 2
}
