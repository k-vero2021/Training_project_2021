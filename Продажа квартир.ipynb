{
 "cells": [
  {
   "cell_type": "markdown",
   "metadata": {},
   "source": [
    "# Исследование объявлений о продаже квартир\n",
    "\n",
    "В вашем распоряжении данные сервиса — архив объявлений о продаже квартир в Санкт-Петербурге и соседних населённых пунктах за несколько лет. Нужно научиться определять рыночную стоимость объектов недвижимости. Ваша задача — установить параметры. Это позволит ***построить автоматизированную систему: она отследит аномалии и мошенническую деятельность.*** \n",
    "\n",
    "По каждой квартире на продажу доступны два вида данных. Первые вписаны пользователем, вторые — получены автоматически на основе картографических данных. Например, расстояние до центра, аэропорта, ближайшего парка и водоёма. "
   ]
  },
  {
   "cell_type": "markdown",
   "metadata": {},
   "source": [
    "### ПЛАН\n",
    "\n",
    "<br>[Шаг 1. Файл с данными и изучение общей информации](#step1)\n",
    "<br>[Шаг 2. Предобработка данных](#step2)\n",
    "<br>[Шаг 3. Подсчет и добавление в таблицу данных](#step3)\n",
    "<br>[Шаг 4. Проведение исследовательского анализа данных и выполнение инструкции](#step4)\n",
    "<br>[4.1. Показатели: площадь, цена, число комнат, высота потолков](#step5)\n",
    "<br>[4.2. Время продажи квартиры](#step6)\n",
    "<br>[4.3. Редкие и выбивающиеся значения, их особенности.](#step7)\n",
    "<br>[4.4. Факторы влияющие на стоимость квартиры в Санкт-Петербурге #1](#step8)\n",
    "<br>[4.5. Квартиры в Санкт-Петербурге_градация по км_область центра_средняя цена км #2](#step9)\n",
    "<br>[4.6. Сегмент квартир в центре Санкт-Петербурга: площадь, цена, число комнат, высота потолков. Факторы, влияющие на стоимость квартиры (число комнат, этаж, удалённость от центра, дата размещения объявления) #3](#step10)\n",
    "<br>[Шаг 5. Общий вывод](#step11)"
   ]
  },
  {
   "cell_type": "markdown",
   "metadata": {},
   "source": [
    "### Шаг 1. Файл с данными и изучение общей информации <a id='step1'></a>"
   ]
  },
  {
   "cell_type": "code",
   "execution_count": 1,
   "metadata": {},
   "outputs": [],
   "source": [
    "import pandas as pd #загрузка библиотеки pandas\n",
    "import numpy as np\n",
    "import matplotlib.pyplot as plt\n",
    "import seaborn as sns"
   ]
  },
  {
   "cell_type": "code",
   "execution_count": 2,
   "metadata": {},
   "outputs": [
    {
     "data": {
      "text/html": [
       "<div>\n",
       "<style scoped>\n",
       "    .dataframe tbody tr th:only-of-type {\n",
       "        vertical-align: middle;\n",
       "    }\n",
       "\n",
       "    .dataframe tbody tr th {\n",
       "        vertical-align: top;\n",
       "    }\n",
       "\n",
       "    .dataframe thead th {\n",
       "        text-align: right;\n",
       "    }\n",
       "</style>\n",
       "<table border=\"1\" class=\"dataframe\">\n",
       "  <thead>\n",
       "    <tr style=\"text-align: right;\">\n",
       "      <th></th>\n",
       "      <th>total_images</th>\n",
       "      <th>last_price</th>\n",
       "      <th>total_area</th>\n",
       "      <th>first_day_exposition</th>\n",
       "      <th>rooms</th>\n",
       "      <th>ceiling_height</th>\n",
       "      <th>floors_total</th>\n",
       "      <th>living_area</th>\n",
       "      <th>floor</th>\n",
       "      <th>is_apartment</th>\n",
       "      <th>studio</th>\n",
       "      <th>open_plan</th>\n",
       "      <th>kitchen_area</th>\n",
       "      <th>balcony</th>\n",
       "      <th>locality_name</th>\n",
       "      <th>airports_nearest</th>\n",
       "      <th>cityCenters_nearest</th>\n",
       "      <th>parks_around3000</th>\n",
       "      <th>parks_nearest</th>\n",
       "      <th>ponds_around3000</th>\n",
       "      <th>ponds_nearest</th>\n",
       "      <th>days_exposition</th>\n",
       "    </tr>\n",
       "  </thead>\n",
       "  <tbody>\n",
       "    <tr>\n",
       "      <td>0</td>\n",
       "      <td>20</td>\n",
       "      <td>13000000.0</td>\n",
       "      <td>108.0</td>\n",
       "      <td>2019-03-07T00:00:00</td>\n",
       "      <td>3</td>\n",
       "      <td>2.7</td>\n",
       "      <td>16.0</td>\n",
       "      <td>51.0</td>\n",
       "      <td>8</td>\n",
       "      <td>NaN</td>\n",
       "      <td>False</td>\n",
       "      <td>False</td>\n",
       "      <td>25.0</td>\n",
       "      <td>NaN</td>\n",
       "      <td>Санкт-Петербург</td>\n",
       "      <td>18863.0</td>\n",
       "      <td>16028.0</td>\n",
       "      <td>1.0</td>\n",
       "      <td>482.0</td>\n",
       "      <td>2.0</td>\n",
       "      <td>755.0</td>\n",
       "      <td>NaN</td>\n",
       "    </tr>\n",
       "    <tr>\n",
       "      <td>1</td>\n",
       "      <td>7</td>\n",
       "      <td>3350000.0</td>\n",
       "      <td>40.4</td>\n",
       "      <td>2018-12-04T00:00:00</td>\n",
       "      <td>1</td>\n",
       "      <td>NaN</td>\n",
       "      <td>11.0</td>\n",
       "      <td>18.6</td>\n",
       "      <td>1</td>\n",
       "      <td>NaN</td>\n",
       "      <td>False</td>\n",
       "      <td>False</td>\n",
       "      <td>11.0</td>\n",
       "      <td>2.0</td>\n",
       "      <td>посёлок Шушары</td>\n",
       "      <td>12817.0</td>\n",
       "      <td>18603.0</td>\n",
       "      <td>0.0</td>\n",
       "      <td>NaN</td>\n",
       "      <td>0.0</td>\n",
       "      <td>NaN</td>\n",
       "      <td>81.0</td>\n",
       "    </tr>\n",
       "    <tr>\n",
       "      <td>2</td>\n",
       "      <td>10</td>\n",
       "      <td>5196000.0</td>\n",
       "      <td>56.0</td>\n",
       "      <td>2015-08-20T00:00:00</td>\n",
       "      <td>2</td>\n",
       "      <td>NaN</td>\n",
       "      <td>5.0</td>\n",
       "      <td>34.3</td>\n",
       "      <td>4</td>\n",
       "      <td>NaN</td>\n",
       "      <td>False</td>\n",
       "      <td>False</td>\n",
       "      <td>8.3</td>\n",
       "      <td>0.0</td>\n",
       "      <td>Санкт-Петербург</td>\n",
       "      <td>21741.0</td>\n",
       "      <td>13933.0</td>\n",
       "      <td>1.0</td>\n",
       "      <td>90.0</td>\n",
       "      <td>2.0</td>\n",
       "      <td>574.0</td>\n",
       "      <td>558.0</td>\n",
       "    </tr>\n",
       "    <tr>\n",
       "      <td>3</td>\n",
       "      <td>0</td>\n",
       "      <td>64900000.0</td>\n",
       "      <td>159.0</td>\n",
       "      <td>2015-07-24T00:00:00</td>\n",
       "      <td>3</td>\n",
       "      <td>NaN</td>\n",
       "      <td>14.0</td>\n",
       "      <td>NaN</td>\n",
       "      <td>9</td>\n",
       "      <td>NaN</td>\n",
       "      <td>False</td>\n",
       "      <td>False</td>\n",
       "      <td>NaN</td>\n",
       "      <td>0.0</td>\n",
       "      <td>Санкт-Петербург</td>\n",
       "      <td>28098.0</td>\n",
       "      <td>6800.0</td>\n",
       "      <td>2.0</td>\n",
       "      <td>84.0</td>\n",
       "      <td>3.0</td>\n",
       "      <td>234.0</td>\n",
       "      <td>424.0</td>\n",
       "    </tr>\n",
       "    <tr>\n",
       "      <td>4</td>\n",
       "      <td>2</td>\n",
       "      <td>10000000.0</td>\n",
       "      <td>100.0</td>\n",
       "      <td>2018-06-19T00:00:00</td>\n",
       "      <td>2</td>\n",
       "      <td>3.03</td>\n",
       "      <td>14.0</td>\n",
       "      <td>32.0</td>\n",
       "      <td>13</td>\n",
       "      <td>NaN</td>\n",
       "      <td>False</td>\n",
       "      <td>False</td>\n",
       "      <td>41.0</td>\n",
       "      <td>NaN</td>\n",
       "      <td>Санкт-Петербург</td>\n",
       "      <td>31856.0</td>\n",
       "      <td>8098.0</td>\n",
       "      <td>2.0</td>\n",
       "      <td>112.0</td>\n",
       "      <td>1.0</td>\n",
       "      <td>48.0</td>\n",
       "      <td>121.0</td>\n",
       "    </tr>\n",
       "    <tr>\n",
       "      <td>5</td>\n",
       "      <td>10</td>\n",
       "      <td>2890000.0</td>\n",
       "      <td>30.4</td>\n",
       "      <td>2018-09-10T00:00:00</td>\n",
       "      <td>1</td>\n",
       "      <td>NaN</td>\n",
       "      <td>12.0</td>\n",
       "      <td>14.4</td>\n",
       "      <td>5</td>\n",
       "      <td>NaN</td>\n",
       "      <td>False</td>\n",
       "      <td>False</td>\n",
       "      <td>9.1</td>\n",
       "      <td>NaN</td>\n",
       "      <td>городской посёлок Янино-1</td>\n",
       "      <td>NaN</td>\n",
       "      <td>NaN</td>\n",
       "      <td>NaN</td>\n",
       "      <td>NaN</td>\n",
       "      <td>NaN</td>\n",
       "      <td>NaN</td>\n",
       "      <td>55.0</td>\n",
       "    </tr>\n",
       "    <tr>\n",
       "      <td>6</td>\n",
       "      <td>6</td>\n",
       "      <td>3700000.0</td>\n",
       "      <td>37.3</td>\n",
       "      <td>2017-11-02T00:00:00</td>\n",
       "      <td>1</td>\n",
       "      <td>NaN</td>\n",
       "      <td>26.0</td>\n",
       "      <td>10.6</td>\n",
       "      <td>6</td>\n",
       "      <td>NaN</td>\n",
       "      <td>False</td>\n",
       "      <td>False</td>\n",
       "      <td>14.4</td>\n",
       "      <td>1.0</td>\n",
       "      <td>посёлок Парголово</td>\n",
       "      <td>52996.0</td>\n",
       "      <td>19143.0</td>\n",
       "      <td>0.0</td>\n",
       "      <td>NaN</td>\n",
       "      <td>0.0</td>\n",
       "      <td>NaN</td>\n",
       "      <td>155.0</td>\n",
       "    </tr>\n",
       "  </tbody>\n",
       "</table>\n",
       "</div>"
      ],
      "text/plain": [
       "   total_images  last_price total_area first_day_exposition  rooms  \\\n",
       "0            20  13000000.0      108.0  2019-03-07T00:00:00      3   \n",
       "1             7   3350000.0       40.4  2018-12-04T00:00:00      1   \n",
       "2            10   5196000.0       56.0  2015-08-20T00:00:00      2   \n",
       "3             0  64900000.0      159.0  2015-07-24T00:00:00      3   \n",
       "4             2  10000000.0      100.0  2018-06-19T00:00:00      2   \n",
       "5            10   2890000.0       30.4  2018-09-10T00:00:00      1   \n",
       "6             6   3700000.0       37.3  2017-11-02T00:00:00      1   \n",
       "\n",
       "  ceiling_height floors_total living_area  floor is_apartment  studio  \\\n",
       "0            2.7         16.0        51.0      8          NaN   False   \n",
       "1            NaN         11.0        18.6      1          NaN   False   \n",
       "2            NaN          5.0        34.3      4          NaN   False   \n",
       "3            NaN         14.0         NaN      9          NaN   False   \n",
       "4           3.03         14.0        32.0     13          NaN   False   \n",
       "5            NaN         12.0        14.4      5          NaN   False   \n",
       "6            NaN         26.0        10.6      6          NaN   False   \n",
       "\n",
       "   open_plan kitchen_area balcony              locality_name airports_nearest  \\\n",
       "0      False         25.0     NaN            Санкт-Петербург          18863.0   \n",
       "1      False         11.0     2.0             посёлок Шушары          12817.0   \n",
       "2      False          8.3     0.0            Санкт-Петербург          21741.0   \n",
       "3      False          NaN     0.0            Санкт-Петербург          28098.0   \n",
       "4      False         41.0     NaN            Санкт-Петербург          31856.0   \n",
       "5      False          9.1     NaN  городской посёлок Янино-1              NaN   \n",
       "6      False         14.4     1.0          посёлок Парголово          52996.0   \n",
       "\n",
       "  cityCenters_nearest parks_around3000 parks_nearest ponds_around3000  \\\n",
       "0             16028.0              1.0         482.0              2.0   \n",
       "1             18603.0              0.0           NaN              0.0   \n",
       "2             13933.0              1.0          90.0              2.0   \n",
       "3              6800.0              2.0          84.0              3.0   \n",
       "4              8098.0              2.0         112.0              1.0   \n",
       "5                 NaN              NaN           NaN              NaN   \n",
       "6             19143.0              0.0           NaN              0.0   \n",
       "\n",
       "  ponds_nearest days_exposition  \n",
       "0         755.0             NaN  \n",
       "1           NaN            81.0  \n",
       "2         574.0           558.0  \n",
       "3         234.0           424.0  \n",
       "4          48.0           121.0  \n",
       "5           NaN            55.0  \n",
       "6           NaN           155.0  "
      ]
     },
     "execution_count": 2,
     "metadata": {},
     "output_type": "execute_result"
    }
   ],
   "source": [
    "data = pd.read_csv ('//datasets/real_estate_data.csv', sep='\\t', decimal=',') #чтение файла_ первые 7 строк\n",
    "pd.set_option(\"display.max_columns\",40)\n",
    "data.head(7) "
   ]
  },
  {
   "cell_type": "code",
   "execution_count": 3,
   "metadata": {
    "scrolled": true
   },
   "outputs": [
    {
     "name": "stdout",
     "output_type": "stream",
     "text": [
      "<class 'pandas.core.frame.DataFrame'>\n",
      "RangeIndex: 23699 entries, 0 to 23698\n",
      "Data columns (total 22 columns):\n",
      "total_images            23699 non-null int64\n",
      "last_price              23699 non-null object\n",
      "total_area              23699 non-null object\n",
      "first_day_exposition    23699 non-null object\n",
      "rooms                   23699 non-null int64\n",
      "ceiling_height          14504 non-null object\n",
      "floors_total            23613 non-null object\n",
      "living_area             21796 non-null object\n",
      "floor                   23699 non-null int64\n",
      "is_apartment            2775 non-null object\n",
      "studio                  23699 non-null bool\n",
      "open_plan               23699 non-null bool\n",
      "kitchen_area            21421 non-null object\n",
      "balcony                 12180 non-null object\n",
      "locality_name           23650 non-null object\n",
      "airports_nearest        18157 non-null object\n",
      "cityCenters_nearest     18180 non-null object\n",
      "parks_around3000        18181 non-null object\n",
      "parks_nearest           8079 non-null object\n",
      "ponds_around3000        18181 non-null object\n",
      "ponds_nearest           9110 non-null object\n",
      "days_exposition         20518 non-null object\n",
      "dtypes: bool(2), int64(3), object(17)\n",
      "memory usage: 3.7+ MB\n"
     ]
    }
   ],
   "source": [
    "data.info() #проверка типа данных"
   ]
  },
  {
   "cell_type": "markdown",
   "metadata": {},
   "source": [
    "#### Вывод\n",
    "Представленная выборка имеет 23699 позиций или объектов недвижимости.\n",
    "Большинство с типом данных object- требует замены для дальнейшего анализа выборки.\n",
    "Данные имеют ряд некорректных значений (устранение которых потребуется для проведения анализа и расчетов в проекте):\n",
    "- по столбцам \"last_price\",\"balcony,\"days_exposition\", \"floors_total\" необходима замена формата данных на int;\n",
    "- по \"***_area\" (все площади для расчета процентов далее),\"ceiling_height\", \"cityCenters_nearest\" на float;\n",
    "- по \"balcony\" около 50% значений от общей выборки с \"NaN\"- заменяем на \"0\"- балконов нет или не были указаны при заполнении поля анкеты в системе, в тч некорректное меню ввода, аналогично \"floors_total\"-менее 0,4% выборки;\n",
    "- \"days_exposition\"- 13%, \"ceiling_height\"- 39% на значение median: 95 дней и 2.65м соответственно;\n",
    "- по \"is_apartment\" (аналогия по студии) замена на тип данных bool;\n",
    "- по \"first_day_exposition\" правка по дате, тк время по нулям;\n",
    "- часть показателей (\"parks\", \"ponds\" и тп) имеют скорее справочный интерес- масштабных преобразований не проводим.\n",
    "\n",
    "Большая часть спорных моментов закрывается реализацией заложенной категориальной выборкой (определенных форматов ввода) и фиксацией обязательных пунктов заполнения анкеты при подаче объявления на сайт. \n",
    "<br>Все показатели проверяем итогово по типу данных и виду в таблице выборки. "
   ]
  },
  {
   "cell_type": "markdown",
   "metadata": {},
   "source": []
  },
  {
   "cell_type": "markdown",
   "metadata": {},
   "source": [
    "### Шаг 2. Предобработка данных <a id='step2'></a>"
   ]
  },
  {
   "cell_type": "code",
   "execution_count": 4,
   "metadata": {},
   "outputs": [
    {
     "data": {
      "text/plain": [
       "total_images                0\n",
       "last_price                  0\n",
       "total_area                  0\n",
       "first_day_exposition        0\n",
       "rooms                       0\n",
       "ceiling_height           9195\n",
       "floors_total               86\n",
       "living_area              1903\n",
       "floor                       0\n",
       "is_apartment            20924\n",
       "studio                      0\n",
       "open_plan                   0\n",
       "kitchen_area             2278\n",
       "balcony                 11519\n",
       "locality_name              49\n",
       "airports_nearest         5542\n",
       "cityCenters_nearest      5519\n",
       "parks_around3000         5518\n",
       "parks_nearest           15620\n",
       "ponds_around3000         5518\n",
       "ponds_nearest           14589\n",
       "days_exposition          3181\n",
       "dtype: int64"
      ]
     },
     "execution_count": 4,
     "metadata": {},
     "output_type": "execute_result"
    }
   ],
   "source": [
    "data.isna().sum() #проверка выборки на предмет пропусков"
   ]
  },
  {
   "cell_type": "code",
   "execution_count": 5,
   "metadata": {},
   "outputs": [
    {
     "data": {
      "text/plain": [
       "2.65"
      ]
     },
     "execution_count": 5,
     "metadata": {},
     "output_type": "execute_result"
    }
   ],
   "source": [
    "data['ceiling_height'].median() #метод для расчета медианы"
   ]
  },
  {
   "cell_type": "code",
   "execution_count": 6,
   "metadata": {},
   "outputs": [
    {
     "data": {
      "text/plain": [
       "95.0"
      ]
     },
     "execution_count": 6,
     "metadata": {},
     "output_type": "execute_result"
    }
   ],
   "source": [
    "data['days_exposition'].median()"
   ]
  },
  {
   "cell_type": "code",
   "execution_count": 7,
   "metadata": {},
   "outputs": [],
   "source": [
    "data[['balcony', 'floors_total']] = data[['balcony','floors_total']].fillna(value=0) \n",
    "#заполнение пропущенных значений заменой на 0"
   ]
  },
  {
   "cell_type": "code",
   "execution_count": 10,
   "metadata": {},
   "outputs": [],
   "source": [
    "data['ceiling_height'] = data['ceiling_height'].fillna(2.65) #заполнение пропущенных значений заменой на median\n",
    "data['days_exposition'] = data['days_exposition'].fillna(95.0)    "
   ]
  },
  {
   "cell_type": "code",
   "execution_count": 11,
   "metadata": {},
   "outputs": [
    {
     "data": {
      "text/plain": [
       "total_images                0\n",
       "last_price                  0\n",
       "total_area                  0\n",
       "first_day_exposition        0\n",
       "rooms                       0\n",
       "ceiling_height              0\n",
       "floors_total                0\n",
       "living_area              1903\n",
       "floor                       0\n",
       "is_apartment            20924\n",
       "studio                      0\n",
       "open_plan                   0\n",
       "kitchen_area             2278\n",
       "balcony                     0\n",
       "locality_name              49\n",
       "airports_nearest         5542\n",
       "cityCenters_nearest      5519\n",
       "parks_around3000         5518\n",
       "parks_nearest           15620\n",
       "ponds_around3000         5518\n",
       "ponds_nearest           14589\n",
       "days_exposition             0\n",
       "dtype: int64"
      ]
     },
     "execution_count": 11,
     "metadata": {},
     "output_type": "execute_result"
    }
   ],
   "source": [
    "data.isna().sum()#проверка выборки по результату замены"
   ]
  },
  {
   "cell_type": "code",
   "execution_count": 12,
   "metadata": {},
   "outputs": [],
   "source": [
    "columns = ['ceiling_height', 'total_area', 'living_area', 'kitchen_area', 'cityCenters_nearest', 'last_price', 'balcony', 'days_exposition', 'floors_total']\n",
    "\n",
    "for i in columns:\n",
    "    data[i] = data[i].astype('float64') #замена типа данных с object на float64"
   ]
  },
  {
   "cell_type": "code",
   "execution_count": 13,
   "metadata": {},
   "outputs": [],
   "source": [
    "columns = ['last_price', 'balcony', 'days_exposition', 'floors_total']\n",
    "for i in columns:\n",
    "    data[i] = data[i].astype('int64') #замена типа данных с float64 на int64 "
   ]
  },
  {
   "cell_type": "code",
   "execution_count": 14,
   "metadata": {},
   "outputs": [],
   "source": [
    "data['is_apartment'] = data['is_apartment'].astype('bool') #замена типа данных с object на bool"
   ]
  },
  {
   "cell_type": "code",
   "execution_count": 15,
   "metadata": {},
   "outputs": [],
   "source": [
    "data['first_day_exposition'] = pd.to_datetime(data['first_day_exposition'], format = '%Y-%m-%d') \n",
    "#замена типа данных с object на формат даты"
   ]
  },
  {
   "cell_type": "code",
   "execution_count": 16,
   "metadata": {},
   "outputs": [
    {
     "name": "stdout",
     "output_type": "stream",
     "text": [
      "<class 'pandas.core.frame.DataFrame'>\n",
      "RangeIndex: 23699 entries, 0 to 23698\n",
      "Data columns (total 22 columns):\n",
      "total_images            23699 non-null int64\n",
      "last_price              23699 non-null int64\n",
      "total_area              23699 non-null float64\n",
      "first_day_exposition    23699 non-null datetime64[ns]\n",
      "rooms                   23699 non-null int64\n",
      "ceiling_height          23699 non-null float64\n",
      "floors_total            23699 non-null int64\n",
      "living_area             21796 non-null float64\n",
      "floor                   23699 non-null int64\n",
      "is_apartment            23699 non-null bool\n",
      "studio                  23699 non-null bool\n",
      "open_plan               23699 non-null bool\n",
      "kitchen_area            21421 non-null float64\n",
      "balcony                 23699 non-null int64\n",
      "locality_name           23650 non-null object\n",
      "airports_nearest        18157 non-null object\n",
      "cityCenters_nearest     18180 non-null float64\n",
      "parks_around3000        18181 non-null object\n",
      "parks_nearest           8079 non-null object\n",
      "ponds_around3000        18181 non-null object\n",
      "ponds_nearest           9110 non-null object\n",
      "days_exposition         23699 non-null int64\n",
      "dtypes: bool(3), datetime64[ns](1), float64(5), int64(7), object(6)\n",
      "memory usage: 3.5+ MB\n"
     ]
    }
   ],
   "source": [
    "data.info() #проверка замены на int64, bool, datetime64"
   ]
  },
  {
   "cell_type": "code",
   "execution_count": 17,
   "metadata": {},
   "outputs": [
    {
     "data": {
      "text/html": [
       "<div>\n",
       "<style scoped>\n",
       "    .dataframe tbody tr th:only-of-type {\n",
       "        vertical-align: middle;\n",
       "    }\n",
       "\n",
       "    .dataframe tbody tr th {\n",
       "        vertical-align: top;\n",
       "    }\n",
       "\n",
       "    .dataframe thead th {\n",
       "        text-align: right;\n",
       "    }\n",
       "</style>\n",
       "<table border=\"1\" class=\"dataframe\">\n",
       "  <thead>\n",
       "    <tr style=\"text-align: right;\">\n",
       "      <th></th>\n",
       "      <th>total_images</th>\n",
       "      <th>last_price</th>\n",
       "      <th>total_area</th>\n",
       "      <th>first_day_exposition</th>\n",
       "      <th>rooms</th>\n",
       "      <th>ceiling_height</th>\n",
       "      <th>floors_total</th>\n",
       "      <th>living_area</th>\n",
       "      <th>floor</th>\n",
       "      <th>is_apartment</th>\n",
       "      <th>studio</th>\n",
       "      <th>open_plan</th>\n",
       "      <th>kitchen_area</th>\n",
       "      <th>balcony</th>\n",
       "      <th>locality_name</th>\n",
       "      <th>airports_nearest</th>\n",
       "      <th>cityCenters_nearest</th>\n",
       "      <th>parks_around3000</th>\n",
       "      <th>parks_nearest</th>\n",
       "      <th>ponds_around3000</th>\n",
       "      <th>ponds_nearest</th>\n",
       "      <th>days_exposition</th>\n",
       "    </tr>\n",
       "  </thead>\n",
       "  <tbody>\n",
       "    <tr>\n",
       "      <td>0</td>\n",
       "      <td>20</td>\n",
       "      <td>13000000</td>\n",
       "      <td>108.0</td>\n",
       "      <td>2019-03-07</td>\n",
       "      <td>3</td>\n",
       "      <td>2.70</td>\n",
       "      <td>16</td>\n",
       "      <td>51.0</td>\n",
       "      <td>8</td>\n",
       "      <td>True</td>\n",
       "      <td>False</td>\n",
       "      <td>False</td>\n",
       "      <td>25.0</td>\n",
       "      <td>0</td>\n",
       "      <td>Санкт-Петербург</td>\n",
       "      <td>18863.0</td>\n",
       "      <td>16028.0</td>\n",
       "      <td>1.0</td>\n",
       "      <td>482.0</td>\n",
       "      <td>2.0</td>\n",
       "      <td>755.0</td>\n",
       "      <td>95</td>\n",
       "    </tr>\n",
       "    <tr>\n",
       "      <td>1</td>\n",
       "      <td>7</td>\n",
       "      <td>3350000</td>\n",
       "      <td>40.4</td>\n",
       "      <td>2018-12-04</td>\n",
       "      <td>1</td>\n",
       "      <td>2.65</td>\n",
       "      <td>11</td>\n",
       "      <td>18.6</td>\n",
       "      <td>1</td>\n",
       "      <td>True</td>\n",
       "      <td>False</td>\n",
       "      <td>False</td>\n",
       "      <td>11.0</td>\n",
       "      <td>2</td>\n",
       "      <td>посёлок Шушары</td>\n",
       "      <td>12817.0</td>\n",
       "      <td>18603.0</td>\n",
       "      <td>0.0</td>\n",
       "      <td>NaN</td>\n",
       "      <td>0.0</td>\n",
       "      <td>NaN</td>\n",
       "      <td>81</td>\n",
       "    </tr>\n",
       "    <tr>\n",
       "      <td>2</td>\n",
       "      <td>10</td>\n",
       "      <td>5196000</td>\n",
       "      <td>56.0</td>\n",
       "      <td>2015-08-20</td>\n",
       "      <td>2</td>\n",
       "      <td>2.65</td>\n",
       "      <td>5</td>\n",
       "      <td>34.3</td>\n",
       "      <td>4</td>\n",
       "      <td>True</td>\n",
       "      <td>False</td>\n",
       "      <td>False</td>\n",
       "      <td>8.3</td>\n",
       "      <td>0</td>\n",
       "      <td>Санкт-Петербург</td>\n",
       "      <td>21741.0</td>\n",
       "      <td>13933.0</td>\n",
       "      <td>1.0</td>\n",
       "      <td>90.0</td>\n",
       "      <td>2.0</td>\n",
       "      <td>574.0</td>\n",
       "      <td>558</td>\n",
       "    </tr>\n",
       "    <tr>\n",
       "      <td>3</td>\n",
       "      <td>0</td>\n",
       "      <td>64900000</td>\n",
       "      <td>159.0</td>\n",
       "      <td>2015-07-24</td>\n",
       "      <td>3</td>\n",
       "      <td>2.65</td>\n",
       "      <td>14</td>\n",
       "      <td>NaN</td>\n",
       "      <td>9</td>\n",
       "      <td>True</td>\n",
       "      <td>False</td>\n",
       "      <td>False</td>\n",
       "      <td>NaN</td>\n",
       "      <td>0</td>\n",
       "      <td>Санкт-Петербург</td>\n",
       "      <td>28098.0</td>\n",
       "      <td>6800.0</td>\n",
       "      <td>2.0</td>\n",
       "      <td>84.0</td>\n",
       "      <td>3.0</td>\n",
       "      <td>234.0</td>\n",
       "      <td>424</td>\n",
       "    </tr>\n",
       "    <tr>\n",
       "      <td>4</td>\n",
       "      <td>2</td>\n",
       "      <td>10000000</td>\n",
       "      <td>100.0</td>\n",
       "      <td>2018-06-19</td>\n",
       "      <td>2</td>\n",
       "      <td>3.03</td>\n",
       "      <td>14</td>\n",
       "      <td>32.0</td>\n",
       "      <td>13</td>\n",
       "      <td>True</td>\n",
       "      <td>False</td>\n",
       "      <td>False</td>\n",
       "      <td>41.0</td>\n",
       "      <td>0</td>\n",
       "      <td>Санкт-Петербург</td>\n",
       "      <td>31856.0</td>\n",
       "      <td>8098.0</td>\n",
       "      <td>2.0</td>\n",
       "      <td>112.0</td>\n",
       "      <td>1.0</td>\n",
       "      <td>48.0</td>\n",
       "      <td>121</td>\n",
       "    </tr>\n",
       "    <tr>\n",
       "      <td>5</td>\n",
       "      <td>10</td>\n",
       "      <td>2890000</td>\n",
       "      <td>30.4</td>\n",
       "      <td>2018-09-10</td>\n",
       "      <td>1</td>\n",
       "      <td>2.65</td>\n",
       "      <td>12</td>\n",
       "      <td>14.4</td>\n",
       "      <td>5</td>\n",
       "      <td>True</td>\n",
       "      <td>False</td>\n",
       "      <td>False</td>\n",
       "      <td>9.1</td>\n",
       "      <td>0</td>\n",
       "      <td>городской посёлок Янино-1</td>\n",
       "      <td>NaN</td>\n",
       "      <td>NaN</td>\n",
       "      <td>NaN</td>\n",
       "      <td>NaN</td>\n",
       "      <td>NaN</td>\n",
       "      <td>NaN</td>\n",
       "      <td>55</td>\n",
       "    </tr>\n",
       "    <tr>\n",
       "      <td>6</td>\n",
       "      <td>6</td>\n",
       "      <td>3700000</td>\n",
       "      <td>37.3</td>\n",
       "      <td>2017-11-02</td>\n",
       "      <td>1</td>\n",
       "      <td>2.65</td>\n",
       "      <td>26</td>\n",
       "      <td>10.6</td>\n",
       "      <td>6</td>\n",
       "      <td>True</td>\n",
       "      <td>False</td>\n",
       "      <td>False</td>\n",
       "      <td>14.4</td>\n",
       "      <td>1</td>\n",
       "      <td>посёлок Парголово</td>\n",
       "      <td>52996.0</td>\n",
       "      <td>19143.0</td>\n",
       "      <td>0.0</td>\n",
       "      <td>NaN</td>\n",
       "      <td>0.0</td>\n",
       "      <td>NaN</td>\n",
       "      <td>155</td>\n",
       "    </tr>\n",
       "  </tbody>\n",
       "</table>\n",
       "</div>"
      ],
      "text/plain": [
       "   total_images  last_price  total_area first_day_exposition  rooms  \\\n",
       "0            20    13000000       108.0           2019-03-07      3   \n",
       "1             7     3350000        40.4           2018-12-04      1   \n",
       "2            10     5196000        56.0           2015-08-20      2   \n",
       "3             0    64900000       159.0           2015-07-24      3   \n",
       "4             2    10000000       100.0           2018-06-19      2   \n",
       "5            10     2890000        30.4           2018-09-10      1   \n",
       "6             6     3700000        37.3           2017-11-02      1   \n",
       "\n",
       "   ceiling_height  floors_total  living_area  floor  is_apartment  studio  \\\n",
       "0            2.70            16         51.0      8          True   False   \n",
       "1            2.65            11         18.6      1          True   False   \n",
       "2            2.65             5         34.3      4          True   False   \n",
       "3            2.65            14          NaN      9          True   False   \n",
       "4            3.03            14         32.0     13          True   False   \n",
       "5            2.65            12         14.4      5          True   False   \n",
       "6            2.65            26         10.6      6          True   False   \n",
       "\n",
       "   open_plan  kitchen_area  balcony              locality_name  \\\n",
       "0      False          25.0        0            Санкт-Петербург   \n",
       "1      False          11.0        2             посёлок Шушары   \n",
       "2      False           8.3        0            Санкт-Петербург   \n",
       "3      False           NaN        0            Санкт-Петербург   \n",
       "4      False          41.0        0            Санкт-Петербург   \n",
       "5      False           9.1        0  городской посёлок Янино-1   \n",
       "6      False          14.4        1          посёлок Парголово   \n",
       "\n",
       "  airports_nearest  cityCenters_nearest parks_around3000 parks_nearest  \\\n",
       "0          18863.0              16028.0              1.0         482.0   \n",
       "1          12817.0              18603.0              0.0           NaN   \n",
       "2          21741.0              13933.0              1.0          90.0   \n",
       "3          28098.0               6800.0              2.0          84.0   \n",
       "4          31856.0               8098.0              2.0         112.0   \n",
       "5              NaN                  NaN              NaN           NaN   \n",
       "6          52996.0              19143.0              0.0           NaN   \n",
       "\n",
       "  ponds_around3000 ponds_nearest  days_exposition  \n",
       "0              2.0         755.0               95  \n",
       "1              0.0           NaN               81  \n",
       "2              2.0         574.0              558  \n",
       "3              3.0         234.0              424  \n",
       "4              1.0          48.0              121  \n",
       "5              NaN           NaN               55  \n",
       "6              0.0           NaN              155  "
      ]
     },
     "execution_count": 17,
     "metadata": {},
     "output_type": "execute_result"
    }
   ],
   "source": [
    "pd.set_option(\"display.max_columns\",40)\n",
    "data.head(7) #проверка формата таблицы по столбцам"
   ]
  },
  {
   "cell_type": "markdown",
   "metadata": {},
   "source": [
    "### Шаг 3. Подсчет и добавление в таблицу данных <a id='step3'></a>\n",
    "\n",
    "Для дальнейших расчетов проекта вносим в data столбцы: \"price_per_m2\",\"first_day_exposition_***\" (день недели, месяц, год), \"floor_namber\", \"area_living_to_total_%\" и \"area_kitchen_to_total_%\" также с проверкой на обновление данных."
   ]
  },
  {
   "cell_type": "code",
   "execution_count": 18,
   "metadata": {},
   "outputs": [],
   "source": [
    "#в таблицу: цена квадратного метра \n",
    "data['price_per_m2'] = data['last_price'] / data['total_area'] #отношение столбца цена к общей площади квартиры"
   ]
  },
  {
   "cell_type": "code",
   "execution_count": 19,
   "metadata": {},
   "outputs": [],
   "source": [
    "#в таблицу: день недели, месяц и год публикации объявления\n",
    "data ['first_day_exposition_weekday'] = data['first_day_exposition'].dt.weekday \n",
    "# разнесение по столбцам (день недели-месяц-год) даты публикации объявления о продаже квартиры\n",
    "\n",
    "data ['first_day_exposition_month'] = data['first_day_exposition'].dt.month\n",
    "data ['first_day_exposition_year'] = data['first_day_exposition'].dt.year"
   ]
  },
  {
   "cell_type": "code",
   "execution_count": 20,
   "metadata": {},
   "outputs": [],
   "source": [
    "#в таблицу: этаж квартиры; варианты — первый, последний, другой\n",
    "\n",
    "def floor_namber(row): # цикл для установления 3 категории данных, добавлен столбец 'floor_namber'\n",
    "    floors_total = row['floors_total']\n",
    "    floor = row['floor']\n",
    "    if floor == 1:\n",
    "        return 'первый'\n",
    "    elif floor == floors_total:\n",
    "        return 'последний'\n",
    "    else :\n",
    "        return 'другой'\n",
    "\n",
    "data['floor_namber'] = data.apply(floor_namber, axis = 1)"
   ]
  },
  {
   "cell_type": "code",
   "execution_count": 21,
   "metadata": {},
   "outputs": [],
   "source": [
    "#в таблицу: соотношение жилой и общей площади, а также отношение площади кухни к общей\n",
    "data['area_living_to_total_%'] = data['living_area'] / data['total_area'] # отношение жилой площади к общей\n",
    "data['area_kitchen_to_total_%'] = data['kitchen_area'] / data['total_area'] # отношение площади кухни к общей"
   ]
  },
  {
   "cell_type": "code",
   "execution_count": 22,
   "metadata": {
    "scrolled": false
   },
   "outputs": [
    {
     "data": {
      "text/html": [
       "<div>\n",
       "<style scoped>\n",
       "    .dataframe tbody tr th:only-of-type {\n",
       "        vertical-align: middle;\n",
       "    }\n",
       "\n",
       "    .dataframe tbody tr th {\n",
       "        vertical-align: top;\n",
       "    }\n",
       "\n",
       "    .dataframe thead th {\n",
       "        text-align: right;\n",
       "    }\n",
       "</style>\n",
       "<table border=\"1\" class=\"dataframe\">\n",
       "  <thead>\n",
       "    <tr style=\"text-align: right;\">\n",
       "      <th></th>\n",
       "      <th>total_images</th>\n",
       "      <th>last_price</th>\n",
       "      <th>total_area</th>\n",
       "      <th>first_day_exposition</th>\n",
       "      <th>rooms</th>\n",
       "      <th>ceiling_height</th>\n",
       "      <th>floors_total</th>\n",
       "      <th>living_area</th>\n",
       "      <th>floor</th>\n",
       "      <th>is_apartment</th>\n",
       "      <th>studio</th>\n",
       "      <th>open_plan</th>\n",
       "      <th>kitchen_area</th>\n",
       "      <th>balcony</th>\n",
       "      <th>locality_name</th>\n",
       "      <th>airports_nearest</th>\n",
       "      <th>cityCenters_nearest</th>\n",
       "      <th>parks_around3000</th>\n",
       "      <th>parks_nearest</th>\n",
       "      <th>ponds_around3000</th>\n",
       "      <th>ponds_nearest</th>\n",
       "      <th>days_exposition</th>\n",
       "      <th>price_per_m2</th>\n",
       "      <th>first_day_exposition_weekday</th>\n",
       "      <th>first_day_exposition_month</th>\n",
       "      <th>first_day_exposition_year</th>\n",
       "      <th>floor_namber</th>\n",
       "      <th>area_living_to_total_%</th>\n",
       "      <th>area_kitchen_to_total_%</th>\n",
       "    </tr>\n",
       "  </thead>\n",
       "  <tbody>\n",
       "    <tr>\n",
       "      <td>0</td>\n",
       "      <td>20</td>\n",
       "      <td>13000000</td>\n",
       "      <td>108.0</td>\n",
       "      <td>2019-03-07</td>\n",
       "      <td>3</td>\n",
       "      <td>2.70</td>\n",
       "      <td>16</td>\n",
       "      <td>51.0</td>\n",
       "      <td>8</td>\n",
       "      <td>True</td>\n",
       "      <td>False</td>\n",
       "      <td>False</td>\n",
       "      <td>25.0</td>\n",
       "      <td>0</td>\n",
       "      <td>Санкт-Петербург</td>\n",
       "      <td>18863.0</td>\n",
       "      <td>16028.0</td>\n",
       "      <td>1.0</td>\n",
       "      <td>482.0</td>\n",
       "      <td>2.0</td>\n",
       "      <td>755.0</td>\n",
       "      <td>95</td>\n",
       "      <td>120370.370370</td>\n",
       "      <td>3</td>\n",
       "      <td>3</td>\n",
       "      <td>2019</td>\n",
       "      <td>другой</td>\n",
       "      <td>0.472222</td>\n",
       "      <td>0.231481</td>\n",
       "    </tr>\n",
       "    <tr>\n",
       "      <td>1</td>\n",
       "      <td>7</td>\n",
       "      <td>3350000</td>\n",
       "      <td>40.4</td>\n",
       "      <td>2018-12-04</td>\n",
       "      <td>1</td>\n",
       "      <td>2.65</td>\n",
       "      <td>11</td>\n",
       "      <td>18.6</td>\n",
       "      <td>1</td>\n",
       "      <td>True</td>\n",
       "      <td>False</td>\n",
       "      <td>False</td>\n",
       "      <td>11.0</td>\n",
       "      <td>2</td>\n",
       "      <td>посёлок Шушары</td>\n",
       "      <td>12817.0</td>\n",
       "      <td>18603.0</td>\n",
       "      <td>0.0</td>\n",
       "      <td>NaN</td>\n",
       "      <td>0.0</td>\n",
       "      <td>NaN</td>\n",
       "      <td>81</td>\n",
       "      <td>82920.792079</td>\n",
       "      <td>1</td>\n",
       "      <td>12</td>\n",
       "      <td>2018</td>\n",
       "      <td>первый</td>\n",
       "      <td>0.460396</td>\n",
       "      <td>0.272277</td>\n",
       "    </tr>\n",
       "    <tr>\n",
       "      <td>2</td>\n",
       "      <td>10</td>\n",
       "      <td>5196000</td>\n",
       "      <td>56.0</td>\n",
       "      <td>2015-08-20</td>\n",
       "      <td>2</td>\n",
       "      <td>2.65</td>\n",
       "      <td>5</td>\n",
       "      <td>34.3</td>\n",
       "      <td>4</td>\n",
       "      <td>True</td>\n",
       "      <td>False</td>\n",
       "      <td>False</td>\n",
       "      <td>8.3</td>\n",
       "      <td>0</td>\n",
       "      <td>Санкт-Петербург</td>\n",
       "      <td>21741.0</td>\n",
       "      <td>13933.0</td>\n",
       "      <td>1.0</td>\n",
       "      <td>90.0</td>\n",
       "      <td>2.0</td>\n",
       "      <td>574.0</td>\n",
       "      <td>558</td>\n",
       "      <td>92785.714286</td>\n",
       "      <td>3</td>\n",
       "      <td>8</td>\n",
       "      <td>2015</td>\n",
       "      <td>другой</td>\n",
       "      <td>0.612500</td>\n",
       "      <td>0.148214</td>\n",
       "    </tr>\n",
       "    <tr>\n",
       "      <td>3</td>\n",
       "      <td>0</td>\n",
       "      <td>64900000</td>\n",
       "      <td>159.0</td>\n",
       "      <td>2015-07-24</td>\n",
       "      <td>3</td>\n",
       "      <td>2.65</td>\n",
       "      <td>14</td>\n",
       "      <td>NaN</td>\n",
       "      <td>9</td>\n",
       "      <td>True</td>\n",
       "      <td>False</td>\n",
       "      <td>False</td>\n",
       "      <td>NaN</td>\n",
       "      <td>0</td>\n",
       "      <td>Санкт-Петербург</td>\n",
       "      <td>28098.0</td>\n",
       "      <td>6800.0</td>\n",
       "      <td>2.0</td>\n",
       "      <td>84.0</td>\n",
       "      <td>3.0</td>\n",
       "      <td>234.0</td>\n",
       "      <td>424</td>\n",
       "      <td>408176.100629</td>\n",
       "      <td>4</td>\n",
       "      <td>7</td>\n",
       "      <td>2015</td>\n",
       "      <td>другой</td>\n",
       "      <td>NaN</td>\n",
       "      <td>NaN</td>\n",
       "    </tr>\n",
       "    <tr>\n",
       "      <td>4</td>\n",
       "      <td>2</td>\n",
       "      <td>10000000</td>\n",
       "      <td>100.0</td>\n",
       "      <td>2018-06-19</td>\n",
       "      <td>2</td>\n",
       "      <td>3.03</td>\n",
       "      <td>14</td>\n",
       "      <td>32.0</td>\n",
       "      <td>13</td>\n",
       "      <td>True</td>\n",
       "      <td>False</td>\n",
       "      <td>False</td>\n",
       "      <td>41.0</td>\n",
       "      <td>0</td>\n",
       "      <td>Санкт-Петербург</td>\n",
       "      <td>31856.0</td>\n",
       "      <td>8098.0</td>\n",
       "      <td>2.0</td>\n",
       "      <td>112.0</td>\n",
       "      <td>1.0</td>\n",
       "      <td>48.0</td>\n",
       "      <td>121</td>\n",
       "      <td>100000.000000</td>\n",
       "      <td>1</td>\n",
       "      <td>6</td>\n",
       "      <td>2018</td>\n",
       "      <td>другой</td>\n",
       "      <td>0.320000</td>\n",
       "      <td>0.410000</td>\n",
       "    </tr>\n",
       "    <tr>\n",
       "      <td>5</td>\n",
       "      <td>10</td>\n",
       "      <td>2890000</td>\n",
       "      <td>30.4</td>\n",
       "      <td>2018-09-10</td>\n",
       "      <td>1</td>\n",
       "      <td>2.65</td>\n",
       "      <td>12</td>\n",
       "      <td>14.4</td>\n",
       "      <td>5</td>\n",
       "      <td>True</td>\n",
       "      <td>False</td>\n",
       "      <td>False</td>\n",
       "      <td>9.1</td>\n",
       "      <td>0</td>\n",
       "      <td>городской посёлок Янино-1</td>\n",
       "      <td>NaN</td>\n",
       "      <td>NaN</td>\n",
       "      <td>NaN</td>\n",
       "      <td>NaN</td>\n",
       "      <td>NaN</td>\n",
       "      <td>NaN</td>\n",
       "      <td>55</td>\n",
       "      <td>95065.789474</td>\n",
       "      <td>0</td>\n",
       "      <td>9</td>\n",
       "      <td>2018</td>\n",
       "      <td>другой</td>\n",
       "      <td>0.473684</td>\n",
       "      <td>0.299342</td>\n",
       "    </tr>\n",
       "    <tr>\n",
       "      <td>6</td>\n",
       "      <td>6</td>\n",
       "      <td>3700000</td>\n",
       "      <td>37.3</td>\n",
       "      <td>2017-11-02</td>\n",
       "      <td>1</td>\n",
       "      <td>2.65</td>\n",
       "      <td>26</td>\n",
       "      <td>10.6</td>\n",
       "      <td>6</td>\n",
       "      <td>True</td>\n",
       "      <td>False</td>\n",
       "      <td>False</td>\n",
       "      <td>14.4</td>\n",
       "      <td>1</td>\n",
       "      <td>посёлок Парголово</td>\n",
       "      <td>52996.0</td>\n",
       "      <td>19143.0</td>\n",
       "      <td>0.0</td>\n",
       "      <td>NaN</td>\n",
       "      <td>0.0</td>\n",
       "      <td>NaN</td>\n",
       "      <td>155</td>\n",
       "      <td>99195.710456</td>\n",
       "      <td>3</td>\n",
       "      <td>11</td>\n",
       "      <td>2017</td>\n",
       "      <td>другой</td>\n",
       "      <td>0.284182</td>\n",
       "      <td>0.386059</td>\n",
       "    </tr>\n",
       "  </tbody>\n",
       "</table>\n",
       "</div>"
      ],
      "text/plain": [
       "   total_images  last_price  total_area first_day_exposition  rooms  \\\n",
       "0            20    13000000       108.0           2019-03-07      3   \n",
       "1             7     3350000        40.4           2018-12-04      1   \n",
       "2            10     5196000        56.0           2015-08-20      2   \n",
       "3             0    64900000       159.0           2015-07-24      3   \n",
       "4             2    10000000       100.0           2018-06-19      2   \n",
       "5            10     2890000        30.4           2018-09-10      1   \n",
       "6             6     3700000        37.3           2017-11-02      1   \n",
       "\n",
       "   ceiling_height  floors_total  living_area  floor  is_apartment  studio  \\\n",
       "0            2.70            16         51.0      8          True   False   \n",
       "1            2.65            11         18.6      1          True   False   \n",
       "2            2.65             5         34.3      4          True   False   \n",
       "3            2.65            14          NaN      9          True   False   \n",
       "4            3.03            14         32.0     13          True   False   \n",
       "5            2.65            12         14.4      5          True   False   \n",
       "6            2.65            26         10.6      6          True   False   \n",
       "\n",
       "   open_plan  kitchen_area  balcony              locality_name  \\\n",
       "0      False          25.0        0            Санкт-Петербург   \n",
       "1      False          11.0        2             посёлок Шушары   \n",
       "2      False           8.3        0            Санкт-Петербург   \n",
       "3      False           NaN        0            Санкт-Петербург   \n",
       "4      False          41.0        0            Санкт-Петербург   \n",
       "5      False           9.1        0  городской посёлок Янино-1   \n",
       "6      False          14.4        1          посёлок Парголово   \n",
       "\n",
       "  airports_nearest  cityCenters_nearest parks_around3000 parks_nearest  \\\n",
       "0          18863.0              16028.0              1.0         482.0   \n",
       "1          12817.0              18603.0              0.0           NaN   \n",
       "2          21741.0              13933.0              1.0          90.0   \n",
       "3          28098.0               6800.0              2.0          84.0   \n",
       "4          31856.0               8098.0              2.0         112.0   \n",
       "5              NaN                  NaN              NaN           NaN   \n",
       "6          52996.0              19143.0              0.0           NaN   \n",
       "\n",
       "  ponds_around3000 ponds_nearest  days_exposition   price_per_m2  \\\n",
       "0              2.0         755.0               95  120370.370370   \n",
       "1              0.0           NaN               81   82920.792079   \n",
       "2              2.0         574.0              558   92785.714286   \n",
       "3              3.0         234.0              424  408176.100629   \n",
       "4              1.0          48.0              121  100000.000000   \n",
       "5              NaN           NaN               55   95065.789474   \n",
       "6              0.0           NaN              155   99195.710456   \n",
       "\n",
       "   first_day_exposition_weekday  first_day_exposition_month  \\\n",
       "0                             3                           3   \n",
       "1                             1                          12   \n",
       "2                             3                           8   \n",
       "3                             4                           7   \n",
       "4                             1                           6   \n",
       "5                             0                           9   \n",
       "6                             3                          11   \n",
       "\n",
       "   first_day_exposition_year floor_namber  area_living_to_total_%  \\\n",
       "0                       2019       другой                0.472222   \n",
       "1                       2018       первый                0.460396   \n",
       "2                       2015       другой                0.612500   \n",
       "3                       2015       другой                     NaN   \n",
       "4                       2018       другой                0.320000   \n",
       "5                       2018       другой                0.473684   \n",
       "6                       2017       другой                0.284182   \n",
       "\n",
       "   area_kitchen_to_total_%  \n",
       "0                 0.231481  \n",
       "1                 0.272277  \n",
       "2                 0.148214  \n",
       "3                      NaN  \n",
       "4                 0.410000  \n",
       "5                 0.299342  \n",
       "6                 0.386059  "
      ]
     },
     "execution_count": 22,
     "metadata": {},
     "output_type": "execute_result"
    }
   ],
   "source": [
    "pd.set_option(\"display.max_columns\",40)\n",
    "data.head(7) #проверка добавленных столбцов\n",
    "#data.sample(7)"
   ]
  },
  {
   "cell_type": "markdown",
   "metadata": {},
   "source": [
    "#### Вывод:\n",
    "Для дальнейшего анализа отработаны и проверены обозначенные моменты в представленной выборке, добавлены необходимые столбцы с данными."
   ]
  },
  {
   "cell_type": "markdown",
   "metadata": {},
   "source": [
    "### Шаг 4. Проведение исследовательского анализа данных и выполнение инструкции <a id='step4'></a>"
   ]
  },
  {
   "cell_type": "markdown",
   "metadata": {},
   "source": [
    "Начинаем анализ данных с метода .quantile() или median для исключения \"выбросов\". \n",
    "<br>Исследуемые показатели: площадь, цена, число комнат, высота потолков.\n",
    "<br>По методам и гистограммам .describe(), .value_counts(), .boxplot(), .hist() видны подозрительно высокие значения показателей- частично исключим методом .query(), критерии будут описаны ниже по тексту."
   ]
  },
  {
   "cell_type": "code",
   "execution_count": 23,
   "metadata": {},
   "outputs": [
    {
     "data": {
      "text/plain": [
       "total_images                          9\n",
       "last_price                      4650000\n",
       "total_area                           52\n",
       "rooms                                 2\n",
       "ceiling_height                        2\n",
       "floors_total                          9\n",
       "living_area                          30\n",
       "floor                                 4\n",
       "is_apartment                          1\n",
       "studio                                0\n",
       "open_plan                             0\n",
       "kitchen_area                          9\n",
       "balcony                               0\n",
       "cityCenters_nearest               13098\n",
       "days_exposition                      95\n",
       "price_per_m2                      95000\n",
       "first_day_exposition_weekday          3\n",
       "first_day_exposition_month            6\n",
       "first_day_exposition_year          2017\n",
       "area_living_to_total_%                0\n",
       "area_kitchen_to_total_%               0\n",
       "Name: 0.5, dtype: int64"
      ]
     },
     "execution_count": 23,
     "metadata": {},
     "output_type": "execute_result"
    }
   ],
   "source": [
    "data.quantile().astype('int64') #аналог медианы по перечню столбцов data"
   ]
  },
  {
   "cell_type": "markdown",
   "metadata": {},
   "source": [
    "### 1. Показатели: площадь, цена, число комнат, высота потолков <a id='step5'></a>"
   ]
  },
  {
   "cell_type": "markdown",
   "metadata": {},
   "source": [
    "#####  Общая площадь квартиры"
   ]
  },
  {
   "cell_type": "code",
   "execution_count": 24,
   "metadata": {
    "scrolled": true
   },
   "outputs": [
    {
     "data": {
      "text/plain": [
       "count    23699\n",
       "mean        60\n",
       "std         35\n",
       "min         12\n",
       "25%         40\n",
       "50%         52\n",
       "75%         69\n",
       "max        900\n",
       "Name: total_area, dtype: int64"
      ]
     },
     "execution_count": 24,
     "metadata": {},
     "output_type": "execute_result"
    }
   ],
   "source": [
    "data['total_area'].describe().astype('int64') #числовая характеристика данных, характеризующая разброс величин (стандартное отклонение )"
   ]
  },
  {
   "cell_type": "code",
   "execution_count": 25,
   "metadata": {},
   "outputs": [
    {
     "data": {
      "text/plain": [
       "45.00     419\n",
       "42.00     383\n",
       "60.00     347\n",
       "31.00     346\n",
       "44.00     345\n",
       "         ... \n",
       "45.85       1\n",
       "44.18       1\n",
       "59.83       1\n",
       "127.20      1\n",
       "23.55       1\n",
       "Name: total_area, Length: 2182, dtype: int64"
      ]
     },
     "execution_count": 25,
     "metadata": {},
     "output_type": "execute_result"
    }
   ],
   "source": [
    "data['total_area'].value_counts().astype('int64') #кол-во значений по каждому уникальному"
   ]
  },
  {
   "cell_type": "code",
   "execution_count": 26,
   "metadata": {},
   "outputs": [
    {
     "data": {
      "text/plain": [
       "[Text(0.5, 0, '')]"
      ]
     },
     "execution_count": 26,
     "metadata": {},
     "output_type": "execute_result"
    },
    {
     "data": {
      "image/png": "[encoded data removed]",
      "text/plain": [
       "<Figure size 432x288 with 2 Axes>"
      ]
     },
     "metadata": {
      "needs_background": "light"
     },
     "output_type": "display_data"
    }
   ],
   "source": [
    "#гистограмма и диаграмма размаха для оценки значения переменной с частотой ее появления\n",
    "f, (ax_box, ax_hist) = plt.subplots(2, sharex=True, gridspec_kw={\"height_ratios\": (.30, .70)})\n",
    "sns.boxplot(data[\"total_area\"], ax=ax_box).set_title('Общая площадь')\n",
    "sns.distplot(data[\"total_area\"], ax=ax_hist)\n",
    "ax_box.set(xlabel='')"
   ]
  },
  {
   "cell_type": "markdown",
   "metadata": {},
   "source": [
    "Неравномерность распределение Пуассона- сдвиг в сторону бОльших значений в 900м2 при медиане в 52м2, квартиры от 105м2 допустимо исключить из выборки"
   ]
  },
  {
   "cell_type": "markdown",
   "metadata": {},
   "source": [
    "##### Цена квартиры"
   ]
  },
  {
   "cell_type": "code",
   "execution_count": 27,
   "metadata": {},
   "outputs": [
    {
     "data": {
      "text/plain": [
       "count    23699\n",
       "mean         6\n",
       "std         10\n",
       "min          0\n",
       "25%          3\n",
       "50%          4\n",
       "75%          6\n",
       "max        763\n",
       "Name: last_price, dtype: int64"
      ]
     },
     "execution_count": 27,
     "metadata": {},
     "output_type": "execute_result"
    }
   ],
   "source": [
    "data['last_price'] = data['last_price'] / 1000000 # цена_в млн.руб.\n",
    "data['last_price'].describe().astype('int64')"
   ]
  },
  {
   "cell_type": "code",
   "execution_count": 28,
   "metadata": {},
   "outputs": [
    {
     "data": {
      "text/plain": [
       "4.500000    342\n",
       "3.500000    291\n",
       "4.000000    260\n",
       "4.300000    260\n",
       "4.200000    259\n",
       "           ... \n",
       "7.849000      1\n",
       "1.440000      1\n",
       "7.398000      1\n",
       "7.888000      1\n",
       "5.556275      1\n",
       "Name: last_price, Length: 2978, dtype: int64"
      ]
     },
     "execution_count": 28,
     "metadata": {},
     "output_type": "execute_result"
    }
   ],
   "source": [
    "data['last_price'].value_counts()"
   ]
  },
  {
   "cell_type": "code",
   "execution_count": 29,
   "metadata": {},
   "outputs": [
    {
     "data": {
      "text/plain": [
       "[Text(0.5, 0, '')]"
      ]
     },
     "execution_count": 29,
     "metadata": {},
     "output_type": "execute_result"
    },
    {
     "data": {
      "image/png": "[encoded data removed]",
      "text/plain": [
       "<Figure size 432x288 with 2 Axes>"
      ]
     },
     "metadata": {
      "needs_background": "light"
     },
     "output_type": "display_data"
    }
   ],
   "source": [
    "f, (ax_box, ax_hist) = plt.subplots(2, sharex=True, gridspec_kw={\"height_ratios\": (.30, .70)})\n",
    "sns.boxplot(data[\"last_price\"], ax=ax_box).set_title('Цена')\n",
    "sns.distplot(data[\"last_price\"], ax=ax_hist)\n",
    "ax_box.set(xlabel='')"
   ]
  },
  {
   "cell_type": "markdown",
   "metadata": {},
   "source": [
    "По разбросу цен правильно оставить в выборке и ориентироваться на диапазон цен в 0.4-9.4 млн.руб. исходя из значений медианы"
   ]
  },
  {
   "cell_type": "markdown",
   "metadata": {},
   "source": [
    "##### Количество комнат в квартире"
   ]
  },
  {
   "cell_type": "code",
   "execution_count": 30,
   "metadata": {},
   "outputs": [
    {
     "data": {
      "text/plain": [
       "count    23699\n",
       "mean         2\n",
       "std          1\n",
       "min          0\n",
       "25%          1\n",
       "50%          2\n",
       "75%          3\n",
       "max         19\n",
       "Name: rooms, dtype: int64"
      ]
     },
     "execution_count": 30,
     "metadata": {},
     "output_type": "execute_result"
    }
   ],
   "source": [
    "data['rooms'].describe().astype('int64')  #число комнат"
   ]
  },
  {
   "cell_type": "code",
   "execution_count": 31,
   "metadata": {},
   "outputs": [
    {
     "data": {
      "text/plain": [
       "1     8047\n",
       "2     7940\n",
       "3     5814\n",
       "4     1180\n",
       "5      326\n",
       "0      197\n",
       "6      105\n",
       "7       59\n",
       "8       12\n",
       "9        8\n",
       "10       3\n",
       "14       2\n",
       "11       2\n",
       "19       1\n",
       "12       1\n",
       "16       1\n",
       "15       1\n",
       "Name: rooms, dtype: int64"
      ]
     },
     "execution_count": 31,
     "metadata": {},
     "output_type": "execute_result"
    }
   ],
   "source": [
    "data['rooms'].value_counts() "
   ]
  },
  {
   "cell_type": "code",
   "execution_count": 32,
   "metadata": {},
   "outputs": [
    {
     "data": {
      "text/plain": [
       "[Text(0.5, 0, '')]"
      ]
     },
     "execution_count": 32,
     "metadata": {},
     "output_type": "execute_result"
    },
    {
     "data": {
      "image/png": "[encoded data removed]",
      "text/plain": [
       "<Figure size 432x288 with 2 Axes>"
      ]
     },
     "metadata": {
      "needs_background": "light"
     },
     "output_type": "display_data"
    }
   ],
   "source": [
    "f, (ax_box, ax_hist) = plt.subplots(2, sharex=True, gridspec_kw={\"height_ratios\": (.30, .70)})\n",
    "sns.boxplot(data[\"rooms\"], ax=ax_box).set_title('Количество комнат')\n",
    "sns.distplot(data[\"rooms\"], ax=ax_hist)\n",
    "ax_box.set(xlabel='')"
   ]
  },
  {
   "cell_type": "markdown",
   "metadata": {},
   "source": [
    "БОльшая доля 1-2 комн.квартир, реальные данные- не больше 6 комнат, остальные возможно исключить из выборки"
   ]
  },
  {
   "cell_type": "markdown",
   "metadata": {},
   "source": [
    "##### Высота потолков в квартире"
   ]
  },
  {
   "cell_type": "code",
   "execution_count": 33,
   "metadata": {},
   "outputs": [
    {
     "data": {
      "text/plain": [
       "count    23699.000000\n",
       "mean         2.724358\n",
       "std          0.988298\n",
       "min          1.000000\n",
       "25%          2.600000\n",
       "50%          2.650000\n",
       "75%          2.700000\n",
       "max        100.000000\n",
       "Name: ceiling_height, dtype: float64"
      ]
     },
     "execution_count": 33,
     "metadata": {},
     "output_type": "execute_result"
    }
   ],
   "source": [
    "data['ceiling_height'].describe() #высота потолков"
   ]
  },
  {
   "cell_type": "code",
   "execution_count": 34,
   "metadata": {},
   "outputs": [
    {
     "data": {
      "text/plain": [
       "2.65      9871\n",
       "2.50      3515\n",
       "2.60      1646\n",
       "2.70      1574\n",
       "3.00      1112\n",
       "          ... \n",
       "3.98         1\n",
       "4.65         1\n",
       "5.80         1\n",
       "4.90         1\n",
       "100.00       1\n",
       "Name: ceiling_height, Length: 183, dtype: int64"
      ]
     },
     "execution_count": 34,
     "metadata": {},
     "output_type": "execute_result"
    }
   ],
   "source": [
    "data['ceiling_height'].value_counts() "
   ]
  },
  {
   "cell_type": "code",
   "execution_count": 35,
   "metadata": {},
   "outputs": [
    {
     "data": {
      "text/plain": [
       "[Text(0.5, 0, '')]"
      ]
     },
     "execution_count": 35,
     "metadata": {},
     "output_type": "execute_result"
    },
    {
     "data": {
      "image/png": "[encoded data removed]",
      "text/plain": [
       "<Figure size 432x288 with 2 Axes>"
      ]
     },
     "metadata": {
      "needs_background": "light"
     },
     "output_type": "display_data"
    }
   ],
   "source": [
    "f, (ax_box, ax_hist) = plt.subplots(2, sharex=True, gridspec_kw={\"height_ratios\": (.30, .70)})\n",
    "sns.boxplot(data[\"ceiling_height\"], ax=ax_box).set_title('Высота потолков')\n",
    "sns.distplot(data[\"ceiling_height\"], ax=ax_hist)\n",
    "ax_box.set(xlabel='')"
   ]
  },
  {
   "cell_type": "markdown",
   "metadata": {},
   "source": [
    "Норма в жилых помещениях (в тч частных домах)- 2.5-3.5м, остальные правильно будет исключить из выборки"
   ]
  },
  {
   "cell_type": "markdown",
   "metadata": {},
   "source": [
    "### 2. Время продажи квартиры<a id='step6'></a>"
   ]
  },
  {
   "cell_type": "code",
   "execution_count": 36,
   "metadata": {},
   "outputs": [
    {
     "data": {
      "text/plain": [
       "count    23699\n",
       "mean       169\n",
       "std        206\n",
       "min          1\n",
       "25%         45\n",
       "50%         95\n",
       "75%        199\n",
       "max       1580\n",
       "Name: days_exposition, dtype: int64"
      ]
     },
     "execution_count": 36,
     "metadata": {},
     "output_type": "execute_result"
    }
   ],
   "source": [
    "data['days_exposition'].describe().astype('int64') "
   ]
  },
  {
   "cell_type": "code",
   "execution_count": 37,
   "metadata": {},
   "outputs": [
    {
     "data": {
      "text/plain": [
       "95      3245\n",
       "45       880\n",
       "60       538\n",
       "7        234\n",
       "30       208\n",
       "        ... \n",
       "807        1\n",
       "871        1\n",
       "951        1\n",
       "999        1\n",
       "1223       1\n",
       "Name: days_exposition, Length: 1141, dtype: int64"
      ]
     },
     "execution_count": 37,
     "metadata": {},
     "output_type": "execute_result"
    }
   ],
   "source": [
    "data['days_exposition'].value_counts() "
   ]
  },
  {
   "cell_type": "code",
   "execution_count": 38,
   "metadata": {},
   "outputs": [
    {
     "data": {
      "text/plain": [
       "[Text(0.5, 0, '')]"
      ]
     },
     "execution_count": 38,
     "metadata": {},
     "output_type": "execute_result"
    },
    {
     "data": {
      "image/png": "[encoded data removed]",
      "text/plain": [
       "<Figure size 432x288 with 2 Axes>"
      ]
     },
     "metadata": {
      "needs_background": "light"
     },
     "output_type": "display_data"
    }
   ],
   "source": [
    "f, (ax_box, ax_hist) = plt.subplots(2, sharex=True, gridspec_kw={\"height_ratios\": (.30, .70)})\n",
    "sns.boxplot(data[\"days_exposition\"], ax=ax_box).set_title('Время продажи')\n",
    "sns.distplot(data[\"days_exposition\"], ax=ax_hist)\n",
    "ax_box.set(xlabel='')"
   ]
  },
  {
   "cell_type": "markdown",
   "metadata": {},
   "source": [
    "Разброс количества дней размещения объявлений о продаже отражен на графиках выше.\n",
    "<br>Среднее в 2 раза выше медианы, что говорит о длином хвосте высоких значений до 1580 дней (более 4 лет!?- неузаконенная перепланировка, много собственников в тч за пределами РФ, обременение).\n",
    "<br>В среднем объекты продавались за 1,5-3 мес. (на практике 90 дней в среднем реальный срок) при размещении обьявлений на сайт сроком на 30 дней и далее продление при необходимости.\n",
    "<br>Подозрительная продажа за неделю привлекает внимамание (\"серые схемы\" молниеносной покупки?!), как и эпопея в 4 года.\n",
    "<br>Ориентируюсь на медиану в выборке оптимально оставить данные до 190 дней или 5-6 месяцев. \n",
    "<br>Также более 3000 объектов с количеством дней размещения \"0\" заменены на median по столбцу в 95 суток - с возможной причиной  из-за ошибок выгрузки (перегрузки данных из др.баз), форматов и тп"
   ]
  },
  {
   "cell_type": "markdown",
   "metadata": {},
   "source": [
    "### 3. Редкие и выбивающиеся значения, их особенности <a id='step7'></a>"
   ]
  },
  {
   "cell_type": "markdown",
   "metadata": {},
   "source": [
    "Краткий перечень:\n",
    "<br>~ площадь более 105 кв.м;\n",
    "<br>~ по цене менее 0.4 и более 9.4 млн. рублей;\n",
    "<br>~ 7-комнатная квартира и больше;\n",
    "<br>~ с потолками менее 2,5 м и более 3,5 м;\n",
    "<br>~ состоявшиеся продажи после 6 месяцев или за неделю."
   ]
  },
  {
   "cell_type": "markdown",
   "metadata": {},
   "source": [
    "Для формирования правильной выборки good_data методом .query() проводим фильтрацию по обозначенным пунктам."
   ]
  },
  {
   "cell_type": "code",
   "execution_count": 39,
   "metadata": {},
   "outputs": [],
   "source": [
    "good_data = data.query('total_area < 105') # площадь"
   ]
  },
  {
   "cell_type": "code",
   "execution_count": 40,
   "metadata": {},
   "outputs": [
    {
     "data": {
      "text/plain": [
       "Text(0.5, 1.0, 'Общая площадь_без \"шума\"')"
      ]
     },
     "execution_count": 40,
     "metadata": {},
     "output_type": "execute_result"
    },
    {
     "data": {
      "image/png": "[encoded data removed]",
      "text/plain": [
       "<Figure size 432x288 with 1 Axes>"
      ]
     },
     "metadata": {
      "needs_background": "light"
     },
     "output_type": "display_data"
    }
   ],
   "source": [
    "sns.distplot(good_data['total_area'])\n",
    "plt.title('Общая площадь_без \"шума\"')"
   ]
  },
  {
   "cell_type": "code",
   "execution_count": 41,
   "metadata": {},
   "outputs": [],
   "source": [
    "good_data = data.query('0.4 < last_price < 9.4') # цена"
   ]
  },
  {
   "cell_type": "code",
   "execution_count": 42,
   "metadata": {},
   "outputs": [
    {
     "data": {
      "text/plain": [
       "Text(0.5, 1.0, 'Цена_без \"шума\"')"
      ]
     },
     "execution_count": 42,
     "metadata": {},
     "output_type": "execute_result"
    },
    {
     "data": {
      "image/png": "[encoded data removed]",
      "text/plain": [
       "<Figure size 432x288 with 1 Axes>"
      ]
     },
     "metadata": {
      "needs_background": "light"
     },
     "output_type": "display_data"
    }
   ],
   "source": [
    "sns.distplot(good_data['last_price'])\n",
    "plt.title('Цена_без \"шума\"')"
   ]
  },
  {
   "cell_type": "code",
   "execution_count": 43,
   "metadata": {},
   "outputs": [],
   "source": [
    "good_data = data.query('rooms < 7') # комнаты"
   ]
  },
  {
   "cell_type": "code",
   "execution_count": 44,
   "metadata": {},
   "outputs": [
    {
     "data": {
      "text/plain": [
       "Text(0.5, 1.0, 'Количество комнат_без \"шума\"')"
      ]
     },
     "execution_count": 44,
     "metadata": {},
     "output_type": "execute_result"
    },
    {
     "data": {
      "image/png": "[encoded data removed]",
      "text/plain": [
       "<Figure size 432x288 with 1 Axes>"
      ]
     },
     "metadata": {
      "needs_background": "light"
     },
     "output_type": "display_data"
    }
   ],
   "source": [
    "sns.distplot(good_data['rooms'])\n",
    "plt.title('Количество комнат_без \"шума\"')"
   ]
  },
  {
   "cell_type": "code",
   "execution_count": 45,
   "metadata": {},
   "outputs": [],
   "source": [
    "good_data = data.query('2.5 < ceiling_height < 3.5') # высота потолка"
   ]
  },
  {
   "cell_type": "code",
   "execution_count": 46,
   "metadata": {},
   "outputs": [
    {
     "data": {
      "text/plain": [
       "Text(0.5, 1.0, 'Высота потолков_без \"шума\"')"
      ]
     },
     "execution_count": 46,
     "metadata": {},
     "output_type": "execute_result"
    },
    {
     "data": {
      "image/png": "[encoded data removed]",
      "text/plain": [
       "<Figure size 432x288 with 1 Axes>"
      ]
     },
     "metadata": {
      "needs_background": "light"
     },
     "output_type": "display_data"
    }
   ],
   "source": [
    "sns.distplot(good_data['ceiling_height'])\n",
    "plt.title('Высота потолков_без \"шума\"')"
   ]
  },
  {
   "cell_type": "markdown",
   "metadata": {},
   "source": [
    "##### Количество этажей в доме\n",
    "На текущий момент по Санкт-Петербургу максимум по этажности застройки- 37 этажей (потенциальный проект на 45 этажей не состоялся), а в Ленинградской области узаконены постановлением- дома не выше 16 этажей.\n",
    "<br> Дома в 50 этажей и выше правильно будет исключить из выборки."
   ]
  },
  {
   "cell_type": "code",
   "execution_count": 47,
   "metadata": {},
   "outputs": [],
   "source": [
    "good_data = data.query('floors_total < 38')"
   ]
  },
  {
   "cell_type": "code",
   "execution_count": 48,
   "metadata": {},
   "outputs": [
    {
     "data": {
      "text/plain": [
       "Text(0.5, 1.0, 'Количество этажей_без \"шума\"')"
      ]
     },
     "execution_count": 48,
     "metadata": {},
     "output_type": "execute_result"
    },
    {
     "data": {
      "image/png": "[encoded data removed]",
      "text/plain": [
       "<Figure size 432x288 with 1 Axes>"
      ]
     },
     "metadata": {
      "needs_background": "light"
     },
     "output_type": "display_data"
    }
   ],
   "source": [
    "sns.distplot(good_data['floors_total'])\n",
    "plt.title('Количество этажей_без \"шума\"')"
   ]
  },
  {
   "cell_type": "markdown",
   "metadata": {},
   "source": [
    "##### Количество дней размещения"
   ]
  },
  {
   "cell_type": "code",
   "execution_count": 49,
   "metadata": {},
   "outputs": [],
   "source": [
    "good_data = data.query('days_exposition < 190')"
   ]
  },
  {
   "cell_type": "code",
   "execution_count": 50,
   "metadata": {},
   "outputs": [
    {
     "data": {
      "text/plain": [
       "Text(0.5, 1.0, 'Количество дней размещения_без \"шума\"')"
      ]
     },
     "execution_count": 50,
     "metadata": {},
     "output_type": "execute_result"
    },
    {
     "data": {
      "image/png": "[encoded data removed]",
      "text/plain": [
       "<Figure size 432x288 with 1 Axes>"
      ]
     },
     "metadata": {
      "needs_background": "light"
     },
     "output_type": "display_data"
    }
   ],
   "source": [
    "sns.distplot(good_data['days_exposition'])\n",
    "plt.title('Количество дней размещения_без \"шума\"')"
   ]
  },
  {
   "cell_type": "code",
   "execution_count": 51,
   "metadata": {},
   "outputs": [
    {
     "data": {
      "text/plain": [
       "count    17520\n",
       "mean        74\n",
       "std         45\n",
       "min          1\n",
       "25%         37\n",
       "50%         74\n",
       "75%         95\n",
       "max        189\n",
       "Name: days_exposition, dtype: int64"
      ]
     },
     "execution_count": 51,
     "metadata": {},
     "output_type": "execute_result"
    }
   ],
   "source": [
    "good_data['days_exposition'].describe().astype('int64') "
   ]
  },
  {
   "cell_type": "markdown",
   "metadata": {},
   "source": [
    "При обработке данных (очистка от аномально высоких) значения mean-median 74.6-74 от первоначальных 169.4-95."
   ]
  },
  {
   "cell_type": "code",
   "execution_count": 52,
   "metadata": {},
   "outputs": [
    {
     "data": {
      "text/html": [
       "<div>\n",
       "<style scoped>\n",
       "    .dataframe tbody tr th:only-of-type {\n",
       "        vertical-align: middle;\n",
       "    }\n",
       "\n",
       "    .dataframe tbody tr th {\n",
       "        vertical-align: top;\n",
       "    }\n",
       "\n",
       "    .dataframe thead th {\n",
       "        text-align: right;\n",
       "    }\n",
       "</style>\n",
       "<table border=\"1\" class=\"dataframe\">\n",
       "  <thead>\n",
       "    <tr style=\"text-align: right;\">\n",
       "      <th></th>\n",
       "      <th>total_images</th>\n",
       "      <th>last_price</th>\n",
       "      <th>total_area</th>\n",
       "      <th>first_day_exposition</th>\n",
       "      <th>rooms</th>\n",
       "      <th>ceiling_height</th>\n",
       "      <th>floors_total</th>\n",
       "      <th>living_area</th>\n",
       "      <th>floor</th>\n",
       "      <th>is_apartment</th>\n",
       "      <th>studio</th>\n",
       "      <th>open_plan</th>\n",
       "      <th>kitchen_area</th>\n",
       "      <th>balcony</th>\n",
       "      <th>locality_name</th>\n",
       "      <th>airports_nearest</th>\n",
       "      <th>cityCenters_nearest</th>\n",
       "      <th>parks_around3000</th>\n",
       "      <th>parks_nearest</th>\n",
       "      <th>ponds_around3000</th>\n",
       "      <th>ponds_nearest</th>\n",
       "      <th>days_exposition</th>\n",
       "      <th>price_per_m2</th>\n",
       "      <th>first_day_exposition_weekday</th>\n",
       "      <th>first_day_exposition_month</th>\n",
       "      <th>first_day_exposition_year</th>\n",
       "      <th>floor_namber</th>\n",
       "      <th>area_living_to_total_%</th>\n",
       "      <th>area_kitchen_to_total_%</th>\n",
       "    </tr>\n",
       "  </thead>\n",
       "  <tbody>\n",
       "    <tr>\n",
       "      <td>0</td>\n",
       "      <td>20</td>\n",
       "      <td>13.000</td>\n",
       "      <td>108.00</td>\n",
       "      <td>2019-03-07</td>\n",
       "      <td>3</td>\n",
       "      <td>2.70</td>\n",
       "      <td>16</td>\n",
       "      <td>51.00</td>\n",
       "      <td>8</td>\n",
       "      <td>True</td>\n",
       "      <td>False</td>\n",
       "      <td>False</td>\n",
       "      <td>25.00</td>\n",
       "      <td>0</td>\n",
       "      <td>Санкт-Петербург</td>\n",
       "      <td>18863.0</td>\n",
       "      <td>16028.0</td>\n",
       "      <td>1.0</td>\n",
       "      <td>482.0</td>\n",
       "      <td>2.0</td>\n",
       "      <td>755.0</td>\n",
       "      <td>95</td>\n",
       "      <td>120370.370370</td>\n",
       "      <td>3</td>\n",
       "      <td>3</td>\n",
       "      <td>2019</td>\n",
       "      <td>другой</td>\n",
       "      <td>0.472222</td>\n",
       "      <td>0.231481</td>\n",
       "    </tr>\n",
       "    <tr>\n",
       "      <td>1</td>\n",
       "      <td>7</td>\n",
       "      <td>3.350</td>\n",
       "      <td>40.40</td>\n",
       "      <td>2018-12-04</td>\n",
       "      <td>1</td>\n",
       "      <td>2.65</td>\n",
       "      <td>11</td>\n",
       "      <td>18.60</td>\n",
       "      <td>1</td>\n",
       "      <td>True</td>\n",
       "      <td>False</td>\n",
       "      <td>False</td>\n",
       "      <td>11.00</td>\n",
       "      <td>2</td>\n",
       "      <td>посёлок Шушары</td>\n",
       "      <td>12817.0</td>\n",
       "      <td>18603.0</td>\n",
       "      <td>0.0</td>\n",
       "      <td>NaN</td>\n",
       "      <td>0.0</td>\n",
       "      <td>NaN</td>\n",
       "      <td>81</td>\n",
       "      <td>82920.792079</td>\n",
       "      <td>1</td>\n",
       "      <td>12</td>\n",
       "      <td>2018</td>\n",
       "      <td>первый</td>\n",
       "      <td>0.460396</td>\n",
       "      <td>0.272277</td>\n",
       "    </tr>\n",
       "    <tr>\n",
       "      <td>4</td>\n",
       "      <td>2</td>\n",
       "      <td>10.000</td>\n",
       "      <td>100.00</td>\n",
       "      <td>2018-06-19</td>\n",
       "      <td>2</td>\n",
       "      <td>3.03</td>\n",
       "      <td>14</td>\n",
       "      <td>32.00</td>\n",
       "      <td>13</td>\n",
       "      <td>True</td>\n",
       "      <td>False</td>\n",
       "      <td>False</td>\n",
       "      <td>41.00</td>\n",
       "      <td>0</td>\n",
       "      <td>Санкт-Петербург</td>\n",
       "      <td>31856.0</td>\n",
       "      <td>8098.0</td>\n",
       "      <td>2.0</td>\n",
       "      <td>112.0</td>\n",
       "      <td>1.0</td>\n",
       "      <td>48.0</td>\n",
       "      <td>121</td>\n",
       "      <td>100000.000000</td>\n",
       "      <td>1</td>\n",
       "      <td>6</td>\n",
       "      <td>2018</td>\n",
       "      <td>другой</td>\n",
       "      <td>0.320000</td>\n",
       "      <td>0.410000</td>\n",
       "    </tr>\n",
       "    <tr>\n",
       "      <td>5</td>\n",
       "      <td>10</td>\n",
       "      <td>2.890</td>\n",
       "      <td>30.40</td>\n",
       "      <td>2018-09-10</td>\n",
       "      <td>1</td>\n",
       "      <td>2.65</td>\n",
       "      <td>12</td>\n",
       "      <td>14.40</td>\n",
       "      <td>5</td>\n",
       "      <td>True</td>\n",
       "      <td>False</td>\n",
       "      <td>False</td>\n",
       "      <td>9.10</td>\n",
       "      <td>0</td>\n",
       "      <td>городской посёлок Янино-1</td>\n",
       "      <td>NaN</td>\n",
       "      <td>NaN</td>\n",
       "      <td>NaN</td>\n",
       "      <td>NaN</td>\n",
       "      <td>NaN</td>\n",
       "      <td>NaN</td>\n",
       "      <td>55</td>\n",
       "      <td>95065.789474</td>\n",
       "      <td>0</td>\n",
       "      <td>9</td>\n",
       "      <td>2018</td>\n",
       "      <td>другой</td>\n",
       "      <td>0.473684</td>\n",
       "      <td>0.299342</td>\n",
       "    </tr>\n",
       "    <tr>\n",
       "      <td>6</td>\n",
       "      <td>6</td>\n",
       "      <td>3.700</td>\n",
       "      <td>37.30</td>\n",
       "      <td>2017-11-02</td>\n",
       "      <td>1</td>\n",
       "      <td>2.65</td>\n",
       "      <td>26</td>\n",
       "      <td>10.60</td>\n",
       "      <td>6</td>\n",
       "      <td>True</td>\n",
       "      <td>False</td>\n",
       "      <td>False</td>\n",
       "      <td>14.40</td>\n",
       "      <td>1</td>\n",
       "      <td>посёлок Парголово</td>\n",
       "      <td>52996.0</td>\n",
       "      <td>19143.0</td>\n",
       "      <td>0.0</td>\n",
       "      <td>NaN</td>\n",
       "      <td>0.0</td>\n",
       "      <td>NaN</td>\n",
       "      <td>155</td>\n",
       "      <td>99195.710456</td>\n",
       "      <td>3</td>\n",
       "      <td>11</td>\n",
       "      <td>2017</td>\n",
       "      <td>другой</td>\n",
       "      <td>0.284182</td>\n",
       "      <td>0.386059</td>\n",
       "    </tr>\n",
       "    <tr>\n",
       "      <td>7</td>\n",
       "      <td>5</td>\n",
       "      <td>7.915</td>\n",
       "      <td>71.60</td>\n",
       "      <td>2019-04-18</td>\n",
       "      <td>2</td>\n",
       "      <td>2.65</td>\n",
       "      <td>24</td>\n",
       "      <td>NaN</td>\n",
       "      <td>22</td>\n",
       "      <td>True</td>\n",
       "      <td>False</td>\n",
       "      <td>False</td>\n",
       "      <td>18.90</td>\n",
       "      <td>2</td>\n",
       "      <td>Санкт-Петербург</td>\n",
       "      <td>23982.0</td>\n",
       "      <td>11634.0</td>\n",
       "      <td>0.0</td>\n",
       "      <td>NaN</td>\n",
       "      <td>0.0</td>\n",
       "      <td>NaN</td>\n",
       "      <td>95</td>\n",
       "      <td>110544.692737</td>\n",
       "      <td>3</td>\n",
       "      <td>4</td>\n",
       "      <td>2019</td>\n",
       "      <td>другой</td>\n",
       "      <td>NaN</td>\n",
       "      <td>0.263966</td>\n",
       "    </tr>\n",
       "    <tr>\n",
       "      <td>8</td>\n",
       "      <td>20</td>\n",
       "      <td>2.900</td>\n",
       "      <td>33.16</td>\n",
       "      <td>2018-05-23</td>\n",
       "      <td>1</td>\n",
       "      <td>2.65</td>\n",
       "      <td>27</td>\n",
       "      <td>15.43</td>\n",
       "      <td>26</td>\n",
       "      <td>True</td>\n",
       "      <td>False</td>\n",
       "      <td>False</td>\n",
       "      <td>8.81</td>\n",
       "      <td>0</td>\n",
       "      <td>посёлок Мурино</td>\n",
       "      <td>NaN</td>\n",
       "      <td>NaN</td>\n",
       "      <td>NaN</td>\n",
       "      <td>NaN</td>\n",
       "      <td>NaN</td>\n",
       "      <td>NaN</td>\n",
       "      <td>189</td>\n",
       "      <td>87454.764777</td>\n",
       "      <td>2</td>\n",
       "      <td>5</td>\n",
       "      <td>2018</td>\n",
       "      <td>другой</td>\n",
       "      <td>0.465320</td>\n",
       "      <td>0.265682</td>\n",
       "    </tr>\n",
       "  </tbody>\n",
       "</table>\n",
       "</div>"
      ],
      "text/plain": [
       "   total_images  last_price  total_area first_day_exposition  rooms  \\\n",
       "0            20      13.000      108.00           2019-03-07      3   \n",
       "1             7       3.350       40.40           2018-12-04      1   \n",
       "4             2      10.000      100.00           2018-06-19      2   \n",
       "5            10       2.890       30.40           2018-09-10      1   \n",
       "6             6       3.700       37.30           2017-11-02      1   \n",
       "7             5       7.915       71.60           2019-04-18      2   \n",
       "8            20       2.900       33.16           2018-05-23      1   \n",
       "\n",
       "   ceiling_height  floors_total  living_area  floor  is_apartment  studio  \\\n",
       "0            2.70            16        51.00      8          True   False   \n",
       "1            2.65            11        18.60      1          True   False   \n",
       "4            3.03            14        32.00     13          True   False   \n",
       "5            2.65            12        14.40      5          True   False   \n",
       "6            2.65            26        10.60      6          True   False   \n",
       "7            2.65            24          NaN     22          True   False   \n",
       "8            2.65            27        15.43     26          True   False   \n",
       "\n",
       "   open_plan  kitchen_area  balcony              locality_name  \\\n",
       "0      False         25.00        0            Санкт-Петербург   \n",
       "1      False         11.00        2             посёлок Шушары   \n",
       "4      False         41.00        0            Санкт-Петербург   \n",
       "5      False          9.10        0  городской посёлок Янино-1   \n",
       "6      False         14.40        1          посёлок Парголово   \n",
       "7      False         18.90        2            Санкт-Петербург   \n",
       "8      False          8.81        0             посёлок Мурино   \n",
       "\n",
       "  airports_nearest  cityCenters_nearest parks_around3000 parks_nearest  \\\n",
       "0          18863.0              16028.0              1.0         482.0   \n",
       "1          12817.0              18603.0              0.0           NaN   \n",
       "4          31856.0               8098.0              2.0         112.0   \n",
       "5              NaN                  NaN              NaN           NaN   \n",
       "6          52996.0              19143.0              0.0           NaN   \n",
       "7          23982.0              11634.0              0.0           NaN   \n",
       "8              NaN                  NaN              NaN           NaN   \n",
       "\n",
       "  ponds_around3000 ponds_nearest  days_exposition   price_per_m2  \\\n",
       "0              2.0         755.0               95  120370.370370   \n",
       "1              0.0           NaN               81   82920.792079   \n",
       "4              1.0          48.0              121  100000.000000   \n",
       "5              NaN           NaN               55   95065.789474   \n",
       "6              0.0           NaN              155   99195.710456   \n",
       "7              0.0           NaN               95  110544.692737   \n",
       "8              NaN           NaN              189   87454.764777   \n",
       "\n",
       "   first_day_exposition_weekday  first_day_exposition_month  \\\n",
       "0                             3                           3   \n",
       "1                             1                          12   \n",
       "4                             1                           6   \n",
       "5                             0                           9   \n",
       "6                             3                          11   \n",
       "7                             3                           4   \n",
       "8                             2                           5   \n",
       "\n",
       "   first_day_exposition_year floor_namber  area_living_to_total_%  \\\n",
       "0                       2019       другой                0.472222   \n",
       "1                       2018       первый                0.460396   \n",
       "4                       2018       другой                0.320000   \n",
       "5                       2018       другой                0.473684   \n",
       "6                       2017       другой                0.284182   \n",
       "7                       2019       другой                     NaN   \n",
       "8                       2018       другой                0.465320   \n",
       "\n",
       "   area_kitchen_to_total_%  \n",
       "0                 0.231481  \n",
       "1                 0.272277  \n",
       "4                 0.410000  \n",
       "5                 0.299342  \n",
       "6                 0.386059  \n",
       "7                 0.263966  \n",
       "8                 0.265682  "
      ]
     },
     "execution_count": 52,
     "metadata": {},
     "output_type": "execute_result"
    }
   ],
   "source": [
    "good_data.head(7) "
   ]
  },
  {
   "cell_type": "code",
   "execution_count": 53,
   "metadata": {},
   "outputs": [
    {
     "name": "stdout",
     "output_type": "stream",
     "text": [
      "<class 'pandas.core.frame.DataFrame'>\n",
      "Int64Index: 17520 entries, 0 to 23698\n",
      "Data columns (total 29 columns):\n",
      "total_images                    17520 non-null int64\n",
      "last_price                      17520 non-null float64\n",
      "total_area                      17520 non-null float64\n",
      "first_day_exposition            17520 non-null datetime64[ns]\n",
      "rooms                           17520 non-null int64\n",
      "ceiling_height                  17520 non-null float64\n",
      "floors_total                    17520 non-null int64\n",
      "living_area                     15944 non-null float64\n",
      "floor                           17520 non-null int64\n",
      "is_apartment                    17520 non-null bool\n",
      "studio                          17520 non-null bool\n",
      "open_plan                       17520 non-null bool\n",
      "kitchen_area                    15668 non-null float64\n",
      "balcony                         17520 non-null int64\n",
      "locality_name                   17496 non-null object\n",
      "airports_nearest                13349 non-null object\n",
      "cityCenters_nearest             13367 non-null float64\n",
      "parks_around3000                13368 non-null object\n",
      "parks_nearest                   5837 non-null object\n",
      "ponds_around3000                13368 non-null object\n",
      "ponds_nearest                   6559 non-null object\n",
      "days_exposition                 17520 non-null int64\n",
      "price_per_m2                    17520 non-null float64\n",
      "first_day_exposition_weekday    17520 non-null int64\n",
      "first_day_exposition_month      17520 non-null int64\n",
      "first_day_exposition_year       17520 non-null int64\n",
      "floor_namber                    17520 non-null object\n",
      "area_living_to_total_%          15944 non-null float64\n",
      "area_kitchen_to_total_%         15668 non-null float64\n",
      "dtypes: bool(3), datetime64[ns](1), float64(9), int64(9), object(7)\n",
      "memory usage: 3.7+ MB\n"
     ]
    }
   ],
   "source": [
    "good_data.info()"
   ]
  },
  {
   "cell_type": "code",
   "execution_count": 54,
   "metadata": {},
   "outputs": [
    {
     "data": {
      "text/plain": [
       "Text(0.5, 1, 'Тепловая карта корреляционной матрицы')"
      ]
     },
     "execution_count": 54,
     "metadata": {},
     "output_type": "execute_result"
    },
    {
     "data": {
      "image/png": "[encoded data removed]",
      "text/plain": [
       "<Figure size 720x576 with 2 Axes>"
      ]
     },
     "metadata": {
      "needs_background": "light"
     },
     "output_type": "display_data"
    }
   ],
   "source": [
    "#тепловая карта корреляционной матрицы столбцов good_data\n",
    "plt.figure(figsize=(10,8))\n",
    "sns.heatmap(good_data.corr()) \n",
    "plt.title('Тепловая карта корреляционной матрицы', fontsize=17)"
   ]
  },
  {
   "cell_type": "code",
   "execution_count": 55,
   "metadata": {
    "scrolled": false
   },
   "outputs": [
    {
     "data": {
      "text/html": [
       "<div>\n",
       "<style scoped>\n",
       "    .dataframe tbody tr th:only-of-type {\n",
       "        vertical-align: middle;\n",
       "    }\n",
       "\n",
       "    .dataframe tbody tr th {\n",
       "        vertical-align: top;\n",
       "    }\n",
       "\n",
       "    .dataframe thead th {\n",
       "        text-align: right;\n",
       "    }\n",
       "</style>\n",
       "<table border=\"1\" class=\"dataframe\">\n",
       "  <thead>\n",
       "    <tr style=\"text-align: right;\">\n",
       "      <th></th>\n",
       "      <th>total_images</th>\n",
       "      <th>last_price</th>\n",
       "      <th>total_area</th>\n",
       "      <th>rooms</th>\n",
       "      <th>ceiling_height</th>\n",
       "      <th>floors_total</th>\n",
       "      <th>living_area</th>\n",
       "      <th>floor</th>\n",
       "      <th>is_apartment</th>\n",
       "      <th>studio</th>\n",
       "      <th>open_plan</th>\n",
       "      <th>kitchen_area</th>\n",
       "      <th>balcony</th>\n",
       "      <th>cityCenters_nearest</th>\n",
       "      <th>days_exposition</th>\n",
       "      <th>price_per_m2</th>\n",
       "      <th>first_day_exposition_weekday</th>\n",
       "      <th>first_day_exposition_month</th>\n",
       "      <th>first_day_exposition_year</th>\n",
       "      <th>area_living_to_total_%</th>\n",
       "      <th>area_kitchen_to_total_%</th>\n",
       "    </tr>\n",
       "  </thead>\n",
       "  <tbody>\n",
       "    <tr>\n",
       "      <td>total_images</td>\n",
       "      <td>1.000000</td>\n",
       "      <td>0.099429</td>\n",
       "      <td>0.116985</td>\n",
       "      <td>0.103766</td>\n",
       "      <td>0.001803</td>\n",
       "      <td>0.027903</td>\n",
       "      <td>0.106283</td>\n",
       "      <td>0.037958</td>\n",
       "      <td>0.027726</td>\n",
       "      <td>-0.037439</td>\n",
       "      <td>-0.026318</td>\n",
       "      <td>0.105029</td>\n",
       "      <td>0.051968</td>\n",
       "      <td>-0.050986</td>\n",
       "      <td>0.067326</td>\n",
       "      <td>0.135885</td>\n",
       "      <td>-0.013550</td>\n",
       "      <td>0.014170</td>\n",
       "      <td>0.128288</td>\n",
       "      <td>-0.007888</td>\n",
       "      <td>-0.027558</td>\n",
       "    </tr>\n",
       "    <tr>\n",
       "      <td>last_price</td>\n",
       "      <td>0.099429</td>\n",
       "      <td>1.000000</td>\n",
       "      <td>0.637767</td>\n",
       "      <td>0.354918</td>\n",
       "      <td>0.050273</td>\n",
       "      <td>0.008955</td>\n",
       "      <td>0.549659</td>\n",
       "      <td>0.036555</td>\n",
       "      <td>0.013034</td>\n",
       "      <td>-0.027272</td>\n",
       "      <td>-0.007518</td>\n",
       "      <td>0.542385</td>\n",
       "      <td>0.019048</td>\n",
       "      <td>-0.195763</td>\n",
       "      <td>0.051650</td>\n",
       "      <td>0.694134</td>\n",
       "      <td>-0.002360</td>\n",
       "      <td>0.008982</td>\n",
       "      <td>-0.009140</td>\n",
       "      <td>0.002613</td>\n",
       "      <td>-0.086960</td>\n",
       "    </tr>\n",
       "    <tr>\n",
       "      <td>total_area</td>\n",
       "      <td>0.116985</td>\n",
       "      <td>0.637767</td>\n",
       "      <td>1.000000</td>\n",
       "      <td>0.748948</td>\n",
       "      <td>0.062859</td>\n",
       "      <td>-0.060489</td>\n",
       "      <td>0.935508</td>\n",
       "      <td>-0.016619</td>\n",
       "      <td>0.011519</td>\n",
       "      <td>-0.077822</td>\n",
       "      <td>-0.036453</td>\n",
       "      <td>0.606001</td>\n",
       "      <td>0.023493</td>\n",
       "      <td>-0.211408</td>\n",
       "      <td>0.103114</td>\n",
       "      <td>0.261107</td>\n",
       "      <td>-0.005924</td>\n",
       "      <td>0.005617</td>\n",
       "      <td>-0.030693</td>\n",
       "      <td>0.133174</td>\n",
       "      <td>-0.307845</td>\n",
       "    </tr>\n",
       "    <tr>\n",
       "      <td>rooms</td>\n",
       "      <td>0.103766</td>\n",
       "      <td>0.354918</td>\n",
       "      <td>0.748948</td>\n",
       "      <td>1.000000</td>\n",
       "      <td>0.035824</td>\n",
       "      <td>-0.219332</td>\n",
       "      <td>0.842051</td>\n",
       "      <td>-0.144947</td>\n",
       "      <td>0.008367</td>\n",
       "      <td>-0.156698</td>\n",
       "      <td>-0.097692</td>\n",
       "      <td>0.260181</td>\n",
       "      <td>-0.004359</td>\n",
       "      <td>-0.163377</td>\n",
       "      <td>0.103597</td>\n",
       "      <td>0.032878</td>\n",
       "      <td>-0.005355</td>\n",
       "      <td>-0.006991</td>\n",
       "      <td>-0.005109</td>\n",
       "      <td>0.470881</td>\n",
       "      <td>-0.586830</td>\n",
       "    </tr>\n",
       "    <tr>\n",
       "      <td>ceiling_height</td>\n",
       "      <td>0.001803</td>\n",
       "      <td>0.050273</td>\n",
       "      <td>0.062859</td>\n",
       "      <td>0.035824</td>\n",
       "      <td>1.000000</td>\n",
       "      <td>-0.018522</td>\n",
       "      <td>0.064085</td>\n",
       "      <td>-0.005721</td>\n",
       "      <td>-0.025113</td>\n",
       "      <td>0.001360</td>\n",
       "      <td>0.021194</td>\n",
       "      <td>0.057426</td>\n",
       "      <td>0.038653</td>\n",
       "      <td>-0.061801</td>\n",
       "      <td>0.001356</td>\n",
       "      <td>0.100957</td>\n",
       "      <td>-0.010639</td>\n",
       "      <td>-0.007377</td>\n",
       "      <td>0.007867</td>\n",
       "      <td>0.015330</td>\n",
       "      <td>0.013804</td>\n",
       "    </tr>\n",
       "    <tr>\n",
       "      <td>floors_total</td>\n",
       "      <td>0.027903</td>\n",
       "      <td>0.008955</td>\n",
       "      <td>-0.060489</td>\n",
       "      <td>-0.219332</td>\n",
       "      <td>-0.018522</td>\n",
       "      <td>1.000000</td>\n",
       "      <td>-0.159816</td>\n",
       "      <td>0.666879</td>\n",
       "      <td>-0.004304</td>\n",
       "      <td>0.065261</td>\n",
       "      <td>0.048768</td>\n",
       "      <td>0.185215</td>\n",
       "      <td>0.179747</td>\n",
       "      <td>0.012983</td>\n",
       "      <td>-0.049516</td>\n",
       "      <td>0.167314</td>\n",
       "      <td>0.011333</td>\n",
       "      <td>0.025340</td>\n",
       "      <td>-0.009701</td>\n",
       "      <td>-0.362158</td>\n",
       "      <td>0.357397</td>\n",
       "    </tr>\n",
       "    <tr>\n",
       "      <td>living_area</td>\n",
       "      <td>0.106283</td>\n",
       "      <td>0.549659</td>\n",
       "      <td>0.935508</td>\n",
       "      <td>0.842051</td>\n",
       "      <td>0.064085</td>\n",
       "      <td>-0.159816</td>\n",
       "      <td>1.000000</td>\n",
       "      <td>-0.091695</td>\n",
       "      <td>0.007966</td>\n",
       "      <td>-0.059223</td>\n",
       "      <td>-0.037277</td>\n",
       "      <td>0.415769</td>\n",
       "      <td>-0.001990</td>\n",
       "      <td>-0.210966</td>\n",
       "      <td>0.097772</td>\n",
       "      <td>0.194037</td>\n",
       "      <td>-0.006240</td>\n",
       "      <td>-0.004804</td>\n",
       "      <td>-0.025808</td>\n",
       "      <td>0.419002</td>\n",
       "      <td>-0.479904</td>\n",
       "    </tr>\n",
       "    <tr>\n",
       "      <td>floor</td>\n",
       "      <td>0.037958</td>\n",
       "      <td>0.036555</td>\n",
       "      <td>-0.016619</td>\n",
       "      <td>-0.144947</td>\n",
       "      <td>-0.005721</td>\n",
       "      <td>0.666879</td>\n",
       "      <td>-0.091695</td>\n",
       "      <td>1.000000</td>\n",
       "      <td>-0.003701</td>\n",
       "      <td>0.031599</td>\n",
       "      <td>0.031615</td>\n",
       "      <td>0.150943</td>\n",
       "      <td>0.162339</td>\n",
       "      <td>0.007434</td>\n",
       "      <td>-0.036460</td>\n",
       "      <td>0.141383</td>\n",
       "      <td>0.013405</td>\n",
       "      <td>0.026148</td>\n",
       "      <td>-0.010806</td>\n",
       "      <td>-0.259442</td>\n",
       "      <td>0.246498</td>\n",
       "    </tr>\n",
       "    <tr>\n",
       "      <td>is_apartment</td>\n",
       "      <td>0.027726</td>\n",
       "      <td>0.013034</td>\n",
       "      <td>0.011519</td>\n",
       "      <td>0.008367</td>\n",
       "      <td>-0.025113</td>\n",
       "      <td>-0.004304</td>\n",
       "      <td>0.007966</td>\n",
       "      <td>-0.003701</td>\n",
       "      <td>1.000000</td>\n",
       "      <td>-0.002785</td>\n",
       "      <td>0.003017</td>\n",
       "      <td>0.007846</td>\n",
       "      <td>-0.161726</td>\n",
       "      <td>-0.023042</td>\n",
       "      <td>-0.038149</td>\n",
       "      <td>0.013640</td>\n",
       "      <td>0.006598</td>\n",
       "      <td>0.140044</td>\n",
       "      <td>0.205370</td>\n",
       "      <td>-0.000656</td>\n",
       "      <td>0.003900</td>\n",
       "    </tr>\n",
       "    <tr>\n",
       "      <td>studio</td>\n",
       "      <td>-0.037439</td>\n",
       "      <td>-0.027272</td>\n",
       "      <td>-0.077822</td>\n",
       "      <td>-0.156698</td>\n",
       "      <td>0.001360</td>\n",
       "      <td>0.065261</td>\n",
       "      <td>-0.059223</td>\n",
       "      <td>0.031599</td>\n",
       "      <td>-0.002785</td>\n",
       "      <td>1.000000</td>\n",
       "      <td>-0.004886</td>\n",
       "      <td>NaN</td>\n",
       "      <td>0.027044</td>\n",
       "      <td>-0.010598</td>\n",
       "      <td>-0.025962</td>\n",
       "      <td>0.017408</td>\n",
       "      <td>-0.004701</td>\n",
       "      <td>-0.005035</td>\n",
       "      <td>-0.002765</td>\n",
       "      <td>0.098885</td>\n",
       "      <td>NaN</td>\n",
       "    </tr>\n",
       "    <tr>\n",
       "      <td>open_plan</td>\n",
       "      <td>-0.026318</td>\n",
       "      <td>-0.007518</td>\n",
       "      <td>-0.036453</td>\n",
       "      <td>-0.097692</td>\n",
       "      <td>0.021194</td>\n",
       "      <td>0.048768</td>\n",
       "      <td>-0.037277</td>\n",
       "      <td>0.031615</td>\n",
       "      <td>0.003017</td>\n",
       "      <td>-0.004886</td>\n",
       "      <td>1.000000</td>\n",
       "      <td>NaN</td>\n",
       "      <td>0.031876</td>\n",
       "      <td>-0.006702</td>\n",
       "      <td>-0.032737</td>\n",
       "      <td>0.010610</td>\n",
       "      <td>0.013204</td>\n",
       "      <td>0.034774</td>\n",
       "      <td>-0.041034</td>\n",
       "      <td>0.071679</td>\n",
       "      <td>NaN</td>\n",
       "    </tr>\n",
       "    <tr>\n",
       "      <td>kitchen_area</td>\n",
       "      <td>0.105029</td>\n",
       "      <td>0.542385</td>\n",
       "      <td>0.606001</td>\n",
       "      <td>0.260181</td>\n",
       "      <td>0.057426</td>\n",
       "      <td>0.185215</td>\n",
       "      <td>0.415769</td>\n",
       "      <td>0.150943</td>\n",
       "      <td>0.007846</td>\n",
       "      <td>NaN</td>\n",
       "      <td>NaN</td>\n",
       "      <td>1.000000</td>\n",
       "      <td>0.057051</td>\n",
       "      <td>-0.172623</td>\n",
       "      <td>0.057391</td>\n",
       "      <td>0.374008</td>\n",
       "      <td>-0.008307</td>\n",
       "      <td>0.005146</td>\n",
       "      <td>-0.027083</td>\n",
       "      <td>-0.351094</td>\n",
       "      <td>0.444772</td>\n",
       "    </tr>\n",
       "    <tr>\n",
       "      <td>balcony</td>\n",
       "      <td>0.051968</td>\n",
       "      <td>0.019048</td>\n",
       "      <td>0.023493</td>\n",
       "      <td>-0.004359</td>\n",
       "      <td>0.038653</td>\n",
       "      <td>0.179747</td>\n",
       "      <td>-0.001990</td>\n",
       "      <td>0.162339</td>\n",
       "      <td>-0.161726</td>\n",
       "      <td>0.027044</td>\n",
       "      <td>0.031876</td>\n",
       "      <td>0.057051</td>\n",
       "      <td>1.000000</td>\n",
       "      <td>0.057719</td>\n",
       "      <td>-0.008012</td>\n",
       "      <td>0.032685</td>\n",
       "      <td>0.004189</td>\n",
       "      <td>0.016200</td>\n",
       "      <td>-0.016164</td>\n",
       "      <td>-0.065367</td>\n",
       "      <td>0.030643</td>\n",
       "    </tr>\n",
       "    <tr>\n",
       "      <td>cityCenters_nearest</td>\n",
       "      <td>-0.050986</td>\n",
       "      <td>-0.195763</td>\n",
       "      <td>-0.211408</td>\n",
       "      <td>-0.163377</td>\n",
       "      <td>-0.061801</td>\n",
       "      <td>0.012983</td>\n",
       "      <td>-0.210966</td>\n",
       "      <td>0.007434</td>\n",
       "      <td>-0.023042</td>\n",
       "      <td>-0.010598</td>\n",
       "      <td>-0.006702</td>\n",
       "      <td>-0.172623</td>\n",
       "      <td>0.057719</td>\n",
       "      <td>1.000000</td>\n",
       "      <td>-0.021183</td>\n",
       "      <td>-0.324213</td>\n",
       "      <td>0.006667</td>\n",
       "      <td>-0.003018</td>\n",
       "      <td>-0.000516</td>\n",
       "      <td>-0.040132</td>\n",
       "      <td>0.021506</td>\n",
       "    </tr>\n",
       "    <tr>\n",
       "      <td>days_exposition</td>\n",
       "      <td>0.067326</td>\n",
       "      <td>0.051650</td>\n",
       "      <td>0.103114</td>\n",
       "      <td>0.103597</td>\n",
       "      <td>0.001356</td>\n",
       "      <td>-0.049516</td>\n",
       "      <td>0.097772</td>\n",
       "      <td>-0.036460</td>\n",
       "      <td>-0.038149</td>\n",
       "      <td>-0.025962</td>\n",
       "      <td>-0.032737</td>\n",
       "      <td>0.057391</td>\n",
       "      <td>-0.008012</td>\n",
       "      <td>-0.021183</td>\n",
       "      <td>1.000000</td>\n",
       "      <td>0.022806</td>\n",
       "      <td>-0.001468</td>\n",
       "      <td>-0.066677</td>\n",
       "      <td>-0.125229</td>\n",
       "      <td>0.019136</td>\n",
       "      <td>-0.050486</td>\n",
       "    </tr>\n",
       "    <tr>\n",
       "      <td>price_per_m2</td>\n",
       "      <td>0.135885</td>\n",
       "      <td>0.694134</td>\n",
       "      <td>0.261107</td>\n",
       "      <td>0.032878</td>\n",
       "      <td>0.100957</td>\n",
       "      <td>0.167314</td>\n",
       "      <td>0.194037</td>\n",
       "      <td>0.141383</td>\n",
       "      <td>0.013640</td>\n",
       "      <td>0.017408</td>\n",
       "      <td>0.010610</td>\n",
       "      <td>0.374008</td>\n",
       "      <td>0.032685</td>\n",
       "      <td>-0.324213</td>\n",
       "      <td>0.022806</td>\n",
       "      <td>1.000000</td>\n",
       "      <td>-0.007081</td>\n",
       "      <td>-0.002646</td>\n",
       "      <td>0.042737</td>\n",
       "      <td>-0.145973</td>\n",
       "      <td>0.173314</td>\n",
       "    </tr>\n",
       "    <tr>\n",
       "      <td>first_day_exposition_weekday</td>\n",
       "      <td>-0.013550</td>\n",
       "      <td>-0.002360</td>\n",
       "      <td>-0.005924</td>\n",
       "      <td>-0.005355</td>\n",
       "      <td>-0.010639</td>\n",
       "      <td>0.011333</td>\n",
       "      <td>-0.006240</td>\n",
       "      <td>0.013405</td>\n",
       "      <td>0.006598</td>\n",
       "      <td>-0.004701</td>\n",
       "      <td>0.013204</td>\n",
       "      <td>-0.008307</td>\n",
       "      <td>0.004189</td>\n",
       "      <td>0.006667</td>\n",
       "      <td>-0.001468</td>\n",
       "      <td>-0.007081</td>\n",
       "      <td>1.000000</td>\n",
       "      <td>0.022439</td>\n",
       "      <td>-0.030498</td>\n",
       "      <td>0.011630</td>\n",
       "      <td>-0.001028</td>\n",
       "    </tr>\n",
       "    <tr>\n",
       "      <td>first_day_exposition_month</td>\n",
       "      <td>0.014170</td>\n",
       "      <td>0.008982</td>\n",
       "      <td>0.005617</td>\n",
       "      <td>-0.006991</td>\n",
       "      <td>-0.007377</td>\n",
       "      <td>0.025340</td>\n",
       "      <td>-0.004804</td>\n",
       "      <td>0.026148</td>\n",
       "      <td>0.140044</td>\n",
       "      <td>-0.005035</td>\n",
       "      <td>0.034774</td>\n",
       "      <td>0.005146</td>\n",
       "      <td>0.016200</td>\n",
       "      <td>-0.003018</td>\n",
       "      <td>-0.066677</td>\n",
       "      <td>-0.002646</td>\n",
       "      <td>0.022439</td>\n",
       "      <td>1.000000</td>\n",
       "      <td>-0.322072</td>\n",
       "      <td>-0.017064</td>\n",
       "      <td>0.010225</td>\n",
       "    </tr>\n",
       "    <tr>\n",
       "      <td>first_day_exposition_year</td>\n",
       "      <td>0.128288</td>\n",
       "      <td>-0.009140</td>\n",
       "      <td>-0.030693</td>\n",
       "      <td>-0.005109</td>\n",
       "      <td>0.007867</td>\n",
       "      <td>-0.009701</td>\n",
       "      <td>-0.025808</td>\n",
       "      <td>-0.010806</td>\n",
       "      <td>0.205370</td>\n",
       "      <td>-0.002765</td>\n",
       "      <td>-0.041034</td>\n",
       "      <td>-0.027083</td>\n",
       "      <td>-0.016164</td>\n",
       "      <td>-0.000516</td>\n",
       "      <td>-0.125229</td>\n",
       "      <td>0.042737</td>\n",
       "      <td>-0.030498</td>\n",
       "      <td>-0.322072</td>\n",
       "      <td>1.000000</td>\n",
       "      <td>0.007159</td>\n",
       "      <td>0.006061</td>\n",
       "    </tr>\n",
       "    <tr>\n",
       "      <td>area_living_to_total_%</td>\n",
       "      <td>-0.007888</td>\n",
       "      <td>0.002613</td>\n",
       "      <td>0.133174</td>\n",
       "      <td>0.470881</td>\n",
       "      <td>0.015330</td>\n",
       "      <td>-0.362158</td>\n",
       "      <td>0.419002</td>\n",
       "      <td>-0.259442</td>\n",
       "      <td>-0.000656</td>\n",
       "      <td>0.098885</td>\n",
       "      <td>0.071679</td>\n",
       "      <td>-0.351094</td>\n",
       "      <td>-0.065367</td>\n",
       "      <td>-0.040132</td>\n",
       "      <td>0.019136</td>\n",
       "      <td>-0.145973</td>\n",
       "      <td>0.011630</td>\n",
       "      <td>-0.017064</td>\n",
       "      <td>0.007159</td>\n",
       "      <td>1.000000</td>\n",
       "      <td>-0.716259</td>\n",
       "    </tr>\n",
       "    <tr>\n",
       "      <td>area_kitchen_to_total_%</td>\n",
       "      <td>-0.027558</td>\n",
       "      <td>-0.086960</td>\n",
       "      <td>-0.307845</td>\n",
       "      <td>-0.586830</td>\n",
       "      <td>0.013804</td>\n",
       "      <td>0.357397</td>\n",
       "      <td>-0.479904</td>\n",
       "      <td>0.246498</td>\n",
       "      <td>0.003900</td>\n",
       "      <td>NaN</td>\n",
       "      <td>NaN</td>\n",
       "      <td>0.444772</td>\n",
       "      <td>0.030643</td>\n",
       "      <td>0.021506</td>\n",
       "      <td>-0.050486</td>\n",
       "      <td>0.173314</td>\n",
       "      <td>-0.001028</td>\n",
       "      <td>0.010225</td>\n",
       "      <td>0.006061</td>\n",
       "      <td>-0.716259</td>\n",
       "      <td>1.000000</td>\n",
       "    </tr>\n",
       "  </tbody>\n",
       "</table>\n",
       "</div>"
      ],
      "text/plain": [
       "                              total_images  last_price  total_area     rooms  \\\n",
       "total_images                      1.000000    0.099429    0.116985  0.103766   \n",
       "last_price                        0.099429    1.000000    0.637767  0.354918   \n",
       "total_area                        0.116985    0.637767    1.000000  0.748948   \n",
       "rooms                             0.103766    0.354918    0.748948  1.000000   \n",
       "ceiling_height                    0.001803    0.050273    0.062859  0.035824   \n",
       "floors_total                      0.027903    0.008955   -0.060489 -0.219332   \n",
       "living_area                       0.106283    0.549659    0.935508  0.842051   \n",
       "floor                             0.037958    0.036555   -0.016619 -0.144947   \n",
       "is_apartment                      0.027726    0.013034    0.011519  0.008367   \n",
       "studio                           -0.037439   -0.027272   -0.077822 -0.156698   \n",
       "open_plan                        -0.026318   -0.007518   -0.036453 -0.097692   \n",
       "kitchen_area                      0.105029    0.542385    0.606001  0.260181   \n",
       "balcony                           0.051968    0.019048    0.023493 -0.004359   \n",
       "cityCenters_nearest              -0.050986   -0.195763   -0.211408 -0.163377   \n",
       "days_exposition                   0.067326    0.051650    0.103114  0.103597   \n",
       "price_per_m2                      0.135885    0.694134    0.261107  0.032878   \n",
       "first_day_exposition_weekday     -0.013550   -0.002360   -0.005924 -0.005355   \n",
       "first_day_exposition_month        0.014170    0.008982    0.005617 -0.006991   \n",
       "first_day_exposition_year         0.128288   -0.009140   -0.030693 -0.005109   \n",
       "area_living_to_total_%           -0.007888    0.002613    0.133174  0.470881   \n",
       "area_kitchen_to_total_%          -0.027558   -0.086960   -0.307845 -0.586830   \n",
       "\n",
       "                              ceiling_height  floors_total  living_area  \\\n",
       "total_images                        0.001803      0.027903     0.106283   \n",
       "last_price                          0.050273      0.008955     0.549659   \n",
       "total_area                          0.062859     -0.060489     0.935508   \n",
       "rooms                               0.035824     -0.219332     0.842051   \n",
       "ceiling_height                      1.000000     -0.018522     0.064085   \n",
       "floors_total                       -0.018522      1.000000    -0.159816   \n",
       "living_area                         0.064085     -0.159816     1.000000   \n",
       "floor                              -0.005721      0.666879    -0.091695   \n",
       "is_apartment                       -0.025113     -0.004304     0.007966   \n",
       "studio                              0.001360      0.065261    -0.059223   \n",
       "open_plan                           0.021194      0.048768    -0.037277   \n",
       "kitchen_area                        0.057426      0.185215     0.415769   \n",
       "balcony                             0.038653      0.179747    -0.001990   \n",
       "cityCenters_nearest                -0.061801      0.012983    -0.210966   \n",
       "days_exposition                     0.001356     -0.049516     0.097772   \n",
       "price_per_m2                        0.100957      0.167314     0.194037   \n",
       "first_day_exposition_weekday       -0.010639      0.011333    -0.006240   \n",
       "first_day_exposition_month         -0.007377      0.025340    -0.004804   \n",
       "first_day_exposition_year           0.007867     -0.009701    -0.025808   \n",
       "area_living_to_total_%              0.015330     -0.362158     0.419002   \n",
       "area_kitchen_to_total_%             0.013804      0.357397    -0.479904   \n",
       "\n",
       "                                 floor  is_apartment    studio  open_plan  \\\n",
       "total_images                  0.037958      0.027726 -0.037439  -0.026318   \n",
       "last_price                    0.036555      0.013034 -0.027272  -0.007518   \n",
       "total_area                   -0.016619      0.011519 -0.077822  -0.036453   \n",
       "rooms                        -0.144947      0.008367 -0.156698  -0.097692   \n",
       "ceiling_height               -0.005721     -0.025113  0.001360   0.021194   \n",
       "floors_total                  0.666879     -0.004304  0.065261   0.048768   \n",
       "living_area                  -0.091695      0.007966 -0.059223  -0.037277   \n",
       "floor                         1.000000     -0.003701  0.031599   0.031615   \n",
       "is_apartment                 -0.003701      1.000000 -0.002785   0.003017   \n",
       "studio                        0.031599     -0.002785  1.000000  -0.004886   \n",
       "open_plan                     0.031615      0.003017 -0.004886   1.000000   \n",
       "kitchen_area                  0.150943      0.007846       NaN        NaN   \n",
       "balcony                       0.162339     -0.161726  0.027044   0.031876   \n",
       "cityCenters_nearest           0.007434     -0.023042 -0.010598  -0.006702   \n",
       "days_exposition              -0.036460     -0.038149 -0.025962  -0.032737   \n",
       "price_per_m2                  0.141383      0.013640  0.017408   0.010610   \n",
       "first_day_exposition_weekday  0.013405      0.006598 -0.004701   0.013204   \n",
       "first_day_exposition_month    0.026148      0.140044 -0.005035   0.034774   \n",
       "first_day_exposition_year    -0.010806      0.205370 -0.002765  -0.041034   \n",
       "area_living_to_total_%       -0.259442     -0.000656  0.098885   0.071679   \n",
       "area_kitchen_to_total_%       0.246498      0.003900       NaN        NaN   \n",
       "\n",
       "                              kitchen_area   balcony  cityCenters_nearest  \\\n",
       "total_images                      0.105029  0.051968            -0.050986   \n",
       "last_price                        0.542385  0.019048            -0.195763   \n",
       "total_area                        0.606001  0.023493            -0.211408   \n",
       "rooms                             0.260181 -0.004359            -0.163377   \n",
       "ceiling_height                    0.057426  0.038653            -0.061801   \n",
       "floors_total                      0.185215  0.179747             0.012983   \n",
       "living_area                       0.415769 -0.001990            -0.210966   \n",
       "floor                             0.150943  0.162339             0.007434   \n",
       "is_apartment                      0.007846 -0.161726            -0.023042   \n",
       "studio                                 NaN  0.027044            -0.010598   \n",
       "open_plan                              NaN  0.031876            -0.006702   \n",
       "kitchen_area                      1.000000  0.057051            -0.172623   \n",
       "balcony                           0.057051  1.000000             0.057719   \n",
       "cityCenters_nearest              -0.172623  0.057719             1.000000   \n",
       "days_exposition                   0.057391 -0.008012            -0.021183   \n",
       "price_per_m2                      0.374008  0.032685            -0.324213   \n",
       "first_day_exposition_weekday     -0.008307  0.004189             0.006667   \n",
       "first_day_exposition_month        0.005146  0.016200            -0.003018   \n",
       "first_day_exposition_year        -0.027083 -0.016164            -0.000516   \n",
       "area_living_to_total_%           -0.351094 -0.065367            -0.040132   \n",
       "area_kitchen_to_total_%           0.444772  0.030643             0.021506   \n",
       "\n",
       "                              days_exposition  price_per_m2  \\\n",
       "total_images                         0.067326      0.135885   \n",
       "last_price                           0.051650      0.694134   \n",
       "total_area                           0.103114      0.261107   \n",
       "rooms                                0.103597      0.032878   \n",
       "ceiling_height                       0.001356      0.100957   \n",
       "floors_total                        -0.049516      0.167314   \n",
       "living_area                          0.097772      0.194037   \n",
       "floor                               -0.036460      0.141383   \n",
       "is_apartment                        -0.038149      0.013640   \n",
       "studio                              -0.025962      0.017408   \n",
       "open_plan                           -0.032737      0.010610   \n",
       "kitchen_area                         0.057391      0.374008   \n",
       "balcony                             -0.008012      0.032685   \n",
       "cityCenters_nearest                 -0.021183     -0.324213   \n",
       "days_exposition                      1.000000      0.022806   \n",
       "price_per_m2                         0.022806      1.000000   \n",
       "first_day_exposition_weekday        -0.001468     -0.007081   \n",
       "first_day_exposition_month          -0.066677     -0.002646   \n",
       "first_day_exposition_year           -0.125229      0.042737   \n",
       "area_living_to_total_%               0.019136     -0.145973   \n",
       "area_kitchen_to_total_%             -0.050486      0.173314   \n",
       "\n",
       "                              first_day_exposition_weekday  \\\n",
       "total_images                                     -0.013550   \n",
       "last_price                                       -0.002360   \n",
       "total_area                                       -0.005924   \n",
       "rooms                                            -0.005355   \n",
       "ceiling_height                                   -0.010639   \n",
       "floors_total                                      0.011333   \n",
       "living_area                                      -0.006240   \n",
       "floor                                             0.013405   \n",
       "is_apartment                                      0.006598   \n",
       "studio                                           -0.004701   \n",
       "open_plan                                         0.013204   \n",
       "kitchen_area                                     -0.008307   \n",
       "balcony                                           0.004189   \n",
       "cityCenters_nearest                               0.006667   \n",
       "days_exposition                                  -0.001468   \n",
       "price_per_m2                                     -0.007081   \n",
       "first_day_exposition_weekday                      1.000000   \n",
       "first_day_exposition_month                        0.022439   \n",
       "first_day_exposition_year                        -0.030498   \n",
       "area_living_to_total_%                            0.011630   \n",
       "area_kitchen_to_total_%                          -0.001028   \n",
       "\n",
       "                              first_day_exposition_month  \\\n",
       "total_images                                    0.014170   \n",
       "last_price                                      0.008982   \n",
       "total_area                                      0.005617   \n",
       "rooms                                          -0.006991   \n",
       "ceiling_height                                 -0.007377   \n",
       "floors_total                                    0.025340   \n",
       "living_area                                    -0.004804   \n",
       "floor                                           0.026148   \n",
       "is_apartment                                    0.140044   \n",
       "studio                                         -0.005035   \n",
       "open_plan                                       0.034774   \n",
       "kitchen_area                                    0.005146   \n",
       "balcony                                         0.016200   \n",
       "cityCenters_nearest                            -0.003018   \n",
       "days_exposition                                -0.066677   \n",
       "price_per_m2                                   -0.002646   \n",
       "first_day_exposition_weekday                    0.022439   \n",
       "first_day_exposition_month                      1.000000   \n",
       "first_day_exposition_year                      -0.322072   \n",
       "area_living_to_total_%                         -0.017064   \n",
       "area_kitchen_to_total_%                         0.010225   \n",
       "\n",
       "                              first_day_exposition_year  \\\n",
       "total_images                                   0.128288   \n",
       "last_price                                    -0.009140   \n",
       "total_area                                    -0.030693   \n",
       "rooms                                         -0.005109   \n",
       "ceiling_height                                 0.007867   \n",
       "floors_total                                  -0.009701   \n",
       "living_area                                   -0.025808   \n",
       "floor                                         -0.010806   \n",
       "is_apartment                                   0.205370   \n",
       "studio                                        -0.002765   \n",
       "open_plan                                     -0.041034   \n",
       "kitchen_area                                  -0.027083   \n",
       "balcony                                       -0.016164   \n",
       "cityCenters_nearest                           -0.000516   \n",
       "days_exposition                               -0.125229   \n",
       "price_per_m2                                   0.042737   \n",
       "first_day_exposition_weekday                  -0.030498   \n",
       "first_day_exposition_month                    -0.322072   \n",
       "first_day_exposition_year                      1.000000   \n",
       "area_living_to_total_%                         0.007159   \n",
       "area_kitchen_to_total_%                        0.006061   \n",
       "\n",
       "                              area_living_to_total_%  area_kitchen_to_total_%  \n",
       "total_images                               -0.007888                -0.027558  \n",
       "last_price                                  0.002613                -0.086960  \n",
       "total_area                                  0.133174                -0.307845  \n",
       "rooms                                       0.470881                -0.586830  \n",
       "ceiling_height                              0.015330                 0.013804  \n",
       "floors_total                               -0.362158                 0.357397  \n",
       "living_area                                 0.419002                -0.479904  \n",
       "floor                                      -0.259442                 0.246498  \n",
       "is_apartment                               -0.000656                 0.003900  \n",
       "studio                                      0.098885                      NaN  \n",
       "open_plan                                   0.071679                      NaN  \n",
       "kitchen_area                               -0.351094                 0.444772  \n",
       "balcony                                    -0.065367                 0.030643  \n",
       "cityCenters_nearest                        -0.040132                 0.021506  \n",
       "days_exposition                             0.019136                -0.050486  \n",
       "price_per_m2                               -0.145973                 0.173314  \n",
       "first_day_exposition_weekday                0.011630                -0.001028  \n",
       "first_day_exposition_month                 -0.017064                 0.010225  \n",
       "first_day_exposition_year                   0.007159                 0.006061  \n",
       "area_living_to_total_%                      1.000000                -0.716259  \n",
       "area_kitchen_to_total_%                    -0.716259                 1.000000  "
      ]
     },
     "execution_count": 55,
     "metadata": {},
     "output_type": "execute_result"
    }
   ],
   "source": [
    "good_data.corr() #корреляция столбцов good_data"
   ]
  },
  {
   "cell_type": "markdown",
   "metadata": {},
   "source": [
    "### 4. Факторы влияющие на стоимость квартиры в Санкт-Петербурге #1<a id='step8'></a>"
   ]
  },
  {
   "cell_type": "markdown",
   "metadata": {},
   "source": [
    "##### Зависимость цены от квадратного метра, числа комнат, удалённости от центра, этажа (первого или последнего)"
   ]
  },
  {
   "cell_type": "markdown",
   "metadata": {},
   "source": []
  },
  {
   "cell_type": "code",
   "execution_count": 56,
   "metadata": {},
   "outputs": [
    {
     "data": {
      "text/plain": [
       "Text(0.5, 1.01, 'Зависимость цены от общей площади')"
      ]
     },
     "execution_count": 56,
     "metadata": {},
     "output_type": "execute_result"
    },
    {
     "data": {
      "image/png": "[encoded data removed]",
      "text/plain": [
       "<Figure size 432x432 with 3 Axes>"
      ]
     },
     "metadata": {
      "needs_background": "light"
     },
     "output_type": "display_data"
    }
   ],
   "source": [
    "#зависимость цены от общей площади квартиры\n",
    "sns.jointplot(x=data[\"total_area\"], y=data[\"last_price\"], kind='reg')\n",
    "plt.suptitle('Зависимость цены от общей площади', y=1.01)"
   ]
  },
  {
   "cell_type": "code",
   "execution_count": 57,
   "metadata": {},
   "outputs": [
    {
     "data": {
      "text/plain": [
       "Text(0.5, 1.01, 'Зависимость цены от количества комнат')"
      ]
     },
     "execution_count": 57,
     "metadata": {},
     "output_type": "execute_result"
    },
    {
     "data": {
      "image/png": "[encoded data removed]",
      "text/plain": [
       "<Figure size 432x432 with 3 Axes>"
      ]
     },
     "metadata": {
      "needs_background": "light"
     },
     "output_type": "display_data"
    }
   ],
   "source": [
    "#зависимость цены от количества комнат\n",
    "sns.jointplot(x=data[\"rooms\"], y=data[\"last_price\"], kind='reg')\n",
    "plt.suptitle('Зависимость цены от количества комнат', y=1.01)"
   ]
  },
  {
   "cell_type": "code",
   "execution_count": 58,
   "metadata": {},
   "outputs": [
    {
     "data": {
      "text/plain": [
       "Text(0.5, 1.01, 'Зависимость цены: расстояние от населенного пункта до центра')"
      ]
     },
     "execution_count": 58,
     "metadata": {},
     "output_type": "execute_result"
    },
    {
     "data": {
      "image/png": "[encoded data removed]",
      "text/plain": [
       "<Figure size 432x432 with 3 Axes>"
      ]
     },
     "metadata": {
      "needs_background": "light"
     },
     "output_type": "display_data"
    }
   ],
   "source": [
    "#зависимость цены: расстояние от населенного пункта до центра\n",
    "sns.jointplot(x=data[\"cityCenters_nearest\"], y=data[\"last_price\"], kind='reg')\n",
    "plt.suptitle('Зависимость цены: расстояние от населенного пункта до центра', y=1.01)"
   ]
  },
  {
   "cell_type": "code",
   "execution_count": 59,
   "metadata": {},
   "outputs": [
    {
     "data": {
      "text/plain": [
       "другой       13045\n",
       "последний     2424\n",
       "первый        2051\n",
       "Name: floor_namber, dtype: int64"
      ]
     },
     "execution_count": 59,
     "metadata": {},
     "output_type": "execute_result"
    },
    {
     "data": {
      "image/png": "[encoded data removed]",
      "text/plain": [
       "<Figure size 432x288 with 1 Axes>"
      ]
     },
     "metadata": {
      "needs_background": "light"
     },
     "output_type": "display_data"
    }
   ],
   "source": [
    "#зависимость цены от этажа (первого или последнего)\n",
    "floor_namber_pivot_table = good_data.query('floor_namber != \"другой\"').pivot_table(index = 'floor_namber', values = 'last_price', aggfunc = ['count'])\n",
    "floor_namber_pivot_table.plot(y = 'count')\n",
    "plt.title('Зависимость цены от этажа_без \"шума\"')\n",
    "good_data['floor_namber'].value_counts() "
   ]
  },
  {
   "cell_type": "markdown",
   "metadata": {},
   "source": [
    "Ожидаемо наибольшая корреляция между площадью квартиры и стоимостью (коэффициент корреляции 0,64).\n",
    "<br>Аналогично количество комнат влияет на рост в цене квартиры (коэффициент корреляции 0,35), но есть пик в 7 комнат- далее цена начинает падать. Возможная причина невысокого спроса на подобные варианты помимо приличной стоимости лота- старый жилой фонд, коммунальные квартиры. \n",
    "<br>Расстояние до центра влияет обратнопропорционально (коэффициент корреляции -0,20), движение выборки скорее равномерное.\n",
    "<br>Квартиры на первом и последних этажах обычно продаются более длительное время: последний этаж- из-за высокой стоимости (в сравнении с первым этажом стоимость выше на 17%), первый- из-за низкого спроса."
   ]
  },
  {
   "cell_type": "markdown",
   "metadata": {},
   "source": [
    "##### Зависимость цены от даты размещения: дня недели, месяца и года"
   ]
  },
  {
   "cell_type": "code",
   "execution_count": 60,
   "metadata": {},
   "outputs": [
    {
     "data": {
      "image/png": "[encoded data removed]",
      "text/plain": [
       "<Figure size 1080x216 with 1 Axes>"
      ]
     },
     "metadata": {
      "needs_background": "light"
     },
     "output_type": "display_data"
    },
    {
     "data": {
      "image/png": "[encoded data removed]",
      "text/plain": [
       "<Figure size 1080x216 with 1 Axes>"
      ]
     },
     "metadata": {
      "needs_background": "light"
     },
     "output_type": "display_data"
    },
    {
     "data": {
      "image/png": "[encoded data removed]",
      "text/plain": [
       "<Figure size 1080x216 with 1 Axes>"
      ]
     },
     "metadata": {
      "needs_background": "light"
     },
     "output_type": "display_data"
    }
   ],
   "source": [
    "for columns in ['first_day_exposition_weekday', 'first_day_exposition_month', 'first_day_exposition_year']:\n",
    "    (good_data.pivot_table(index=columns, values= 'last_price', aggfunc='count')\n",
    "    .plot.bar(figsize=(15, 3)))\n",
    "    plt.title('Зависимость цены от даты размещения_без \"шума\"')\n",
    "    plt.show()"
   ]
  },
  {
   "cell_type": "markdown",
   "metadata": {},
   "source": [
    "Даты публикации объявлений незначительно влияют на стоимость.\n",
    "<br>Наблюдается следующая картина:\n",
    "<br>- наиболее дорогие бъекты размещались во Вторника и Четверг- в пик наибольшей деловой активности;\n",
    "<br>- с Октября по Ноябрь (данный момент имеет место быть в реальности в новый год с новой продажей), также Февраль-Апрель, а вот летний период отпусков- это типичный провал по показателям продаж;\n",
    "<br>- в 2017 год- еще докризисный год и сохранение высокого уровня в динамике лет до 2018 года."
   ]
  },
  {
   "cell_type": "markdown",
   "metadata": {},
   "source": [
    "##### 10 населённых пунктов с наибольшим числом объявлений_цена м2_max_min по цене"
   ]
  },
  {
   "cell_type": "code",
   "execution_count": 61,
   "metadata": {},
   "outputs": [
    {
     "data": {
      "text/html": [
       "<div>\n",
       "<style scoped>\n",
       "    .dataframe tbody tr th:only-of-type {\n",
       "        vertical-align: middle;\n",
       "    }\n",
       "\n",
       "    .dataframe tbody tr th {\n",
       "        vertical-align: top;\n",
       "    }\n",
       "\n",
       "    .dataframe thead th {\n",
       "        text-align: right;\n",
       "    }\n",
       "</style>\n",
       "<table border=\"1\" class=\"dataframe\">\n",
       "  <thead>\n",
       "    <tr style=\"text-align: right;\">\n",
       "      <th></th>\n",
       "      <th>count</th>\n",
       "      <th>mean</th>\n",
       "    </tr>\n",
       "    <tr>\n",
       "      <th>locality_name</th>\n",
       "      <th></th>\n",
       "      <th></th>\n",
       "    </tr>\n",
       "  </thead>\n",
       "  <tbody>\n",
       "    <tr>\n",
       "      <td>Санкт-Петербург</td>\n",
       "      <td>11617</td>\n",
       "      <td>114163</td>\n",
       "    </tr>\n",
       "    <tr>\n",
       "      <td>посёлок Мурино</td>\n",
       "      <td>403</td>\n",
       "      <td>86460</td>\n",
       "    </tr>\n",
       "    <tr>\n",
       "      <td>посёлок Шушары</td>\n",
       "      <td>333</td>\n",
       "      <td>79169</td>\n",
       "    </tr>\n",
       "    <tr>\n",
       "      <td>Всеволожск</td>\n",
       "      <td>279</td>\n",
       "      <td>69629</td>\n",
       "    </tr>\n",
       "    <tr>\n",
       "      <td>Колпино</td>\n",
       "      <td>262</td>\n",
       "      <td>75744</td>\n",
       "    </tr>\n",
       "    <tr>\n",
       "      <td>Пушкин</td>\n",
       "      <td>252</td>\n",
       "      <td>102074</td>\n",
       "    </tr>\n",
       "    <tr>\n",
       "      <td>посёлок Парголово</td>\n",
       "      <td>247</td>\n",
       "      <td>89932</td>\n",
       "    </tr>\n",
       "    <tr>\n",
       "      <td>Гатчина</td>\n",
       "      <td>220</td>\n",
       "      <td>69528</td>\n",
       "    </tr>\n",
       "    <tr>\n",
       "      <td>деревня Кудрово</td>\n",
       "      <td>216</td>\n",
       "      <td>93173</td>\n",
       "    </tr>\n",
       "    <tr>\n",
       "      <td>Выборг</td>\n",
       "      <td>174</td>\n",
       "      <td>59006</td>\n",
       "    </tr>\n",
       "  </tbody>\n",
       "</table>\n",
       "</div>"
      ],
      "text/plain": [
       "                   count    mean\n",
       "locality_name                   \n",
       "Санкт-Петербург    11617  114163\n",
       "посёлок Мурино       403   86460\n",
       "посёлок Шушары       333   79169\n",
       "Всеволожск           279   69629\n",
       "Колпино              262   75744\n",
       "Пушкин               252  102074\n",
       "посёлок Парголово    247   89932\n",
       "Гатчина              220   69528\n",
       "деревня Кудрово      216   93173\n",
       "Выборг               174   59006"
      ]
     },
     "execution_count": 61,
     "metadata": {},
     "output_type": "execute_result"
    }
   ],
   "source": [
    "#применение группировки данных, для уточнения формата графиков\n",
    "locality_name_pivot_table = good_data.pivot_table(index = 'locality_name', values = 'price_per_m2', aggfunc=['count', 'mean'])\n",
    "locality_name_pivot_table.columns = ['count', 'mean']\n",
    "locality_name_pivot_table = locality_name_pivot_table.sort_values('count', ascending = False)\n",
    "locality_name_pivot_table.head(10).astype('int64') "
   ]
  },
  {
   "cell_type": "markdown",
   "metadata": {},
   "source": [
    "<br>В выборке из 10 населенных пунктов лидерство за Санкт-Петербургом, а самый минимальный по цене квадратный метр в Выборге (в 2 раза ниже в сравнении с ценами северной столицы России). \n",
    "<br> Вместе с тем наблюдается естественная закономерность современных тенденций (тренд жизни за городом): цена за квадратный метр в поселках и деревнях (Кудрово, Парголово, Мурино, Шушары) выше городских и стремятся приблизиться к столичной недвижимости.  "
   ]
  },
  {
   "cell_type": "markdown",
   "metadata": {},
   "source": [
    "### 5. Квартиры в Санкт-Петербурге_градация по км_область центра_средняя цена км #2<a id='step9'></a>"
   ]
  },
  {
   "cell_type": "code",
   "execution_count": 62,
   "metadata": {},
   "outputs": [
    {
     "data": {
      "text/plain": [
       "count    13367\n",
       "mean     14346\n",
       "std       8364\n",
       "min        181\n",
       "25%       9789\n",
       "50%      13252\n",
       "75%      16296\n",
       "max      65952\n",
       "Name: cityCenters_nearest, dtype: int64"
      ]
     },
     "execution_count": 62,
     "metadata": {},
     "output_type": "execute_result"
    }
   ],
   "source": [
    "good_data['cityCenters_nearest'].describe().astype('int64') "
   ]
  },
  {
   "cell_type": "code",
   "execution_count": 63,
   "metadata": {},
   "outputs": [],
   "source": [
    "import warnings #отключение предупреждений\n",
    "    \n",
    "warnings.simplefilter('ignore')   "
   ]
  },
  {
   "cell_type": "code",
   "execution_count": 64,
   "metadata": {},
   "outputs": [
    {
     "data": {
      "text/html": [
       "<div>\n",
       "<style scoped>\n",
       "    .dataframe tbody tr th:only-of-type {\n",
       "        vertical-align: middle;\n",
       "    }\n",
       "\n",
       "    .dataframe tbody tr th {\n",
       "        vertical-align: top;\n",
       "    }\n",
       "\n",
       "    .dataframe thead th {\n",
       "        text-align: right;\n",
       "    }\n",
       "</style>\n",
       "<table border=\"1\" class=\"dataframe\">\n",
       "  <thead>\n",
       "    <tr style=\"text-align: right;\">\n",
       "      <th></th>\n",
       "      <th>total_images</th>\n",
       "      <th>last_price</th>\n",
       "      <th>total_area</th>\n",
       "      <th>first_day_exposition</th>\n",
       "      <th>rooms</th>\n",
       "      <th>ceiling_height</th>\n",
       "      <th>floors_total</th>\n",
       "      <th>living_area</th>\n",
       "      <th>floor</th>\n",
       "      <th>is_apartment</th>\n",
       "      <th>studio</th>\n",
       "      <th>open_plan</th>\n",
       "      <th>kitchen_area</th>\n",
       "      <th>balcony</th>\n",
       "      <th>locality_name</th>\n",
       "      <th>airports_nearest</th>\n",
       "      <th>cityCenters_nearest</th>\n",
       "      <th>parks_around3000</th>\n",
       "      <th>parks_nearest</th>\n",
       "      <th>ponds_around3000</th>\n",
       "      <th>ponds_nearest</th>\n",
       "      <th>days_exposition</th>\n",
       "      <th>price_per_m2</th>\n",
       "      <th>first_day_exposition_weekday</th>\n",
       "      <th>first_day_exposition_month</th>\n",
       "      <th>first_day_exposition_year</th>\n",
       "      <th>floor_namber</th>\n",
       "      <th>area_living_to_total_%</th>\n",
       "      <th>area_kitchen_to_total_%</th>\n",
       "      <th>cityCenters_nearest_km</th>\n",
       "    </tr>\n",
       "  </thead>\n",
       "  <tbody>\n",
       "    <tr>\n",
       "      <td>2893</td>\n",
       "      <td>11</td>\n",
       "      <td>5.30</td>\n",
       "      <td>35.0</td>\n",
       "      <td>2017-02-15</td>\n",
       "      <td>1</td>\n",
       "      <td>2.65</td>\n",
       "      <td>19</td>\n",
       "      <td>14.0</td>\n",
       "      <td>7</td>\n",
       "      <td>True</td>\n",
       "      <td>False</td>\n",
       "      <td>False</td>\n",
       "      <td>9.5</td>\n",
       "      <td>0</td>\n",
       "      <td>Санкт-Петербург</td>\n",
       "      <td>19499.0</td>\n",
       "      <td>4844.0</td>\n",
       "      <td>0.0</td>\n",
       "      <td>NaN</td>\n",
       "      <td>1.0</td>\n",
       "      <td>503.0</td>\n",
       "      <td>170</td>\n",
       "      <td>151428.571429</td>\n",
       "      <td>2</td>\n",
       "      <td>2</td>\n",
       "      <td>2017</td>\n",
       "      <td>другой</td>\n",
       "      <td>0.400000</td>\n",
       "      <td>0.271429</td>\n",
       "      <td>5.0</td>\n",
       "    </tr>\n",
       "    <tr>\n",
       "      <td>2080</td>\n",
       "      <td>11</td>\n",
       "      <td>4.90</td>\n",
       "      <td>66.0</td>\n",
       "      <td>2017-02-07</td>\n",
       "      <td>3</td>\n",
       "      <td>2.65</td>\n",
       "      <td>9</td>\n",
       "      <td>42.0</td>\n",
       "      <td>2</td>\n",
       "      <td>False</td>\n",
       "      <td>False</td>\n",
       "      <td>False</td>\n",
       "      <td>10.3</td>\n",
       "      <td>2</td>\n",
       "      <td>Санкт-Петербург</td>\n",
       "      <td>19693.0</td>\n",
       "      <td>13494.0</td>\n",
       "      <td>0.0</td>\n",
       "      <td>NaN</td>\n",
       "      <td>0.0</td>\n",
       "      <td>NaN</td>\n",
       "      <td>42</td>\n",
       "      <td>74242.424242</td>\n",
       "      <td>1</td>\n",
       "      <td>2</td>\n",
       "      <td>2017</td>\n",
       "      <td>другой</td>\n",
       "      <td>0.636364</td>\n",
       "      <td>0.156061</td>\n",
       "      <td>13.0</td>\n",
       "    </tr>\n",
       "    <tr>\n",
       "      <td>5298</td>\n",
       "      <td>10</td>\n",
       "      <td>7.90</td>\n",
       "      <td>76.0</td>\n",
       "      <td>2018-01-13</td>\n",
       "      <td>3</td>\n",
       "      <td>2.75</td>\n",
       "      <td>25</td>\n",
       "      <td>48.0</td>\n",
       "      <td>4</td>\n",
       "      <td>True</td>\n",
       "      <td>False</td>\n",
       "      <td>False</td>\n",
       "      <td>10.0</td>\n",
       "      <td>1</td>\n",
       "      <td>Санкт-Петербург</td>\n",
       "      <td>28959.0</td>\n",
       "      <td>10890.0</td>\n",
       "      <td>1.0</td>\n",
       "      <td>212.0</td>\n",
       "      <td>0.0</td>\n",
       "      <td>NaN</td>\n",
       "      <td>10</td>\n",
       "      <td>103947.368421</td>\n",
       "      <td>5</td>\n",
       "      <td>1</td>\n",
       "      <td>2018</td>\n",
       "      <td>другой</td>\n",
       "      <td>0.631579</td>\n",
       "      <td>0.131579</td>\n",
       "      <td>11.0</td>\n",
       "    </tr>\n",
       "    <tr>\n",
       "      <td>22007</td>\n",
       "      <td>9</td>\n",
       "      <td>5.00</td>\n",
       "      <td>28.3</td>\n",
       "      <td>2019-04-22</td>\n",
       "      <td>1</td>\n",
       "      <td>2.65</td>\n",
       "      <td>11</td>\n",
       "      <td>21.3</td>\n",
       "      <td>9</td>\n",
       "      <td>True</td>\n",
       "      <td>False</td>\n",
       "      <td>False</td>\n",
       "      <td>NaN</td>\n",
       "      <td>0</td>\n",
       "      <td>Санкт-Петербург</td>\n",
       "      <td>30824.0</td>\n",
       "      <td>6469.0</td>\n",
       "      <td>1.0</td>\n",
       "      <td>756.0</td>\n",
       "      <td>1.0</td>\n",
       "      <td>936.0</td>\n",
       "      <td>95</td>\n",
       "      <td>176678.445230</td>\n",
       "      <td>0</td>\n",
       "      <td>4</td>\n",
       "      <td>2019</td>\n",
       "      <td>другой</td>\n",
       "      <td>0.752650</td>\n",
       "      <td>NaN</td>\n",
       "      <td>6.0</td>\n",
       "    </tr>\n",
       "    <tr>\n",
       "      <td>3362</td>\n",
       "      <td>9</td>\n",
       "      <td>4.30</td>\n",
       "      <td>45.4</td>\n",
       "      <td>2017-10-18</td>\n",
       "      <td>2</td>\n",
       "      <td>2.70</td>\n",
       "      <td>9</td>\n",
       "      <td>29.4</td>\n",
       "      <td>1</td>\n",
       "      <td>True</td>\n",
       "      <td>False</td>\n",
       "      <td>False</td>\n",
       "      <td>8.1</td>\n",
       "      <td>0</td>\n",
       "      <td>Санкт-Петербург</td>\n",
       "      <td>11930.0</td>\n",
       "      <td>13373.0</td>\n",
       "      <td>0.0</td>\n",
       "      <td>NaN</td>\n",
       "      <td>0.0</td>\n",
       "      <td>NaN</td>\n",
       "      <td>121</td>\n",
       "      <td>94713.656388</td>\n",
       "      <td>2</td>\n",
       "      <td>10</td>\n",
       "      <td>2017</td>\n",
       "      <td>первый</td>\n",
       "      <td>0.647577</td>\n",
       "      <td>0.178414</td>\n",
       "      <td>13.0</td>\n",
       "    </tr>\n",
       "    <tr>\n",
       "      <td>18169</td>\n",
       "      <td>20</td>\n",
       "      <td>12.60</td>\n",
       "      <td>109.0</td>\n",
       "      <td>2017-07-16</td>\n",
       "      <td>2</td>\n",
       "      <td>2.75</td>\n",
       "      <td>25</td>\n",
       "      <td>53.0</td>\n",
       "      <td>13</td>\n",
       "      <td>True</td>\n",
       "      <td>False</td>\n",
       "      <td>False</td>\n",
       "      <td>19.0</td>\n",
       "      <td>1</td>\n",
       "      <td>Санкт-Петербург</td>\n",
       "      <td>36724.0</td>\n",
       "      <td>9781.0</td>\n",
       "      <td>1.0</td>\n",
       "      <td>645.0</td>\n",
       "      <td>0.0</td>\n",
       "      <td>NaN</td>\n",
       "      <td>95</td>\n",
       "      <td>115596.330275</td>\n",
       "      <td>6</td>\n",
       "      <td>7</td>\n",
       "      <td>2017</td>\n",
       "      <td>другой</td>\n",
       "      <td>0.486239</td>\n",
       "      <td>0.174312</td>\n",
       "      <td>10.0</td>\n",
       "    </tr>\n",
       "    <tr>\n",
       "      <td>9942</td>\n",
       "      <td>10</td>\n",
       "      <td>5.07</td>\n",
       "      <td>42.0</td>\n",
       "      <td>2017-12-14</td>\n",
       "      <td>1</td>\n",
       "      <td>2.80</td>\n",
       "      <td>22</td>\n",
       "      <td>18.0</td>\n",
       "      <td>7</td>\n",
       "      <td>True</td>\n",
       "      <td>False</td>\n",
       "      <td>False</td>\n",
       "      <td>11.0</td>\n",
       "      <td>2</td>\n",
       "      <td>Санкт-Петербург</td>\n",
       "      <td>52212.0</td>\n",
       "      <td>16802.0</td>\n",
       "      <td>0.0</td>\n",
       "      <td>NaN</td>\n",
       "      <td>1.0</td>\n",
       "      <td>733.0</td>\n",
       "      <td>117</td>\n",
       "      <td>120714.285714</td>\n",
       "      <td>3</td>\n",
       "      <td>12</td>\n",
       "      <td>2017</td>\n",
       "      <td>другой</td>\n",
       "      <td>0.428571</td>\n",
       "      <td>0.261905</td>\n",
       "      <td>17.0</td>\n",
       "    </tr>\n",
       "  </tbody>\n",
       "</table>\n",
       "</div>"
      ],
      "text/plain": [
       "       total_images  last_price  total_area first_day_exposition  rooms  \\\n",
       "2893             11        5.30        35.0           2017-02-15      1   \n",
       "2080             11        4.90        66.0           2017-02-07      3   \n",
       "5298             10        7.90        76.0           2018-01-13      3   \n",
       "22007             9        5.00        28.3           2019-04-22      1   \n",
       "3362              9        4.30        45.4           2017-10-18      2   \n",
       "18169            20       12.60       109.0           2017-07-16      2   \n",
       "9942             10        5.07        42.0           2017-12-14      1   \n",
       "\n",
       "       ceiling_height  floors_total  living_area  floor  is_apartment  studio  \\\n",
       "2893             2.65            19         14.0      7          True   False   \n",
       "2080             2.65             9         42.0      2         False   False   \n",
       "5298             2.75            25         48.0      4          True   False   \n",
       "22007            2.65            11         21.3      9          True   False   \n",
       "3362             2.70             9         29.4      1          True   False   \n",
       "18169            2.75            25         53.0     13          True   False   \n",
       "9942             2.80            22         18.0      7          True   False   \n",
       "\n",
       "       open_plan  kitchen_area  balcony    locality_name airports_nearest  \\\n",
       "2893       False           9.5        0  Санкт-Петербург          19499.0   \n",
       "2080       False          10.3        2  Санкт-Петербург          19693.0   \n",
       "5298       False          10.0        1  Санкт-Петербург          28959.0   \n",
       "22007      False           NaN        0  Санкт-Петербург          30824.0   \n",
       "3362       False           8.1        0  Санкт-Петербург          11930.0   \n",
       "18169      False          19.0        1  Санкт-Петербург          36724.0   \n",
       "9942       False          11.0        2  Санкт-Петербург          52212.0   \n",
       "\n",
       "       cityCenters_nearest parks_around3000 parks_nearest ponds_around3000  \\\n",
       "2893                4844.0              0.0           NaN              1.0   \n",
       "2080               13494.0              0.0           NaN              0.0   \n",
       "5298               10890.0              1.0         212.0              0.0   \n",
       "22007               6469.0              1.0         756.0              1.0   \n",
       "3362               13373.0              0.0           NaN              0.0   \n",
       "18169               9781.0              1.0         645.0              0.0   \n",
       "9942               16802.0              0.0           NaN              1.0   \n",
       "\n",
       "      ponds_nearest  days_exposition   price_per_m2  \\\n",
       "2893          503.0              170  151428.571429   \n",
       "2080            NaN               42   74242.424242   \n",
       "5298            NaN               10  103947.368421   \n",
       "22007         936.0               95  176678.445230   \n",
       "3362            NaN              121   94713.656388   \n",
       "18169           NaN               95  115596.330275   \n",
       "9942          733.0              117  120714.285714   \n",
       "\n",
       "       first_day_exposition_weekday  first_day_exposition_month  \\\n",
       "2893                              2                           2   \n",
       "2080                              1                           2   \n",
       "5298                              5                           1   \n",
       "22007                             0                           4   \n",
       "3362                              2                          10   \n",
       "18169                             6                           7   \n",
       "9942                              3                          12   \n",
       "\n",
       "       first_day_exposition_year floor_namber  area_living_to_total_%  \\\n",
       "2893                        2017       другой                0.400000   \n",
       "2080                        2017       другой                0.636364   \n",
       "5298                        2018       другой                0.631579   \n",
       "22007                       2019       другой                0.752650   \n",
       "3362                        2017       первый                0.647577   \n",
       "18169                       2017       другой                0.486239   \n",
       "9942                        2017       другой                0.428571   \n",
       "\n",
       "       area_kitchen_to_total_%  cityCenters_nearest_km  \n",
       "2893                  0.271429                     5.0  \n",
       "2080                  0.156061                    13.0  \n",
       "5298                  0.131579                    11.0  \n",
       "22007                      NaN                     6.0  \n",
       "3362                  0.178414                    13.0  \n",
       "18169                 0.174312                    10.0  \n",
       "9942                  0.261905                    17.0  "
      ]
     },
     "execution_count": 64,
     "metadata": {},
     "output_type": "execute_result"
    }
   ],
   "source": [
    "km_spb = good_data.query('locality_name == \"Санкт-Петербург\"')\n",
    "\n",
    "def metre_to_km(row):\n",
    "    try:\n",
    "        return round(row['cityCenters_nearest']/1000, 0) #перевод расстояния в км\n",
    "    except:\n",
    "        good_data['cityCenters_nearest'].fillna(good_data['cityCenters_nearest'].median()) #замена NaN на медиану\n",
    "km_spb['cityCenters_nearest_km'] = km_spb.apply(metre_to_km, axis=1)\n",
    "km_spb.sample(7) "
   ]
  },
  {
   "cell_type": "code",
   "execution_count": 65,
   "metadata": {},
   "outputs": [
    {
     "data": {
      "text/html": [
       "<div>\n",
       "<style scoped>\n",
       "    .dataframe tbody tr th:only-of-type {\n",
       "        vertical-align: middle;\n",
       "    }\n",
       "\n",
       "    .dataframe tbody tr th {\n",
       "        vertical-align: top;\n",
       "    }\n",
       "\n",
       "    .dataframe thead th {\n",
       "        text-align: right;\n",
       "    }\n",
       "</style>\n",
       "<table border=\"1\" class=\"dataframe\">\n",
       "  <thead>\n",
       "    <tr style=\"text-align: right;\">\n",
       "      <th></th>\n",
       "      <th>price_per_m2</th>\n",
       "    </tr>\n",
       "    <tr>\n",
       "      <th>cityCenters_nearest_km</th>\n",
       "      <th></th>\n",
       "    </tr>\n",
       "  </thead>\n",
       "  <tbody>\n",
       "    <tr>\n",
       "      <td>0.0</td>\n",
       "      <td>260335</td>\n",
       "    </tr>\n",
       "    <tr>\n",
       "      <td>1.0</td>\n",
       "      <td>181826</td>\n",
       "    </tr>\n",
       "    <tr>\n",
       "      <td>2.0</td>\n",
       "      <td>157582</td>\n",
       "    </tr>\n",
       "    <tr>\n",
       "      <td>3.0</td>\n",
       "      <td>125616</td>\n",
       "    </tr>\n",
       "    <tr>\n",
       "      <td>4.0</td>\n",
       "      <td>133743</td>\n",
       "    </tr>\n",
       "    <tr>\n",
       "      <td>5.0</td>\n",
       "      <td>141150</td>\n",
       "    </tr>\n",
       "    <tr>\n",
       "      <td>6.0</td>\n",
       "      <td>148490</td>\n",
       "    </tr>\n",
       "  </tbody>\n",
       "</table>\n",
       "</div>"
      ],
      "text/plain": [
       "                        price_per_m2\n",
       "cityCenters_nearest_km              \n",
       "0.0                           260335\n",
       "1.0                           181826\n",
       "2.0                           157582\n",
       "3.0                           125616\n",
       "4.0                           133743\n",
       "5.0                           141150\n",
       "6.0                           148490"
      ]
     },
     "execution_count": 65,
     "metadata": {},
     "output_type": "execute_result"
    }
   ],
   "source": [
    "#pivot_table зависимости км и стоимости м2\n",
    "km_pivot_table = km_spb.query('locality_name == \"Санкт-Петербург\"').pivot_table(index = 'cityCenters_nearest_km', values = 'price_per_m2', aggfunc = 'mean')\n",
    "km_pivot_table.head(7).astype('int64') "
   ]
  },
  {
   "cell_type": "code",
   "execution_count": 66,
   "metadata": {},
   "outputs": [
    {
     "data": {
      "text/plain": [
       "Text(0.5, 1.0, 'Зависимости км и стоимости м2')"
      ]
     },
     "execution_count": 66,
     "metadata": {},
     "output_type": "execute_result"
    },
    {
     "data": {
      "image/png": "[encoded data removed]",
      "text/plain": [
       "<Figure size 1224x504 with 1 Axes>"
      ]
     },
     "metadata": {
      "needs_background": "light"
     },
     "output_type": "display_data"
    }
   ],
   "source": [
    "plt.figure(figsize=(17,7))\n",
    "sns.barplot(data= km_spb, x='cityCenters_nearest_km', y='price_per_m2')\n",
    "plt.title('Зависимости км и стоимости м2')"
   ]
  },
  {
   "cell_type": "markdown",
   "metadata": {},
   "source": [
    "Из выведенной градации по км в Санкт-Петербурге видно следующее:\n",
    "<br>-обратнопропорциональная зависимость отражена на графике (коэффициент корреляции -0,32);\n",
    "<br>-старт с 29-го км по цене 62 418 руб. за кв.км доходит до 1-го км со стоимостью 260 335 руб. (рост по стоимости в 4 раза отражает приличную разницу цен между центром и окраинами города), а резкое изменение на уровне 7 км сигнализирует о центральной зоне."
   ]
  },
  {
   "cell_type": "markdown",
   "metadata": {},
   "source": [
    "### 6. Сегмент квартир в центре Санкт-Петербурга: площадь, цена, число комнат, высота потолков. <br> Факторы, влияющие на стоимость квартиры (число комнат, этаж, удалённость от центра, дата размещения объявления) #3<a id='step10'></a>"
   ]
  },
  {
   "cell_type": "markdown",
   "metadata": {},
   "source": [
    "###### Параметры: площадь, цена, число комнат, высота потолков."
   ]
  },
  {
   "cell_type": "code",
   "execution_count": 67,
   "metadata": {},
   "outputs": [],
   "source": [
    "#выделим квартиры в центре, беря за радиус 7 км (кол-во объектов- 2299)\n",
    "good_data_center_spb = km_spb.query('cityCenters_nearest_km <= 7 & locality_name == \"Санкт-Петербург\"')"
   ]
  },
  {
   "cell_type": "code",
   "execution_count": 68,
   "metadata": {},
   "outputs": [
    {
     "data": {
      "text/html": [
       "<div>\n",
       "<style scoped>\n",
       "    .dataframe tbody tr th:only-of-type {\n",
       "        vertical-align: middle;\n",
       "    }\n",
       "\n",
       "    .dataframe tbody tr th {\n",
       "        vertical-align: top;\n",
       "    }\n",
       "\n",
       "    .dataframe thead th {\n",
       "        text-align: right;\n",
       "    }\n",
       "</style>\n",
       "<table border=\"1\" class=\"dataframe\">\n",
       "  <thead>\n",
       "    <tr style=\"text-align: right;\">\n",
       "      <th></th>\n",
       "      <th>total_images</th>\n",
       "      <th>last_price</th>\n",
       "      <th>total_area</th>\n",
       "      <th>first_day_exposition</th>\n",
       "      <th>rooms</th>\n",
       "      <th>ceiling_height</th>\n",
       "      <th>floors_total</th>\n",
       "      <th>living_area</th>\n",
       "      <th>floor</th>\n",
       "      <th>is_apartment</th>\n",
       "      <th>studio</th>\n",
       "      <th>open_plan</th>\n",
       "      <th>kitchen_area</th>\n",
       "      <th>balcony</th>\n",
       "      <th>locality_name</th>\n",
       "      <th>airports_nearest</th>\n",
       "      <th>cityCenters_nearest</th>\n",
       "      <th>parks_around3000</th>\n",
       "      <th>parks_nearest</th>\n",
       "      <th>ponds_around3000</th>\n",
       "      <th>ponds_nearest</th>\n",
       "      <th>days_exposition</th>\n",
       "      <th>price_per_m2</th>\n",
       "      <th>first_day_exposition_weekday</th>\n",
       "      <th>first_day_exposition_month</th>\n",
       "      <th>first_day_exposition_year</th>\n",
       "      <th>floor_namber</th>\n",
       "      <th>area_living_to_total_%</th>\n",
       "      <th>area_kitchen_to_total_%</th>\n",
       "      <th>cityCenters_nearest_km</th>\n",
       "    </tr>\n",
       "  </thead>\n",
       "  <tbody>\n",
       "    <tr>\n",
       "      <td>52</td>\n",
       "      <td>20</td>\n",
       "      <td>11.795</td>\n",
       "      <td>136.0</td>\n",
       "      <td>2017-09-22</td>\n",
       "      <td>6</td>\n",
       "      <td>3.00</td>\n",
       "      <td>2</td>\n",
       "      <td>94.0</td>\n",
       "      <td>2</td>\n",
       "      <td>True</td>\n",
       "      <td>False</td>\n",
       "      <td>False</td>\n",
       "      <td>11.0</td>\n",
       "      <td>1</td>\n",
       "      <td>Санкт-Петербург</td>\n",
       "      <td>16510.0</td>\n",
       "      <td>6582.0</td>\n",
       "      <td>1.0</td>\n",
       "      <td>526.0</td>\n",
       "      <td>0.0</td>\n",
       "      <td>NaN</td>\n",
       "      <td>95</td>\n",
       "      <td>86727.941176</td>\n",
       "      <td>4</td>\n",
       "      <td>9</td>\n",
       "      <td>2017</td>\n",
       "      <td>последний</td>\n",
       "      <td>0.691176</td>\n",
       "      <td>0.080882</td>\n",
       "      <td>7.0</td>\n",
       "    </tr>\n",
       "    <tr>\n",
       "      <td>63</td>\n",
       "      <td>2</td>\n",
       "      <td>20.000</td>\n",
       "      <td>118.0</td>\n",
       "      <td>2018-09-11</td>\n",
       "      <td>3</td>\n",
       "      <td>3.00</td>\n",
       "      <td>9</td>\n",
       "      <td>68.0</td>\n",
       "      <td>7</td>\n",
       "      <td>True</td>\n",
       "      <td>False</td>\n",
       "      <td>False</td>\n",
       "      <td>16.0</td>\n",
       "      <td>0</td>\n",
       "      <td>Санкт-Петербург</td>\n",
       "      <td>26055.0</td>\n",
       "      <td>4800.0</td>\n",
       "      <td>1.0</td>\n",
       "      <td>648.0</td>\n",
       "      <td>1.0</td>\n",
       "      <td>779.0</td>\n",
       "      <td>37</td>\n",
       "      <td>169491.525424</td>\n",
       "      <td>1</td>\n",
       "      <td>9</td>\n",
       "      <td>2018</td>\n",
       "      <td>другой</td>\n",
       "      <td>0.576271</td>\n",
       "      <td>0.135593</td>\n",
       "      <td>5.0</td>\n",
       "    </tr>\n",
       "    <tr>\n",
       "      <td>94</td>\n",
       "      <td>3</td>\n",
       "      <td>3.500</td>\n",
       "      <td>29.5</td>\n",
       "      <td>2019-04-26</td>\n",
       "      <td>1</td>\n",
       "      <td>2.50</td>\n",
       "      <td>5</td>\n",
       "      <td>15.6</td>\n",
       "      <td>2</td>\n",
       "      <td>True</td>\n",
       "      <td>False</td>\n",
       "      <td>False</td>\n",
       "      <td>5.5</td>\n",
       "      <td>1</td>\n",
       "      <td>Санкт-Петербург</td>\n",
       "      <td>12921.0</td>\n",
       "      <td>7303.0</td>\n",
       "      <td>0.0</td>\n",
       "      <td>NaN</td>\n",
       "      <td>0.0</td>\n",
       "      <td>NaN</td>\n",
       "      <td>4</td>\n",
       "      <td>118644.067797</td>\n",
       "      <td>4</td>\n",
       "      <td>4</td>\n",
       "      <td>2019</td>\n",
       "      <td>другой</td>\n",
       "      <td>0.528814</td>\n",
       "      <td>0.186441</td>\n",
       "      <td>7.0</td>\n",
       "    </tr>\n",
       "    <tr>\n",
       "      <td>99</td>\n",
       "      <td>32</td>\n",
       "      <td>9.600</td>\n",
       "      <td>90.0</td>\n",
       "      <td>2017-09-26</td>\n",
       "      <td>4</td>\n",
       "      <td>2.65</td>\n",
       "      <td>5</td>\n",
       "      <td>67.0</td>\n",
       "      <td>2</td>\n",
       "      <td>True</td>\n",
       "      <td>False</td>\n",
       "      <td>False</td>\n",
       "      <td>8.0</td>\n",
       "      <td>0</td>\n",
       "      <td>Санкт-Петербург</td>\n",
       "      <td>23277.0</td>\n",
       "      <td>2818.0</td>\n",
       "      <td>0.0</td>\n",
       "      <td>NaN</td>\n",
       "      <td>0.0</td>\n",
       "      <td>NaN</td>\n",
       "      <td>104</td>\n",
       "      <td>106666.666667</td>\n",
       "      <td>1</td>\n",
       "      <td>9</td>\n",
       "      <td>2017</td>\n",
       "      <td>другой</td>\n",
       "      <td>0.744444</td>\n",
       "      <td>0.088889</td>\n",
       "      <td>3.0</td>\n",
       "    </tr>\n",
       "    <tr>\n",
       "      <td>106</td>\n",
       "      <td>9</td>\n",
       "      <td>10.500</td>\n",
       "      <td>124.1</td>\n",
       "      <td>2017-05-25</td>\n",
       "      <td>5</td>\n",
       "      <td>3.20</td>\n",
       "      <td>4</td>\n",
       "      <td>79.4</td>\n",
       "      <td>3</td>\n",
       "      <td>True</td>\n",
       "      <td>False</td>\n",
       "      <td>False</td>\n",
       "      <td>20.0</td>\n",
       "      <td>0</td>\n",
       "      <td>Санкт-Петербург</td>\n",
       "      <td>26825.0</td>\n",
       "      <td>5527.0</td>\n",
       "      <td>1.0</td>\n",
       "      <td>384.0</td>\n",
       "      <td>0.0</td>\n",
       "      <td>NaN</td>\n",
       "      <td>6</td>\n",
       "      <td>84609.186140</td>\n",
       "      <td>3</td>\n",
       "      <td>5</td>\n",
       "      <td>2017</td>\n",
       "      <td>другой</td>\n",
       "      <td>0.639807</td>\n",
       "      <td>0.161160</td>\n",
       "      <td>6.0</td>\n",
       "    </tr>\n",
       "    <tr>\n",
       "      <td>111</td>\n",
       "      <td>4</td>\n",
       "      <td>4.590</td>\n",
       "      <td>40.0</td>\n",
       "      <td>2017-05-29</td>\n",
       "      <td>1</td>\n",
       "      <td>2.65</td>\n",
       "      <td>6</td>\n",
       "      <td>18.0</td>\n",
       "      <td>1</td>\n",
       "      <td>True</td>\n",
       "      <td>False</td>\n",
       "      <td>False</td>\n",
       "      <td>10.0</td>\n",
       "      <td>0</td>\n",
       "      <td>Санкт-Петербург</td>\n",
       "      <td>20062.0</td>\n",
       "      <td>6175.0</td>\n",
       "      <td>1.0</td>\n",
       "      <td>241.0</td>\n",
       "      <td>0.0</td>\n",
       "      <td>NaN</td>\n",
       "      <td>31</td>\n",
       "      <td>114750.000000</td>\n",
       "      <td>0</td>\n",
       "      <td>5</td>\n",
       "      <td>2017</td>\n",
       "      <td>первый</td>\n",
       "      <td>0.450000</td>\n",
       "      <td>0.250000</td>\n",
       "      <td>6.0</td>\n",
       "    </tr>\n",
       "    <tr>\n",
       "      <td>114</td>\n",
       "      <td>5</td>\n",
       "      <td>4.000</td>\n",
       "      <td>21.4</td>\n",
       "      <td>2019-02-07</td>\n",
       "      <td>1</td>\n",
       "      <td>2.90</td>\n",
       "      <td>8</td>\n",
       "      <td>8.3</td>\n",
       "      <td>7</td>\n",
       "      <td>True</td>\n",
       "      <td>False</td>\n",
       "      <td>False</td>\n",
       "      <td>6.3</td>\n",
       "      <td>0</td>\n",
       "      <td>Санкт-Петербург</td>\n",
       "      <td>27089.0</td>\n",
       "      <td>5791.0</td>\n",
       "      <td>2.0</td>\n",
       "      <td>488.0</td>\n",
       "      <td>1.0</td>\n",
       "      <td>286.0</td>\n",
       "      <td>95</td>\n",
       "      <td>186915.887850</td>\n",
       "      <td>3</td>\n",
       "      <td>2</td>\n",
       "      <td>2019</td>\n",
       "      <td>другой</td>\n",
       "      <td>0.387850</td>\n",
       "      <td>0.294393</td>\n",
       "      <td>6.0</td>\n",
       "    </tr>\n",
       "  </tbody>\n",
       "</table>\n",
       "</div>"
      ],
      "text/plain": [
       "     total_images  last_price  total_area first_day_exposition  rooms  \\\n",
       "52             20      11.795       136.0           2017-09-22      6   \n",
       "63              2      20.000       118.0           2018-09-11      3   \n",
       "94              3       3.500        29.5           2019-04-26      1   \n",
       "99             32       9.600        90.0           2017-09-26      4   \n",
       "106             9      10.500       124.1           2017-05-25      5   \n",
       "111             4       4.590        40.0           2017-05-29      1   \n",
       "114             5       4.000        21.4           2019-02-07      1   \n",
       "\n",
       "     ceiling_height  floors_total  living_area  floor  is_apartment  studio  \\\n",
       "52             3.00             2         94.0      2          True   False   \n",
       "63             3.00             9         68.0      7          True   False   \n",
       "94             2.50             5         15.6      2          True   False   \n",
       "99             2.65             5         67.0      2          True   False   \n",
       "106            3.20             4         79.4      3          True   False   \n",
       "111            2.65             6         18.0      1          True   False   \n",
       "114            2.90             8          8.3      7          True   False   \n",
       "\n",
       "     open_plan  kitchen_area  balcony    locality_name airports_nearest  \\\n",
       "52       False          11.0        1  Санкт-Петербург          16510.0   \n",
       "63       False          16.0        0  Санкт-Петербург          26055.0   \n",
       "94       False           5.5        1  Санкт-Петербург          12921.0   \n",
       "99       False           8.0        0  Санкт-Петербург          23277.0   \n",
       "106      False          20.0        0  Санкт-Петербург          26825.0   \n",
       "111      False          10.0        0  Санкт-Петербург          20062.0   \n",
       "114      False           6.3        0  Санкт-Петербург          27089.0   \n",
       "\n",
       "     cityCenters_nearest parks_around3000 parks_nearest ponds_around3000  \\\n",
       "52                6582.0              1.0         526.0              0.0   \n",
       "63                4800.0              1.0         648.0              1.0   \n",
       "94                7303.0              0.0           NaN              0.0   \n",
       "99                2818.0              0.0           NaN              0.0   \n",
       "106               5527.0              1.0         384.0              0.0   \n",
       "111               6175.0              1.0         241.0              0.0   \n",
       "114               5791.0              2.0         488.0              1.0   \n",
       "\n",
       "    ponds_nearest  days_exposition   price_per_m2  \\\n",
       "52            NaN               95   86727.941176   \n",
       "63          779.0               37  169491.525424   \n",
       "94            NaN                4  118644.067797   \n",
       "99            NaN              104  106666.666667   \n",
       "106           NaN                6   84609.186140   \n",
       "111           NaN               31  114750.000000   \n",
       "114         286.0               95  186915.887850   \n",
       "\n",
       "     first_day_exposition_weekday  first_day_exposition_month  \\\n",
       "52                              4                           9   \n",
       "63                              1                           9   \n",
       "94                              4                           4   \n",
       "99                              1                           9   \n",
       "106                             3                           5   \n",
       "111                             0                           5   \n",
       "114                             3                           2   \n",
       "\n",
       "     first_day_exposition_year floor_namber  area_living_to_total_%  \\\n",
       "52                        2017    последний                0.691176   \n",
       "63                        2018       другой                0.576271   \n",
       "94                        2019       другой                0.528814   \n",
       "99                        2017       другой                0.744444   \n",
       "106                       2017       другой                0.639807   \n",
       "111                       2017       первый                0.450000   \n",
       "114                       2019       другой                0.387850   \n",
       "\n",
       "     area_kitchen_to_total_%  cityCenters_nearest_km  \n",
       "52                  0.080882                     7.0  \n",
       "63                  0.135593                     5.0  \n",
       "94                  0.186441                     7.0  \n",
       "99                  0.088889                     3.0  \n",
       "106                 0.161160                     6.0  \n",
       "111                 0.250000                     6.0  \n",
       "114                 0.294393                     6.0  "
      ]
     },
     "execution_count": 68,
     "metadata": {},
     "output_type": "execute_result"
    }
   ],
   "source": [
    "pd.set_option(\"display.max_columns\",40)\n",
    "good_data_center_spb.head(7) "
   ]
  },
  {
   "cell_type": "code",
   "execution_count": 69,
   "metadata": {},
   "outputs": [
    {
     "name": "stdout",
     "output_type": "stream",
     "text": [
      "<class 'pandas.core.frame.DataFrame'>\n",
      "Int64Index: 2299 entries, 52 to 23694\n",
      "Data columns (total 30 columns):\n",
      "total_images                    2299 non-null int64\n",
      "last_price                      2299 non-null float64\n",
      "total_area                      2299 non-null float64\n",
      "first_day_exposition            2299 non-null datetime64[ns]\n",
      "rooms                           2299 non-null int64\n",
      "ceiling_height                  2299 non-null float64\n",
      "floors_total                    2299 non-null int64\n",
      "living_area                     2076 non-null float64\n",
      "floor                           2299 non-null int64\n",
      "is_apartment                    2299 non-null bool\n",
      "studio                          2299 non-null bool\n",
      "open_plan                       2299 non-null bool\n",
      "kitchen_area                    2052 non-null float64\n",
      "balcony                         2299 non-null int64\n",
      "locality_name                   2299 non-null object\n",
      "airports_nearest                2295 non-null object\n",
      "cityCenters_nearest             2299 non-null float64\n",
      "parks_around3000                2299 non-null object\n",
      "parks_nearest                   1544 non-null object\n",
      "ponds_around3000                2299 non-null object\n",
      "ponds_nearest                   1650 non-null object\n",
      "days_exposition                 2299 non-null int64\n",
      "price_per_m2                    2299 non-null float64\n",
      "first_day_exposition_weekday    2299 non-null int64\n",
      "first_day_exposition_month      2299 non-null int64\n",
      "first_day_exposition_year       2299 non-null int64\n",
      "floor_namber                    2299 non-null object\n",
      "area_living_to_total_%          2076 non-null float64\n",
      "area_kitchen_to_total_%         2052 non-null float64\n",
      "cityCenters_nearest_km          2299 non-null float64\n",
      "dtypes: bool(3), datetime64[ns](1), float64(10), int64(9), object(7)\n",
      "memory usage: 509.6+ KB\n"
     ]
    }
   ],
   "source": [
    "good_data_center_spb.info()"
   ]
  },
  {
   "cell_type": "code",
   "execution_count": 70,
   "metadata": {},
   "outputs": [
    {
     "data": {
      "text/plain": [
       "Text(0.5, 1.0, 'Общая площадь_центр города')"
      ]
     },
     "execution_count": 70,
     "metadata": {},
     "output_type": "execute_result"
    },
    {
     "data": {
      "image/png": "[encoded data removed]",
      "text/plain": [
       "<Figure size 432x288 with 1 Axes>"
      ]
     },
     "metadata": {
      "needs_background": "light"
     },
     "output_type": "display_data"
    }
   ],
   "source": [
    "sns.distplot(good_data_center_spb['total_area']) #общая площадь\n",
    "plt.title('Общая площадь_центр города')"
   ]
  },
  {
   "cell_type": "code",
   "execution_count": 71,
   "metadata": {},
   "outputs": [
    {
     "data": {
      "text/plain": [
       "60.00     35\n",
       "72.00     25\n",
       "50.00     24\n",
       "85.00     23\n",
       "70.00     21\n",
       "          ..\n",
       "203.00     1\n",
       "76.50      1\n",
       "45.75      1\n",
       "82.70      1\n",
       "37.65      1\n",
       "Name: total_area, Length: 896, dtype: int64"
      ]
     },
     "execution_count": 71,
     "metadata": {},
     "output_type": "execute_result"
    }
   ],
   "source": [
    "good_data_center_spb['total_area'].value_counts() "
   ]
  },
  {
   "cell_type": "code",
   "execution_count": 72,
   "metadata": {},
   "outputs": [
    {
     "data": {
      "text/plain": [
       "Text(0.5, 1.0, 'Цена_центр города')"
      ]
     },
     "execution_count": 72,
     "metadata": {},
     "output_type": "execute_result"
    },
    {
     "data": {
      "image/png": "[encoded data removed]",
      "text/plain": [
       "<Figure size 432x288 with 1 Axes>"
      ]
     },
     "metadata": {
      "needs_background": "light"
     },
     "output_type": "display_data"
    }
   ],
   "source": [
    "sns.distplot(good_data_center_spb['last_price']) #цена\n",
    "plt.title('Цена_центр города')"
   ]
  },
  {
   "cell_type": "code",
   "execution_count": 73,
   "metadata": {},
   "outputs": [
    {
     "data": {
      "text/plain": [
       "8.50     34\n",
       "6.50     32\n",
       "7.50     31\n",
       "8.00     27\n",
       "9.00     24\n",
       "         ..\n",
       "5.82      1\n",
       "8.78      1\n",
       "36.75     1\n",
       "11.25     1\n",
       "26.31     1\n",
       "Name: last_price, Length: 805, dtype: int64"
      ]
     },
     "execution_count": 73,
     "metadata": {},
     "output_type": "execute_result"
    }
   ],
   "source": [
    "good_data_center_spb['last_price'].value_counts()"
   ]
  },
  {
   "cell_type": "code",
   "execution_count": 74,
   "metadata": {},
   "outputs": [
    {
     "data": {
      "text/plain": [
       "Text(0.5, 1.0, 'Количество комнат_центр города')"
      ]
     },
     "execution_count": 74,
     "metadata": {},
     "output_type": "execute_result"
    },
    {
     "data": {
      "image/png": "[encoded data removed]",
      "text/plain": [
       "<Figure size 432x288 with 1 Axes>"
      ]
     },
     "metadata": {
      "needs_background": "light"
     },
     "output_type": "display_data"
    }
   ],
   "source": [
    "sns.distplot(good_data_center_spb['rooms']) #количество комнат\n",
    "plt.title('Количество комнат_центр города')"
   ]
  },
  {
   "cell_type": "code",
   "execution_count": 75,
   "metadata": {},
   "outputs": [
    {
     "data": {
      "text/plain": [
       "2     721\n",
       "3     700\n",
       "1     364\n",
       "4     276\n",
       "5     119\n",
       "6      49\n",
       "7      41\n",
       "0      16\n",
       "8       5\n",
       "9       2\n",
       "10      2\n",
       "19      1\n",
       "15      1\n",
       "11      1\n",
       "14      1\n",
       "Name: rooms, dtype: int64"
      ]
     },
     "execution_count": 75,
     "metadata": {},
     "output_type": "execute_result"
    }
   ],
   "source": [
    "good_data_center_spb['rooms'].value_counts()"
   ]
  },
  {
   "cell_type": "code",
   "execution_count": 76,
   "metadata": {},
   "outputs": [
    {
     "data": {
      "text/plain": [
       "Text(0.5, 1.0, 'Высота потолков_центр города')"
      ]
     },
     "execution_count": 76,
     "metadata": {},
     "output_type": "execute_result"
    },
    {
     "data": {
      "image/png": "[encoded data removed]",
      "text/plain": [
       "<Figure size 432x288 with 1 Axes>"
      ]
     },
     "metadata": {
      "needs_background": "light"
     },
     "output_type": "display_data"
    }
   ],
   "source": [
    "sns.distplot(good_data_center_spb['ceiling_height']) #высота потолков\n",
    "plt.title('Высота потолков_центр города')"
   ]
  },
  {
   "cell_type": "code",
   "execution_count": 77,
   "metadata": {},
   "outputs": [
    {
     "data": {
      "text/plain": [
       "2.65    821\n",
       "3.00    308\n",
       "3.20    107\n",
       "2.50     80\n",
       "2.80     79\n",
       "       ... \n",
       "3.39      1\n",
       "4.80      1\n",
       "3.86      1\n",
       "3.85      1\n",
       "3.68      1\n",
       "Name: ceiling_height, Length: 127, dtype: int64"
      ]
     },
     "execution_count": 77,
     "metadata": {},
     "output_type": "execute_result"
    }
   ],
   "source": [
    "good_data_center_spb['ceiling_height'].value_counts()"
   ]
  },
  {
   "cell_type": "markdown",
   "metadata": {},
   "source": [
    "###### Аналогичные показатели в целом по Санкт-Петербургу:"
   ]
  },
  {
   "cell_type": "code",
   "execution_count": 78,
   "metadata": {},
   "outputs": [
    {
     "data": {
      "text/plain": [
       "45.00     315\n",
       "42.00     283\n",
       "44.00     263\n",
       "31.00     261\n",
       "60.00     251\n",
       "         ... \n",
       "243.00      1\n",
       "114.50      1\n",
       "26.20       1\n",
       "45.64       1\n",
       "49.85       1\n",
       "Name: total_area, Length: 1840, dtype: int64"
      ]
     },
     "execution_count": 78,
     "metadata": {},
     "output_type": "execute_result"
    }
   ],
   "source": [
    "good_data['total_area'].value_counts() "
   ]
  },
  {
   "cell_type": "code",
   "execution_count": 79,
   "metadata": {},
   "outputs": [
    {
     "data": {
      "text/plain": [
       "4.500     267\n",
       "3.500     225\n",
       "3.600     214\n",
       "4.000     205\n",
       "4.300     200\n",
       "         ... \n",
       "7.888       1\n",
       "7.398       1\n",
       "7.849       1\n",
       "2.561       1\n",
       "10.965      1\n",
       "Name: last_price, Length: 2325, dtype: int64"
      ]
     },
     "execution_count": 79,
     "metadata": {},
     "output_type": "execute_result"
    }
   ],
   "source": [
    "good_data['last_price'].value_counts()"
   ]
  },
  {
   "cell_type": "code",
   "execution_count": 80,
   "metadata": {},
   "outputs": [
    {
     "data": {
      "text/plain": [
       "1     6137\n",
       "2     5990\n",
       "3     4133\n",
       "4      762\n",
       "5      200\n",
       "0      168\n",
       "6       66\n",
       "7       46\n",
       "9        5\n",
       "8        5\n",
       "10       3\n",
       "15       1\n",
       "14       1\n",
       "12       1\n",
       "11       1\n",
       "19       1\n",
       "Name: rooms, dtype: int64"
      ]
     },
     "execution_count": 80,
     "metadata": {},
     "output_type": "execute_result"
    }
   ],
   "source": [
    "good_data['rooms'].value_counts()"
   ]
  },
  {
   "cell_type": "code",
   "execution_count": 81,
   "metadata": {},
   "outputs": [
    {
     "data": {
      "text/plain": [
       "2.65     7390\n",
       "2.50     2734\n",
       "2.60     1214\n",
       "2.70     1172\n",
       "3.00      765\n",
       "         ... \n",
       "3.39        1\n",
       "4.80        1\n",
       "27.50       1\n",
       "5.50        1\n",
       "4.65        1\n",
       "Name: ceiling_height, Length: 163, dtype: int64"
      ]
     },
     "execution_count": 81,
     "metadata": {},
     "output_type": "execute_result"
    }
   ],
   "source": [
    "good_data['ceiling_height'].value_counts()"
   ]
  },
  {
   "cell_type": "markdown",
   "metadata": {},
   "source": [
    "Средняя квартира из выборки \"центр Санкт-Петербурга\" имеет следующие параметры: 2-3-комнатная квартира по цене 6,5-9,0 млн. руб. площадью 50-85 кв.м с потолками 2,65 м, в сравнении с параметрами по городу в целом: 1-2-комнаты, цена 3,5-4,5 млн. руб., 31-60 кв.м.,  потолки 2,65 м. "
   ]
  },
  {
   "cell_type": "markdown",
   "metadata": {},
   "source": [
    "##### Факторы влияющие на стоимость квартиры (удалённость от центра, число комнат, дата размещения объявления, этаж)."
   ]
  },
  {
   "cell_type": "code",
   "execution_count": 82,
   "metadata": {},
   "outputs": [
    {
     "data": {
      "text/plain": [
       "Text(0.5, 1, 'Тепловая карта корреляционной матрицы')"
      ]
     },
     "execution_count": 82,
     "metadata": {},
     "output_type": "execute_result"
    },
    {
     "data": {
      "image/png": "[encoded data removed]",
      "text/plain": [
       "<Figure size 720x576 with 2 Axes>"
      ]
     },
     "metadata": {
      "needs_background": "light"
     },
     "output_type": "display_data"
    }
   ],
   "source": [
    "plt.figure(figsize=(10,8))\n",
    "sns.heatmap(good_data_center_spb.corr()) \n",
    "plt.title('Тепловая карта корреляционной матрицы', fontsize=17)"
   ]
  },
  {
   "cell_type": "code",
   "execution_count": 83,
   "metadata": {},
   "outputs": [
    {
     "data": {
      "text/html": [
       "<div>\n",
       "<style scoped>\n",
       "    .dataframe tbody tr th:only-of-type {\n",
       "        vertical-align: middle;\n",
       "    }\n",
       "\n",
       "    .dataframe tbody tr th {\n",
       "        vertical-align: top;\n",
       "    }\n",
       "\n",
       "    .dataframe thead th {\n",
       "        text-align: right;\n",
       "    }\n",
       "</style>\n",
       "<table border=\"1\" class=\"dataframe\">\n",
       "  <thead>\n",
       "    <tr style=\"text-align: right;\">\n",
       "      <th></th>\n",
       "      <th>total_images</th>\n",
       "      <th>last_price</th>\n",
       "      <th>total_area</th>\n",
       "      <th>rooms</th>\n",
       "      <th>ceiling_height</th>\n",
       "      <th>floors_total</th>\n",
       "      <th>living_area</th>\n",
       "      <th>floor</th>\n",
       "      <th>is_apartment</th>\n",
       "      <th>studio</th>\n",
       "      <th>open_plan</th>\n",
       "      <th>kitchen_area</th>\n",
       "      <th>balcony</th>\n",
       "      <th>cityCenters_nearest</th>\n",
       "      <th>days_exposition</th>\n",
       "      <th>price_per_m2</th>\n",
       "      <th>first_day_exposition_weekday</th>\n",
       "      <th>first_day_exposition_month</th>\n",
       "      <th>first_day_exposition_year</th>\n",
       "      <th>area_living_to_total_%</th>\n",
       "      <th>area_kitchen_to_total_%</th>\n",
       "      <th>cityCenters_nearest_km</th>\n",
       "    </tr>\n",
       "  </thead>\n",
       "  <tbody>\n",
       "    <tr>\n",
       "      <td>total_images</td>\n",
       "      <td>1.000000</td>\n",
       "      <td>0.117051</td>\n",
       "      <td>0.082440</td>\n",
       "      <td>0.038758</td>\n",
       "      <td>0.072616</td>\n",
       "      <td>-0.012515</td>\n",
       "      <td>0.067211</td>\n",
       "      <td>0.015890</td>\n",
       "      <td>0.093545</td>\n",
       "      <td>-0.041281</td>\n",
       "      <td>-0.054526</td>\n",
       "      <td>0.131355</td>\n",
       "      <td>0.045108</td>\n",
       "      <td>-0.004348</td>\n",
       "      <td>0.041448</td>\n",
       "      <td>0.149619</td>\n",
       "      <td>0.021105</td>\n",
       "      <td>0.010656</td>\n",
       "      <td>0.107453</td>\n",
       "      <td>-0.060334</td>\n",
       "      <td>0.060631</td>\n",
       "      <td>-0.007412</td>\n",
       "    </tr>\n",
       "    <tr>\n",
       "      <td>last_price</td>\n",
       "      <td>0.117051</td>\n",
       "      <td>1.000000</td>\n",
       "      <td>0.577313</td>\n",
       "      <td>0.306813</td>\n",
       "      <td>0.045703</td>\n",
       "      <td>0.036436</td>\n",
       "      <td>0.490742</td>\n",
       "      <td>0.107772</td>\n",
       "      <td>0.020876</td>\n",
       "      <td>-0.030050</td>\n",
       "      <td>0.021259</td>\n",
       "      <td>0.517747</td>\n",
       "      <td>0.088767</td>\n",
       "      <td>-0.063452</td>\n",
       "      <td>0.038810</td>\n",
       "      <td>0.761634</td>\n",
       "      <td>0.021641</td>\n",
       "      <td>0.007007</td>\n",
       "      <td>-0.013130</td>\n",
       "      <td>-0.006975</td>\n",
       "      <td>-0.079635</td>\n",
       "      <td>-0.060682</td>\n",
       "    </tr>\n",
       "    <tr>\n",
       "      <td>total_area</td>\n",
       "      <td>0.082440</td>\n",
       "      <td>0.577313</td>\n",
       "      <td>1.000000</td>\n",
       "      <td>0.727919</td>\n",
       "      <td>0.107557</td>\n",
       "      <td>-0.010983</td>\n",
       "      <td>0.938674</td>\n",
       "      <td>0.101238</td>\n",
       "      <td>0.032424</td>\n",
       "      <td>-0.069528</td>\n",
       "      <td>0.022667</td>\n",
       "      <td>0.565020</td>\n",
       "      <td>0.027541</td>\n",
       "      <td>-0.104969</td>\n",
       "      <td>0.103652</td>\n",
       "      <td>0.188931</td>\n",
       "      <td>0.011792</td>\n",
       "      <td>-0.021283</td>\n",
       "      <td>-0.034701</td>\n",
       "      <td>0.134650</td>\n",
       "      <td>-0.307753</td>\n",
       "      <td>-0.096385</td>\n",
       "    </tr>\n",
       "    <tr>\n",
       "      <td>rooms</td>\n",
       "      <td>0.038758</td>\n",
       "      <td>0.306813</td>\n",
       "      <td>0.727919</td>\n",
       "      <td>1.000000</td>\n",
       "      <td>0.084551</td>\n",
       "      <td>-0.166261</td>\n",
       "      <td>0.818156</td>\n",
       "      <td>-0.026198</td>\n",
       "      <td>0.032694</td>\n",
       "      <td>-0.137998</td>\n",
       "      <td>-0.043780</td>\n",
       "      <td>0.285403</td>\n",
       "      <td>-0.059416</td>\n",
       "      <td>-0.166948</td>\n",
       "      <td>0.114248</td>\n",
       "      <td>-0.023019</td>\n",
       "      <td>-0.011065</td>\n",
       "      <td>-0.024605</td>\n",
       "      <td>-0.017944</td>\n",
       "      <td>0.387290</td>\n",
       "      <td>-0.476500</td>\n",
       "      <td>-0.154636</td>\n",
       "    </tr>\n",
       "    <tr>\n",
       "      <td>ceiling_height</td>\n",
       "      <td>0.072616</td>\n",
       "      <td>0.045703</td>\n",
       "      <td>0.107557</td>\n",
       "      <td>0.084551</td>\n",
       "      <td>1.000000</td>\n",
       "      <td>-0.139426</td>\n",
       "      <td>0.131430</td>\n",
       "      <td>-0.075224</td>\n",
       "      <td>-0.054877</td>\n",
       "      <td>0.018879</td>\n",
       "      <td>-0.001528</td>\n",
       "      <td>0.057837</td>\n",
       "      <td>0.041880</td>\n",
       "      <td>-0.125156</td>\n",
       "      <td>0.026668</td>\n",
       "      <td>0.017731</td>\n",
       "      <td>-0.006835</td>\n",
       "      <td>-0.019754</td>\n",
       "      <td>0.067418</td>\n",
       "      <td>0.065825</td>\n",
       "      <td>-0.052735</td>\n",
       "      <td>-0.113817</td>\n",
       "    </tr>\n",
       "    <tr>\n",
       "      <td>floors_total</td>\n",
       "      <td>-0.012515</td>\n",
       "      <td>0.036436</td>\n",
       "      <td>-0.010983</td>\n",
       "      <td>-0.166261</td>\n",
       "      <td>-0.139426</td>\n",
       "      <td>1.000000</td>\n",
       "      <td>-0.122494</td>\n",
       "      <td>0.662477</td>\n",
       "      <td>-0.037000</td>\n",
       "      <td>0.010554</td>\n",
       "      <td>0.014374</td>\n",
       "      <td>0.101976</td>\n",
       "      <td>0.373636</td>\n",
       "      <td>0.375168</td>\n",
       "      <td>-0.010019</td>\n",
       "      <td>0.107824</td>\n",
       "      <td>0.050957</td>\n",
       "      <td>0.020935</td>\n",
       "      <td>-0.036729</td>\n",
       "      <td>-0.328902</td>\n",
       "      <td>0.174653</td>\n",
       "      <td>0.363723</td>\n",
       "    </tr>\n",
       "    <tr>\n",
       "      <td>living_area</td>\n",
       "      <td>0.067211</td>\n",
       "      <td>0.490742</td>\n",
       "      <td>0.938674</td>\n",
       "      <td>0.818156</td>\n",
       "      <td>0.131430</td>\n",
       "      <td>-0.122494</td>\n",
       "      <td>1.000000</td>\n",
       "      <td>0.022256</td>\n",
       "      <td>0.032615</td>\n",
       "      <td>-0.054245</td>\n",
       "      <td>-0.025591</td>\n",
       "      <td>0.402983</td>\n",
       "      <td>-0.015979</td>\n",
       "      <td>-0.158196</td>\n",
       "      <td>0.103046</td>\n",
       "      <td>0.149502</td>\n",
       "      <td>-0.008912</td>\n",
       "      <td>-0.012737</td>\n",
       "      <td>-0.034471</td>\n",
       "      <td>0.407940</td>\n",
       "      <td>-0.440897</td>\n",
       "      <td>-0.147734</td>\n",
       "    </tr>\n",
       "    <tr>\n",
       "      <td>floor</td>\n",
       "      <td>0.015890</td>\n",
       "      <td>0.107772</td>\n",
       "      <td>0.101238</td>\n",
       "      <td>-0.026198</td>\n",
       "      <td>-0.075224</td>\n",
       "      <td>0.662477</td>\n",
       "      <td>0.022256</td>\n",
       "      <td>1.000000</td>\n",
       "      <td>-0.024813</td>\n",
       "      <td>-0.014091</td>\n",
       "      <td>-0.003023</td>\n",
       "      <td>0.121987</td>\n",
       "      <td>0.288711</td>\n",
       "      <td>0.252833</td>\n",
       "      <td>0.003840</td>\n",
       "      <td>0.115016</td>\n",
       "      <td>0.052411</td>\n",
       "      <td>0.031095</td>\n",
       "      <td>-0.023208</td>\n",
       "      <td>-0.177917</td>\n",
       "      <td>0.035551</td>\n",
       "      <td>0.242808</td>\n",
       "    </tr>\n",
       "    <tr>\n",
       "      <td>is_apartment</td>\n",
       "      <td>0.093545</td>\n",
       "      <td>0.020876</td>\n",
       "      <td>0.032424</td>\n",
       "      <td>0.032694</td>\n",
       "      <td>-0.054877</td>\n",
       "      <td>-0.037000</td>\n",
       "      <td>0.032615</td>\n",
       "      <td>-0.024813</td>\n",
       "      <td>1.000000</td>\n",
       "      <td>-0.013252</td>\n",
       "      <td>-0.011166</td>\n",
       "      <td>0.039296</td>\n",
       "      <td>-0.110154</td>\n",
       "      <td>-0.038155</td>\n",
       "      <td>-0.020078</td>\n",
       "      <td>0.011234</td>\n",
       "      <td>0.007878</td>\n",
       "      <td>0.137627</td>\n",
       "      <td>0.180819</td>\n",
       "      <td>0.031742</td>\n",
       "      <td>0.026944</td>\n",
       "      <td>-0.035505</td>\n",
       "    </tr>\n",
       "    <tr>\n",
       "      <td>studio</td>\n",
       "      <td>-0.041281</td>\n",
       "      <td>-0.030050</td>\n",
       "      <td>-0.069528</td>\n",
       "      <td>-0.137998</td>\n",
       "      <td>0.018879</td>\n",
       "      <td>0.010554</td>\n",
       "      <td>-0.054245</td>\n",
       "      <td>-0.014091</td>\n",
       "      <td>-0.013252</td>\n",
       "      <td>1.000000</td>\n",
       "      <td>-0.003858</td>\n",
       "      <td>NaN</td>\n",
       "      <td>0.013599</td>\n",
       "      <td>0.015716</td>\n",
       "      <td>-0.045276</td>\n",
       "      <td>-0.003788</td>\n",
       "      <td>0.003395</td>\n",
       "      <td>0.009855</td>\n",
       "      <td>-0.013320</td>\n",
       "      <td>0.078667</td>\n",
       "      <td>NaN</td>\n",
       "      <td>0.010955</td>\n",
       "    </tr>\n",
       "    <tr>\n",
       "      <td>open_plan</td>\n",
       "      <td>-0.054526</td>\n",
       "      <td>0.021259</td>\n",
       "      <td>0.022667</td>\n",
       "      <td>-0.043780</td>\n",
       "      <td>-0.001528</td>\n",
       "      <td>0.014374</td>\n",
       "      <td>-0.025591</td>\n",
       "      <td>-0.003023</td>\n",
       "      <td>-0.011166</td>\n",
       "      <td>-0.003858</td>\n",
       "      <td>1.000000</td>\n",
       "      <td>NaN</td>\n",
       "      <td>-0.020978</td>\n",
       "      <td>0.026698</td>\n",
       "      <td>-0.015576</td>\n",
       "      <td>0.017102</td>\n",
       "      <td>0.018451</td>\n",
       "      <td>0.021325</td>\n",
       "      <td>-0.045091</td>\n",
       "      <td>0.063975</td>\n",
       "      <td>NaN</td>\n",
       "      <td>0.024444</td>\n",
       "    </tr>\n",
       "    <tr>\n",
       "      <td>kitchen_area</td>\n",
       "      <td>0.131355</td>\n",
       "      <td>0.517747</td>\n",
       "      <td>0.565020</td>\n",
       "      <td>0.285403</td>\n",
       "      <td>0.057837</td>\n",
       "      <td>0.101976</td>\n",
       "      <td>0.402983</td>\n",
       "      <td>0.121987</td>\n",
       "      <td>0.039296</td>\n",
       "      <td>NaN</td>\n",
       "      <td>NaN</td>\n",
       "      <td>1.000000</td>\n",
       "      <td>0.108772</td>\n",
       "      <td>-0.064811</td>\n",
       "      <td>0.058680</td>\n",
       "      <td>0.320777</td>\n",
       "      <td>0.017220</td>\n",
       "      <td>-0.048007</td>\n",
       "      <td>-0.022854</td>\n",
       "      <td>-0.321026</td>\n",
       "      <td>0.469978</td>\n",
       "      <td>-0.063046</td>\n",
       "    </tr>\n",
       "    <tr>\n",
       "      <td>balcony</td>\n",
       "      <td>0.045108</td>\n",
       "      <td>0.088767</td>\n",
       "      <td>0.027541</td>\n",
       "      <td>-0.059416</td>\n",
       "      <td>0.041880</td>\n",
       "      <td>0.373636</td>\n",
       "      <td>-0.015979</td>\n",
       "      <td>0.288711</td>\n",
       "      <td>-0.110154</td>\n",
       "      <td>0.013599</td>\n",
       "      <td>-0.020978</td>\n",
       "      <td>0.108772</td>\n",
       "      <td>1.000000</td>\n",
       "      <td>0.175729</td>\n",
       "      <td>-0.031685</td>\n",
       "      <td>0.140309</td>\n",
       "      <td>0.048245</td>\n",
       "      <td>0.005420</td>\n",
       "      <td>-0.041942</td>\n",
       "      <td>-0.147348</td>\n",
       "      <td>0.081493</td>\n",
       "      <td>0.170823</td>\n",
       "    </tr>\n",
       "    <tr>\n",
       "      <td>cityCenters_nearest</td>\n",
       "      <td>-0.004348</td>\n",
       "      <td>-0.063452</td>\n",
       "      <td>-0.104969</td>\n",
       "      <td>-0.166948</td>\n",
       "      <td>-0.125156</td>\n",
       "      <td>0.375168</td>\n",
       "      <td>-0.158196</td>\n",
       "      <td>0.252833</td>\n",
       "      <td>-0.038155</td>\n",
       "      <td>0.015716</td>\n",
       "      <td>0.026698</td>\n",
       "      <td>-0.064811</td>\n",
       "      <td>0.175729</td>\n",
       "      <td>1.000000</td>\n",
       "      <td>-0.014777</td>\n",
       "      <td>-0.053778</td>\n",
       "      <td>0.015706</td>\n",
       "      <td>0.002794</td>\n",
       "      <td>0.031859</td>\n",
       "      <td>-0.138544</td>\n",
       "      <td>0.059808</td>\n",
       "      <td>0.986033</td>\n",
       "    </tr>\n",
       "    <tr>\n",
       "      <td>days_exposition</td>\n",
       "      <td>0.041448</td>\n",
       "      <td>0.038810</td>\n",
       "      <td>0.103652</td>\n",
       "      <td>0.114248</td>\n",
       "      <td>0.026668</td>\n",
       "      <td>-0.010019</td>\n",
       "      <td>0.103046</td>\n",
       "      <td>0.003840</td>\n",
       "      <td>-0.020078</td>\n",
       "      <td>-0.045276</td>\n",
       "      <td>-0.015576</td>\n",
       "      <td>0.058680</td>\n",
       "      <td>-0.031685</td>\n",
       "      <td>-0.014777</td>\n",
       "      <td>1.000000</td>\n",
       "      <td>0.029257</td>\n",
       "      <td>-0.009233</td>\n",
       "      <td>-0.054666</td>\n",
       "      <td>-0.117200</td>\n",
       "      <td>0.032574</td>\n",
       "      <td>-0.041641</td>\n",
       "      <td>-0.014684</td>\n",
       "    </tr>\n",
       "    <tr>\n",
       "      <td>price_per_m2</td>\n",
       "      <td>0.149619</td>\n",
       "      <td>0.761634</td>\n",
       "      <td>0.188931</td>\n",
       "      <td>-0.023019</td>\n",
       "      <td>0.017731</td>\n",
       "      <td>0.107824</td>\n",
       "      <td>0.149502</td>\n",
       "      <td>0.115016</td>\n",
       "      <td>0.011234</td>\n",
       "      <td>-0.003788</td>\n",
       "      <td>0.017102</td>\n",
       "      <td>0.320777</td>\n",
       "      <td>0.140309</td>\n",
       "      <td>-0.053778</td>\n",
       "      <td>0.029257</td>\n",
       "      <td>1.000000</td>\n",
       "      <td>0.026631</td>\n",
       "      <td>-0.007019</td>\n",
       "      <td>0.031273</td>\n",
       "      <td>-0.132368</td>\n",
       "      <td>0.168735</td>\n",
       "      <td>-0.054729</td>\n",
       "    </tr>\n",
       "    <tr>\n",
       "      <td>first_day_exposition_weekday</td>\n",
       "      <td>0.021105</td>\n",
       "      <td>0.021641</td>\n",
       "      <td>0.011792</td>\n",
       "      <td>-0.011065</td>\n",
       "      <td>-0.006835</td>\n",
       "      <td>0.050957</td>\n",
       "      <td>-0.008912</td>\n",
       "      <td>0.052411</td>\n",
       "      <td>0.007878</td>\n",
       "      <td>0.003395</td>\n",
       "      <td>0.018451</td>\n",
       "      <td>0.017220</td>\n",
       "      <td>0.048245</td>\n",
       "      <td>0.015706</td>\n",
       "      <td>-0.009233</td>\n",
       "      <td>0.026631</td>\n",
       "      <td>1.000000</td>\n",
       "      <td>0.028746</td>\n",
       "      <td>-0.013638</td>\n",
       "      <td>-0.014881</td>\n",
       "      <td>0.026220</td>\n",
       "      <td>0.013337</td>\n",
       "    </tr>\n",
       "    <tr>\n",
       "      <td>first_day_exposition_month</td>\n",
       "      <td>0.010656</td>\n",
       "      <td>0.007007</td>\n",
       "      <td>-0.021283</td>\n",
       "      <td>-0.024605</td>\n",
       "      <td>-0.019754</td>\n",
       "      <td>0.020935</td>\n",
       "      <td>-0.012737</td>\n",
       "      <td>0.031095</td>\n",
       "      <td>0.137627</td>\n",
       "      <td>0.009855</td>\n",
       "      <td>0.021325</td>\n",
       "      <td>-0.048007</td>\n",
       "      <td>0.005420</td>\n",
       "      <td>0.002794</td>\n",
       "      <td>-0.054666</td>\n",
       "      <td>-0.007019</td>\n",
       "      <td>0.028746</td>\n",
       "      <td>1.000000</td>\n",
       "      <td>-0.310100</td>\n",
       "      <td>0.029547</td>\n",
       "      <td>-0.024516</td>\n",
       "      <td>0.000353</td>\n",
       "    </tr>\n",
       "    <tr>\n",
       "      <td>first_day_exposition_year</td>\n",
       "      <td>0.107453</td>\n",
       "      <td>-0.013130</td>\n",
       "      <td>-0.034701</td>\n",
       "      <td>-0.017944</td>\n",
       "      <td>0.067418</td>\n",
       "      <td>-0.036729</td>\n",
       "      <td>-0.034471</td>\n",
       "      <td>-0.023208</td>\n",
       "      <td>0.180819</td>\n",
       "      <td>-0.013320</td>\n",
       "      <td>-0.045091</td>\n",
       "      <td>-0.022854</td>\n",
       "      <td>-0.041942</td>\n",
       "      <td>0.031859</td>\n",
       "      <td>-0.117200</td>\n",
       "      <td>0.031273</td>\n",
       "      <td>-0.013638</td>\n",
       "      <td>-0.310100</td>\n",
       "      <td>1.000000</td>\n",
       "      <td>0.011004</td>\n",
       "      <td>0.012362</td>\n",
       "      <td>0.037984</td>\n",
       "    </tr>\n",
       "    <tr>\n",
       "      <td>area_living_to_total_%</td>\n",
       "      <td>-0.060334</td>\n",
       "      <td>-0.006975</td>\n",
       "      <td>0.134650</td>\n",
       "      <td>0.387290</td>\n",
       "      <td>0.065825</td>\n",
       "      <td>-0.328902</td>\n",
       "      <td>0.407940</td>\n",
       "      <td>-0.177917</td>\n",
       "      <td>0.031742</td>\n",
       "      <td>0.078667</td>\n",
       "      <td>0.063975</td>\n",
       "      <td>-0.321026</td>\n",
       "      <td>-0.147348</td>\n",
       "      <td>-0.138544</td>\n",
       "      <td>0.032574</td>\n",
       "      <td>-0.132368</td>\n",
       "      <td>-0.014881</td>\n",
       "      <td>0.029547</td>\n",
       "      <td>0.011004</td>\n",
       "      <td>1.000000</td>\n",
       "      <td>-0.647380</td>\n",
       "      <td>-0.136738</td>\n",
       "    </tr>\n",
       "    <tr>\n",
       "      <td>area_kitchen_to_total_%</td>\n",
       "      <td>0.060631</td>\n",
       "      <td>-0.079635</td>\n",
       "      <td>-0.307753</td>\n",
       "      <td>-0.476500</td>\n",
       "      <td>-0.052735</td>\n",
       "      <td>0.174653</td>\n",
       "      <td>-0.440897</td>\n",
       "      <td>0.035551</td>\n",
       "      <td>0.026944</td>\n",
       "      <td>NaN</td>\n",
       "      <td>NaN</td>\n",
       "      <td>0.469978</td>\n",
       "      <td>0.081493</td>\n",
       "      <td>0.059808</td>\n",
       "      <td>-0.041641</td>\n",
       "      <td>0.168735</td>\n",
       "      <td>0.026220</td>\n",
       "      <td>-0.024516</td>\n",
       "      <td>0.012362</td>\n",
       "      <td>-0.647380</td>\n",
       "      <td>1.000000</td>\n",
       "      <td>0.054056</td>\n",
       "    </tr>\n",
       "    <tr>\n",
       "      <td>cityCenters_nearest_km</td>\n",
       "      <td>-0.007412</td>\n",
       "      <td>-0.060682</td>\n",
       "      <td>-0.096385</td>\n",
       "      <td>-0.154636</td>\n",
       "      <td>-0.113817</td>\n",
       "      <td>0.363723</td>\n",
       "      <td>-0.147734</td>\n",
       "      <td>0.242808</td>\n",
       "      <td>-0.035505</td>\n",
       "      <td>0.010955</td>\n",
       "      <td>0.024444</td>\n",
       "      <td>-0.063046</td>\n",
       "      <td>0.170823</td>\n",
       "      <td>0.986033</td>\n",
       "      <td>-0.014684</td>\n",
       "      <td>-0.054729</td>\n",
       "      <td>0.013337</td>\n",
       "      <td>0.000353</td>\n",
       "      <td>0.037984</td>\n",
       "      <td>-0.136738</td>\n",
       "      <td>0.054056</td>\n",
       "      <td>1.000000</td>\n",
       "    </tr>\n",
       "  </tbody>\n",
       "</table>\n",
       "</div>"
      ],
      "text/plain": [
       "                              total_images  last_price  total_area     rooms  \\\n",
       "total_images                      1.000000    0.117051    0.082440  0.038758   \n",
       "last_price                        0.117051    1.000000    0.577313  0.306813   \n",
       "total_area                        0.082440    0.577313    1.000000  0.727919   \n",
       "rooms                             0.038758    0.306813    0.727919  1.000000   \n",
       "ceiling_height                    0.072616    0.045703    0.107557  0.084551   \n",
       "floors_total                     -0.012515    0.036436   -0.010983 -0.166261   \n",
       "living_area                       0.067211    0.490742    0.938674  0.818156   \n",
       "floor                             0.015890    0.107772    0.101238 -0.026198   \n",
       "is_apartment                      0.093545    0.020876    0.032424  0.032694   \n",
       "studio                           -0.041281   -0.030050   -0.069528 -0.137998   \n",
       "open_plan                        -0.054526    0.021259    0.022667 -0.043780   \n",
       "kitchen_area                      0.131355    0.517747    0.565020  0.285403   \n",
       "balcony                           0.045108    0.088767    0.027541 -0.059416   \n",
       "cityCenters_nearest              -0.004348   -0.063452   -0.104969 -0.166948   \n",
       "days_exposition                   0.041448    0.038810    0.103652  0.114248   \n",
       "price_per_m2                      0.149619    0.761634    0.188931 -0.023019   \n",
       "first_day_exposition_weekday      0.021105    0.021641    0.011792 -0.011065   \n",
       "first_day_exposition_month        0.010656    0.007007   -0.021283 -0.024605   \n",
       "first_day_exposition_year         0.107453   -0.013130   -0.034701 -0.017944   \n",
       "area_living_to_total_%           -0.060334   -0.006975    0.134650  0.387290   \n",
       "area_kitchen_to_total_%           0.060631   -0.079635   -0.307753 -0.476500   \n",
       "cityCenters_nearest_km           -0.007412   -0.060682   -0.096385 -0.154636   \n",
       "\n",
       "                              ceiling_height  floors_total  living_area  \\\n",
       "total_images                        0.072616     -0.012515     0.067211   \n",
       "last_price                          0.045703      0.036436     0.490742   \n",
       "total_area                          0.107557     -0.010983     0.938674   \n",
       "rooms                               0.084551     -0.166261     0.818156   \n",
       "ceiling_height                      1.000000     -0.139426     0.131430   \n",
       "floors_total                       -0.139426      1.000000    -0.122494   \n",
       "living_area                         0.131430     -0.122494     1.000000   \n",
       "floor                              -0.075224      0.662477     0.022256   \n",
       "is_apartment                       -0.054877     -0.037000     0.032615   \n",
       "studio                              0.018879      0.010554    -0.054245   \n",
       "open_plan                          -0.001528      0.014374    -0.025591   \n",
       "kitchen_area                        0.057837      0.101976     0.402983   \n",
       "balcony                             0.041880      0.373636    -0.015979   \n",
       "cityCenters_nearest                -0.125156      0.375168    -0.158196   \n",
       "days_exposition                     0.026668     -0.010019     0.103046   \n",
       "price_per_m2                        0.017731      0.107824     0.149502   \n",
       "first_day_exposition_weekday       -0.006835      0.050957    -0.008912   \n",
       "first_day_exposition_month         -0.019754      0.020935    -0.012737   \n",
       "first_day_exposition_year           0.067418     -0.036729    -0.034471   \n",
       "area_living_to_total_%              0.065825     -0.328902     0.407940   \n",
       "area_kitchen_to_total_%            -0.052735      0.174653    -0.440897   \n",
       "cityCenters_nearest_km             -0.113817      0.363723    -0.147734   \n",
       "\n",
       "                                 floor  is_apartment    studio  open_plan  \\\n",
       "total_images                  0.015890      0.093545 -0.041281  -0.054526   \n",
       "last_price                    0.107772      0.020876 -0.030050   0.021259   \n",
       "total_area                    0.101238      0.032424 -0.069528   0.022667   \n",
       "rooms                        -0.026198      0.032694 -0.137998  -0.043780   \n",
       "ceiling_height               -0.075224     -0.054877  0.018879  -0.001528   \n",
       "floors_total                  0.662477     -0.037000  0.010554   0.014374   \n",
       "living_area                   0.022256      0.032615 -0.054245  -0.025591   \n",
       "floor                         1.000000     -0.024813 -0.014091  -0.003023   \n",
       "is_apartment                 -0.024813      1.000000 -0.013252  -0.011166   \n",
       "studio                       -0.014091     -0.013252  1.000000  -0.003858   \n",
       "open_plan                    -0.003023     -0.011166 -0.003858   1.000000   \n",
       "kitchen_area                  0.121987      0.039296       NaN        NaN   \n",
       "balcony                       0.288711     -0.110154  0.013599  -0.020978   \n",
       "cityCenters_nearest           0.252833     -0.038155  0.015716   0.026698   \n",
       "days_exposition               0.003840     -0.020078 -0.045276  -0.015576   \n",
       "price_per_m2                  0.115016      0.011234 -0.003788   0.017102   \n",
       "first_day_exposition_weekday  0.052411      0.007878  0.003395   0.018451   \n",
       "first_day_exposition_month    0.031095      0.137627  0.009855   0.021325   \n",
       "first_day_exposition_year    -0.023208      0.180819 -0.013320  -0.045091   \n",
       "area_living_to_total_%       -0.177917      0.031742  0.078667   0.063975   \n",
       "area_kitchen_to_total_%       0.035551      0.026944       NaN        NaN   \n",
       "cityCenters_nearest_km        0.242808     -0.035505  0.010955   0.024444   \n",
       "\n",
       "                              kitchen_area   balcony  cityCenters_nearest  \\\n",
       "total_images                      0.131355  0.045108            -0.004348   \n",
       "last_price                        0.517747  0.088767            -0.063452   \n",
       "total_area                        0.565020  0.027541            -0.104969   \n",
       "rooms                             0.285403 -0.059416            -0.166948   \n",
       "ceiling_height                    0.057837  0.041880            -0.125156   \n",
       "floors_total                      0.101976  0.373636             0.375168   \n",
       "living_area                       0.402983 -0.015979            -0.158196   \n",
       "floor                             0.121987  0.288711             0.252833   \n",
       "is_apartment                      0.039296 -0.110154            -0.038155   \n",
       "studio                                 NaN  0.013599             0.015716   \n",
       "open_plan                              NaN -0.020978             0.026698   \n",
       "kitchen_area                      1.000000  0.108772            -0.064811   \n",
       "balcony                           0.108772  1.000000             0.175729   \n",
       "cityCenters_nearest              -0.064811  0.175729             1.000000   \n",
       "days_exposition                   0.058680 -0.031685            -0.014777   \n",
       "price_per_m2                      0.320777  0.140309            -0.053778   \n",
       "first_day_exposition_weekday      0.017220  0.048245             0.015706   \n",
       "first_day_exposition_month       -0.048007  0.005420             0.002794   \n",
       "first_day_exposition_year        -0.022854 -0.041942             0.031859   \n",
       "area_living_to_total_%           -0.321026 -0.147348            -0.138544   \n",
       "area_kitchen_to_total_%           0.469978  0.081493             0.059808   \n",
       "cityCenters_nearest_km           -0.063046  0.170823             0.986033   \n",
       "\n",
       "                              days_exposition  price_per_m2  \\\n",
       "total_images                         0.041448      0.149619   \n",
       "last_price                           0.038810      0.761634   \n",
       "total_area                           0.103652      0.188931   \n",
       "rooms                                0.114248     -0.023019   \n",
       "ceiling_height                       0.026668      0.017731   \n",
       "floors_total                        -0.010019      0.107824   \n",
       "living_area                          0.103046      0.149502   \n",
       "floor                                0.003840      0.115016   \n",
       "is_apartment                        -0.020078      0.011234   \n",
       "studio                              -0.045276     -0.003788   \n",
       "open_plan                           -0.015576      0.017102   \n",
       "kitchen_area                         0.058680      0.320777   \n",
       "balcony                             -0.031685      0.140309   \n",
       "cityCenters_nearest                 -0.014777     -0.053778   \n",
       "days_exposition                      1.000000      0.029257   \n",
       "price_per_m2                         0.029257      1.000000   \n",
       "first_day_exposition_weekday        -0.009233      0.026631   \n",
       "first_day_exposition_month          -0.054666     -0.007019   \n",
       "first_day_exposition_year           -0.117200      0.031273   \n",
       "area_living_to_total_%               0.032574     -0.132368   \n",
       "area_kitchen_to_total_%             -0.041641      0.168735   \n",
       "cityCenters_nearest_km              -0.014684     -0.054729   \n",
       "\n",
       "                              first_day_exposition_weekday  \\\n",
       "total_images                                      0.021105   \n",
       "last_price                                        0.021641   \n",
       "total_area                                        0.011792   \n",
       "rooms                                            -0.011065   \n",
       "ceiling_height                                   -0.006835   \n",
       "floors_total                                      0.050957   \n",
       "living_area                                      -0.008912   \n",
       "floor                                             0.052411   \n",
       "is_apartment                                      0.007878   \n",
       "studio                                            0.003395   \n",
       "open_plan                                         0.018451   \n",
       "kitchen_area                                      0.017220   \n",
       "balcony                                           0.048245   \n",
       "cityCenters_nearest                               0.015706   \n",
       "days_exposition                                  -0.009233   \n",
       "price_per_m2                                      0.026631   \n",
       "first_day_exposition_weekday                      1.000000   \n",
       "first_day_exposition_month                        0.028746   \n",
       "first_day_exposition_year                        -0.013638   \n",
       "area_living_to_total_%                           -0.014881   \n",
       "area_kitchen_to_total_%                           0.026220   \n",
       "cityCenters_nearest_km                            0.013337   \n",
       "\n",
       "                              first_day_exposition_month  \\\n",
       "total_images                                    0.010656   \n",
       "last_price                                      0.007007   \n",
       "total_area                                     -0.021283   \n",
       "rooms                                          -0.024605   \n",
       "ceiling_height                                 -0.019754   \n",
       "floors_total                                    0.020935   \n",
       "living_area                                    -0.012737   \n",
       "floor                                           0.031095   \n",
       "is_apartment                                    0.137627   \n",
       "studio                                          0.009855   \n",
       "open_plan                                       0.021325   \n",
       "kitchen_area                                   -0.048007   \n",
       "balcony                                         0.005420   \n",
       "cityCenters_nearest                             0.002794   \n",
       "days_exposition                                -0.054666   \n",
       "price_per_m2                                   -0.007019   \n",
       "first_day_exposition_weekday                    0.028746   \n",
       "first_day_exposition_month                      1.000000   \n",
       "first_day_exposition_year                      -0.310100   \n",
       "area_living_to_total_%                          0.029547   \n",
       "area_kitchen_to_total_%                        -0.024516   \n",
       "cityCenters_nearest_km                          0.000353   \n",
       "\n",
       "                              first_day_exposition_year  \\\n",
       "total_images                                   0.107453   \n",
       "last_price                                    -0.013130   \n",
       "total_area                                    -0.034701   \n",
       "rooms                                         -0.017944   \n",
       "ceiling_height                                 0.067418   \n",
       "floors_total                                  -0.036729   \n",
       "living_area                                   -0.034471   \n",
       "floor                                         -0.023208   \n",
       "is_apartment                                   0.180819   \n",
       "studio                                        -0.013320   \n",
       "open_plan                                     -0.045091   \n",
       "kitchen_area                                  -0.022854   \n",
       "balcony                                       -0.041942   \n",
       "cityCenters_nearest                            0.031859   \n",
       "days_exposition                               -0.117200   \n",
       "price_per_m2                                   0.031273   \n",
       "first_day_exposition_weekday                  -0.013638   \n",
       "first_day_exposition_month                    -0.310100   \n",
       "first_day_exposition_year                      1.000000   \n",
       "area_living_to_total_%                         0.011004   \n",
       "area_kitchen_to_total_%                        0.012362   \n",
       "cityCenters_nearest_km                         0.037984   \n",
       "\n",
       "                              area_living_to_total_%  area_kitchen_to_total_%  \\\n",
       "total_images                               -0.060334                 0.060631   \n",
       "last_price                                 -0.006975                -0.079635   \n",
       "total_area                                  0.134650                -0.307753   \n",
       "rooms                                       0.387290                -0.476500   \n",
       "ceiling_height                              0.065825                -0.052735   \n",
       "floors_total                               -0.328902                 0.174653   \n",
       "living_area                                 0.407940                -0.440897   \n",
       "floor                                      -0.177917                 0.035551   \n",
       "is_apartment                                0.031742                 0.026944   \n",
       "studio                                      0.078667                      NaN   \n",
       "open_plan                                   0.063975                      NaN   \n",
       "kitchen_area                               -0.321026                 0.469978   \n",
       "balcony                                    -0.147348                 0.081493   \n",
       "cityCenters_nearest                        -0.138544                 0.059808   \n",
       "days_exposition                             0.032574                -0.041641   \n",
       "price_per_m2                               -0.132368                 0.168735   \n",
       "first_day_exposition_weekday               -0.014881                 0.026220   \n",
       "first_day_exposition_month                  0.029547                -0.024516   \n",
       "first_day_exposition_year                   0.011004                 0.012362   \n",
       "area_living_to_total_%                      1.000000                -0.647380   \n",
       "area_kitchen_to_total_%                    -0.647380                 1.000000   \n",
       "cityCenters_nearest_km                     -0.136738                 0.054056   \n",
       "\n",
       "                              cityCenters_nearest_km  \n",
       "total_images                               -0.007412  \n",
       "last_price                                 -0.060682  \n",
       "total_area                                 -0.096385  \n",
       "rooms                                      -0.154636  \n",
       "ceiling_height                             -0.113817  \n",
       "floors_total                                0.363723  \n",
       "living_area                                -0.147734  \n",
       "floor                                       0.242808  \n",
       "is_apartment                               -0.035505  \n",
       "studio                                      0.010955  \n",
       "open_plan                                   0.024444  \n",
       "kitchen_area                               -0.063046  \n",
       "balcony                                     0.170823  \n",
       "cityCenters_nearest                         0.986033  \n",
       "days_exposition                            -0.014684  \n",
       "price_per_m2                               -0.054729  \n",
       "first_day_exposition_weekday                0.013337  \n",
       "first_day_exposition_month                  0.000353  \n",
       "first_day_exposition_year                   0.037984  \n",
       "area_living_to_total_%                     -0.136738  \n",
       "area_kitchen_to_total_%                     0.054056  \n",
       "cityCenters_nearest_km                      1.000000  "
      ]
     },
     "execution_count": 83,
     "metadata": {},
     "output_type": "execute_result"
    }
   ],
   "source": [
    "good_data_center_spb.corr()"
   ]
  },
  {
   "cell_type": "code",
   "execution_count": 84,
   "metadata": {},
   "outputs": [
    {
     "name": "stdout",
     "output_type": "stream",
     "text": [
      "<class 'pandas.core.frame.DataFrame'>\n",
      "Int64Index: 2299 entries, 52 to 23694\n",
      "Data columns (total 30 columns):\n",
      "total_images                    2299 non-null int64\n",
      "last_price                      2299 non-null float64\n",
      "total_area                      2299 non-null float64\n",
      "first_day_exposition            2299 non-null datetime64[ns]\n",
      "rooms                           2299 non-null int64\n",
      "ceiling_height                  2299 non-null float64\n",
      "floors_total                    2299 non-null int64\n",
      "living_area                     2076 non-null float64\n",
      "floor                           2299 non-null int64\n",
      "is_apartment                    2299 non-null bool\n",
      "studio                          2299 non-null bool\n",
      "open_plan                       2299 non-null bool\n",
      "kitchen_area                    2052 non-null float64\n",
      "balcony                         2299 non-null int64\n",
      "locality_name                   2299 non-null object\n",
      "airports_nearest                2295 non-null object\n",
      "cityCenters_nearest             2299 non-null float64\n",
      "parks_around3000                2299 non-null object\n",
      "parks_nearest                   1544 non-null object\n",
      "ponds_around3000                2299 non-null object\n",
      "ponds_nearest                   1650 non-null object\n",
      "days_exposition                 2299 non-null int64\n",
      "price_per_m2                    2299 non-null float64\n",
      "first_day_exposition_weekday    2299 non-null int64\n",
      "first_day_exposition_month      2299 non-null int64\n",
      "first_day_exposition_year       2299 non-null int64\n",
      "floor_namber                    2299 non-null object\n",
      "area_living_to_total_%          2076 non-null float64\n",
      "area_kitchen_to_total_%         2052 non-null float64\n",
      "cityCenters_nearest_km          2299 non-null float64\n",
      "dtypes: bool(3), datetime64[ns](1), float64(10), int64(9), object(7)\n",
      "memory usage: 509.6+ KB\n"
     ]
    }
   ],
   "source": [
    "good_data_center_spb.info()"
   ]
  },
  {
   "cell_type": "code",
   "execution_count": 85,
   "metadata": {},
   "outputs": [
    {
     "data": {
      "text/plain": [
       "Text(0.5, 1.01, 'Зависимость цены от количества комнат_центр города')"
      ]
     },
     "execution_count": 85,
     "metadata": {},
     "output_type": "execute_result"
    },
    {
     "data": {
      "image/png": "[encoded data removed]",
      "text/plain": [
       "<Figure size 432x432 with 3 Axes>"
      ]
     },
     "metadata": {
      "needs_background": "light"
     },
     "output_type": "display_data"
    }
   ],
   "source": [
    "#зависимость цены от количества комнат\n",
    "sns.jointplot(x=good_data_center_spb[\"rooms\"], y=good_data_center_spb[\"last_price\"], kind='reg')\n",
    "plt.suptitle('Зависимость цены от количества комнат_центр города', y=1.01)"
   ]
  },
  {
   "cell_type": "code",
   "execution_count": 86,
   "metadata": {},
   "outputs": [
    {
     "data": {
      "text/plain": [
       "Text(0.5, 1.01, 'Зависимость цены: расстояние от населенного пункта до центра_центр города')"
      ]
     },
     "execution_count": 86,
     "metadata": {},
     "output_type": "execute_result"
    },
    {
     "data": {
      "image/png": "[encoded data removed]",
      "text/plain": [
       "<Figure size 432x432 with 3 Axes>"
      ]
     },
     "metadata": {
      "needs_background": "light"
     },
     "output_type": "display_data"
    }
   ],
   "source": [
    "#зависимость цены от расстояния до центра\n",
    "sns.jointplot(x=good_data_center_spb[\"cityCenters_nearest_km\"], y=good_data_center_spb[\"last_price\"], kind='reg')\n",
    "plt.suptitle('Зависимость цены: расстояние от населенного пункта до центра_центр города', y=1.01)"
   ]
  },
  {
   "cell_type": "code",
   "execution_count": 87,
   "metadata": {},
   "outputs": [
    {
     "data": {
      "image/png": "[encoded data removed]",
      "text/plain": [
       "<Figure size 1080x216 with 1 Axes>"
      ]
     },
     "metadata": {
      "needs_background": "light"
     },
     "output_type": "display_data"
    },
    {
     "data": {
      "image/png": "[encoded data removed]",
      "text/plain": [
       "<Figure size 1080x216 with 1 Axes>"
      ]
     },
     "metadata": {
      "needs_background": "light"
     },
     "output_type": "display_data"
    },
    {
     "data": {
      "image/png": "[encoded data removed]",
      "text/plain": [
       "<Figure size 1080x216 with 1 Axes>"
      ]
     },
     "metadata": {
      "needs_background": "light"
     },
     "output_type": "display_data"
    }
   ],
   "source": [
    "for columns in ['first_day_exposition_weekday', 'first_day_exposition_month', 'first_day_exposition_year']:\n",
    "    (good_data_center_spb.pivot_table(index=columns, values= 'last_price', aggfunc='count', fill_value=0)\n",
    "    .plot.bar(figsize=(15, 3)))\n",
    "    plt.title('Зависимость цены от даты размещения_центр города')\n",
    "    plt.show()"
   ]
  },
  {
   "cell_type": "code",
   "execution_count": 88,
   "metadata": {},
   "outputs": [
    {
     "data": {
      "text/plain": [
       "Text(0.5, 1.0, 'Зависимость цены от этажа_центр города')"
      ]
     },
     "execution_count": 88,
     "metadata": {},
     "output_type": "execute_result"
    },
    {
     "data": {
      "image/png": "[encoded data removed]",
      "text/plain": [
       "<Figure size 432x288 with 1 Axes>"
      ]
     },
     "metadata": {
      "needs_background": "light"
     },
     "output_type": "display_data"
    }
   ],
   "source": [
    "good_data_center_spb = good_data_center_spb.query('floor_namber != \"другой\"').pivot_table(index = 'floor_namber', values = 'last_price', aggfunc = ['count'])\n",
    "good_data_center_spb.plot(y = 'count')\n",
    "plt.title('Зависимость цены от этажа_центр города')"
   ]
  },
  {
   "cell_type": "markdown",
   "metadata": {},
   "source": [
    "Высокая корреляция в 0,29 цены в зависимости от количества комнат сохраняется и по квартирам непосредственно в центре Санкт-Петербурга при реально более высокой доле платежеспособных покупателей.\n",
    "<br>Чем ближе квартира к центру, тем выше ее цена, но в радиусе 5 км от центра- максимумы значений цены на 4-5км.\n",
    "<br>По дате публикации корреляция низкая и наиболее активные периоды уже: Вторник, Четверг, Пятница; месяцы- Февраль-Апрель и Ноябрь, а динамика по годам сохраняет вектор роста на 2017-2018гг.\n",
    "<br>Разница в цене по первому и последнему этажам уже 33% (коэфициент корреляции 0,12) в сравнении с окрестностями."
   ]
  },
  {
   "cell_type": "markdown",
   "metadata": {},
   "source": [
    "### Шаг 5. Общий вывод <a id='step11'></a>\n",
    "\n",
    "Оценка рыночной стоимости объектов недвижимости Санкт-Петербурга продемонстрировала реальные тенденции в действии:\n",
    "данные предстают не в полном объеме с приличным количеством пропусков и ошибок при этом выводы получаются правдоподобными:\n",
    "<br> ~самый важный параметр при определении стоимости- общая площадь квартиры (более 105 кв.м следует проверять данные на корректность);\n",
    "<br> ~этаж квартиры, этажность дома- чем выше и современнее, цена выше;\n",
    "<br> ~приближение к центру также дает рост в цене, но есть и деревенские пентхаусы почти сопоставимые по стоимости с центром;\n",
    "<br> ~многокомнатные квартиры в центре более востребованы при наличии спроса у покупателей с бОльшей платежеспосоюностью;\n",
    "<br> ~в среднем продажа квартир осуществляется за 3 месяца, поэтому недельный спринт и годовые метрики вызывают сомнение."
   ]
  }
 ],
 "metadata": {
  "kernelspec": {
   "display_name": "Python 3",
   "language": "python",
   "name": "python3"
  },
  "language_info": {
   "codemirror_mode": {
    "name": "ipython",
    "version": 3
   },
   "file_extension": ".py",
   "mimetype": "text/x-python",
   "name": "python",
   "nbconvert_exporter": "python",
   "pygments_lexer": "ipython3",
   "version": "3.7.8"
  },
  "toc": {
   "base_numbering": 1,
   "nav_menu": {
    "height": "404px",
    "width": "644px"
   },
   "number_sections": true,
   "sideBar": true,
   "skip_h1_title": false,
   "title_cell": "Table of Contents",
   "title_sidebar": "Contents",
   "toc_cell": false,
   "toc_position": {},
   "toc_section_display": true,
   "toc_window_display": false
  }
 },
 "nbformat": 4,
 "nbformat_minor": 2
}
