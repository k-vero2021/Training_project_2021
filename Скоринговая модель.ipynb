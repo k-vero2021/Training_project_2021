{
 "cells": [
  {
   "cell_type": "markdown",
   "metadata": {},
   "source": [
    "## Исследование надёжности заёмщиков\n",
    "\n",
    "Заказчик — кредитный отдел банка. Нужно разобраться, влияет ли семейное положение и количество детей клиента на факт погашения кредита в срок. Входные данные от банка — статистика о платёжеспособности клиентов.\n",
    "\n",
    "Результаты исследования будут учтены при построении модели **кредитного скоринга** — специальной системы, которая оценивает способность потенциального заёмщика вернуть кредит банку."
   ]
  },
  {
   "cell_type": "markdown",
   "metadata": {},
   "source": [
    "### Шаг 1. Откройте файл с данными и изучите общую информацию. "
   ]
  },
  {
   "cell_type": "code",
   "execution_count": 30,
   "metadata": {
    "scrolled": true
   },
   "outputs": [],
   "source": [
    "import pandas as pd #загрузка библиотеки pandas"
   ]
  },
  {
   "cell_type": "code",
   "execution_count": 31,
   "metadata": {},
   "outputs": [
    {
     "data": {
      "text/html": [
       "<div>\n",
       "<style scoped>\n",
       "    .dataframe tbody tr th:only-of-type {\n",
       "        vertical-align: middle;\n",
       "    }\n",
       "\n",
       "    .dataframe tbody tr th {\n",
       "        vertical-align: top;\n",
       "    }\n",
       "\n",
       "    .dataframe thead th {\n",
       "        text-align: right;\n",
       "    }\n",
       "</style>\n",
       "<table border=\"1\" class=\"dataframe\">\n",
       "  <thead>\n",
       "    <tr style=\"text-align: right;\">\n",
       "      <th></th>\n",
       "      <th>children</th>\n",
       "      <th>days_employed</th>\n",
       "      <th>dob_years</th>\n",
       "      <th>education</th>\n",
       "      <th>education_id</th>\n",
       "      <th>family_status</th>\n",
       "      <th>family_status_id</th>\n",
       "      <th>gender</th>\n",
       "      <th>income_type</th>\n",
       "      <th>debt</th>\n",
       "      <th>total_income</th>\n",
       "      <th>purpose</th>\n",
       "    </tr>\n",
       "  </thead>\n",
       "  <tbody>\n",
       "    <tr>\n",
       "      <td>0</td>\n",
       "      <td>1</td>\n",
       "      <td>-8437.673028</td>\n",
       "      <td>42</td>\n",
       "      <td>высшее</td>\n",
       "      <td>0</td>\n",
       "      <td>женат / замужем</td>\n",
       "      <td>0</td>\n",
       "      <td>F</td>\n",
       "      <td>сотрудник</td>\n",
       "      <td>0</td>\n",
       "      <td>253875.639453</td>\n",
       "      <td>покупка жилья</td>\n",
       "    </tr>\n",
       "    <tr>\n",
       "      <td>1</td>\n",
       "      <td>1</td>\n",
       "      <td>-4024.803754</td>\n",
       "      <td>36</td>\n",
       "      <td>среднее</td>\n",
       "      <td>1</td>\n",
       "      <td>женат / замужем</td>\n",
       "      <td>0</td>\n",
       "      <td>F</td>\n",
       "      <td>сотрудник</td>\n",
       "      <td>0</td>\n",
       "      <td>112080.014102</td>\n",
       "      <td>приобретение автомобиля</td>\n",
       "    </tr>\n",
       "    <tr>\n",
       "      <td>2</td>\n",
       "      <td>0</td>\n",
       "      <td>-5623.422610</td>\n",
       "      <td>33</td>\n",
       "      <td>Среднее</td>\n",
       "      <td>1</td>\n",
       "      <td>женат / замужем</td>\n",
       "      <td>0</td>\n",
       "      <td>M</td>\n",
       "      <td>сотрудник</td>\n",
       "      <td>0</td>\n",
       "      <td>145885.952297</td>\n",
       "      <td>покупка жилья</td>\n",
       "    </tr>\n",
       "    <tr>\n",
       "      <td>3</td>\n",
       "      <td>3</td>\n",
       "      <td>-4124.747207</td>\n",
       "      <td>32</td>\n",
       "      <td>среднее</td>\n",
       "      <td>1</td>\n",
       "      <td>женат / замужем</td>\n",
       "      <td>0</td>\n",
       "      <td>M</td>\n",
       "      <td>сотрудник</td>\n",
       "      <td>0</td>\n",
       "      <td>267628.550329</td>\n",
       "      <td>дополнительное образование</td>\n",
       "    </tr>\n",
       "    <tr>\n",
       "      <td>4</td>\n",
       "      <td>0</td>\n",
       "      <td>340266.072047</td>\n",
       "      <td>53</td>\n",
       "      <td>среднее</td>\n",
       "      <td>1</td>\n",
       "      <td>гражданский брак</td>\n",
       "      <td>1</td>\n",
       "      <td>F</td>\n",
       "      <td>пенсионер</td>\n",
       "      <td>0</td>\n",
       "      <td>158616.077870</td>\n",
       "      <td>сыграть свадьбу</td>\n",
       "    </tr>\n",
       "    <tr>\n",
       "      <td>5</td>\n",
       "      <td>0</td>\n",
       "      <td>-926.185831</td>\n",
       "      <td>27</td>\n",
       "      <td>высшее</td>\n",
       "      <td>0</td>\n",
       "      <td>гражданский брак</td>\n",
       "      <td>1</td>\n",
       "      <td>M</td>\n",
       "      <td>компаньон</td>\n",
       "      <td>0</td>\n",
       "      <td>255763.565419</td>\n",
       "      <td>покупка жилья</td>\n",
       "    </tr>\n",
       "    <tr>\n",
       "      <td>6</td>\n",
       "      <td>0</td>\n",
       "      <td>-2879.202052</td>\n",
       "      <td>43</td>\n",
       "      <td>высшее</td>\n",
       "      <td>0</td>\n",
       "      <td>женат / замужем</td>\n",
       "      <td>0</td>\n",
       "      <td>F</td>\n",
       "      <td>компаньон</td>\n",
       "      <td>0</td>\n",
       "      <td>240525.971920</td>\n",
       "      <td>операции с жильем</td>\n",
       "    </tr>\n",
       "  </tbody>\n",
       "</table>\n",
       "</div>"
      ],
      "text/plain": [
       "   children  days_employed  dob_years education  education_id  \\\n",
       "0         1   -8437.673028         42    высшее             0   \n",
       "1         1   -4024.803754         36   среднее             1   \n",
       "2         0   -5623.422610         33   Среднее             1   \n",
       "3         3   -4124.747207         32   среднее             1   \n",
       "4         0  340266.072047         53   среднее             1   \n",
       "5         0    -926.185831         27    высшее             0   \n",
       "6         0   -2879.202052         43    высшее             0   \n",
       "\n",
       "      family_status  family_status_id gender income_type  debt   total_income  \\\n",
       "0   женат / замужем                 0      F   сотрудник     0  253875.639453   \n",
       "1   женат / замужем                 0      F   сотрудник     0  112080.014102   \n",
       "2   женат / замужем                 0      M   сотрудник     0  145885.952297   \n",
       "3   женат / замужем                 0      M   сотрудник     0  267628.550329   \n",
       "4  гражданский брак                 1      F   пенсионер     0  158616.077870   \n",
       "5  гражданский брак                 1      M   компаньон     0  255763.565419   \n",
       "6   женат / замужем                 0      F   компаньон     0  240525.971920   \n",
       "\n",
       "                      purpose  \n",
       "0               покупка жилья  \n",
       "1     приобретение автомобиля  \n",
       "2               покупка жилья  \n",
       "3  дополнительное образование  \n",
       "4             сыграть свадьбу  \n",
       "5               покупка жилья  \n",
       "6           операции с жильем  "
      ]
     },
     "execution_count": 31,
     "metadata": {},
     "output_type": "execute_result"
    }
   ],
   "source": [
    "data = pd.read_csv('/datasets/data.csv') #чтение файла\n",
    "data.head(7) "
   ]
  },
  {
   "cell_type": "markdown",
   "metadata": {},
   "source": [
    "### Шаг 2. Предобработка данных"
   ]
  },
  {
   "cell_type": "markdown",
   "metadata": {},
   "source": [
    "Представленная выборка для целей анализа по основным параметрам потенциальных заемщиков из 21 525 позиций имеет ряд некорректностей: 'children'- по 47 строкам количество (-1) и преобладают заемщики без детей- 66% , отрицательные, вероятно возникли из-за некорректного заполнения входной формы даных- некоректный формат данных или перенос данных в системах (формат выгрузки необходимо привезти в значения без \"-\") и  многократнозавышенные положительные значения (скорее скорректировать по median, на текущий момент оставлены без изменения) по 'days_employed', 'dob_years'- 101 строка с возрастом \"0\" и примерно одинаковые пропорции в выборке по возрастным категориям заемщиков, 'education'- затроение данных- в наименованиях разный регистр и шрифт, 'education_id'- на 71% заемщики со средним образованием, 'family_status'- категория с большой буквы \"Не женат / не замужем\", 'family_status_id' - выборка на 58% из женат/замужем, 'gender'- есть 1 значение \"XNA\", 'gender' - 66% заемщиков- это женщины, 'income_type' - сотрудников из них большинство (52%), 'debt'- из них 92%- благонадежные заемщики по предыдущей кредитной истории, 'total_income'- выборка с большим разбросом сумм, 'purpose'- представленная категория требует лематизации."
   ]
  },
  {
   "cell_type": "markdown",
   "metadata": {},
   "source": [
    "### Обработка пропусков"
   ]
  },
  {
   "cell_type": "code",
   "execution_count": 2,
   "metadata": {},
   "outputs": [
    {
     "data": {
      "text/plain": [
       "children               0\n",
       "days_employed       2174\n",
       "dob_years              0\n",
       "education              0\n",
       "education_id           0\n",
       "family_status          0\n",
       "family_status_id       0\n",
       "gender                 0\n",
       "income_type            0\n",
       "debt                   0\n",
       "total_income        2174\n",
       "purpose                0\n",
       "dtype: int64"
      ]
     },
     "execution_count": 2,
     "metadata": {},
     "output_type": "execute_result"
    }
   ],
   "source": [
    "data.isna().sum() #проверка выборки на предмет пропусков"
   ]
  },
  {
   "cell_type": "markdown",
   "metadata": {},
   "source": [
    "Наблюдается потенциальная симметричность в пропусках."
   ]
  },
  {
   "cell_type": "code",
   "execution_count": 3,
   "metadata": {},
   "outputs": [],
   "source": [
    "data['days_employed'] = data['days_employed'].fillna(0) #заполнение пропущенных значений"
   ]
  },
  {
   "cell_type": "code",
   "execution_count": 4,
   "metadata": {},
   "outputs": [],
   "source": [
    "data['total_income'] = data['total_income'].fillna(0)"
   ]
  },
  {
   "cell_type": "code",
   "execution_count": 33,
   "metadata": {},
   "outputs": [
    {
     "data": {
      "text/plain": [
       "children               0\n",
       "days_employed       2174\n",
       "dob_years              0\n",
       "education              0\n",
       "education_id           0\n",
       "family_status          0\n",
       "family_status_id       0\n",
       "gender                 0\n",
       "income_type            0\n",
       "debt                   0\n",
       "total_income        2174\n",
       "purpose                0\n",
       "dtype: int64"
      ]
     },
     "execution_count": 33,
     "metadata": {},
     "output_type": "execute_result"
    }
   ],
   "source": [
    "data.isna().sum()"
   ]
  },
  {
   "cell_type": "code",
   "execution_count": 35,
   "metadata": {},
   "outputs": [
    {
     "data": {
      "text/plain": [
       "401755.40047533"
      ]
     },
     "execution_count": 35,
     "metadata": {},
     "output_type": "execute_result"
    }
   ],
   "source": [
    "max(data['days_employed']) #поиск max значения по столбцу'days_employed'"
   ]
  },
  {
   "cell_type": "code",
   "execution_count": 7,
   "metadata": {},
   "outputs": [],
   "source": [
    "data['children'] = data['children'].abs() #замена отрицательных значений на положительные"
   ]
  },
  {
   "cell_type": "code",
   "execution_count": 8,
   "metadata": {},
   "outputs": [],
   "source": [
    "data['days_employed'] = data['days_employed'].abs()"
   ]
  },
  {
   "cell_type": "code",
   "execution_count": 9,
   "metadata": {},
   "outputs": [
    {
     "data": {
      "text/plain": [
       "0     14149\n",
       "1      4865\n",
       "2      2055\n",
       "3       330\n",
       "20       76\n",
       "4        41\n",
       "5         9\n",
       "Name: children, dtype: int64"
      ]
     },
     "execution_count": 9,
     "metadata": {},
     "output_type": "execute_result"
    }
   ],
   "source": [
    "data['children'].value_counts() #проверка замены отрицательных значений"
   ]
  },
  {
   "cell_type": "code",
   "execution_count": 10,
   "metadata": {},
   "outputs": [
    {
     "data": {
      "text/plain": [
       "0.000000       2174\n",
       "1645.463049       1\n",
       "6620.396473       1\n",
       "1238.560080       1\n",
       "3047.519891       1\n",
       "               ... \n",
       "2849.351119       1\n",
       "5619.328204       1\n",
       "448.829898        1\n",
       "1687.038672       1\n",
       "206.107342        1\n",
       "Name: days_employed, Length: 19352, dtype: int64"
      ]
     },
     "execution_count": 10,
     "metadata": {},
     "output_type": "execute_result"
    }
   ],
   "source": [
    "data['days_employed'].value_counts()"
   ]
  },
  {
   "cell_type": "markdown",
   "metadata": {},
   "source": [
    "   ### Вывод \n",
    "В соответствии с методом value_count() проведена оценка выборки в целом (вывод по данным выше), а метод .isna().sum() показывает потенциальную симметричность в количестве пропущенных значений 2174 по столбцам: 'days_employed' и 'total_income'- причиной появления пропусков, например, могла стать закрытая информация по высоким зарплатам. Для осуществления математических расчетов по выборке в дальнейшнем меняем пропуски на нулевые значения. Методом .fillna() произведена замена пропусков по столбцам указанным ранее. Также осуществлена замена отрицательных значений (значение 20 детей оставлено без правок- в реальной жизни такое количество м.б. у заемщика- гос.поддержка кредитования многодетных семей и т.п.) по столбцам 'children' и 'days_employed' методом .abs(). По столбцу 'days_employed' зафиксирован стаж в 1100 лет!? (или 401 755 дней)- вероятно данные сохранены еще и в минутах. В 'dob_years'- нулевые строки (101 значение) и 'gender'- 1 значение \"XNA\"- изменения не проводились т.к. их  объем в выборке незначителен."
   ]
  },
  {
   "cell_type": "markdown",
   "metadata": {},
   "source": [
    "### Замена типа данных"
   ]
  },
  {
   "cell_type": "code",
   "execution_count": 11,
   "metadata": {
    "scrolled": true
   },
   "outputs": [],
   "source": [
    "data['days_employed'] = data['days_employed'].astype('int64') #замена типа данных с float64 на int64"
   ]
  },
  {
   "cell_type": "code",
   "execution_count": 12,
   "metadata": {},
   "outputs": [],
   "source": [
    "data['total_income'] = data['total_income'].astype('int64')"
   ]
  },
  {
   "cell_type": "code",
   "execution_count": 13,
   "metadata": {},
   "outputs": [
    {
     "name": "stdout",
     "output_type": "stream",
     "text": [
      "<class 'pandas.core.frame.DataFrame'>\n",
      "RangeIndex: 21525 entries, 0 to 21524\n",
      "Data columns (total 12 columns):\n",
      "children            21525 non-null int64\n",
      "days_employed       21525 non-null int64\n",
      "dob_years           21525 non-null int64\n",
      "education           21525 non-null object\n",
      "education_id        21525 non-null int64\n",
      "family_status       21525 non-null object\n",
      "family_status_id    21525 non-null int64\n",
      "gender              21525 non-null object\n",
      "income_type         21525 non-null object\n",
      "debt                21525 non-null int64\n",
      "total_income        21525 non-null int64\n",
      "purpose             21525 non-null object\n",
      "dtypes: int64(7), object(5)\n",
      "memory usage: 2.0+ MB\n"
     ]
    }
   ],
   "source": [
    "data.info() #проверка замены на int64"
   ]
  },
  {
   "cell_type": "markdown",
   "metadata": {},
   "source": [
    "### Вывод \n",
    "Посредством метода .astype заменяем тип данных с float64 на int64 по столбцам 'days_employed' и 'total_income' для проведения с данными столбцами математических действий в дальнейших расчетах по проекту."
   ]
  },
  {
   "cell_type": "markdown",
   "metadata": {},
   "source": [
    "### Обработка дубликатов"
   ]
  },
  {
   "cell_type": "code",
   "execution_count": 14,
   "metadata": {},
   "outputs": [
    {
     "data": {
      "text/plain": [
       "среднее                13750\n",
       "высшее                  4718\n",
       "СРЕДНЕЕ                  772\n",
       "Среднее                  711\n",
       "неоконченное высшее      668\n",
       "ВЫСШЕЕ                   274\n",
       "Высшее                   268\n",
       "начальное                250\n",
       "Неоконченное высшее       47\n",
       "НЕОКОНЧЕННОЕ ВЫСШЕЕ       29\n",
       "НАЧАЛЬНОЕ                 17\n",
       "Начальное                 15\n",
       "ученая степень             4\n",
       "Ученая степень             1\n",
       "УЧЕНАЯ СТЕПЕНЬ             1\n",
       "Name: education, dtype: int64"
      ]
     },
     "execution_count": 14,
     "metadata": {},
     "output_type": "execute_result"
    }
   ],
   "source": [
    "data['education'].value_counts() #проверка наличия дубликатов"
   ]
  },
  {
   "cell_type": "code",
   "execution_count": 15,
   "metadata": {},
   "outputs": [],
   "source": [
    "data['education_clear'] = data['education'].str.lower() #замена названий в столбце на нижний регистр"
   ]
  },
  {
   "cell_type": "code",
   "execution_count": 16,
   "metadata": {},
   "outputs": [
    {
     "data": {
      "text/plain": [
       "array(['высшее', 'среднее', 'неоконченное высшее', 'начальное',\n",
       "       'ученая степень'], dtype=object)"
      ]
     },
     "execution_count": 16,
     "metadata": {},
     "output_type": "execute_result"
    }
   ],
   "source": [
    "data['education_clear'].unique() #уникальные значения"
   ]
  },
  {
   "cell_type": "markdown",
   "metadata": {},
   "source": [
    "### Вывод \n",
    "Столбец 'education' приведен к идентичным значениям по 5 категориям с помощью метода .str.lower() - появился столбец 'education_clear' как верный (проверен на уникальность методом .unique())."
   ]
  },
  {
   "cell_type": "markdown",
   "metadata": {},
   "source": [
    "### Лемматизация"
   ]
  },
  {
   "cell_type": "code",
   "execution_count": 17,
   "metadata": {},
   "outputs": [
    {
     "name": "stdout",
     "output_type": "stream",
     "text": [
      "['покупка жилья' 'приобретение автомобиля' 'дополнительное образование'\n",
      " 'сыграть свадьбу' 'операции с жильем' 'образование'\n",
      " 'на проведение свадьбы' 'покупка жилья для семьи' 'покупка недвижимости'\n",
      " 'покупка коммерческой недвижимости' 'покупка жилой недвижимости'\n",
      " 'строительство собственной недвижимости' 'недвижимость'\n",
      " 'строительство недвижимости' 'на покупку подержанного автомобиля'\n",
      " 'на покупку своего автомобиля' 'операции с коммерческой недвижимостью'\n",
      " 'строительство жилой недвижимости' 'жилье'\n",
      " 'операции со своей недвижимостью' 'автомобили' 'заняться образованием'\n",
      " 'сделка с подержанным автомобилем' 'получение образования' 'автомобиль'\n",
      " 'свадьба' 'получение дополнительного образования' 'покупка своего жилья'\n",
      " 'операции с недвижимостью' 'получение высшего образования'\n",
      " 'свой автомобиль' 'сделка с автомобилем' 'профильное образование'\n",
      " 'высшее образование' 'покупка жилья для сдачи' 'на покупку автомобиля'\n",
      " 'ремонт жилью' 'заняться высшим образованием']\n"
     ]
    }
   ],
   "source": [
    "print(data['purpose'].unique()) #уникальные значения"
   ]
  },
  {
   "cell_type": "code",
   "execution_count": 18,
   "metadata": {},
   "outputs": [
    {
     "name": "stdout",
     "output_type": "stream",
     "text": [
      "Словарь лемм столбца \"purpose\":  Counter({' ': 33677, '\\n': 21525, 'недвижимость': 6367, 'покупка': 5912, 'жилье': 4473, 'автомобиль': 4315, 'образование': 4022, 'с': 2924, 'операция': 2610, 'свадьба': 2348, 'свой': 2235, 'на': 2233, 'строительство': 1881, 'высокий': 1375, 'получение': 1316, 'коммерческий': 1315, 'для': 1294, 'жилой': 1233, 'сделка': 944, 'дополнительный': 909, 'заниматься': 908, 'проведение': 777, 'сыграть': 774, 'сдача': 653, 'семья': 641, 'собственный': 635, 'со': 630, 'ремонт': 612, 'подержанный': 489, 'подержать': 479, 'приобретение': 462, 'профильный': 436})\n"
     ]
    }
   ],
   "source": [
    "from pymystem3 import Mystem #импорт библиотеки с функцией лемматизации\n",
    "from collections import Counter #импорт библиотеки с функцией счетчика\n",
    "m = Mystem()\n",
    "\n",
    "def lemmatize_data(row): # функция для лемматизации строк\n",
    "    lemmas = m.lemmatize(row)\n",
    "    return lemmas\n",
    " \n",
    "data['purpose'] = data['purpose'].apply(lemmatize_data) #применена функция лемматизации к столбцу 'purpose' датафрейма, добавлен столбец 'purpose_lemmas' \n",
    "\n",
    "print('Словарь лемм столбца \"purpose\": ', Counter(data['purpose'].sum())) #просуммировали все значения столбца 'purpose_lemmas' и применили к ним счетчик Counter()"
   ]
  },
  {
   "cell_type": "markdown",
   "metadata": {},
   "source": [
    "### Вывод\n",
    "Лемматизация представяет собой- процесс приведение слова к его словарной форме. Данный метод необходим в проекте для дальнейшей категоризации данных на основе полученного Counter(data['purpose'] при участии метода .apply()."
   ]
  },
  {
   "cell_type": "markdown",
   "metadata": {},
   "source": [
    "### Категоризация данных"
   ]
  },
  {
   "cell_type": "code",
   "execution_count": 19,
   "metadata": {},
   "outputs": [],
   "source": [
    "def lemm(series_row): # функция для категориизации данных, выделены 5 категорий и добавлен столбец 'purpose_top5'\n",
    "    \n",
    "    if 'жилье' in series_row:\n",
    "        return 'жилье'\n",
    "    elif 'недвижимость' in series_row:\n",
    "        return 'недвижимость'\n",
    "    elif 'свадьба' in series_row:\n",
    "        return 'свадьба'\n",
    "    elif 'автомобиль' in series_row:\n",
    "        return 'автомобиль'\n",
    "    elif 'образование' in series_row:\n",
    "        return 'образование'\n",
    "    \n",
    "data['purpose_top5'] = data['purpose'].apply(lemm)"
   ]
  },
  {
   "cell_type": "code",
   "execution_count": 20,
   "metadata": {},
   "outputs": [
    {
     "name": "stdout",
     "output_type": "stream",
     "text": [
      "['жилье' 'автомобиль' 'образование' 'свадьба' 'недвижимость']\n"
     ]
    }
   ],
   "source": [
    "print(data['purpose_top5'].unique()) #уникальные значения"
   ]
  },
  {
   "cell_type": "code",
   "execution_count": 21,
   "metadata": {},
   "outputs": [
    {
     "data": {
      "text/plain": [
       "недвижимость    6367\n",
       "жилье           4473\n",
       "автомобиль      4315\n",
       "образование     4022\n",
       "свадьба         2348\n",
       "Name: purpose_top5, dtype: int64"
      ]
     },
     "execution_count": 21,
     "metadata": {},
     "output_type": "execute_result"
    }
   ],
   "source": [
    "data['purpose_top5'].value_counts() #проверка факта замены"
   ]
  },
  {
   "cell_type": "markdown",
   "metadata": {},
   "source": [
    "### Вывод \n",
    "Процесс категоризации представляет собой-  объединение данных в категории для оптимального хранения и использования (по возрасту, уровню зарплаты и тп) с созданием файла-словаря (метода .apply()).  Проверка на уникальность категоризированных значений выборки успешно пройдена. "
   ]
  },
  {
   "cell_type": "markdown",
   "metadata": {},
   "source": [
    "### Шаг 3. Ответьте на вопросы"
   ]
  },
  {
   "cell_type": "markdown",
   "metadata": {},
   "source": [
    "- Есть ли зависимость между наличием детей и возвратом кредита в срок?"
   ]
  },
  {
   "cell_type": "code",
   "execution_count": 22,
   "metadata": {},
   "outputs": [
    {
     "data": {
      "text/html": [
       "<div>\n",
       "<style scoped>\n",
       "    .dataframe tbody tr th:only-of-type {\n",
       "        vertical-align: middle;\n",
       "    }\n",
       "\n",
       "    .dataframe tbody tr th {\n",
       "        vertical-align: top;\n",
       "    }\n",
       "\n",
       "    .dataframe thead th {\n",
       "        text-align: right;\n",
       "    }\n",
       "</style>\n",
       "<table border=\"1\" class=\"dataframe\">\n",
       "  <thead>\n",
       "    <tr style=\"text-align: right;\">\n",
       "      <th></th>\n",
       "      <th>sum_children</th>\n",
       "      <th>count_children</th>\n",
       "      <th>result_children</th>\n",
       "    </tr>\n",
       "    <tr>\n",
       "      <th>children</th>\n",
       "      <th></th>\n",
       "      <th></th>\n",
       "      <th></th>\n",
       "    </tr>\n",
       "  </thead>\n",
       "  <tbody>\n",
       "    <tr>\n",
       "      <td>20</td>\n",
       "      <td>8</td>\n",
       "      <td>76</td>\n",
       "      <td>0.105263</td>\n",
       "    </tr>\n",
       "    <tr>\n",
       "      <td>4</td>\n",
       "      <td>4</td>\n",
       "      <td>41</td>\n",
       "      <td>0.097561</td>\n",
       "    </tr>\n",
       "    <tr>\n",
       "      <td>2</td>\n",
       "      <td>194</td>\n",
       "      <td>2055</td>\n",
       "      <td>0.094404</td>\n",
       "    </tr>\n",
       "    <tr>\n",
       "      <td>1</td>\n",
       "      <td>445</td>\n",
       "      <td>4865</td>\n",
       "      <td>0.091470</td>\n",
       "    </tr>\n",
       "    <tr>\n",
       "      <td>3</td>\n",
       "      <td>27</td>\n",
       "      <td>330</td>\n",
       "      <td>0.081818</td>\n",
       "    </tr>\n",
       "    <tr>\n",
       "      <td>0</td>\n",
       "      <td>1063</td>\n",
       "      <td>14149</td>\n",
       "      <td>0.075129</td>\n",
       "    </tr>\n",
       "    <tr>\n",
       "      <td>5</td>\n",
       "      <td>0</td>\n",
       "      <td>9</td>\n",
       "      <td>0.000000</td>\n",
       "    </tr>\n",
       "  </tbody>\n",
       "</table>\n",
       "</div>"
      ],
      "text/plain": [
       "          sum_children  count_children  result_children\n",
       "children                                               \n",
       "20                   8              76         0.105263\n",
       "4                    4              41         0.097561\n",
       "2                  194            2055         0.094404\n",
       "1                  445            4865         0.091470\n",
       "3                   27             330         0.081818\n",
       "0                 1063           14149         0.075129\n",
       "5                    0               9         0.000000"
      ]
     },
     "execution_count": 22,
     "metadata": {},
     "output_type": "execute_result"
    }
   ],
   "source": [
    "debt_children = pd.DataFrame() #конструктор датафрейма для создания таблицы\n",
    "\n",
    "debt_children['sum_children'] = data.groupby('children')['debt'].sum() #группировка данных \n",
    "debt_children['count_children'] = data.groupby('children')['debt'].count()\n",
    "\n",
    "debt_children['result_children'] = debt_children['sum_children'] / debt_children['count_children'] #расчет зависимости событий \n",
    "debt_children.sort_values('result_children', ascending = False) #сортировка таблицы по столбцу 'result_children'"
   ]
  },
  {
   "cell_type": "markdown",
   "metadata": {},
   "source": [
    "### Вывод \n",
    "По бездетным просрочка наименьшая, а при росте количества детей просроченная задолженность становится более вероятна на примере данной выборки. Исключением выведенной последовательности является просрочка с 3 детьми < чем с 1 ребенком, возможно влияние субсидий для погашения или меньшая ставка кредита для многодетных семей. Данные по земщикам с 5 детьми незначительны по количеству в общей выборке и допустимы к исключению- возможная причина некорректный формат данных строк (sum=0). "
   ]
  },
  {
   "cell_type": "markdown",
   "metadata": {},
   "source": [
    "- Есть ли зависимость между семейным положением и возвратом кредита в срок?"
   ]
  },
  {
   "cell_type": "code",
   "execution_count": 23,
   "metadata": {},
   "outputs": [
    {
     "data": {
      "text/html": [
       "<div>\n",
       "<style scoped>\n",
       "    .dataframe tbody tr th:only-of-type {\n",
       "        vertical-align: middle;\n",
       "    }\n",
       "\n",
       "    .dataframe tbody tr th {\n",
       "        vertical-align: top;\n",
       "    }\n",
       "\n",
       "    .dataframe thead th {\n",
       "        text-align: right;\n",
       "    }\n",
       "</style>\n",
       "<table border=\"1\" class=\"dataframe\">\n",
       "  <thead>\n",
       "    <tr style=\"text-align: right;\">\n",
       "      <th></th>\n",
       "      <th>sum_family_status</th>\n",
       "      <th>count_family_status</th>\n",
       "      <th>result_family_status</th>\n",
       "    </tr>\n",
       "    <tr>\n",
       "      <th>family_status</th>\n",
       "      <th></th>\n",
       "      <th></th>\n",
       "      <th></th>\n",
       "    </tr>\n",
       "  </thead>\n",
       "  <tbody>\n",
       "    <tr>\n",
       "      <td>Не женат / не замужем</td>\n",
       "      <td>274</td>\n",
       "      <td>2813</td>\n",
       "      <td>0.097405</td>\n",
       "    </tr>\n",
       "    <tr>\n",
       "      <td>гражданский брак</td>\n",
       "      <td>388</td>\n",
       "      <td>4177</td>\n",
       "      <td>0.092890</td>\n",
       "    </tr>\n",
       "    <tr>\n",
       "      <td>женат / замужем</td>\n",
       "      <td>931</td>\n",
       "      <td>12380</td>\n",
       "      <td>0.075202</td>\n",
       "    </tr>\n",
       "    <tr>\n",
       "      <td>в разводе</td>\n",
       "      <td>85</td>\n",
       "      <td>1195</td>\n",
       "      <td>0.071130</td>\n",
       "    </tr>\n",
       "    <tr>\n",
       "      <td>вдовец / вдова</td>\n",
       "      <td>63</td>\n",
       "      <td>960</td>\n",
       "      <td>0.065625</td>\n",
       "    </tr>\n",
       "  </tbody>\n",
       "</table>\n",
       "</div>"
      ],
      "text/plain": [
       "                       sum_family_status  count_family_status  \\\n",
       "family_status                                                   \n",
       "Не женат / не замужем                274                 2813   \n",
       "гражданский брак                     388                 4177   \n",
       "женат / замужем                      931                12380   \n",
       "в разводе                             85                 1195   \n",
       "вдовец / вдова                        63                  960   \n",
       "\n",
       "                       result_family_status  \n",
       "family_status                                \n",
       "Не женат / не замужем              0.097405  \n",
       "гражданский брак                   0.092890  \n",
       "женат / замужем                    0.075202  \n",
       "в разводе                          0.071130  \n",
       "вдовец / вдова                     0.065625  "
      ]
     },
     "execution_count": 23,
     "metadata": {},
     "output_type": "execute_result"
    }
   ],
   "source": [
    "debt_family = pd.DataFrame() #конструктор датафрейма для создания таблицы\n",
    "\n",
    "debt_family['sum_family_status'] = data.groupby('family_status')['debt'].sum() #группировка данных \n",
    "debt_family['count_family_status'] = data.groupby('family_status')['debt'].count()\n",
    "\n",
    "debt_family['result_family_status'] = debt_family['sum_family_status'] / debt_family['count_family_status'] #расчет зависимости событий\n",
    "debt_family.sort_values('result_family_status', ascending = False) #сортировка таблицы по столбцу 'result_family_status'"
   ]
  },
  {
   "cell_type": "markdown",
   "metadata": {},
   "source": [
    "### Вывод > \n",
    "Прослеживается следующая тенденция, чем человек ближе к официальному браку (или прошедшие его) по статусу в предложенной выборке, тем процент невозврата ниже (фактор ответственности за семью работает!)- для банка выдача кредита более надежна для нужд семей."
   ]
  },
  {
   "cell_type": "markdown",
   "metadata": {},
   "source": [
    "- Есть ли зависимость между уровнем дохода и возвратом кредита в срок?"
   ]
  },
  {
   "cell_type": "code",
   "execution_count": 24,
   "metadata": {},
   "outputs": [
    {
     "data": {
      "text/plain": [
       "2265604"
      ]
     },
     "execution_count": 24,
     "metadata": {},
     "output_type": "execute_result"
    }
   ],
   "source": [
    "#min(data['total_income'])\n",
    "max(data['total_income']) #поиск max значения по столбцу'total_income'"
   ]
  },
  {
   "cell_type": "code",
   "execution_count": 29,
   "metadata": {},
   "outputs": [
    {
     "data": {
      "text/plain": [
       "135514"
      ]
     },
     "execution_count": 29,
     "metadata": {},
     "output_type": "execute_result"
    }
   ],
   "source": [
    "data['total_income'].median().astype('int64') #mediana по 'total_income'"
   ]
  },
  {
   "cell_type": "code",
   "execution_count": 26,
   "metadata": {},
   "outputs": [
    {
     "data": {
      "text/html": [
       "<div>\n",
       "<style scoped>\n",
       "    .dataframe tbody tr th:only-of-type {\n",
       "        vertical-align: middle;\n",
       "    }\n",
       "\n",
       "    .dataframe tbody tr th {\n",
       "        vertical-align: top;\n",
       "    }\n",
       "\n",
       "    .dataframe thead th {\n",
       "        text-align: right;\n",
       "    }\n",
       "</style>\n",
       "<table border=\"1\" class=\"dataframe\">\n",
       "  <thead>\n",
       "    <tr style=\"text-align: right;\">\n",
       "      <th></th>\n",
       "      <th>sum</th>\n",
       "      <th>count</th>\n",
       "      <th>result_total_income</th>\n",
       "    </tr>\n",
       "    <tr>\n",
       "      <th>total_income_id</th>\n",
       "      <th></th>\n",
       "      <th></th>\n",
       "      <th></th>\n",
       "    </tr>\n",
       "  </thead>\n",
       "  <tbody>\n",
       "    <tr>\n",
       "      <td>3</td>\n",
       "      <td>368</td>\n",
       "      <td>4118</td>\n",
       "      <td>0.089364</td>\n",
       "    </tr>\n",
       "    <tr>\n",
       "      <td>2</td>\n",
       "      <td>491</td>\n",
       "      <td>5704</td>\n",
       "      <td>0.086080</td>\n",
       "    </tr>\n",
       "    <tr>\n",
       "      <td>1</td>\n",
       "      <td>331</td>\n",
       "      <td>4091</td>\n",
       "      <td>0.080909</td>\n",
       "    </tr>\n",
       "    <tr>\n",
       "      <td>0</td>\n",
       "      <td>193</td>\n",
       "      <td>2546</td>\n",
       "      <td>0.075805</td>\n",
       "    </tr>\n",
       "    <tr>\n",
       "      <td>4</td>\n",
       "      <td>164</td>\n",
       "      <td>2254</td>\n",
       "      <td>0.072760</td>\n",
       "    </tr>\n",
       "    <tr>\n",
       "      <td>6</td>\n",
       "      <td>106</td>\n",
       "      <td>1482</td>\n",
       "      <td>0.071525</td>\n",
       "    </tr>\n",
       "    <tr>\n",
       "      <td>5</td>\n",
       "      <td>88</td>\n",
       "      <td>1330</td>\n",
       "      <td>0.066165</td>\n",
       "    </tr>\n",
       "  </tbody>\n",
       "</table>\n",
       "</div>"
      ],
      "text/plain": [
       "                 sum  count  result_total_income\n",
       "total_income_id                                 \n",
       "3                368   4118             0.089364\n",
       "2                491   5704             0.086080\n",
       "1                331   4091             0.080909\n",
       "0                193   2546             0.075805\n",
       "4                164   2254             0.072760\n",
       "6                106   1482             0.071525\n",
       "5                 88   1330             0.066165"
      ]
     },
     "execution_count": 26,
     "metadata": {},
     "output_type": "execute_result"
    }
   ],
   "source": [
    "def total_income_metod(value): # функция для перебора зависимости в total_income\n",
    "    if value >= 300000:\n",
    "        return 6\n",
    "    else:\n",
    "        value = value // 50000\n",
    "        return value\n",
    "\n",
    "    #категоризация заемщиков по доходам для определения зависимости- выделено 5 категорий.    \n",
    "data['total_income_id'] = data['total_income'].apply(total_income_metod) \n",
    "data['total_income_id'].value_counts() #расчет по 'total_income'\n",
    "\n",
    "\n",
    "debt_total_income = pd.DataFrame() #конструктор датафрейма для создания таблицы\n",
    "\n",
    "debt_total_income['sum'] = data.groupby('total_income_id')['debt'].sum() #группировка данных \n",
    "debt_total_income['count'] = data.groupby('total_income_id')['debt'].count()\n",
    "\n",
    "debt_total_income['result_total_income'] = debt_total_income['sum'] / debt_total_income['count'] #расчет зависимости событий\n",
    "debt_total_income.sort_values('result_total_income', ascending = False) #сортировка таблицы по столбцу 'result_total_income'"
   ]
  },
  {
   "cell_type": "markdown",
   "metadata": {},
   "source": [
    "### Вывод \n",
    "Уровень дохода по данной выборке  оказывает обратно пропорциональное влияние на вероятность возврата кредита: больше зарплата- меньше вероятности невозврата кредита. Однако при получившейся медиане в 135 514 руб. ограничением для показательной оценки зависимости взята сумма зарплат до 300 000 руб. и тогда наибольший риск невозврата имеют заемщики с диапазоном зарплат 150 000 - 200 000 руб. (необдуманные, дорогие покупки)."
   ]
  },
  {
   "cell_type": "markdown",
   "metadata": {},
   "source": [
    "- Как разные цели кредита влияют на его возврат в срок?"
   ]
  },
  {
   "cell_type": "code",
   "execution_count": 27,
   "metadata": {},
   "outputs": [
    {
     "data": {
      "text/html": [
       "<div>\n",
       "<style scoped>\n",
       "    .dataframe tbody tr th:only-of-type {\n",
       "        vertical-align: middle;\n",
       "    }\n",
       "\n",
       "    .dataframe tbody tr th {\n",
       "        vertical-align: top;\n",
       "    }\n",
       "\n",
       "    .dataframe thead th {\n",
       "        text-align: right;\n",
       "    }\n",
       "</style>\n",
       "<table border=\"1\" class=\"dataframe\">\n",
       "  <thead>\n",
       "    <tr style=\"text-align: right;\">\n",
       "      <th></th>\n",
       "      <th>sum_purpose_top5</th>\n",
       "      <th>count_purpose_top5</th>\n",
       "      <th>result_purpose_top5</th>\n",
       "    </tr>\n",
       "    <tr>\n",
       "      <th>purpose_top5</th>\n",
       "      <th></th>\n",
       "      <th></th>\n",
       "      <th></th>\n",
       "    </tr>\n",
       "  </thead>\n",
       "  <tbody>\n",
       "    <tr>\n",
       "      <td>автомобиль</td>\n",
       "      <td>403</td>\n",
       "      <td>4315</td>\n",
       "      <td>0.093395</td>\n",
       "    </tr>\n",
       "    <tr>\n",
       "      <td>образование</td>\n",
       "      <td>370</td>\n",
       "      <td>4022</td>\n",
       "      <td>0.091994</td>\n",
       "    </tr>\n",
       "    <tr>\n",
       "      <td>свадьба</td>\n",
       "      <td>186</td>\n",
       "      <td>2348</td>\n",
       "      <td>0.079216</td>\n",
       "    </tr>\n",
       "    <tr>\n",
       "      <td>недвижимость</td>\n",
       "      <td>474</td>\n",
       "      <td>6367</td>\n",
       "      <td>0.074446</td>\n",
       "    </tr>\n",
       "    <tr>\n",
       "      <td>жилье</td>\n",
       "      <td>308</td>\n",
       "      <td>4473</td>\n",
       "      <td>0.068858</td>\n",
       "    </tr>\n",
       "  </tbody>\n",
       "</table>\n",
       "</div>"
      ],
      "text/plain": [
       "              sum_purpose_top5  count_purpose_top5  result_purpose_top5\n",
       "purpose_top5                                                           \n",
       "автомобиль                 403                4315             0.093395\n",
       "образование                370                4022             0.091994\n",
       "свадьба                    186                2348             0.079216\n",
       "недвижимость               474                6367             0.074446\n",
       "жилье                      308                4473             0.068858"
      ]
     },
     "execution_count": 27,
     "metadata": {},
     "output_type": "execute_result"
    }
   ],
   "source": [
    "debt_purpose_top5 = pd.DataFrame() #конструктор датафрейма для создания таблицы \n",
    "debt_purpose_top5['sum_purpose_top5'] = data.groupby('purpose_top5')['debt'].sum() #группировка данных \n",
    "debt_purpose_top5['count_purpose_top5'] = data.groupby('purpose_top5')['debt'].count()\n",
    "debt_purpose_top5['result_purpose_top5'] = debt_purpose_top5['sum_purpose_top5'] / debt_purpose_top5['count_purpose_top5'] #расчет зависимости событий\n",
    "debt_purpose_top5.sort_values('result_purpose_top5', ascending = False) #сортировка таблицы по столбцу 'result_purpose_top5'"
   ]
  },
  {
   "cell_type": "markdown",
   "metadata": {},
   "source": [
    "### Вывод \n",
    "Наиболее рискованные для банка кредиты исходя из вероятности невозврата- небольшие суммы на образование, приобретение автомобиля, а  по недвижимости/ жилью риски невозврата гораздо ниже при значительно более высоких займах."
   ]
  },
  {
   "cell_type": "markdown",
   "metadata": {},
   "source": [
    "### Шаг 4. Общий вывод \n",
    "Наиболее рискованные  заемщики: без семейного статуса и/или с большим количеством детей, при этом выше доход заемщика- меньше вероятность невозврата кредита. Также небольшие суммы кредита (образование, автомобиль) имеют риски невозврата выше, поэтому в реальной жизни кредитная ставка у них значительно выше."
   ]
  }
 ],
 "metadata": {
  "kernelspec": {
   "display_name": "Python 3",
   "language": "python",
   "name": "python3"
  },
  "language_info": {
   "codemirror_mode": {
    "name": "ipython",
    "version": 3
   },
   "file_extension": ".py",
   "mimetype": "text/x-python",
   "name": "python",
   "nbconvert_exporter": "python",
   "pygments_lexer": "ipython3",
   "version": "3.7.8"
  },
  "toc": {
   "base_numbering": 1,
   "nav_menu": {
    "height": "575px",
    "width": "868px"
   },
   "number_sections": true,
   "sideBar": true,
   "skip_h1_title": false,
   "title_cell": "Table of Contents",
   "title_sidebar": "Contents",
   "toc_cell": false,
   "toc_position": {},
   "toc_section_display": true,
   "toc_window_display": false
  }
 },
 "nbformat": 4,
 "nbformat_minor": 2
}
